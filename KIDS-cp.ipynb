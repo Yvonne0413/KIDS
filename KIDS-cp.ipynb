{
 "cells": [
  {
   "cell_type": "code",
   "execution_count": 1,
   "id": "6e2daa28",
   "metadata": {},
   "outputs": [
    {
     "name": "stderr",
     "output_type": "stream",
     "text": [
      "Loading required package: grid\n",
      "\n",
      "Loading required package: Matrix\n",
      "\n",
      "Loading required package: survival\n",
      "\n",
      "\n",
      "Attaching package: ‘survey’\n",
      "\n",
      "\n",
      "The following object is masked from ‘package:graphics’:\n",
      "\n",
      "    dotchart\n",
      "\n",
      "\n"
     ]
    }
   ],
   "source": [
    "# Written using R version 4.0.0\n",
    "library(readstata13)\n",
    "library(survey)\n",
    "library(xlsx)\n",
    "library(data.table)"
   ]
  },
  {
   "cell_type": "code",
   "execution_count": 2,
   "id": "7b38285e",
   "metadata": {},
   "outputs": [],
   "source": [
    "# Load Data\n",
    "setwd(\"/Users/huangzhuoyi/Zoey/Stanford/RA/Surgery/KID project\")"
   ]
  },
  {
   "cell_type": "code",
   "execution_count": 109,
   "id": "87ab5377",
   "metadata": {},
   "outputs": [],
   "source": [
    "#---------------------------------\n",
    "dat <- read.dta13(\"data/LT_CoreData_ChildAbuse_2006_2009_2012KID(5.26).dta\")\n",
    "# Looking at only pediatric patients\n",
    "dat <- dat[dat$AGE < 18 & !is.na(dat$AGE),]\n",
    "\n",
    "print(colnames(dat))\n",
    "cols_to_keep = c(\"DISCWT\", \"AGE\", \"RACE\", \"YEAR\", \"ZIPINC_QRTL\", \"FEMALE\", \"PAY1\", \"totcost\",\n",
    "                 \"Child_abuse\", \"DIED\", \"LOS\", \"ATYPE\", \"RECNUM\", \"xiss\", \"niss\", \"MDC\", \n",
    "                 \"HOSP_LOCTEACH\", \"HOSP_BEDSIZE\", \"HOSP_REGION\", \"NACHTYPE\", \"HOSP_CONTROL\",\n",
    "                 \"event_primdx_traumaICD9\", \"event_anydx_traumaICD9\")\n",
    "dat <- dat[, cols_to_keep]\n",
    "# Adjust using CPI to 2021 prices\n",
    "dat[dat$YEAR == 2006,]$totcost <- dat[dat$YEAR == 2006,]$totcost * 1.292034\n",
    "dat[dat$YEAR == 2009,]$totcost <- dat[dat$YEAR == 2009,]$totcost * 1.214122\n",
    "dat[dat$YEAR == 2012,]$totcost <- dat[dat$YEAR == 2012,]$totcost * 1.134498\n",
    "save.dta13(dat, \"data/LT_CoreData_ChildAbuse_2006_2009_2012KID(5.26)_processed.dta\")"
   ]
  },
  {
   "cell_type": "code",
   "execution_count": 3,
   "id": "942b1b3d",
   "metadata": {},
   "outputs": [],
   "source": [
    "dat <- read.dta13(\"data/LT_CoreData_ChildAbuse_2006_2009_2012KID(5.26)_processed.dta\")\n",
    "# Looking at only pediatric patients"
   ]
  },
  {
   "cell_type": "code",
   "execution_count": 4,
   "id": "6496630c",
   "metadata": {},
   "outputs": [],
   "source": [
    "dat$AGEGROUP <- NA\n",
    "dat[dat$AGE < 18,]$AGEGROUP <- \"12-17\"\n",
    "dat[dat$AGE <= 11, ]$AGEGROUP <- \"8-11\"\n",
    "dat[dat$AGE <= 7, ]$AGEGROUP <- \"4-7\"\n",
    "dat[dat$AGE <= 3, ]$AGEGROUP <- \"1-3\"\n",
    "dat[dat$AGE <  1, ]$AGEGROUP <- \"<1\"\n",
    "\n",
    "dat$SEVGROUP <- NA\n",
    "dat[dat$niss <= 75,]$SEVGROUP <- \">25\"\n",
    "dat[dat$niss <= 24, ]$SEVGROUP <- \"16-24\"\n",
    "dat[dat$niss <= 15, ]$SEVGROUP <- \"0-15\"\n",
    "\n",
    "dat['DIED_ED'] = (dat['DIED'] == 1) & (dat['ATYPE'] == 1)\n",
    "dat['DIED_IN'] = (dat['DIED'] == 1) & (dat['ATYPE'] != 1)"
   ]
  },
  {
   "cell_type": "code",
   "execution_count": 5,
   "id": "a3c7b45c",
   "metadata": {},
   "outputs": [
    {
     "data": {
      "text/html": [
       "<style>\n",
       ".list-inline {list-style: none; margin:0; padding: 0}\n",
       ".list-inline>li {display: inline-block}\n",
       ".list-inline>li:not(:last-child)::after {content: \"\\00b7\"; padding: 0 .5ex}\n",
       "</style>\n",
       "<ol class=list-inline><li>7861817</li><li>27</li></ol>\n"
      ],
      "text/latex": [
       "\\begin{enumerate*}\n",
       "\\item 7861817\n",
       "\\item 27\n",
       "\\end{enumerate*}\n"
      ],
      "text/markdown": [
       "1. 7861817\n",
       "2. 27\n",
       "\n",
       "\n"
      ],
      "text/plain": [
       "[1] 7861817      27"
      ]
     },
     "metadata": {},
     "output_type": "display_data"
    }
   ],
   "source": [
    "dim(dat) # 7861817 * 27"
   ]
  },
  {
   "cell_type": "code",
   "execution_count": 6,
   "id": "0482dff3",
   "metadata": {},
   "outputs": [
    {
     "data": {
      "text/html": [
       "<style>\n",
       ".list-inline {list-style: none; margin:0; padding: 0}\n",
       ".list-inline>li {display: inline-block}\n",
       ".list-inline>li:not(:last-child)::after {content: \"\\00b7\"; padding: 0 .5ex}\n",
       "</style>\n",
       "<ol class=list-inline><li>'DISCWT'</li><li>'AGE'</li><li>'RACE'</li><li>'YEAR'</li><li>'ZIPINC_QRTL'</li><li>'FEMALE'</li><li>'PAY1'</li><li>'totcost'</li><li>'Child_abuse'</li><li>'DIED'</li><li>'LOS'</li><li>'ATYPE'</li><li>'RECNUM'</li><li>'xiss'</li><li>'niss'</li><li>'MDC'</li><li>'HOSP_LOCTEACH'</li><li>'HOSP_BEDSIZE'</li><li>'HOSP_REGION'</li><li>'NACHTYPE'</li><li>'HOSP_CONTROL'</li><li>'event_primdx_traumaICD9'</li><li>'event_anydx_traumaICD9'</li><li>'AGEGROUP'</li><li>'SEVGROUP'</li><li>'DIED_ED'</li><li>'DIED_IN'</li></ol>\n"
      ],
      "text/latex": [
       "\\begin{enumerate*}\n",
       "\\item 'DISCWT'\n",
       "\\item 'AGE'\n",
       "\\item 'RACE'\n",
       "\\item 'YEAR'\n",
       "\\item 'ZIPINC\\_QRTL'\n",
       "\\item 'FEMALE'\n",
       "\\item 'PAY1'\n",
       "\\item 'totcost'\n",
       "\\item 'Child\\_abuse'\n",
       "\\item 'DIED'\n",
       "\\item 'LOS'\n",
       "\\item 'ATYPE'\n",
       "\\item 'RECNUM'\n",
       "\\item 'xiss'\n",
       "\\item 'niss'\n",
       "\\item 'MDC'\n",
       "\\item 'HOSP\\_LOCTEACH'\n",
       "\\item 'HOSP\\_BEDSIZE'\n",
       "\\item 'HOSP\\_REGION'\n",
       "\\item 'NACHTYPE'\n",
       "\\item 'HOSP\\_CONTROL'\n",
       "\\item 'event\\_primdx\\_traumaICD9'\n",
       "\\item 'event\\_anydx\\_traumaICD9'\n",
       "\\item 'AGEGROUP'\n",
       "\\item 'SEVGROUP'\n",
       "\\item 'DIED\\_ED'\n",
       "\\item 'DIED\\_IN'\n",
       "\\end{enumerate*}\n"
      ],
      "text/markdown": [
       "1. 'DISCWT'\n",
       "2. 'AGE'\n",
       "3. 'RACE'\n",
       "4. 'YEAR'\n",
       "5. 'ZIPINC_QRTL'\n",
       "6. 'FEMALE'\n",
       "7. 'PAY1'\n",
       "8. 'totcost'\n",
       "9. 'Child_abuse'\n",
       "10. 'DIED'\n",
       "11. 'LOS'\n",
       "12. 'ATYPE'\n",
       "13. 'RECNUM'\n",
       "14. 'xiss'\n",
       "15. 'niss'\n",
       "16. 'MDC'\n",
       "17. 'HOSP_LOCTEACH'\n",
       "18. 'HOSP_BEDSIZE'\n",
       "19. 'HOSP_REGION'\n",
       "20. 'NACHTYPE'\n",
       "21. 'HOSP_CONTROL'\n",
       "22. 'event_primdx_traumaICD9'\n",
       "23. 'event_anydx_traumaICD9'\n",
       "24. 'AGEGROUP'\n",
       "25. 'SEVGROUP'\n",
       "26. 'DIED_ED'\n",
       "27. 'DIED_IN'\n",
       "\n",
       "\n"
      ],
      "text/plain": [
       " [1] \"DISCWT\"                  \"AGE\"                    \n",
       " [3] \"RACE\"                    \"YEAR\"                   \n",
       " [5] \"ZIPINC_QRTL\"             \"FEMALE\"                 \n",
       " [7] \"PAY1\"                    \"totcost\"                \n",
       " [9] \"Child_abuse\"             \"DIED\"                   \n",
       "[11] \"LOS\"                     \"ATYPE\"                  \n",
       "[13] \"RECNUM\"                  \"xiss\"                   \n",
       "[15] \"niss\"                    \"MDC\"                    \n",
       "[17] \"HOSP_LOCTEACH\"           \"HOSP_BEDSIZE\"           \n",
       "[19] \"HOSP_REGION\"             \"NACHTYPE\"               \n",
       "[21] \"HOSP_CONTROL\"            \"event_primdx_traumaICD9\"\n",
       "[23] \"event_anydx_traumaICD9\"  \"AGEGROUP\"               \n",
       "[25] \"SEVGROUP\"                \"DIED_ED\"                \n",
       "[27] \"DIED_IN\"                "
      ]
     },
     "metadata": {},
     "output_type": "display_data"
    }
   ],
   "source": [
    "names(dat)"
   ]
  },
  {
   "cell_type": "markdown",
   "id": "8f12f016",
   "metadata": {},
   "source": [
    "# Defining Labels"
   ]
  },
  {
   "cell_type": "code",
   "execution_count": 7,
   "id": "b3b6e6a2",
   "metadata": {},
   "outputs": [],
   "source": [
    "# Define Sex Labels\n",
    "dat$SEX <- factor(dat$FEMALE, levels = c(0,1), labels = c(\"Male\", \"Female\"))\n",
    "# Define Payer Labels according to KID Codebook: https://www.hcup-us.ahrq.gov/db/nation/kid/kiddde.jsp, excluding medicare (irrelevant)\n",
    "dat$PAYER <- factor(dat$PAY1, levels = c(2,3,4,5,6), labels = c(\"Medicaid\", \"Private\", \"Self-pay\", \"No Charge\", \"Other\"))\n",
    "levels(dat$PAYER) <- c(\"Medicaid\", \"Private\", \"Self-pay\", \"Other\", \"Other\")\n",
    "dat$DIED <- factor(dat$DIED, levels = c(0, 1), labels = c(\"FALSE\", \"TRUE\"))\n",
    "dat$Child_abuse <- factor(dat$Child_abuse, levels = c(0,1), labels = c(\"Non-SCAN\", \"SCAN\"))\n",
    "dat$Child_abuse_indicator <- as.numeric(dat$Child_abuse == \"SCAN\")\n",
    "dat$ZIPINC_QRTL <- factor(dat$ZIPINC_QRTL, levels = c(4,3,2,1), labels = c(\"4\", \"3\", \"2\", \"1\"))\n",
    "dat$HOSP_BEDSIZE <- factor(dat$HOSP_BEDSIZE, levels = c(1,2,3), labels = c(\"Small\", \"Medium\", \"Large\"))\n",
    "dat$HOSP_REGION <- factor(dat$HOSP_REGION, levels = c(1,2,3,4), labels = c(\"Northeast\", \"Midwest\", \"South\", \"West\"))\n",
    "dat$PRIMARY_TRAUMA <- factor(dat$event_primdx_traumaICD9, levels = c(0,1), labels = c(\"False\", \"True\"))\n",
    "dat$ANY_TRAUMA <- factor(dat$event_anydx_traumaICD9, levels = c(0,1), labels = c(\"False\", \"True\"))\n",
    "dat <- dat[dat$ANY_TRAUMA == \"True\", ]"
   ]
  },
  {
   "cell_type": "code",
   "execution_count": 117,
   "id": "cce22335",
   "metadata": {},
   "outputs": [
    {
     "data": {
      "text/html": [
       "<style>\n",
       ".list-inline {list-style: none; margin:0; padding: 0}\n",
       ".list-inline>li {display: inline-block}\n",
       ".list-inline>li:not(:last-child)::after {content: \"\\00b7\"; padding: 0 .5ex}\n",
       "</style>\n",
       "<ol class=list-inline><li>284080</li><li>32</li></ol>\n"
      ],
      "text/latex": [
       "\\begin{enumerate*}\n",
       "\\item 284080\n",
       "\\item 32\n",
       "\\end{enumerate*}\n"
      ],
      "text/markdown": [
       "1. 284080\n",
       "2. 32\n",
       "\n",
       "\n"
      ],
      "text/plain": [
       "[1] 284080     32"
      ]
     },
     "metadata": {},
     "output_type": "display_data"
    }
   ],
   "source": [
    "dim(dat) # 284080 32"
   ]
  },
  {
   "cell_type": "markdown",
   "id": "1da9fec3",
   "metadata": {},
   "source": [
    "# Delete Rows (with cells < 10)"
   ]
  },
  {
   "cell_type": "code",
   "execution_count": 118,
   "id": "85621b02",
   "metadata": {},
   "outputs": [
    {
     "data": {
      "text/html": [
       "<style>\n",
       ".list-inline {list-style: none; margin:0; padding: 0}\n",
       ".list-inline>li {display: inline-block}\n",
       ".list-inline>li:not(:last-child)::after {content: \"\\00b7\"; padding: 0 .5ex}\n",
       "</style>\n",
       "<ol class=list-inline><li>1</li><li>2</li><li>5</li><li>&lt;NA&gt;</li><li>3</li><li>4</li><li>6</li></ol>\n"
      ],
      "text/latex": [
       "\\begin{enumerate*}\n",
       "\\item 1\n",
       "\\item 2\n",
       "\\item 5\n",
       "\\item <NA>\n",
       "\\item 3\n",
       "\\item 4\n",
       "\\item 6\n",
       "\\end{enumerate*}\n"
      ],
      "text/markdown": [
       "1. 1\n",
       "2. 2\n",
       "3. 5\n",
       "4. &lt;NA&gt;\n",
       "5. 3\n",
       "6. 4\n",
       "7. 6\n",
       "\n",
       "\n"
      ],
      "text/plain": [
       "[1]  1  2  5 NA  3  4  6"
      ]
     },
     "metadata": {},
     "output_type": "display_data"
    },
    {
     "data": {
      "text/html": [
       "<style>\n",
       ".list-inline {list-style: none; margin:0; padding: 0}\n",
       ".list-inline>li {display: inline-block}\n",
       ".list-inline>li:not(:last-child)::after {content: \"\\00b7\"; padding: 0 .5ex}\n",
       "</style>\n",
       "<ol class=list-inline><li>281717</li><li>32</li></ol>\n"
      ],
      "text/latex": [
       "\\begin{enumerate*}\n",
       "\\item 281717\n",
       "\\item 32\n",
       "\\end{enumerate*}\n"
      ],
      "text/markdown": [
       "1. 281717\n",
       "2. 32\n",
       "\n",
       "\n"
      ],
      "text/plain": [
       "[1] 281717     32"
      ]
     },
     "metadata": {},
     "output_type": "display_data"
    },
    {
     "data": {
      "text/html": [
       "<style>\n",
       ".list-inline {list-style: none; margin:0; padding: 0}\n",
       ".list-inline>li {display: inline-block}\n",
       ".list-inline>li:not(:last-child)::after {content: \"\\00b7\"; padding: 0 .5ex}\n",
       "</style>\n",
       "<ol class=list-inline><li>1</li><li>2</li><li>5</li><li>&lt;NA&gt;</li><li>3</li></ol>\n"
      ],
      "text/latex": [
       "\\begin{enumerate*}\n",
       "\\item 1\n",
       "\\item 2\n",
       "\\item 5\n",
       "\\item <NA>\n",
       "\\item 3\n",
       "\\end{enumerate*}\n"
      ],
      "text/markdown": [
       "1. 1\n",
       "2. 2\n",
       "3. 5\n",
       "4. &lt;NA&gt;\n",
       "5. 3\n",
       "\n",
       "\n"
      ],
      "text/plain": [
       "[1]  1  2  5 NA  3"
      ]
     },
     "metadata": {},
     "output_type": "display_data"
    }
   ],
   "source": [
    "# delete Admit type 4 Newborn + 6 Other 3462 deleted 2363\n",
    "unique(dat$ATYPE)\n",
    "# nrow(subset(dat, ATYPE==1))\n",
    "# nrow(subset(dat, ATYPE==2))\n",
    "# nrow(subset(dat, ATYPE==3))\n",
    "# nrow(subset(dat, ATYPE==4))\n",
    "# nrow(subset(dat, ATYPE==5))\n",
    "# nrow(subset(dat, ATYPE==6))\n",
    "tempdat<-dat[!(dat$ATYPE==4 | dat$ATYPE==6),]\n",
    "dim(tempdat) # 281717 32\n",
    "unique(tempdat$ATYPE)"
   ]
  },
  {
   "cell_type": "code",
   "execution_count": 119,
   "id": "7cfd7000",
   "metadata": {},
   "outputs": [
    {
     "data": {
      "text/html": [
       "<style>\n",
       ".list-inline {list-style: none; margin:0; padding: 0}\n",
       ".list-inline>li {display: inline-block}\n",
       ".list-inline>li:not(:last-child)::after {content: \"\\00b7\"; padding: 0 .5ex}\n",
       "</style>\n",
       "<ol class=list-inline><li>'DISCWT'</li><li>'AGE'</li><li>'RACE'</li><li>'YEAR'</li><li>'ZIPINC_QRTL'</li><li>'FEMALE'</li><li>'PAY1'</li><li>'totcost'</li><li>'Child_abuse'</li><li>'DIED'</li><li>'LOS'</li><li>'ATYPE'</li><li>'RECNUM'</li><li>'xiss'</li><li>'niss'</li><li>'MDC'</li><li>'HOSP_LOCTEACH'</li><li>'HOSP_BEDSIZE'</li><li>'HOSP_REGION'</li><li>'NACHTYPE'</li><li>'event_primdx_traumaICD9'</li><li>'event_anydx_traumaICD9'</li><li>'AGEGROUP'</li><li>'SEVGROUP'</li><li>'DIED_ED'</li><li>'DIED_IN'</li><li>'SEX'</li><li>'PAYER'</li><li>'Child_abuse_indicator'</li><li>'PRIMARY_TRAUMA'</li><li>'ANY_TRAUMA'</li></ol>\n"
      ],
      "text/latex": [
       "\\begin{enumerate*}\n",
       "\\item 'DISCWT'\n",
       "\\item 'AGE'\n",
       "\\item 'RACE'\n",
       "\\item 'YEAR'\n",
       "\\item 'ZIPINC\\_QRTL'\n",
       "\\item 'FEMALE'\n",
       "\\item 'PAY1'\n",
       "\\item 'totcost'\n",
       "\\item 'Child\\_abuse'\n",
       "\\item 'DIED'\n",
       "\\item 'LOS'\n",
       "\\item 'ATYPE'\n",
       "\\item 'RECNUM'\n",
       "\\item 'xiss'\n",
       "\\item 'niss'\n",
       "\\item 'MDC'\n",
       "\\item 'HOSP\\_LOCTEACH'\n",
       "\\item 'HOSP\\_BEDSIZE'\n",
       "\\item 'HOSP\\_REGION'\n",
       "\\item 'NACHTYPE'\n",
       "\\item 'event\\_primdx\\_traumaICD9'\n",
       "\\item 'event\\_anydx\\_traumaICD9'\n",
       "\\item 'AGEGROUP'\n",
       "\\item 'SEVGROUP'\n",
       "\\item 'DIED\\_ED'\n",
       "\\item 'DIED\\_IN'\n",
       "\\item 'SEX'\n",
       "\\item 'PAYER'\n",
       "\\item 'Child\\_abuse\\_indicator'\n",
       "\\item 'PRIMARY\\_TRAUMA'\n",
       "\\item 'ANY\\_TRAUMA'\n",
       "\\end{enumerate*}\n"
      ],
      "text/markdown": [
       "1. 'DISCWT'\n",
       "2. 'AGE'\n",
       "3. 'RACE'\n",
       "4. 'YEAR'\n",
       "5. 'ZIPINC_QRTL'\n",
       "6. 'FEMALE'\n",
       "7. 'PAY1'\n",
       "8. 'totcost'\n",
       "9. 'Child_abuse'\n",
       "10. 'DIED'\n",
       "11. 'LOS'\n",
       "12. 'ATYPE'\n",
       "13. 'RECNUM'\n",
       "14. 'xiss'\n",
       "15. 'niss'\n",
       "16. 'MDC'\n",
       "17. 'HOSP_LOCTEACH'\n",
       "18. 'HOSP_BEDSIZE'\n",
       "19. 'HOSP_REGION'\n",
       "20. 'NACHTYPE'\n",
       "21. 'event_primdx_traumaICD9'\n",
       "22. 'event_anydx_traumaICD9'\n",
       "23. 'AGEGROUP'\n",
       "24. 'SEVGROUP'\n",
       "25. 'DIED_ED'\n",
       "26. 'DIED_IN'\n",
       "27. 'SEX'\n",
       "28. 'PAYER'\n",
       "29. 'Child_abuse_indicator'\n",
       "30. 'PRIMARY_TRAUMA'\n",
       "31. 'ANY_TRAUMA'\n",
       "\n",
       "\n"
      ],
      "text/plain": [
       " [1] \"DISCWT\"                  \"AGE\"                    \n",
       " [3] \"RACE\"                    \"YEAR\"                   \n",
       " [5] \"ZIPINC_QRTL\"             \"FEMALE\"                 \n",
       " [7] \"PAY1\"                    \"totcost\"                \n",
       " [9] \"Child_abuse\"             \"DIED\"                   \n",
       "[11] \"LOS\"                     \"ATYPE\"                  \n",
       "[13] \"RECNUM\"                  \"xiss\"                   \n",
       "[15] \"niss\"                    \"MDC\"                    \n",
       "[17] \"HOSP_LOCTEACH\"           \"HOSP_BEDSIZE\"           \n",
       "[19] \"HOSP_REGION\"             \"NACHTYPE\"               \n",
       "[21] \"event_primdx_traumaICD9\" \"event_anydx_traumaICD9\" \n",
       "[23] \"AGEGROUP\"                \"SEVGROUP\"               \n",
       "[25] \"DIED_ED\"                 \"DIED_IN\"                \n",
       "[27] \"SEX\"                     \"PAYER\"                  \n",
       "[29] \"Child_abuse_indicator\"   \"PRIMARY_TRAUMA\"         \n",
       "[31] \"ANY_TRAUMA\"             "
      ]
     },
     "metadata": {},
     "output_type": "display_data"
    },
    {
     "data": {
      "text/html": [
       "<style>\n",
       ".list-inline {list-style: none; margin:0; padding: 0}\n",
       ".list-inline>li {display: inline-block}\n",
       ".list-inline>li:not(:last-child)::after {content: \"\\00b7\"; padding: 0 .5ex}\n",
       "</style>\n",
       "<ol class=list-inline><li>281717</li><li>31</li></ol>\n"
      ],
      "text/latex": [
       "\\begin{enumerate*}\n",
       "\\item 281717\n",
       "\\item 31\n",
       "\\end{enumerate*}\n"
      ],
      "text/markdown": [
       "1. 281717\n",
       "2. 31\n",
       "\n",
       "\n"
      ],
      "text/plain": [
       "[1] 281717     31"
      ]
     },
     "metadata": {},
     "output_type": "display_data"
    }
   ],
   "source": [
    "# delete column HOSP_CONTROL\n",
    "tempdat = subset(tempdat, select=-c(HOSP_CONTROL))\n",
    "names(tempdat) \n",
    "dim(tempdat) # 281717 31"
   ]
  },
  {
   "cell_type": "code",
   "execution_count": 120,
   "id": "a40d2945",
   "metadata": {},
   "outputs": [
    {
     "data": {
      "text/html": [
       "<style>\n",
       ".list-inline {list-style: none; margin:0; padding: 0}\n",
       ".list-inline>li {display: inline-block}\n",
       ".list-inline>li:not(:last-child)::after {content: \"\\00b7\"; padding: 0 .5ex}\n",
       "</style>\n",
       "<ol class=list-inline><li>0</li><li>3</li><li>&lt;NA&gt;</li><li>1</li><li>2</li></ol>\n"
      ],
      "text/latex": [
       "\\begin{enumerate*}\n",
       "\\item 0\n",
       "\\item 3\n",
       "\\item <NA>\n",
       "\\item 1\n",
       "\\item 2\n",
       "\\end{enumerate*}\n"
      ],
      "text/markdown": [
       "1. 0\n",
       "2. 3\n",
       "3. &lt;NA&gt;\n",
       "4. 1\n",
       "5. 2\n",
       "\n",
       "\n"
      ],
      "text/plain": [
       "[1]  0  3 NA  1  2"
      ]
     },
     "metadata": {},
     "output_type": "display_data"
    },
    {
     "data": {
      "text/html": [
       "<style>\n",
       ".list-inline {list-style: none; margin:0; padding: 0}\n",
       ".list-inline>li {display: inline-block}\n",
       ".list-inline>li:not(:last-child)::after {content: \"\\00b7\"; padding: 0 .5ex}\n",
       "</style>\n",
       "<ol class=list-inline><li>281356</li><li>31</li></ol>\n"
      ],
      "text/latex": [
       "\\begin{enumerate*}\n",
       "\\item 281356\n",
       "\\item 31\n",
       "\\end{enumerate*}\n"
      ],
      "text/markdown": [
       "1. 281356\n",
       "2. 31\n",
       "\n",
       "\n"
      ],
      "text/plain": [
       "[1] 281356     31"
      ]
     },
     "metadata": {},
     "output_type": "display_data"
    },
    {
     "data": {
      "text/html": [
       "<style>\n",
       ".list-inline {list-style: none; margin:0; padding: 0}\n",
       ".list-inline>li {display: inline-block}\n",
       ".list-inline>li:not(:last-child)::after {content: \"\\00b7\"; padding: 0 .5ex}\n",
       "</style>\n",
       "<ol class=list-inline><li>0</li><li>3</li><li>&lt;NA&gt;</li><li>1</li></ol>\n"
      ],
      "text/latex": [
       "\\begin{enumerate*}\n",
       "\\item 0\n",
       "\\item 3\n",
       "\\item <NA>\n",
       "\\item 1\n",
       "\\end{enumerate*}\n"
      ],
      "text/markdown": [
       "1. 0\n",
       "2. 3\n",
       "3. &lt;NA&gt;\n",
       "4. 1\n",
       "\n",
       "\n"
      ],
      "text/plain": [
       "[1]  0  3 NA  1"
      ]
     },
     "metadata": {},
     "output_type": "display_data"
    }
   ],
   "source": [
    "# delete NACHTYPE Children's Specialty (2) deleted 361\n",
    "unique(tempdat$NACHTYPE)\n",
    "tempdat<-tempdat[!(tempdat$NACHTYPE==2),]\n",
    "dim(tempdat) # 281356 31\n",
    "unique(tempdat$NACHTYPE)"
   ]
  },
  {
   "cell_type": "code",
   "execution_count": 121,
   "id": "504ae4f6",
   "metadata": {},
   "outputs": [
    {
     "data": {
      "text/html": [
       "<style>\n",
       ".list-inline {list-style: none; margin:0; padding: 0}\n",
       ".list-inline>li {display: inline-block}\n",
       ".list-inline>li:not(:last-child)::after {content: \"\\00b7\"; padding: 0 .5ex}\n",
       "</style>\n",
       "<ol class=list-inline><li>2</li><li>3</li><li>1</li><li>&lt;NA&gt;</li></ol>\n"
      ],
      "text/latex": [
       "\\begin{enumerate*}\n",
       "\\item 2\n",
       "\\item 3\n",
       "\\item 1\n",
       "\\item <NA>\n",
       "\\end{enumerate*}\n"
      ],
      "text/markdown": [
       "1. 2\n",
       "2. 3\n",
       "3. 1\n",
       "4. &lt;NA&gt;\n",
       "\n",
       "\n"
      ],
      "text/plain": [
       "[1]  2  3  1 NA"
      ]
     },
     "metadata": {},
     "output_type": "display_data"
    },
    {
     "data": {
      "text/html": [
       "<style>\n",
       ".list-inline {list-style: none; margin:0; padding: 0}\n",
       ".list-inline>li {display: inline-block}\n",
       ".list-inline>li:not(:last-child)::after {content: \"\\00b7\"; padding: 0 .5ex}\n",
       "</style>\n",
       "<ol class=list-inline><li>271345</li><li>31</li></ol>\n"
      ],
      "text/latex": [
       "\\begin{enumerate*}\n",
       "\\item 271345\n",
       "\\item 31\n",
       "\\end{enumerate*}\n"
      ],
      "text/markdown": [
       "1. 271345\n",
       "2. 31\n",
       "\n",
       "\n"
      ],
      "text/plain": [
       "[1] 271345     31"
      ]
     },
     "metadata": {},
     "output_type": "display_data"
    },
    {
     "data": {
      "text/html": [
       "<style>\n",
       ".list-inline {list-style: none; margin:0; padding: 0}\n",
       ".list-inline>li {display: inline-block}\n",
       ".list-inline>li:not(:last-child)::after {content: \"\\00b7\"; padding: 0 .5ex}\n",
       "</style>\n",
       "<ol class=list-inline><li>2</li><li>3</li><li>&lt;NA&gt;</li></ol>\n"
      ],
      "text/latex": [
       "\\begin{enumerate*}\n",
       "\\item 2\n",
       "\\item 3\n",
       "\\item <NA>\n",
       "\\end{enumerate*}\n"
      ],
      "text/markdown": [
       "1. 2\n",
       "2. 3\n",
       "3. &lt;NA&gt;\n",
       "\n",
       "\n"
      ],
      "text/plain": [
       "[1]  2  3 NA"
      ]
     },
     "metadata": {},
     "output_type": "display_data"
    }
   ],
   "source": [
    "# delete HOSP_LOCTEACH Rural (1)\n",
    "unique(tempdat$HOSP_LOCTEACH)\n",
    "tempdat<-tempdat[!(tempdat$HOSP_LOCTEACH==1),]\n",
    "dim(tempdat) # 271345 31\n",
    "unique(tempdat$HOSP_LOCTEACH)"
   ]
  },
  {
   "cell_type": "code",
   "execution_count": 122,
   "id": "69fa0913",
   "metadata": {},
   "outputs": [
    {
     "data": {
      "text/html": [
       "<style>\n",
       ".list-inline {list-style: none; margin:0; padding: 0}\n",
       ".list-inline>li {display: inline-block}\n",
       ".list-inline>li:not(:last-child)::after {content: \"\\00b7\"; padding: 0 .5ex}\n",
       "</style>\n",
       "<ol class=list-inline><li>2</li><li>&lt;NA&gt;</li><li>1</li><li>3</li><li>5</li><li>6</li><li>4</li></ol>\n"
      ],
      "text/latex": [
       "\\begin{enumerate*}\n",
       "\\item 2\n",
       "\\item <NA>\n",
       "\\item 1\n",
       "\\item 3\n",
       "\\item 5\n",
       "\\item 6\n",
       "\\item 4\n",
       "\\end{enumerate*}\n"
      ],
      "text/markdown": [
       "1. 2\n",
       "2. &lt;NA&gt;\n",
       "3. 1\n",
       "4. 3\n",
       "5. 5\n",
       "6. 6\n",
       "7. 4\n",
       "\n",
       "\n"
      ],
      "text/plain": [
       "[1]  2 NA  1  3  5  6  4"
      ]
     },
     "metadata": {},
     "output_type": "display_data"
    },
    {
     "data": {
      "text/html": [
       "<style>\n",
       ".list-inline {list-style: none; margin:0; padding: 0}\n",
       ".list-inline>li {display: inline-block}\n",
       ".list-inline>li:not(:last-child)::after {content: \"\\00b7\"; padding: 0 .5ex}\n",
       "</style>\n",
       "<ol class=list-inline><li>269576</li><li>31</li></ol>\n"
      ],
      "text/latex": [
       "\\begin{enumerate*}\n",
       "\\item 269576\n",
       "\\item 31\n",
       "\\end{enumerate*}\n"
      ],
      "text/markdown": [
       "1. 269576\n",
       "2. 31\n",
       "\n",
       "\n"
      ],
      "text/plain": [
       "[1] 269576     31"
      ]
     },
     "metadata": {},
     "output_type": "display_data"
    },
    {
     "data": {
      "text/html": [
       "<style>\n",
       ".list-inline {list-style: none; margin:0; padding: 0}\n",
       ".list-inline>li {display: inline-block}\n",
       ".list-inline>li:not(:last-child)::after {content: \"\\00b7\"; padding: 0 .5ex}\n",
       "</style>\n",
       "<ol class=list-inline><li>2</li><li>&lt;NA&gt;</li><li>1</li><li>3</li><li>5</li><li>6</li></ol>\n"
      ],
      "text/latex": [
       "\\begin{enumerate*}\n",
       "\\item 2\n",
       "\\item <NA>\n",
       "\\item 1\n",
       "\\item 3\n",
       "\\item 5\n",
       "\\item 6\n",
       "\\end{enumerate*}\n"
      ],
      "text/markdown": [
       "1. 2\n",
       "2. &lt;NA&gt;\n",
       "3. 1\n",
       "4. 3\n",
       "5. 5\n",
       "6. 6\n",
       "\n",
       "\n"
      ],
      "text/plain": [
       "[1]  2 NA  1  3  5  6"
      ]
     },
     "metadata": {},
     "output_type": "display_data"
    }
   ],
   "source": [
    "# delete RACE Asian Native American Other (4,5,6)\n",
    "unique(tempdat$RACE)\n",
    "tempdat<-tempdat[!(tempdat$RACE==4 | tempdat$RACE==4 | tempdat$RACE==4),]\n",
    "dim(tempdat) # 269576 31\n",
    "unique(tempdat$RACE)"
   ]
  },
  {
   "cell_type": "code",
   "execution_count": 123,
   "id": "33b82e86",
   "metadata": {},
   "outputs": [],
   "source": [
    "# # Define Race Labels according to KID Codebook: https://www.hcup-us.ahrq.gov/db/nation/kid/kiddde.jsp\n",
    "# tempdat$RACE <- factor(tempdat$RACE, levels = c(1,2,3), labels = c(\"White\", \"Black\", \"Hispanic\"))\n",
    "# # Define Admit Type Labels according to KID Codebook: https://www.hcup-us.ahrq.gov/db/nation/kid/kiddde.jsp\n",
    "# tempdat$ADMIT_TYPE <- factor(tempdat$ATYPE, levels = c(1,2,3,5), labels = c(\"Emergency\", \"Urgent\", \"Elective\", \"Trauma Center\"))\n",
    "# tempdat$HOSP_LOCTEACH <- factor(tempdat$HOSP_LOCTEACH, levels = c(2,3), labels = c(\"Urban nonteaching\", \"Urban teaching\"))\n",
    "# tempdat$NACHTYPE <- factor(tempdat$NACHTYPE, levels = c(0,1,3), labels = c(\"Not Children's\", \"Children's General\", \"Children's unit of General\"))\n"
   ]
  },
  {
   "cell_type": "code",
   "execution_count": 8,
   "id": "eda3404b",
   "metadata": {},
   "outputs": [],
   "source": [
    "# Define Race Labels according to KID Codebook: https://www.hcup-us.ahrq.gov/db/nation/kid/kiddde.jsp\n",
    "dat$RACE <- factor(dat$RACE, levels = c(1,2,3,4,5,6), labels = c(\"White\", \"Black\", \"Hispanic\", \"Asian or Pacific Islander\", \"Native American\", \"Other\"))\n",
    "# Define Admit Type Labels according to KID Codebook: https://www.hcup-us.ahrq.gov/db/nation/kid/kiddde.jsp\n",
    "dat$ADMIT_TYPE <- factor(dat$ATYPE, levels = c(1,2,3,4,5,6), labels = c(\"Emergency\", \"Urgent\", \"Elective\", \"Newborn\", \"Trauma Center\", \"Other\"))\n",
    "dat$HOSP_LOCTEACH <- factor(dat$HOSP_LOCTEACH, levels = c(1,2,3), labels = c(\"Rural\", \"Urban nonteaching\", \"Urban teaching\"))\n",
    "dat$NACHTYPE <- factor(dat$NACHTYPE, levels = c(0,1,2,3), labels = c(\"Not Children's\", \"Children's General\", \"Children's Specialty\", \"Children's unit of General\"))\n"
   ]
  },
  {
   "cell_type": "code",
   "execution_count": 9,
   "id": "f0bc2edf",
   "metadata": {},
   "outputs": [],
   "source": [
    "dat$AGEGROUP <- factor(dat$AGEGROUP, levels = c(\"12-17\", \"8-11\", \"4-7\", \"1-3\", \"<1\"), labels = c(\"12-17\", \"8-11\", \"4-7\", \"1-3\", \"<1\"))\n",
    "dat$SEVGROUP <- factor(dat$SEVGROUP, levels = c(\">25\", \"16-24\", \"0-15\"), labels = c(\">25\", \"16-24\", \"0-15\"))"
   ]
  },
  {
   "cell_type": "code",
   "execution_count": 10,
   "id": "817e930a",
   "metadata": {},
   "outputs": [],
   "source": [
    "dat$COSTPD <- ifelse(dat$LOS == 0, dat$totcost, dat$totcost / dat$LOS)"
   ]
  },
  {
   "cell_type": "code",
   "execution_count": 11,
   "id": "709a4e73",
   "metadata": {},
   "outputs": [
    {
     "data": {
      "text/plain": [
       "   Min. 1st Qu.  Median    Mean 3rd Qu.    Max. \n",
       " 0.6034  1.3440  1.4485  1.5001  1.6144  6.0193 "
      ]
     },
     "metadata": {},
     "output_type": "display_data"
    }
   ],
   "source": [
    "summary(dat$DISCWT)"
   ]
  },
  {
   "cell_type": "code",
   "execution_count": 12,
   "id": "374c7181",
   "metadata": {},
   "outputs": [],
   "source": [
    "# Initialize survey design\n",
    "# dat <- subset(dat, !is.na(dat$DISCWT) )\n",
    "dat.w <- svydesign(ids = ~1, data = dat, weights = dat$DISCWT)\n",
    "# dat.w <- svydesign(ids = ~1, data = dat)\n",
    "options(survey.lonely.psu = \"adjust\")"
   ]
  },
  {
   "cell_type": "code",
   "execution_count": 13,
   "id": "e442f543",
   "metadata": {},
   "outputs": [
    {
     "data": {
      "text/html": [
       "<style>\n",
       ".list-inline {list-style: none; margin:0; padding: 0}\n",
       ".list-inline>li {display: inline-block}\n",
       ".list-inline>li:not(:last-child)::after {content: \"\\00b7\"; padding: 0 .5ex}\n",
       "</style>\n",
       "<ol class=list-inline><li>284080</li><li>34</li></ol>\n"
      ],
      "text/latex": [
       "\\begin{enumerate*}\n",
       "\\item 284080\n",
       "\\item 34\n",
       "\\end{enumerate*}\n"
      ],
      "text/markdown": [
       "1. 284080\n",
       "2. 34\n",
       "\n",
       "\n"
      ],
      "text/plain": [
       "[1] 284080     34"
      ]
     },
     "metadata": {},
     "output_type": "display_data"
    }
   ],
   "source": [
    "dim(dat)"
   ]
  },
  {
   "cell_type": "code",
   "execution_count": 14,
   "id": "4dadd100",
   "metadata": {},
   "outputs": [],
   "source": [
    "# BEGIN: ANALYSIS\n",
    "svy_freq_table <- function(design, categorical_variables, numerical_variables, column_variable, sheet_name, mean = TRUE){\n",
    "  # Prep file writer\n",
    "  wb <- loadWorkbook(\"Results.xlsx\")\n",
    "  sheets <- getSheets(wb)\n",
    "  removeSheet(wb, sheetName = sheet_name)\n",
    "  sheet <- createSheet(wb, sheetName = sheet_name)\n",
    "  \n",
    "  # Unique values of group\n",
    "  groups <- unique(dat[column_variable])\n",
    "  groups <- groups[!is.na(groups)]\n",
    "  groups <- sort(groups)\n",
    "  \n",
    "  row = 1\n",
    "  for (factor in categorical_variables){\n",
    "    # Frequency Distribution\n",
    "    counts <- round(svytable(as.formula(paste(paste(\"~\",factor,sep=\"\"),column_variable,sep=\"+\")),design))\n",
    "    # Percentage Distribution\n",
    "    percent <-round(prop.table(svytable(as.formula(paste(paste(\"~\",factor,sep=\"\"),column_variable,sep=\"+\")),design),margin=2)*100,1)\n",
    "\n",
    "    # Merge counts and percents\n",
    "    table <- as.data.frame(cbind(counts, percent))\n",
    "    colnames(table) <- c(groups, paste(groups,\"1\",sep=\".\"))\n",
    "    for(i in 1:length(groups)){\n",
    "      cols <- c(groups[i], paste(groups[i],\"1\",sep=\".\"))\n",
    "      combined <- paste(do.call(paste, c(table[cols],sep=\" (\")), \"%)\",sep =\"\")\n",
    "      table[groups[i]] <- combined\n",
    "    }\n",
    "    table <- table[, (names(table) %in% groups)]\n",
    "    temp <- rownames(table)\n",
    "    table <- as.data.table(table)\n",
    "    table <- as.data.frame(cbind(temp, table))\n",
    "    colnames(table) <- c(factor, colnames(table)[-1])\n",
    "    \n",
    "    # Format output\n",
    "    cs <- CellStyle(wb, alignment = Alignment(wrapText = TRUE, horizontal = \"ALIGN_CENTER\"))\n",
    "    dfColIndex <- rep(list(cs), dim(table)[2])\n",
    "    names(dfColIndex) <- seq(1, dim(table)[2], by = 1)\n",
    "    addDataFrame(table, sheet, startRow = row, colStyle = dfColIndex, row.names = FALSE)\n",
    "    autoSizeColumn(sheet, 1:ncol(table))\n",
    "    row = row + nrow(table)+1\n",
    "  }\n",
    "  \n",
    "  # Create population level statistics for numerical variables\n",
    "  for (factor in numerical_variables){\n",
    "    table = data.frame()\n",
    "    for(i in 1:length(groups)){\n",
    "      form = as.formula(paste(\"~\",factor,sep=\"\"))\n",
    "      des = subset(design, eval(parse(text = column_variable)) == groups[i])\n",
    "      \n",
    "      # Mean and standard error\n",
    "      if (mean){\n",
    "        res = svymean(form, des, na.rm=TRUE)\n",
    "        res <- paste(round(coef(res), 3), paste(round(SE(res), 3),\")\", sep = \"\"), sep=\" (\")\n",
    "      }\n",
    "      # Median and [Q1, Q3]\n",
    "      else{\n",
    "        res = round(unname(svyquantile(form, des, na.rm = TRUE, quantiles = c(.25, .5, .75))), 2)\n",
    "        res = paste(res[,2],paste(\"  [\", paste( res[,1], paste (\",\", paste(res[,3], \"]\", sep = \"\")), sep = \"\"), sep = \"\"), sep = \"\")          \n",
    "      }\n",
    "      table = rbind(table, res)\n",
    "    }\n",
    "    table <- as.data.table(t(table))\n",
    "    colnames(table) <- groups\n",
    "    table <- as.data.frame(table)\n",
    "    rownames(table) <- factor\n",
    "    cs <- CellStyle(wb, alignment = Alignment(wrapText = TRUE, horizontal = \"ALIGN_CENTER\"))\n",
    "    dfColIndex <- rep(list(cs), dim(table)[2])\n",
    "    names(dfColIndex) <- seq(1, dim(table)[2], by = 1)\n",
    "    addDataFrame(table, sheet, startRow = row, colStyle = dfColIndex, row.names = TRUE)\n",
    "    autoSizeColumn(sheet, 1:ncol(table))\n",
    "    row = row + nrow(table)+1\n",
    "    \n",
    "  }\n",
    "  saveWorkbook(wb, \"Results.xlsx\")\n",
    "}"
   ]
  },
  {
   "cell_type": "code",
   "execution_count": 15,
   "id": "fb5dcc25",
   "metadata": {},
   "outputs": [],
   "source": [
    "svy_freq_table_over_group <- function(design, group, factors, outcome, sheet_name, mean = TRUE, verbose = FALSE){\n",
    "  # Prep file writer\n",
    "  wb <- loadWorkbook(\"Results.xlsx\")\n",
    "  sheets <- getSheets(wb)\n",
    "  removeSheet(wb, sheetName = sheet_name)\n",
    "  sheet <- createSheet(wb, sheetName = sheet_name)\n",
    "  \n",
    "  # Unique values of group\n",
    "  groups <- unique(dat[group])\n",
    "  groups <-groups[!is.na(groups)]\n",
    "  groups <- sort(groups)\n",
    "  \n",
    "  row = 1\n",
    "  for (factor_choice in factors){\n",
    "    # Frequency Distribution\n",
    "    counts <- round(svytable(as.formula(paste(paste(\"~\",factor_choice,sep=\"\"),group,sep=\"+\")),design))\n",
    "    # Percentage Distribution\n",
    "    percent <-round(prop.table(svytable(as.formula(paste(paste(\"~\",factor_choice,sep=\"\"),group,sep=\"+\")),design),margin=2)*100,1)\n",
    "    \n",
    "    # Median Outcome Distribution\n",
    "    if (outcome != \"\"){\n",
    "      outcomes = c()\n",
    "      vals <- unique(dat[factor_choice])\n",
    "      vals <- vals[!is.na(vals)]\n",
    "      for (val in vals){\n",
    "        temp = c()\n",
    "        for (group_choice in groups){\n",
    "          form = as.formula(paste(\"~\",outcome,sep=\"\"))\n",
    "          des = subset(design, eval(parse(text = factor_choice)) == val & eval(parse(text = group)) == group_choice)\n",
    "          # Mean for outcome of interest\n",
    "          if (mean){\n",
    "            res = round(unname(svymean(form, des, na.rm = TRUE)), 2)\n",
    "          }\n",
    "          # Median and [Q1, Q3] for outcome of interest\n",
    "          else{\n",
    "            res = round(unname(svyquantile(form, des, na.rm = TRUE, quantiles = c(.25, .5, .75))), 2)\n",
    "            res = paste(res[,2],paste(\"  [\", paste( res[,1], paste (\",\", paste(res[,3], \"]\", sep = \"\")), sep = \"\"), sep = \"\"), sep = \"\")          \n",
    "          }\n",
    "          temp = cbind(temp, res)\n",
    "        }\n",
    "        temp <- as.data.frame(temp)\n",
    "        outcomes = rbind(outcomes, temp)\n",
    "      }\n",
    "      outcomes <- as.data.table(outcomes)\n",
    "      outcomes <- as.data.frame(cbind(vals, outcomes))\n",
    "      colnames(outcomes) <- c(factor_choice, groups)\n",
    "    }\n",
    "    \n",
    "    # Chisq test for difference in distribution (not outcome)\n",
    "    p <- svychisq(as.formula(paste(paste(\"~\",group,sep=\"\"),factor_choice,sep=\"+\")),design, \"F\")$p.value\n",
    "    p <- signif(p, 3)\n",
    "    \n",
    "    # Merge counts and percents\n",
    "    table <- as.data.frame(cbind(counts, percent))\n",
    "    colnames(table) <- c(groups, paste(groups,\"1\",sep=\".\"))\n",
    "    for(i in 1:length(groups)){\n",
    "      cols <- c(groups[i], paste(groups[i],\"1\",sep=\".\"))\n",
    "      temp <- do.call(paste, c(table[cols],sep=\" (\"))\n",
    "      temp <- paste(temp, \"%)\",sep =\"\")\n",
    "      \n",
    "      cols <- c(groups[i], paste(groups[i],\"1\",sep=\".\"))\n",
    "      table <- table[, !(names(table) %in% cols)]\n",
    "      table[groups[i]] <- temp\n",
    "    }\n",
    "    temp <- rownames(table)\n",
    "    table <- as.data.table(table)\n",
    "    table <- as.data.frame(cbind(temp, table))\n",
    "    \n",
    "    # Merge incidence with outcomes\n",
    "    if (outcome != \"\"){\n",
    "      cols <- c(paste(groups,\"2\",sep=\".\"))\n",
    "      colnames(table) <- c(factor_choice, cols)\n",
    "      table <- merge(table, outcomes, by = factor_choice)\n",
    "      for(i in 1:length(groups)){\n",
    "        cols <- c(paste(groups[i],\"2\",sep=\".\"), groups[i])\n",
    "        for (j in 1:length(table[groups[i]])){\n",
    "          table[groups[i]][j] = format(table[groups[i]][j], format=\"d\", big.mark=\",\")\n",
    "        }\n",
    "        temp <- do.call(paste, c(table[cols],sep=\"\\n \"))\n",
    "        \n",
    "        cols <- c(groups[i], paste(groups[i],\"2\",sep=\".\"))\n",
    "        table <- table[, !(names(table) %in% cols)]\n",
    "        table[groups[i]] <- temp\n",
    "      }\n",
    "    }\n",
    "    # Add p-values to table\n",
    "    table$p.value <- c(p, rep(\"\",times=nrow(table)-1))\n",
    "    if(verbose){\n",
    "      print(table)\n",
    "    }\n",
    "    # Format output\n",
    "    cs <- CellStyle(wb, alignment = Alignment(wrapText = TRUE, horizontal = \"ALIGN_CENTER\"))\n",
    "    dfColIndex <- rep(list(cs), dim(table)[2])\n",
    "    names(dfColIndex) <- seq(1, dim(table)[2], by = 1)\n",
    "    addDataFrame(table, sheet, startRow = row, colStyle = dfColIndex, row.names = FALSE)\n",
    "    autoSizeColumn(sheet, 1:ncol(table))\n",
    "    row = row + nrow(table)+1\n",
    "  }\n",
    "  saveWorkbook(wb, \"Results.xlsx\")\n",
    "}\n"
   ]
  },
  {
   "cell_type": "markdown",
   "id": "a93be6c1",
   "metadata": {},
   "source": [
    "# Create ISS LOS Age table"
   ]
  },
  {
   "cell_type": "code",
   "execution_count": 93,
   "id": "142d00a6",
   "metadata": {},
   "outputs": [
    {
     "data": {
      "text/plain": [
       "\n",
       "  >25 16-24  0-15 \n",
       " 4919 10902 91435 "
      ]
     },
     "metadata": {},
     "output_type": "display_data"
    }
   ],
   "source": [
    "table(dat['SEVGROUP'])"
   ]
  },
  {
   "cell_type": "code",
   "execution_count": 94,
   "id": "b597f1ca",
   "metadata": {},
   "outputs": [
    {
     "name": "stderr",
     "output_type": "stream",
     "text": [
      "\n",
      "Attaching package: ‘dplyr’\n",
      "\n",
      "\n",
      "The following objects are masked from ‘package:data.table’:\n",
      "\n",
      "    between, first, last\n",
      "\n",
      "\n",
      "The following objects are masked from ‘package:stats’:\n",
      "\n",
      "    filter, lag\n",
      "\n",
      "\n",
      "The following objects are masked from ‘package:base’:\n",
      "\n",
      "    intersect, setdiff, setequal, union\n",
      "\n",
      "\n"
     ]
    },
    {
     "data": {
      "text/html": [
       "<style>\n",
       ".list-inline {list-style: none; margin:0; padding: 0}\n",
       ".list-inline>li {display: inline-block}\n",
       ".list-inline>li:not(:last-child)::after {content: \"\\00b7\"; padding: 0 .5ex}\n",
       "</style>\n",
       "<ol class=list-inline><li>19609</li><li>33</li></ol>\n"
      ],
      "text/latex": [
       "\\begin{enumerate*}\n",
       "\\item 19609\n",
       "\\item 33\n",
       "\\end{enumerate*}\n"
      ],
      "text/markdown": [
       "1. 19609\n",
       "2. 33\n",
       "\n",
       "\n"
      ],
      "text/plain": [
       "[1] 19609    33"
      ]
     },
     "metadata": {},
     "output_type": "display_data"
    },
    {
     "name": "stderr",
     "output_type": "stream",
     "text": [
      "`summarise()` has grouped output by 'RACE'. You can override using the `.groups` argument.\n",
      "\n",
      "`summarise()` has grouped output by 'RACE'. You can override using the `.groups` argument.\n",
      "\n",
      "`summarise()` has grouped output by 'RACE', 'SEVGROUP'. You can override using the `.groups` argument.\n",
      "\n"
     ]
    },
    {
     "name": "stdout",
     "output_type": "stream",
     "text": [
      "[1] \"age <= 3 child_abuse = Non-SCAN\"\n"
     ]
    },
    {
     "data": {
      "text/plain": [
       "          SEVGROUP\n",
       "RACE             >25     16-24      0-15\n",
       "  White     9.051181  5.169608  2.862676\n",
       "  Black    10.918182  6.790634  3.639706\n",
       "  Hispanic  9.673267  4.763415  2.854777"
      ]
     },
     "metadata": {},
     "output_type": "display_data"
    },
    {
     "data": {
      "text/html": [
       "<table class=\"dataframe\">\n",
       "<caption>A grouped_df: 32 × 5</caption>\n",
       "<thead>\n",
       "\t<tr><th scope=col>RACE</th><th scope=col>SEVGROUP</th><th scope=col>qs</th><th scope=col>prob</th><th scope=col>n</th></tr>\n",
       "\t<tr><th scope=col>&lt;fct&gt;</th><th scope=col>&lt;fct&gt;</th><th scope=col>&lt;dbl&gt;</th><th scope=col>&lt;dbl&gt;</th><th scope=col>&lt;int&gt;</th></tr>\n",
       "</thead>\n",
       "<tbody>\n",
       "\t<tr><td><span style=white-space:pre-wrap>White   </span></td><td><span style=white-space:pre-wrap>&gt;25  </span></td><td> 2.00</td><td>0.25</td><td> 254</td></tr>\n",
       "\t<tr><td><span style=white-space:pre-wrap>White   </span></td><td><span style=white-space:pre-wrap>&gt;25  </span></td><td>12.00</td><td>0.75</td><td> 254</td></tr>\n",
       "\t<tr><td>White   </td><td>16-24</td><td> 1.00</td><td>0.25</td><td>1020</td></tr>\n",
       "\t<tr><td>White   </td><td>16-24</td><td> 5.00</td><td>0.75</td><td>1020</td></tr>\n",
       "\t<tr><td>White   </td><td>0-15 </td><td> 1.00</td><td>0.25</td><td>8805</td></tr>\n",
       "\t<tr><td>White   </td><td>0-15 </td><td> 2.00</td><td>0.75</td><td>8805</td></tr>\n",
       "\t<tr><td>White   </td><td>NA   </td><td> 3.00</td><td>0.25</td><td>  91</td></tr>\n",
       "\t<tr><td>White   </td><td>NA   </td><td>10.00</td><td>0.75</td><td>  91</td></tr>\n",
       "\t<tr><td><span style=white-space:pre-wrap>Black   </span></td><td><span style=white-space:pre-wrap>&gt;25  </span></td><td> 2.00</td><td>0.25</td><td> 110</td></tr>\n",
       "\t<tr><td><span style=white-space:pre-wrap>Black   </span></td><td><span style=white-space:pre-wrap>&gt;25  </span></td><td>14.00</td><td>0.75</td><td> 110</td></tr>\n",
       "\t<tr><td>Black   </td><td>16-24</td><td> 1.00</td><td>0.25</td><td> 363</td></tr>\n",
       "\t<tr><td>Black   </td><td>16-24</td><td> 6.00</td><td>0.75</td><td> 363</td></tr>\n",
       "\t<tr><td>Black   </td><td>0-15 </td><td> 1.00</td><td>0.25</td><td>2857</td></tr>\n",
       "\t<tr><td>Black   </td><td>0-15 </td><td> 3.00</td><td>0.75</td><td>2857</td></tr>\n",
       "\t<tr><td>Black   </td><td>NA   </td><td> 3.00</td><td>0.25</td><td>  37</td></tr>\n",
       "\t<tr><td>Black   </td><td>NA   </td><td>16.00</td><td>0.75</td><td>  37</td></tr>\n",
       "\t<tr><td>Hispanic</td><td><span style=white-space:pre-wrap>&gt;25  </span></td><td> 2.00</td><td>0.25</td><td> 101</td></tr>\n",
       "\t<tr><td>Hispanic</td><td><span style=white-space:pre-wrap>&gt;25  </span></td><td>12.00</td><td>0.75</td><td> 101</td></tr>\n",
       "\t<tr><td>Hispanic</td><td>16-24</td><td> 1.00</td><td>0.25</td><td> 411</td></tr>\n",
       "\t<tr><td>Hispanic</td><td>16-24</td><td> 5.00</td><td>0.75</td><td> 411</td></tr>\n",
       "\t<tr><td>Hispanic</td><td>0-15 </td><td> 1.00</td><td>0.25</td><td>3925</td></tr>\n",
       "\t<tr><td>Hispanic</td><td>0-15 </td><td> 3.00</td><td>0.75</td><td>3925</td></tr>\n",
       "\t<tr><td>Hispanic</td><td>NA   </td><td> 2.00</td><td>0.25</td><td>  36</td></tr>\n",
       "\t<tr><td>Hispanic</td><td>NA   </td><td> 7.25</td><td>0.75</td><td>  36</td></tr>\n",
       "\t<tr><td><span style=white-space:pre-wrap>NA      </span></td><td><span style=white-space:pre-wrap>&gt;25  </span></td><td> 2.00</td><td>0.25</td><td><span style=white-space:pre-wrap>  61</span></td></tr>\n",
       "\t<tr><td><span style=white-space:pre-wrap>NA      </span></td><td><span style=white-space:pre-wrap>&gt;25  </span></td><td>13.00</td><td>0.75</td><td><span style=white-space:pre-wrap>  61</span></td></tr>\n",
       "\t<tr><td>NA      </td><td>16-24</td><td> 2.00</td><td>0.25</td><td> 173</td></tr>\n",
       "\t<tr><td>NA      </td><td>16-24</td><td> 6.00</td><td>0.75</td><td> 173</td></tr>\n",
       "\t<tr><td>NA      </td><td>0-15 </td><td> 1.00</td><td>0.25</td><td>1348</td></tr>\n",
       "\t<tr><td>NA      </td><td>0-15 </td><td> 3.00</td><td>0.75</td><td>1348</td></tr>\n",
       "\t<tr><td>NA      </td><td>NA   </td><td> 3.00</td><td>0.25</td><td>  17</td></tr>\n",
       "\t<tr><td>NA      </td><td>NA   </td><td>17.00</td><td>0.75</td><td>  17</td></tr>\n",
       "</tbody>\n",
       "</table>\n"
      ],
      "text/latex": [
       "A grouped\\_df: 32 × 5\n",
       "\\begin{tabular}{lllll}\n",
       " RACE & SEVGROUP & qs & prob & n\\\\\n",
       " <fct> & <fct> & <dbl> & <dbl> & <int>\\\\\n",
       "\\hline\n",
       "\t White    & >25   &  2.00 & 0.25 &  254\\\\\n",
       "\t White    & >25   & 12.00 & 0.75 &  254\\\\\n",
       "\t White    & 16-24 &  1.00 & 0.25 & 1020\\\\\n",
       "\t White    & 16-24 &  5.00 & 0.75 & 1020\\\\\n",
       "\t White    & 0-15  &  1.00 & 0.25 & 8805\\\\\n",
       "\t White    & 0-15  &  2.00 & 0.75 & 8805\\\\\n",
       "\t White    & NA    &  3.00 & 0.25 &   91\\\\\n",
       "\t White    & NA    & 10.00 & 0.75 &   91\\\\\n",
       "\t Black    & >25   &  2.00 & 0.25 &  110\\\\\n",
       "\t Black    & >25   & 14.00 & 0.75 &  110\\\\\n",
       "\t Black    & 16-24 &  1.00 & 0.25 &  363\\\\\n",
       "\t Black    & 16-24 &  6.00 & 0.75 &  363\\\\\n",
       "\t Black    & 0-15  &  1.00 & 0.25 & 2857\\\\\n",
       "\t Black    & 0-15  &  3.00 & 0.75 & 2857\\\\\n",
       "\t Black    & NA    &  3.00 & 0.25 &   37\\\\\n",
       "\t Black    & NA    & 16.00 & 0.75 &   37\\\\\n",
       "\t Hispanic & >25   &  2.00 & 0.25 &  101\\\\\n",
       "\t Hispanic & >25   & 12.00 & 0.75 &  101\\\\\n",
       "\t Hispanic & 16-24 &  1.00 & 0.25 &  411\\\\\n",
       "\t Hispanic & 16-24 &  5.00 & 0.75 &  411\\\\\n",
       "\t Hispanic & 0-15  &  1.00 & 0.25 & 3925\\\\\n",
       "\t Hispanic & 0-15  &  3.00 & 0.75 & 3925\\\\\n",
       "\t Hispanic & NA    &  2.00 & 0.25 &   36\\\\\n",
       "\t Hispanic & NA    &  7.25 & 0.75 &   36\\\\\n",
       "\t NA       & >25   &  2.00 & 0.25 &   61\\\\\n",
       "\t NA       & >25   & 13.00 & 0.75 &   61\\\\\n",
       "\t NA       & 16-24 &  2.00 & 0.25 &  173\\\\\n",
       "\t NA       & 16-24 &  6.00 & 0.75 &  173\\\\\n",
       "\t NA       & 0-15  &  1.00 & 0.25 & 1348\\\\\n",
       "\t NA       & 0-15  &  3.00 & 0.75 & 1348\\\\\n",
       "\t NA       & NA    &  3.00 & 0.25 &   17\\\\\n",
       "\t NA       & NA    & 17.00 & 0.75 &   17\\\\\n",
       "\\end{tabular}\n"
      ],
      "text/markdown": [
       "\n",
       "A grouped_df: 32 × 5\n",
       "\n",
       "| RACE &lt;fct&gt; | SEVGROUP &lt;fct&gt; | qs &lt;dbl&gt; | prob &lt;dbl&gt; | n &lt;int&gt; |\n",
       "|---|---|---|---|---|\n",
       "| White    | &gt;25   |  2.00 | 0.25 |  254 |\n",
       "| White    | &gt;25   | 12.00 | 0.75 |  254 |\n",
       "| White    | 16-24 |  1.00 | 0.25 | 1020 |\n",
       "| White    | 16-24 |  5.00 | 0.75 | 1020 |\n",
       "| White    | 0-15  |  1.00 | 0.25 | 8805 |\n",
       "| White    | 0-15  |  2.00 | 0.75 | 8805 |\n",
       "| White    | NA    |  3.00 | 0.25 |   91 |\n",
       "| White    | NA    | 10.00 | 0.75 |   91 |\n",
       "| Black    | &gt;25   |  2.00 | 0.25 |  110 |\n",
       "| Black    | &gt;25   | 14.00 | 0.75 |  110 |\n",
       "| Black    | 16-24 |  1.00 | 0.25 |  363 |\n",
       "| Black    | 16-24 |  6.00 | 0.75 |  363 |\n",
       "| Black    | 0-15  |  1.00 | 0.25 | 2857 |\n",
       "| Black    | 0-15  |  3.00 | 0.75 | 2857 |\n",
       "| Black    | NA    |  3.00 | 0.25 |   37 |\n",
       "| Black    | NA    | 16.00 | 0.75 |   37 |\n",
       "| Hispanic | &gt;25   |  2.00 | 0.25 |  101 |\n",
       "| Hispanic | &gt;25   | 12.00 | 0.75 |  101 |\n",
       "| Hispanic | 16-24 |  1.00 | 0.25 |  411 |\n",
       "| Hispanic | 16-24 |  5.00 | 0.75 |  411 |\n",
       "| Hispanic | 0-15  |  1.00 | 0.25 | 3925 |\n",
       "| Hispanic | 0-15  |  3.00 | 0.75 | 3925 |\n",
       "| Hispanic | NA    |  2.00 | 0.25 |   36 |\n",
       "| Hispanic | NA    |  7.25 | 0.75 |   36 |\n",
       "| NA       | &gt;25   |  2.00 | 0.25 |   61 |\n",
       "| NA       | &gt;25   | 13.00 | 0.75 |   61 |\n",
       "| NA       | 16-24 |  2.00 | 0.25 |  173 |\n",
       "| NA       | 16-24 |  6.00 | 0.75 |  173 |\n",
       "| NA       | 0-15  |  1.00 | 0.25 | 1348 |\n",
       "| NA       | 0-15  |  3.00 | 0.75 | 1348 |\n",
       "| NA       | NA    |  3.00 | 0.25 |   17 |\n",
       "| NA       | NA    | 17.00 | 0.75 |   17 |\n",
       "\n"
      ],
      "text/plain": [
       "   RACE     SEVGROUP qs    prob n   \n",
       "1  White    >25       2.00 0.25  254\n",
       "2  White    >25      12.00 0.75  254\n",
       "3  White    16-24     1.00 0.25 1020\n",
       "4  White    16-24     5.00 0.75 1020\n",
       "5  White    0-15      1.00 0.25 8805\n",
       "6  White    0-15      2.00 0.75 8805\n",
       "7  White    NA        3.00 0.25   91\n",
       "8  White    NA       10.00 0.75   91\n",
       "9  Black    >25       2.00 0.25  110\n",
       "10 Black    >25      14.00 0.75  110\n",
       "11 Black    16-24     1.00 0.25  363\n",
       "12 Black    16-24     6.00 0.75  363\n",
       "13 Black    0-15      1.00 0.25 2857\n",
       "14 Black    0-15      3.00 0.75 2857\n",
       "15 Black    NA        3.00 0.25   37\n",
       "16 Black    NA       16.00 0.75   37\n",
       "17 Hispanic >25       2.00 0.25  101\n",
       "18 Hispanic >25      12.00 0.75  101\n",
       "19 Hispanic 16-24     1.00 0.25  411\n",
       "20 Hispanic 16-24     5.00 0.75  411\n",
       "21 Hispanic 0-15      1.00 0.25 3925\n",
       "22 Hispanic 0-15      3.00 0.75 3925\n",
       "23 Hispanic NA        2.00 0.25   36\n",
       "24 Hispanic NA        7.25 0.75   36\n",
       "25 NA       >25       2.00 0.25   61\n",
       "26 NA       >25      13.00 0.75   61\n",
       "27 NA       16-24     2.00 0.25  173\n",
       "28 NA       16-24     6.00 0.75  173\n",
       "29 NA       0-15      1.00 0.25 1348\n",
       "30 NA       0-15      3.00 0.75 1348\n",
       "31 NA       NA        3.00 0.25   17\n",
       "32 NA       NA       17.00 0.75   17"
      ]
     },
     "metadata": {},
     "output_type": "display_data"
    },
    {
     "data": {
      "text/plain": [
       "          SEVGROUP\n",
       "RACE       >25 16-24 0-15\n",
       "  White     14     6    3\n",
       "  Black     16     7    4\n",
       "  Hispanic  14     6    4"
      ]
     },
     "metadata": {},
     "output_type": "display_data"
    },
    {
     "data": {
      "text/plain": [
       "          SEVGROUP\n",
       "RACE         >25 16-24  0-15\n",
       "  White      508  2040 17610\n",
       "  Black      220   726  5714\n",
       "  Hispanic   202   822  7850"
      ]
     },
     "metadata": {},
     "output_type": "display_data"
    }
   ],
   "source": [
    "library(dplyr)\n",
    "library(vcd)\n",
    "# age <= 3 child_abuse = Non-SCAN\n",
    "# get all age<3 non scan patients\n",
    "dat1 = filter(dat, AGE <= 3 & Child_abuse == 'Non-SCAN')\n",
    "dim(dat1)\n",
    "res1 = dat1 %>% group_by(RACE, SEVGROUP) %>% summarise(Mean_LOS = mean(LOS, na.rm = TRUE))\n",
    "res_med = dat1 %>% group_by(RACE, SEVGROUP) %>% summarise(Mean_LOS = mean(LOS, na.rm = TRUE))\n",
    "res2 = dat1 %>% group_by(RACE, SEVGROUP) %>% summarise(qs = quantile(LOS, c(0.25, 0.75), na.rm = TRUE), prob = c(0.25, 0.75), n = n())\n",
    "tab1 <- xtabs(Mean_LOS ~ RACE+SEVGROUP, data=res1)\n",
    "tab2 <- xtabs(qs ~ RACE+SEVGROUP, data=res2)\n",
    "tab3 <- xtabs(n ~ RACE+SEVGROUP, data=res2)\n",
    "print(\"age <= 3 child_abuse = Non-SCAN\")\n",
    "tab1\n",
    "res2\n",
    "tab2\n",
    "tab3"
   ]
  },
  {
   "cell_type": "code",
   "execution_count": 95,
   "id": "7874a0a7",
   "metadata": {},
   "outputs": [],
   "source": [
    "library(\"vcd\")\n",
    "chisq <-chisq.test(tab3)"
   ]
  },
  {
   "cell_type": "code",
   "execution_count": 96,
   "id": "a1216d53",
   "metadata": {},
   "outputs": [
    {
     "data": {
      "text/plain": [
       "\n",
       "\tPearson's Chi-squared test\n",
       "\n",
       "data:  tab3\n",
       "X-squared = 30.158, df = 4, p-value = 4.544e-06\n"
      ]
     },
     "metadata": {},
     "output_type": "display_data"
    }
   ],
   "source": [
    "chisq"
   ]
  },
  {
   "cell_type": "code",
   "execution_count": 97,
   "id": "8fb778b9",
   "metadata": {},
   "outputs": [
    {
     "data": {
      "text/html": [
       "<table class=\"dataframe\">\n",
       "<caption>A data.frame: 3 × 3</caption>\n",
       "<thead>\n",
       "\t<tr><th></th><th scope=col>&gt;25</th><th scope=col>16-24</th><th scope=col>0-15</th></tr>\n",
       "\t<tr><th></th><th scope=col>&lt;dbl&gt;</th><th scope=col>&lt;dbl&gt;</th><th scope=col>&lt;dbl&gt;</th></tr>\n",
       "</thead>\n",
       "<tbody>\n",
       "\t<tr><th scope=row>White</th><td> 9.051181</td><td>5.169608</td><td>2.862676</td></tr>\n",
       "\t<tr><th scope=row>Black</th><td>10.918182</td><td>6.790634</td><td>3.639706</td></tr>\n",
       "\t<tr><th scope=row>Hispanic</th><td> 9.673267</td><td>4.763415</td><td>2.854777</td></tr>\n",
       "</tbody>\n",
       "</table>\n"
      ],
      "text/latex": [
       "A data.frame: 3 × 3\n",
       "\\begin{tabular}{r|lll}\n",
       "  & >25 & 16-24 & 0-15\\\\\n",
       "  & <dbl> & <dbl> & <dbl>\\\\\n",
       "\\hline\n",
       "\tWhite &  9.051181 & 5.169608 & 2.862676\\\\\n",
       "\tBlack & 10.918182 & 6.790634 & 3.639706\\\\\n",
       "\tHispanic &  9.673267 & 4.763415 & 2.854777\\\\\n",
       "\\end{tabular}\n"
      ],
      "text/markdown": [
       "\n",
       "A data.frame: 3 × 3\n",
       "\n",
       "| <!--/--> | &gt;25 &lt;dbl&gt; | 16-24 &lt;dbl&gt; | 0-15 &lt;dbl&gt; |\n",
       "|---|---|---|---|\n",
       "| White |  9.051181 | 5.169608 | 2.862676 |\n",
       "| Black | 10.918182 | 6.790634 | 3.639706 |\n",
       "| Hispanic |  9.673267 | 4.763415 | 2.854777 |\n",
       "\n"
      ],
      "text/plain": [
       "         >25       16-24    0-15    \n",
       "White     9.051181 5.169608 2.862676\n",
       "Black    10.918182 6.790634 3.639706\n",
       "Hispanic  9.673267 4.763415 2.854777"
      ]
     },
     "metadata": {},
     "output_type": "display_data"
    },
    {
     "ename": "ERROR",
     "evalue": "Error in abuse_race_tb[abuse_race_tb$P_value < 0.01, ]$P_value <- \"<0.01\": object 'abuse_race_tb' not found\n",
     "output_type": "error",
     "traceback": [
      "Error in abuse_race_tb[abuse_race_tb$P_value < 0.01, ]$P_value <- \"<0.01\": object 'abuse_race_tb' not found\nTraceback:\n"
     ]
    }
   ],
   "source": [
    "df1 = as.data.frame.matrix(tab1)\n",
    "df1\n",
    "abuse_race_tb[abuse_race_tb$P_value < 0.01, ]$P_value <- '<0.01'"
   ]
  },
  {
   "cell_type": "code",
   "execution_count": 98,
   "id": "9f95a3b2",
   "metadata": {},
   "outputs": [
    {
     "data": {
      "text/html": [
       "<style>\n",
       ".list-inline {list-style: none; margin:0; padding: 0}\n",
       ".list-inline>li {display: inline-block}\n",
       ".list-inline>li:not(:last-child)::after {content: \"\\00b7\"; padding: 0 .5ex}\n",
       "</style>\n",
       "<ol class=list-inline><li>1767</li><li>33</li></ol>\n"
      ],
      "text/latex": [
       "\\begin{enumerate*}\n",
       "\\item 1767\n",
       "\\item 33\n",
       "\\end{enumerate*}\n"
      ],
      "text/markdown": [
       "1. 1767\n",
       "2. 33\n",
       "\n",
       "\n"
      ],
      "text/plain": [
       "[1] 1767   33"
      ]
     },
     "metadata": {},
     "output_type": "display_data"
    },
    {
     "name": "stderr",
     "output_type": "stream",
     "text": [
      "`summarise()` has grouped output by 'RACE'. You can override using the `.groups` argument.\n",
      "\n"
     ]
    },
    {
     "name": "stdout",
     "output_type": "stream",
     "text": [
      "[1] \"age <= 3 child_abuse = SCAN\"\n"
     ]
    },
    {
     "data": {
      "text/plain": [
       "          SEVGROUP\n",
       "RACE             >25     16-24      0-15\n",
       "  White    12.452830  8.930303  5.259657\n",
       "  Black    11.090909 12.741935  6.700000\n",
       "  Hispanic 13.421053  8.126316  5.851351"
      ]
     },
     "metadata": {},
     "output_type": "display_data"
    }
   ],
   "source": [
    "# age <= 3 child_abuse = SCAN\n",
    "dat2 = filter(dat, AGE <= 3 & Child_abuse == 'SCAN')\n",
    "dim(dat2)\n",
    "res2 = dat2 %>% group_by(RACE, SEVGROUP) %>% summarise(Mean_LOS = mean(LOS, na.rm = TRUE))\n",
    "tab2 <- xtabs(Mean_LOS ~ RACE+SEVGROUP, data=res2)\n",
    "print(\"age <= 3 child_abuse = SCAN\")\n",
    "tab2"
   ]
  },
  {
   "cell_type": "code",
   "execution_count": 38,
   "id": "4f0f5b60",
   "metadata": {
    "scrolled": false
   },
   "outputs": [
    {
     "data": {
      "text/html": [
       "<style>\n",
       ".list-inline {list-style: none; margin:0; padding: 0}\n",
       ".list-inline>li {display: inline-block}\n",
       ".list-inline>li:not(:last-child)::after {content: \"\\00b7\"; padding: 0 .5ex}\n",
       "</style>\n",
       "<ol class=list-inline><li>39</li><li>34</li></ol>\n"
      ],
      "text/latex": [
       "\\begin{enumerate*}\n",
       "\\item 39\n",
       "\\item 34\n",
       "\\end{enumerate*}\n"
      ],
      "text/markdown": [
       "1. 39\n",
       "2. 34\n",
       "\n",
       "\n"
      ],
      "text/plain": [
       "[1] 39 34"
      ]
     },
     "metadata": {},
     "output_type": "display_data"
    },
    {
     "data": {
      "text/html": [
       "<table class=\"dataframe\">\n",
       "<caption>A data.frame: 39 × 4</caption>\n",
       "<thead>\n",
       "\t<tr><th scope=col>DISCWT</th><th scope=col>RACE</th><th scope=col>LOS</th><th scope=col>SEVGROUP</th></tr>\n",
       "\t<tr><th scope=col>&lt;dbl&gt;</th><th scope=col>&lt;fct&gt;</th><th scope=col>&lt;int&gt;</th><th scope=col>&lt;fct&gt;</th></tr>\n",
       "</thead>\n",
       "<tbody>\n",
       "\t<tr><td>1.843069</td><td>Asian or Pacific Islander</td><td>22</td><td>16-24</td></tr>\n",
       "\t<tr><td>1.393260</td><td>Asian or Pacific Islander</td><td>12</td><td>16-24</td></tr>\n",
       "\t<tr><td>1.393260</td><td>Asian or Pacific Islander</td><td>12</td><td>0-15 </td></tr>\n",
       "\t<tr><td>1.803242</td><td>Asian or Pacific Islander</td><td> 6</td><td>16-24</td></tr>\n",
       "\t<tr><td>1.443080</td><td>Asian or Pacific Islander</td><td>13</td><td>16-24</td></tr>\n",
       "\t<tr><td>1.435720</td><td>Asian or Pacific Islander</td><td>26</td><td>0-15 </td></tr>\n",
       "\t<tr><td>1.435720</td><td>Asian or Pacific Islander</td><td> 9</td><td><span style=white-space:pre-wrap>&gt;25  </span></td></tr>\n",
       "\t<tr><td>1.843069</td><td>Asian or Pacific Islander</td><td> 5</td><td>0-15 </td></tr>\n",
       "\t<tr><td>1.453931</td><td>Asian or Pacific Islander</td><td> 7</td><td><span style=white-space:pre-wrap>&gt;25  </span></td></tr>\n",
       "\t<tr><td>1.803242</td><td>Asian or Pacific Islander</td><td>19</td><td>16-24</td></tr>\n",
       "\t<tr><td>1.614416</td><td>Asian or Pacific Islander</td><td> 1</td><td>0-15 </td></tr>\n",
       "\t<tr><td>1.614416</td><td>Asian or Pacific Islander</td><td> 7</td><td>16-24</td></tr>\n",
       "\t<tr><td>1.614416</td><td>Asian or Pacific Islander</td><td> 1</td><td>0-15 </td></tr>\n",
       "\t<tr><td>1.292747</td><td>Asian or Pacific Islander</td><td>16</td><td><span style=white-space:pre-wrap>&gt;25  </span></td></tr>\n",
       "\t<tr><td>1.614416</td><td>Asian or Pacific Islander</td><td> 4</td><td>16-24</td></tr>\n",
       "\t<tr><td>1.292747</td><td>Asian or Pacific Islander</td><td> 8</td><td>0-15 </td></tr>\n",
       "\t<tr><td>1.366650</td><td>Asian or Pacific Islander</td><td> 8</td><td><span style=white-space:pre-wrap>&gt;25  </span></td></tr>\n",
       "\t<tr><td>1.614416</td><td>Asian or Pacific Islander</td><td>16</td><td>16-24</td></tr>\n",
       "\t<tr><td>1.366650</td><td>Asian or Pacific Islander</td><td> 2</td><td>16-24</td></tr>\n",
       "\t<tr><td>1.614416</td><td>Asian or Pacific Islander</td><td>15</td><td>16-24</td></tr>\n",
       "\t<tr><td>1.448493</td><td>Asian or Pacific Islander</td><td> 2</td><td>0-15 </td></tr>\n",
       "\t<tr><td>1.292747</td><td>Asian or Pacific Islander</td><td> 1</td><td>0-15 </td></tr>\n",
       "\t<tr><td>1.614416</td><td>Asian or Pacific Islander</td><td>26</td><td>16-24</td></tr>\n",
       "\t<tr><td>1.341116</td><td>Asian or Pacific Islander</td><td> 1</td><td>0-15 </td></tr>\n",
       "\t<tr><td>1.614416</td><td>Asian or Pacific Islander</td><td> 9</td><td><span style=white-space:pre-wrap>&gt;25  </span></td></tr>\n",
       "\t<tr><td>1.322682</td><td>Asian or Pacific Islander</td><td>12</td><td>16-24</td></tr>\n",
       "\t<tr><td>1.322682</td><td>Asian or Pacific Islander</td><td>24</td><td>16-24</td></tr>\n",
       "\t<tr><td>1.476196</td><td>Asian or Pacific Islander</td><td> 6</td><td>0-15 </td></tr>\n",
       "\t<tr><td>1.241312</td><td>Asian or Pacific Islander</td><td> 5</td><td>16-24</td></tr>\n",
       "\t<tr><td>1.310778</td><td>Asian or Pacific Islander</td><td> 1</td><td>0-15 </td></tr>\n",
       "\t<tr><td>1.419271</td><td>Asian or Pacific Islander</td><td> 6</td><td>16-24</td></tr>\n",
       "\t<tr><td>1.419271</td><td>Asian or Pacific Islander</td><td> 0</td><td>0-15 </td></tr>\n",
       "\t<tr><td>1.419271</td><td>Asian or Pacific Islander</td><td> 2</td><td>16-24</td></tr>\n",
       "\t<tr><td>1.419271</td><td>Asian or Pacific Islander</td><td> 0</td><td>0-15 </td></tr>\n",
       "\t<tr><td>1.375722</td><td>Asian or Pacific Islander</td><td> 2</td><td>0-15 </td></tr>\n",
       "\t<tr><td>1.476196</td><td>Asian or Pacific Islander</td><td> 4</td><td><span style=white-space:pre-wrap>&gt;25  </span></td></tr>\n",
       "\t<tr><td>1.276894</td><td>Asian or Pacific Islander</td><td>12</td><td>16-24</td></tr>\n",
       "\t<tr><td>1.476196</td><td>Asian or Pacific Islander</td><td>26</td><td>16-24</td></tr>\n",
       "\t<tr><td>1.332268</td><td>Asian or Pacific Islander</td><td> 1</td><td><span style=white-space:pre-wrap>&gt;25  </span></td></tr>\n",
       "</tbody>\n",
       "</table>\n"
      ],
      "text/latex": [
       "A data.frame: 39 × 4\n",
       "\\begin{tabular}{llll}\n",
       " DISCWT & RACE & LOS & SEVGROUP\\\\\n",
       " <dbl> & <fct> & <int> & <fct>\\\\\n",
       "\\hline\n",
       "\t 1.843069 & Asian or Pacific Islander & 22 & 16-24\\\\\n",
       "\t 1.393260 & Asian or Pacific Islander & 12 & 16-24\\\\\n",
       "\t 1.393260 & Asian or Pacific Islander & 12 & 0-15 \\\\\n",
       "\t 1.803242 & Asian or Pacific Islander &  6 & 16-24\\\\\n",
       "\t 1.443080 & Asian or Pacific Islander & 13 & 16-24\\\\\n",
       "\t 1.435720 & Asian or Pacific Islander & 26 & 0-15 \\\\\n",
       "\t 1.435720 & Asian or Pacific Islander &  9 & >25  \\\\\n",
       "\t 1.843069 & Asian or Pacific Islander &  5 & 0-15 \\\\\n",
       "\t 1.453931 & Asian or Pacific Islander &  7 & >25  \\\\\n",
       "\t 1.803242 & Asian or Pacific Islander & 19 & 16-24\\\\\n",
       "\t 1.614416 & Asian or Pacific Islander &  1 & 0-15 \\\\\n",
       "\t 1.614416 & Asian or Pacific Islander &  7 & 16-24\\\\\n",
       "\t 1.614416 & Asian or Pacific Islander &  1 & 0-15 \\\\\n",
       "\t 1.292747 & Asian or Pacific Islander & 16 & >25  \\\\\n",
       "\t 1.614416 & Asian or Pacific Islander &  4 & 16-24\\\\\n",
       "\t 1.292747 & Asian or Pacific Islander &  8 & 0-15 \\\\\n",
       "\t 1.366650 & Asian or Pacific Islander &  8 & >25  \\\\\n",
       "\t 1.614416 & Asian or Pacific Islander & 16 & 16-24\\\\\n",
       "\t 1.366650 & Asian or Pacific Islander &  2 & 16-24\\\\\n",
       "\t 1.614416 & Asian or Pacific Islander & 15 & 16-24\\\\\n",
       "\t 1.448493 & Asian or Pacific Islander &  2 & 0-15 \\\\\n",
       "\t 1.292747 & Asian or Pacific Islander &  1 & 0-15 \\\\\n",
       "\t 1.614416 & Asian or Pacific Islander & 26 & 16-24\\\\\n",
       "\t 1.341116 & Asian or Pacific Islander &  1 & 0-15 \\\\\n",
       "\t 1.614416 & Asian or Pacific Islander &  9 & >25  \\\\\n",
       "\t 1.322682 & Asian or Pacific Islander & 12 & 16-24\\\\\n",
       "\t 1.322682 & Asian or Pacific Islander & 24 & 16-24\\\\\n",
       "\t 1.476196 & Asian or Pacific Islander &  6 & 0-15 \\\\\n",
       "\t 1.241312 & Asian or Pacific Islander &  5 & 16-24\\\\\n",
       "\t 1.310778 & Asian or Pacific Islander &  1 & 0-15 \\\\\n",
       "\t 1.419271 & Asian or Pacific Islander &  6 & 16-24\\\\\n",
       "\t 1.419271 & Asian or Pacific Islander &  0 & 0-15 \\\\\n",
       "\t 1.419271 & Asian or Pacific Islander &  2 & 16-24\\\\\n",
       "\t 1.419271 & Asian or Pacific Islander &  0 & 0-15 \\\\\n",
       "\t 1.375722 & Asian or Pacific Islander &  2 & 0-15 \\\\\n",
       "\t 1.476196 & Asian or Pacific Islander &  4 & >25  \\\\\n",
       "\t 1.276894 & Asian or Pacific Islander & 12 & 16-24\\\\\n",
       "\t 1.476196 & Asian or Pacific Islander & 26 & 16-24\\\\\n",
       "\t 1.332268 & Asian or Pacific Islander &  1 & >25  \\\\\n",
       "\\end{tabular}\n"
      ],
      "text/markdown": [
       "\n",
       "A data.frame: 39 × 4\n",
       "\n",
       "| DISCWT &lt;dbl&gt; | RACE &lt;fct&gt; | LOS &lt;int&gt; | SEVGROUP &lt;fct&gt; |\n",
       "|---|---|---|---|\n",
       "| 1.843069 | Asian or Pacific Islander | 22 | 16-24 |\n",
       "| 1.393260 | Asian or Pacific Islander | 12 | 16-24 |\n",
       "| 1.393260 | Asian or Pacific Islander | 12 | 0-15  |\n",
       "| 1.803242 | Asian or Pacific Islander |  6 | 16-24 |\n",
       "| 1.443080 | Asian or Pacific Islander | 13 | 16-24 |\n",
       "| 1.435720 | Asian or Pacific Islander | 26 | 0-15  |\n",
       "| 1.435720 | Asian or Pacific Islander |  9 | &gt;25   |\n",
       "| 1.843069 | Asian or Pacific Islander |  5 | 0-15  |\n",
       "| 1.453931 | Asian or Pacific Islander |  7 | &gt;25   |\n",
       "| 1.803242 | Asian or Pacific Islander | 19 | 16-24 |\n",
       "| 1.614416 | Asian or Pacific Islander |  1 | 0-15  |\n",
       "| 1.614416 | Asian or Pacific Islander |  7 | 16-24 |\n",
       "| 1.614416 | Asian or Pacific Islander |  1 | 0-15  |\n",
       "| 1.292747 | Asian or Pacific Islander | 16 | &gt;25   |\n",
       "| 1.614416 | Asian or Pacific Islander |  4 | 16-24 |\n",
       "| 1.292747 | Asian or Pacific Islander |  8 | 0-15  |\n",
       "| 1.366650 | Asian or Pacific Islander |  8 | &gt;25   |\n",
       "| 1.614416 | Asian or Pacific Islander | 16 | 16-24 |\n",
       "| 1.366650 | Asian or Pacific Islander |  2 | 16-24 |\n",
       "| 1.614416 | Asian or Pacific Islander | 15 | 16-24 |\n",
       "| 1.448493 | Asian or Pacific Islander |  2 | 0-15  |\n",
       "| 1.292747 | Asian or Pacific Islander |  1 | 0-15  |\n",
       "| 1.614416 | Asian or Pacific Islander | 26 | 16-24 |\n",
       "| 1.341116 | Asian or Pacific Islander |  1 | 0-15  |\n",
       "| 1.614416 | Asian or Pacific Islander |  9 | &gt;25   |\n",
       "| 1.322682 | Asian or Pacific Islander | 12 | 16-24 |\n",
       "| 1.322682 | Asian or Pacific Islander | 24 | 16-24 |\n",
       "| 1.476196 | Asian or Pacific Islander |  6 | 0-15  |\n",
       "| 1.241312 | Asian or Pacific Islander |  5 | 16-24 |\n",
       "| 1.310778 | Asian or Pacific Islander |  1 | 0-15  |\n",
       "| 1.419271 | Asian or Pacific Islander |  6 | 16-24 |\n",
       "| 1.419271 | Asian or Pacific Islander |  0 | 0-15  |\n",
       "| 1.419271 | Asian or Pacific Islander |  2 | 16-24 |\n",
       "| 1.419271 | Asian or Pacific Islander |  0 | 0-15  |\n",
       "| 1.375722 | Asian or Pacific Islander |  2 | 0-15  |\n",
       "| 1.476196 | Asian or Pacific Islander |  4 | &gt;25   |\n",
       "| 1.276894 | Asian or Pacific Islander | 12 | 16-24 |\n",
       "| 1.476196 | Asian or Pacific Islander | 26 | 16-24 |\n",
       "| 1.332268 | Asian or Pacific Islander |  1 | &gt;25   |\n",
       "\n"
      ],
      "text/plain": [
       "   DISCWT   RACE                      LOS SEVGROUP\n",
       "1  1.843069 Asian or Pacific Islander 22  16-24   \n",
       "2  1.393260 Asian or Pacific Islander 12  16-24   \n",
       "3  1.393260 Asian or Pacific Islander 12  0-15    \n",
       "4  1.803242 Asian or Pacific Islander  6  16-24   \n",
       "5  1.443080 Asian or Pacific Islander 13  16-24   \n",
       "6  1.435720 Asian or Pacific Islander 26  0-15    \n",
       "7  1.435720 Asian or Pacific Islander  9  >25     \n",
       "8  1.843069 Asian or Pacific Islander  5  0-15    \n",
       "9  1.453931 Asian or Pacific Islander  7  >25     \n",
       "10 1.803242 Asian or Pacific Islander 19  16-24   \n",
       "11 1.614416 Asian or Pacific Islander  1  0-15    \n",
       "12 1.614416 Asian or Pacific Islander  7  16-24   \n",
       "13 1.614416 Asian or Pacific Islander  1  0-15    \n",
       "14 1.292747 Asian or Pacific Islander 16  >25     \n",
       "15 1.614416 Asian or Pacific Islander  4  16-24   \n",
       "16 1.292747 Asian or Pacific Islander  8  0-15    \n",
       "17 1.366650 Asian or Pacific Islander  8  >25     \n",
       "18 1.614416 Asian or Pacific Islander 16  16-24   \n",
       "19 1.366650 Asian or Pacific Islander  2  16-24   \n",
       "20 1.614416 Asian or Pacific Islander 15  16-24   \n",
       "21 1.448493 Asian or Pacific Islander  2  0-15    \n",
       "22 1.292747 Asian or Pacific Islander  1  0-15    \n",
       "23 1.614416 Asian or Pacific Islander 26  16-24   \n",
       "24 1.341116 Asian or Pacific Islander  1  0-15    \n",
       "25 1.614416 Asian or Pacific Islander  9  >25     \n",
       "26 1.322682 Asian or Pacific Islander 12  16-24   \n",
       "27 1.322682 Asian or Pacific Islander 24  16-24   \n",
       "28 1.476196 Asian or Pacific Islander  6  0-15    \n",
       "29 1.241312 Asian or Pacific Islander  5  16-24   \n",
       "30 1.310778 Asian or Pacific Islander  1  0-15    \n",
       "31 1.419271 Asian or Pacific Islander  6  16-24   \n",
       "32 1.419271 Asian or Pacific Islander  0  0-15    \n",
       "33 1.419271 Asian or Pacific Islander  2  16-24   \n",
       "34 1.419271 Asian or Pacific Islander  0  0-15    \n",
       "35 1.375722 Asian or Pacific Islander  2  0-15    \n",
       "36 1.476196 Asian or Pacific Islander  4  >25     \n",
       "37 1.276894 Asian or Pacific Islander 12  16-24   \n",
       "38 1.476196 Asian or Pacific Islander 26  16-24   \n",
       "39 1.332268 Asian or Pacific Islander  1  >25     "
      ]
     },
     "metadata": {},
     "output_type": "display_data"
    }
   ],
   "source": [
    "dat2c = filter(dat2, RACE=='Asian or Pacific Islander')\n",
    "dim(dat2c)\n",
    "dat2c[, c('DISCWT', 'RACE', 'LOS', 'SEVGROUP')]"
   ]
  },
  {
   "cell_type": "code",
   "execution_count": 23,
   "id": "b9b35ee9",
   "metadata": {},
   "outputs": [
    {
     "data": {
      "text/html": [
       "<style>\n",
       ".list-inline {list-style: none; margin:0; padding: 0}\n",
       ".list-inline>li {display: inline-block}\n",
       ".list-inline>li:not(:last-child)::after {content: \"\\00b7\"; padding: 0 .5ex}\n",
       "</style>\n",
       "<ol class=list-inline><li>74326</li><li>34</li></ol>\n"
      ],
      "text/latex": [
       "\\begin{enumerate*}\n",
       "\\item 74326\n",
       "\\item 34\n",
       "\\end{enumerate*}\n"
      ],
      "text/markdown": [
       "1. 74326\n",
       "2. 34\n",
       "\n",
       "\n"
      ],
      "text/plain": [
       "[1] 74326    34"
      ]
     },
     "metadata": {},
     "output_type": "display_data"
    },
    {
     "name": "stderr",
     "output_type": "stream",
     "text": [
      "`summarise()` has grouped output by 'RACE'. You can override using the `.groups` argument.\n",
      "\n"
     ]
    },
    {
     "name": "stdout",
     "output_type": "stream",
     "text": [
      "[1] \"age <= 5 child_abuse = Non-SCAN\"\n"
     ]
    },
    {
     "data": {
      "text/plain": [
       "                           SEVGROUP\n",
       "RACE                              >25     16-24      0-15\n",
       "  White                      9.369403  5.229022  3.101479\n",
       "  Black                     13.180602  7.251416  4.345537\n",
       "  Hispanic                  10.047146  5.515797  3.104214\n",
       "  Asian or Pacific Islander 12.591837  4.335260  3.436601\n",
       "  Native American            8.521739  6.852632  3.345972\n",
       "  Other                     10.484127  5.948052  4.155928"
      ]
     },
     "metadata": {},
     "output_type": "display_data"
    }
   ],
   "source": [
    "# age <= 5 child_abuse = Non-SCAN\n",
    "dat3 = filter(dat, AGE <= 5 & Child_abuse == 'Non-SCAN')\n",
    "dim(dat3)\n",
    "res3 = dat3 %>% group_by(RACE, SEVGROUP) %>% summarise(Mean_LOS = mean(LOS, na.rm = TRUE))\n",
    "tab3 <- xtabs(Mean_LOS ~ RACE+SEVGROUP, data=res3)\n",
    "print(\"age <= 5 child_abuse = Non-SCAN\")\n",
    "tab3"
   ]
  },
  {
   "cell_type": "code",
   "execution_count": 24,
   "id": "ce3ac975",
   "metadata": {},
   "outputs": [
    {
     "data": {
      "text/html": [
       "<style>\n",
       ".list-inline {list-style: none; margin:0; padding: 0}\n",
       ".list-inline>li {display: inline-block}\n",
       ".list-inline>li:not(:last-child)::after {content: \"\\00b7\"; padding: 0 .5ex}\n",
       "</style>\n",
       "<ol class=list-inline><li>4947</li><li>34</li></ol>\n"
      ],
      "text/latex": [
       "\\begin{enumerate*}\n",
       "\\item 4947\n",
       "\\item 34\n",
       "\\end{enumerate*}\n"
      ],
      "text/markdown": [
       "1. 4947\n",
       "2. 34\n",
       "\n",
       "\n"
      ],
      "text/plain": [
       "[1] 4947   34"
      ]
     },
     "metadata": {},
     "output_type": "display_data"
    },
    {
     "name": "stderr",
     "output_type": "stream",
     "text": [
      "`summarise()` has grouped output by 'RACE'. You can override using the `.groups` argument.\n",
      "\n"
     ]
    },
    {
     "name": "stdout",
     "output_type": "stream",
     "text": [
      "[1] \"age <= 5 child_abuse = SCAN\"\n"
     ]
    },
    {
     "data": {
      "text/plain": [
       "                           SEVGROUP\n",
       "RACE                              >25     16-24      0-15\n",
       "  White                     10.426966  8.802941  5.196689\n",
       "  Black                     11.295455 12.126394  6.522305\n",
       "  Hispanic                  15.672897 10.906716  5.861111\n",
       "  Asian or Pacific Islander  7.714286 12.157895  4.937500\n",
       "  Native American           16.400000 13.529412  3.850000\n",
       "  Other                     13.500000 11.980769  6.566372"
      ]
     },
     "metadata": {},
     "output_type": "display_data"
    }
   ],
   "source": [
    "# age <= 5 child_abuse = SCAN\n",
    "dat4 = filter(dat, AGE <= 5 & Child_abuse == 'SCAN')\n",
    "dim(dat4)\n",
    "res4 = dat4 %>% group_by(RACE, SEVGROUP) %>% summarise(Mean_LOS = mean(LOS, na.rm = TRUE))\n",
    "tab4 <- xtabs(Mean_LOS ~ RACE+SEVGROUP, data=res4)\n",
    "print(\"age <= 5 child_abuse = SCAN\")\n",
    "tab4"
   ]
  },
  {
   "cell_type": "code",
   "execution_count": 31,
   "id": "bf1f047e",
   "metadata": {},
   "outputs": [
    {
     "data": {
      "text/html": [
       "<style>\n",
       ".list-inline {list-style: none; margin:0; padding: 0}\n",
       ".list-inline>li {display: inline-block}\n",
       ".list-inline>li:not(:last-child)::after {content: \"\\00b7\"; padding: 0 .5ex}\n",
       "</style>\n",
       "<ol class=list-inline><li>42</li><li>34</li></ol>\n"
      ],
      "text/latex": [
       "\\begin{enumerate*}\n",
       "\\item 42\n",
       "\\item 34\n",
       "\\end{enumerate*}\n"
      ],
      "text/markdown": [
       "1. 42\n",
       "2. 34\n",
       "\n",
       "\n"
      ],
      "text/plain": [
       "[1] 42 34"
      ]
     },
     "metadata": {},
     "output_type": "display_data"
    },
    {
     "data": {
      "text/html": [
       "<table class=\"dataframe\">\n",
       "<caption>A data.frame: 42 × 3</caption>\n",
       "<thead>\n",
       "\t<tr><th scope=col>DISCWT</th><th scope=col>RACE</th><th scope=col>LOS</th></tr>\n",
       "\t<tr><th scope=col>&lt;dbl&gt;</th><th scope=col>&lt;fct&gt;</th><th scope=col>&lt;int&gt;</th></tr>\n",
       "</thead>\n",
       "<tbody>\n",
       "\t<tr><td>1.843069</td><td>Asian or Pacific Islander</td><td>22</td></tr>\n",
       "\t<tr><td>1.393260</td><td>Asian or Pacific Islander</td><td>12</td></tr>\n",
       "\t<tr><td>1.393260</td><td>Asian or Pacific Islander</td><td>12</td></tr>\n",
       "\t<tr><td>1.803242</td><td>Asian or Pacific Islander</td><td> 6</td></tr>\n",
       "\t<tr><td>1.443080</td><td>Asian or Pacific Islander</td><td>13</td></tr>\n",
       "\t<tr><td>1.435720</td><td>Asian or Pacific Islander</td><td>26</td></tr>\n",
       "\t<tr><td>1.435720</td><td>Asian or Pacific Islander</td><td> 9</td></tr>\n",
       "\t<tr><td>1.843069</td><td>Asian or Pacific Islander</td><td> 5</td></tr>\n",
       "\t<tr><td>1.453931</td><td>Asian or Pacific Islander</td><td> 7</td></tr>\n",
       "\t<tr><td>1.803242</td><td>Asian or Pacific Islander</td><td>19</td></tr>\n",
       "\t<tr><td>1.614416</td><td>Asian or Pacific Islander</td><td> 1</td></tr>\n",
       "\t<tr><td>1.614416</td><td>Asian or Pacific Islander</td><td> 7</td></tr>\n",
       "\t<tr><td>1.614416</td><td>Asian or Pacific Islander</td><td> 1</td></tr>\n",
       "\t<tr><td>1.292747</td><td>Asian or Pacific Islander</td><td>16</td></tr>\n",
       "\t<tr><td>1.614416</td><td>Asian or Pacific Islander</td><td> 4</td></tr>\n",
       "\t<tr><td>1.292747</td><td>Asian or Pacific Islander</td><td> 8</td></tr>\n",
       "\t<tr><td>1.366650</td><td>Asian or Pacific Islander</td><td> 8</td></tr>\n",
       "\t<tr><td>1.614416</td><td>Asian or Pacific Islander</td><td>16</td></tr>\n",
       "\t<tr><td>1.366650</td><td>Asian or Pacific Islander</td><td> 2</td></tr>\n",
       "\t<tr><td>1.614416</td><td>Asian or Pacific Islander</td><td>15</td></tr>\n",
       "\t<tr><td>1.448493</td><td>Asian or Pacific Islander</td><td> 2</td></tr>\n",
       "\t<tr><td>1.614416</td><td>Asian or Pacific Islander</td><td> 7</td></tr>\n",
       "\t<tr><td>1.292747</td><td>Asian or Pacific Islander</td><td> 1</td></tr>\n",
       "\t<tr><td>1.614416</td><td>Asian or Pacific Islander</td><td>26</td></tr>\n",
       "\t<tr><td>1.341116</td><td>Asian or Pacific Islander</td><td> 1</td></tr>\n",
       "\t<tr><td>1.614416</td><td>Asian or Pacific Islander</td><td> 9</td></tr>\n",
       "\t<tr><td>1.322682</td><td>Asian or Pacific Islander</td><td>12</td></tr>\n",
       "\t<tr><td>1.322682</td><td>Asian or Pacific Islander</td><td>24</td></tr>\n",
       "\t<tr><td>1.476196</td><td>Asian or Pacific Islander</td><td> 6</td></tr>\n",
       "\t<tr><td>1.241312</td><td>Asian or Pacific Islander</td><td> 5</td></tr>\n",
       "\t<tr><td>1.310778</td><td>Asian or Pacific Islander</td><td> 1</td></tr>\n",
       "\t<tr><td>1.419271</td><td>Asian or Pacific Islander</td><td> 6</td></tr>\n",
       "\t<tr><td>1.419271</td><td>Asian or Pacific Islander</td><td> 0</td></tr>\n",
       "\t<tr><td>1.419271</td><td>Asian or Pacific Islander</td><td> 2</td></tr>\n",
       "\t<tr><td>1.419271</td><td>Asian or Pacific Islander</td><td> 0</td></tr>\n",
       "\t<tr><td>1.419271</td><td>Asian or Pacific Islander</td><td> 6</td></tr>\n",
       "\t<tr><td>1.375722</td><td>Asian or Pacific Islander</td><td> 2</td></tr>\n",
       "\t<tr><td>1.476196</td><td>Asian or Pacific Islander</td><td> 4</td></tr>\n",
       "\t<tr><td>1.276894</td><td>Asian or Pacific Islander</td><td>12</td></tr>\n",
       "\t<tr><td>1.476196</td><td>Asian or Pacific Islander</td><td>26</td></tr>\n",
       "\t<tr><td>1.332268</td><td>Asian or Pacific Islander</td><td> 2</td></tr>\n",
       "\t<tr><td>1.332268</td><td>Asian or Pacific Islander</td><td> 1</td></tr>\n",
       "</tbody>\n",
       "</table>\n"
      ],
      "text/latex": [
       "A data.frame: 42 × 3\n",
       "\\begin{tabular}{lll}\n",
       " DISCWT & RACE & LOS\\\\\n",
       " <dbl> & <fct> & <int>\\\\\n",
       "\\hline\n",
       "\t 1.843069 & Asian or Pacific Islander & 22\\\\\n",
       "\t 1.393260 & Asian or Pacific Islander & 12\\\\\n",
       "\t 1.393260 & Asian or Pacific Islander & 12\\\\\n",
       "\t 1.803242 & Asian or Pacific Islander &  6\\\\\n",
       "\t 1.443080 & Asian or Pacific Islander & 13\\\\\n",
       "\t 1.435720 & Asian or Pacific Islander & 26\\\\\n",
       "\t 1.435720 & Asian or Pacific Islander &  9\\\\\n",
       "\t 1.843069 & Asian or Pacific Islander &  5\\\\\n",
       "\t 1.453931 & Asian or Pacific Islander &  7\\\\\n",
       "\t 1.803242 & Asian or Pacific Islander & 19\\\\\n",
       "\t 1.614416 & Asian or Pacific Islander &  1\\\\\n",
       "\t 1.614416 & Asian or Pacific Islander &  7\\\\\n",
       "\t 1.614416 & Asian or Pacific Islander &  1\\\\\n",
       "\t 1.292747 & Asian or Pacific Islander & 16\\\\\n",
       "\t 1.614416 & Asian or Pacific Islander &  4\\\\\n",
       "\t 1.292747 & Asian or Pacific Islander &  8\\\\\n",
       "\t 1.366650 & Asian or Pacific Islander &  8\\\\\n",
       "\t 1.614416 & Asian or Pacific Islander & 16\\\\\n",
       "\t 1.366650 & Asian or Pacific Islander &  2\\\\\n",
       "\t 1.614416 & Asian or Pacific Islander & 15\\\\\n",
       "\t 1.448493 & Asian or Pacific Islander &  2\\\\\n",
       "\t 1.614416 & Asian or Pacific Islander &  7\\\\\n",
       "\t 1.292747 & Asian or Pacific Islander &  1\\\\\n",
       "\t 1.614416 & Asian or Pacific Islander & 26\\\\\n",
       "\t 1.341116 & Asian or Pacific Islander &  1\\\\\n",
       "\t 1.614416 & Asian or Pacific Islander &  9\\\\\n",
       "\t 1.322682 & Asian or Pacific Islander & 12\\\\\n",
       "\t 1.322682 & Asian or Pacific Islander & 24\\\\\n",
       "\t 1.476196 & Asian or Pacific Islander &  6\\\\\n",
       "\t 1.241312 & Asian or Pacific Islander &  5\\\\\n",
       "\t 1.310778 & Asian or Pacific Islander &  1\\\\\n",
       "\t 1.419271 & Asian or Pacific Islander &  6\\\\\n",
       "\t 1.419271 & Asian or Pacific Islander &  0\\\\\n",
       "\t 1.419271 & Asian or Pacific Islander &  2\\\\\n",
       "\t 1.419271 & Asian or Pacific Islander &  0\\\\\n",
       "\t 1.419271 & Asian or Pacific Islander &  6\\\\\n",
       "\t 1.375722 & Asian or Pacific Islander &  2\\\\\n",
       "\t 1.476196 & Asian or Pacific Islander &  4\\\\\n",
       "\t 1.276894 & Asian or Pacific Islander & 12\\\\\n",
       "\t 1.476196 & Asian or Pacific Islander & 26\\\\\n",
       "\t 1.332268 & Asian or Pacific Islander &  2\\\\\n",
       "\t 1.332268 & Asian or Pacific Islander &  1\\\\\n",
       "\\end{tabular}\n"
      ],
      "text/markdown": [
       "\n",
       "A data.frame: 42 × 3\n",
       "\n",
       "| DISCWT &lt;dbl&gt; | RACE &lt;fct&gt; | LOS &lt;int&gt; |\n",
       "|---|---|---|\n",
       "| 1.843069 | Asian or Pacific Islander | 22 |\n",
       "| 1.393260 | Asian or Pacific Islander | 12 |\n",
       "| 1.393260 | Asian or Pacific Islander | 12 |\n",
       "| 1.803242 | Asian or Pacific Islander |  6 |\n",
       "| 1.443080 | Asian or Pacific Islander | 13 |\n",
       "| 1.435720 | Asian or Pacific Islander | 26 |\n",
       "| 1.435720 | Asian or Pacific Islander |  9 |\n",
       "| 1.843069 | Asian or Pacific Islander |  5 |\n",
       "| 1.453931 | Asian or Pacific Islander |  7 |\n",
       "| 1.803242 | Asian or Pacific Islander | 19 |\n",
       "| 1.614416 | Asian or Pacific Islander |  1 |\n",
       "| 1.614416 | Asian or Pacific Islander |  7 |\n",
       "| 1.614416 | Asian or Pacific Islander |  1 |\n",
       "| 1.292747 | Asian or Pacific Islander | 16 |\n",
       "| 1.614416 | Asian or Pacific Islander |  4 |\n",
       "| 1.292747 | Asian or Pacific Islander |  8 |\n",
       "| 1.366650 | Asian or Pacific Islander |  8 |\n",
       "| 1.614416 | Asian or Pacific Islander | 16 |\n",
       "| 1.366650 | Asian or Pacific Islander |  2 |\n",
       "| 1.614416 | Asian or Pacific Islander | 15 |\n",
       "| 1.448493 | Asian or Pacific Islander |  2 |\n",
       "| 1.614416 | Asian or Pacific Islander |  7 |\n",
       "| 1.292747 | Asian or Pacific Islander |  1 |\n",
       "| 1.614416 | Asian or Pacific Islander | 26 |\n",
       "| 1.341116 | Asian or Pacific Islander |  1 |\n",
       "| 1.614416 | Asian or Pacific Islander |  9 |\n",
       "| 1.322682 | Asian or Pacific Islander | 12 |\n",
       "| 1.322682 | Asian or Pacific Islander | 24 |\n",
       "| 1.476196 | Asian or Pacific Islander |  6 |\n",
       "| 1.241312 | Asian or Pacific Islander |  5 |\n",
       "| 1.310778 | Asian or Pacific Islander |  1 |\n",
       "| 1.419271 | Asian or Pacific Islander |  6 |\n",
       "| 1.419271 | Asian or Pacific Islander |  0 |\n",
       "| 1.419271 | Asian or Pacific Islander |  2 |\n",
       "| 1.419271 | Asian or Pacific Islander |  0 |\n",
       "| 1.419271 | Asian or Pacific Islander |  6 |\n",
       "| 1.375722 | Asian or Pacific Islander |  2 |\n",
       "| 1.476196 | Asian or Pacific Islander |  4 |\n",
       "| 1.276894 | Asian or Pacific Islander | 12 |\n",
       "| 1.476196 | Asian or Pacific Islander | 26 |\n",
       "| 1.332268 | Asian or Pacific Islander |  2 |\n",
       "| 1.332268 | Asian or Pacific Islander |  1 |\n",
       "\n"
      ],
      "text/plain": [
       "   DISCWT   RACE                      LOS\n",
       "1  1.843069 Asian or Pacific Islander 22 \n",
       "2  1.393260 Asian or Pacific Islander 12 \n",
       "3  1.393260 Asian or Pacific Islander 12 \n",
       "4  1.803242 Asian or Pacific Islander  6 \n",
       "5  1.443080 Asian or Pacific Islander 13 \n",
       "6  1.435720 Asian or Pacific Islander 26 \n",
       "7  1.435720 Asian or Pacific Islander  9 \n",
       "8  1.843069 Asian or Pacific Islander  5 \n",
       "9  1.453931 Asian or Pacific Islander  7 \n",
       "10 1.803242 Asian or Pacific Islander 19 \n",
       "11 1.614416 Asian or Pacific Islander  1 \n",
       "12 1.614416 Asian or Pacific Islander  7 \n",
       "13 1.614416 Asian or Pacific Islander  1 \n",
       "14 1.292747 Asian or Pacific Islander 16 \n",
       "15 1.614416 Asian or Pacific Islander  4 \n",
       "16 1.292747 Asian or Pacific Islander  8 \n",
       "17 1.366650 Asian or Pacific Islander  8 \n",
       "18 1.614416 Asian or Pacific Islander 16 \n",
       "19 1.366650 Asian or Pacific Islander  2 \n",
       "20 1.614416 Asian or Pacific Islander 15 \n",
       "21 1.448493 Asian or Pacific Islander  2 \n",
       "22 1.614416 Asian or Pacific Islander  7 \n",
       "23 1.292747 Asian or Pacific Islander  1 \n",
       "24 1.614416 Asian or Pacific Islander 26 \n",
       "25 1.341116 Asian or Pacific Islander  1 \n",
       "26 1.614416 Asian or Pacific Islander  9 \n",
       "27 1.322682 Asian or Pacific Islander 12 \n",
       "28 1.322682 Asian or Pacific Islander 24 \n",
       "29 1.476196 Asian or Pacific Islander  6 \n",
       "30 1.241312 Asian or Pacific Islander  5 \n",
       "31 1.310778 Asian or Pacific Islander  1 \n",
       "32 1.419271 Asian or Pacific Islander  6 \n",
       "33 1.419271 Asian or Pacific Islander  0 \n",
       "34 1.419271 Asian or Pacific Islander  2 \n",
       "35 1.419271 Asian or Pacific Islander  0 \n",
       "36 1.419271 Asian or Pacific Islander  6 \n",
       "37 1.375722 Asian or Pacific Islander  2 \n",
       "38 1.476196 Asian or Pacific Islander  4 \n",
       "39 1.276894 Asian or Pacific Islander 12 \n",
       "40 1.476196 Asian or Pacific Islander 26 \n",
       "41 1.332268 Asian or Pacific Islander  2 \n",
       "42 1.332268 Asian or Pacific Islander  1 "
      ]
     },
     "metadata": {},
     "output_type": "display_data"
    }
   ],
   "source": [
    "dat4c = filter(dat4, RACE=='Asian or Pacific Islander')\n",
    "dim(dat4c)\n",
    "dat4c[, c('DISCWT', 'RACE', 'LOS')]"
   ]
  },
  {
   "cell_type": "code",
   "execution_count": 19,
   "id": "95b1789f",
   "metadata": {},
   "outputs": [
    {
     "data": {
      "text/html": [
       "<style>\n",
       ".list-inline {list-style: none; margin:0; padding: 0}\n",
       ".list-inline>li {display: inline-block}\n",
       ".list-inline>li:not(:last-child)::after {content: \"\\00b7\"; padding: 0 .5ex}\n",
       "</style>\n",
       "<ol class=list-inline><li>278726</li><li>34</li></ol>\n"
      ],
      "text/latex": [
       "\\begin{enumerate*}\n",
       "\\item 278726\n",
       "\\item 34\n",
       "\\end{enumerate*}\n"
      ],
      "text/markdown": [
       "1. 278726\n",
       "2. 34\n",
       "\n",
       "\n"
      ],
      "text/plain": [
       "[1] 278726     34"
      ]
     },
     "metadata": {},
     "output_type": "display_data"
    },
    {
     "name": "stderr",
     "output_type": "stream",
     "text": [
      "`summarise()` has grouped output by 'RACE'. You can override using the `.groups` argument.\n",
      "\n"
     ]
    },
    {
     "name": "stdout",
     "output_type": "stream",
     "text": [
      "[1] \"age all child_abuse = Non-SCAN\"\n"
     ]
    },
    {
     "data": {
      "text/plain": [
       "                           SEVGROUP\n",
       "RACE                              >25     16-24      0-15\n",
       "  White                     10.771760  5.790970  3.004779\n",
       "  Black                     12.873404  7.240881  3.658971\n",
       "  Hispanic                  11.773077  6.450520  3.063848\n",
       "  Asian or Pacific Islander 10.671642  5.769841  3.285159\n",
       "  Native American           13.530973  6.897887  3.527264\n",
       "  Other                     12.250000  6.104530  3.717380"
      ]
     },
     "metadata": {},
     "output_type": "display_data"
    }
   ],
   "source": [
    "# age all child_abuse = Non-SCAN\n",
    "dat5 = filter(dat, Child_abuse == 'Non-SCAN')\n",
    "dim(dat5)\n",
    "res5 = dat5 %>% group_by(RACE, SEVGROUP) %>% summarise(Mean_LOS = mean(LOS, na.rm = TRUE))\n",
    "tab5 <- xtabs(Mean_LOS ~ RACE+SEVGROUP, data=res5)\n",
    "print(\"age all child_abuse = Non-SCAN\")\n",
    "tab5"
   ]
  },
  {
   "cell_type": "code",
   "execution_count": 126,
   "id": "0779909c",
   "metadata": {},
   "outputs": [],
   "source": [
    "dunnetts_test <- function(Child_abuse_in, SEVGROUP_in, dat_in){\n",
    "    dat_temp = filter(dat_in, Child_abuse == Child_abuse_in, SEVGROUP == SEVGROUP_in)[c(\"RACE\",\"LOS\")]\n",
    "    print(dim(dat_temp))\n",
    "    print(\"box-plot:\")\n",
    "    boxplot(LOS ~ RACE,\n",
    "        data = dat_temp,\n",
    "        main = sprintf(\"LOS distribution for all age, Child_abuse:%s, ISS:%s\", Child_abuse_in, SEVGROUP_in),\n",
    "        xlab = \"Groups\",\n",
    "        ylab = \"LOS\",\n",
    "        col = \"red\",\n",
    "        border = \"black\")\n",
    "    model <- aov(LOS ~ RACE, data = dat_temp)\n",
    "    print(summary(model))\n",
    "    dtest = DunnettTest(x=dat_temp$LOS, g=dat_temp$RACE)\n",
    "#     print(dtest)\n",
    "    dtable = do.call(rbind.data.frame, dtest)\n",
    "    dtable$pvalc = dtable$pval\n",
    "    pval1 <- dtable$pval < 0.1\n",
    "    dtable$pvalc[pval1] <- '<0.1'\n",
    "    pval2 <- dtable$pval < 0.05\n",
    "    dtable$pvalc[pval2] <- '<0.05'\n",
    "    pval3 <- dtable$pval < 0.01\n",
    "    dtable$pvalc[pval3] <- '<0.01'\n",
    "    pval4 <- dtable$pval < 0.001\n",
    "    dtable$pvalc[pval4] <- '<0.001'\n",
    "    dtable\n",
    "}\n",
    "    "
   ]
  },
  {
   "cell_type": "code",
   "execution_count": 127,
   "id": "ba39af46",
   "metadata": {},
   "outputs": [
    {
     "name": "stdout",
     "output_type": "stream",
     "text": [
      "[1] 12338     2\n",
      "[1] \"box-plot:\"\n",
      "               Df  Sum Sq Mean Sq F value  Pr(>F)    \n",
      "RACE            5    7426    1485    6.37 6.4e-06 ***\n",
      "Residuals   10216 2380020     233                    \n",
      "---\n",
      "Signif. codes:  0 ‘***’ 0.001 ‘**’ 0.01 ‘*’ 0.05 ‘.’ 0.1 ‘ ’ 1\n",
      "2116 observations deleted due to missingness\n"
     ]
    },
    {
     "data": {
      "text/html": [
       "<table class=\"dataframe\">\n",
       "<caption>A data.frame: 5 × 5</caption>\n",
       "<thead>\n",
       "\t<tr><th></th><th scope=col>diff</th><th scope=col>lwr.ci</th><th scope=col>upr.ci</th><th scope=col>pval</th><th scope=col>pvalc</th></tr>\n",
       "\t<tr><th></th><th scope=col>&lt;dbl&gt;</th><th scope=col>&lt;dbl&gt;</th><th scope=col>&lt;dbl&gt;</th><th scope=col>&lt;dbl&gt;</th><th scope=col>&lt;chr&gt;</th></tr>\n",
       "</thead>\n",
       "<tbody>\n",
       "\t<tr><th scope=row>White.Black-White</th><td> 2.10164</td><td> 1.043738</td><td>3.1596</td><td>1.7151e-06</td><td><span style=white-space:pre-wrap>&lt;0.001           </span></td></tr>\n",
       "\t<tr><th scope=row>White.Hispanic-White</th><td> 1.00132</td><td>-0.052371</td><td>2.0550</td><td>7.0688e-02</td><td><span style=white-space:pre-wrap>&lt;0.1             </span></td></tr>\n",
       "\t<tr><th scope=row>White.Asian or Pacific Islander-White</th><td>-0.10012</td><td>-2.912809</td><td>2.7126</td><td>1.0000e+00</td><td>0.999997830657854</td></tr>\n",
       "\t<tr><th scope=row>White.Native American-White</th><td> 2.75921</td><td>-0.964374</td><td>6.4828</td><td>2.5138e-01</td><td>0.251384483395978</td></tr>\n",
       "\t<tr><th scope=row>White.Other-White</th><td> 1.47824</td><td>-0.335852</td><td>3.2923</td><td>1.6727e-01</td><td>0.167268613673321</td></tr>\n",
       "</tbody>\n",
       "</table>\n"
      ],
      "text/latex": [
       "A data.frame: 5 × 5\n",
       "\\begin{tabular}{r|lllll}\n",
       "  & diff & lwr.ci & upr.ci & pval & pvalc\\\\\n",
       "  & <dbl> & <dbl> & <dbl> & <dbl> & <chr>\\\\\n",
       "\\hline\n",
       "\tWhite.Black-White &  2.10164 &  1.043738 & 3.1596 & 1.7151e-06 & <0.001           \\\\\n",
       "\tWhite.Hispanic-White &  1.00132 & -0.052371 & 2.0550 & 7.0688e-02 & <0.1             \\\\\n",
       "\tWhite.Asian or Pacific Islander-White & -0.10012 & -2.912809 & 2.7126 & 1.0000e+00 & 0.999997830657854\\\\\n",
       "\tWhite.Native American-White &  2.75921 & -0.964374 & 6.4828 & 2.5138e-01 & 0.251384483395978\\\\\n",
       "\tWhite.Other-White &  1.47824 & -0.335852 & 3.2923 & 1.6727e-01 & 0.167268613673321\\\\\n",
       "\\end{tabular}\n"
      ],
      "text/markdown": [
       "\n",
       "A data.frame: 5 × 5\n",
       "\n",
       "| <!--/--> | diff &lt;dbl&gt; | lwr.ci &lt;dbl&gt; | upr.ci &lt;dbl&gt; | pval &lt;dbl&gt; | pvalc &lt;chr&gt; |\n",
       "|---|---|---|---|---|---|\n",
       "| White.Black-White |  2.10164 |  1.043738 | 3.1596 | 1.7151e-06 | &lt;0.001            |\n",
       "| White.Hispanic-White |  1.00132 | -0.052371 | 2.0550 | 7.0688e-02 | &lt;0.1              |\n",
       "| White.Asian or Pacific Islander-White | -0.10012 | -2.912809 | 2.7126 | 1.0000e+00 | 0.999997830657854 |\n",
       "| White.Native American-White |  2.75921 | -0.964374 | 6.4828 | 2.5138e-01 | 0.251384483395978 |\n",
       "| White.Other-White |  1.47824 | -0.335852 | 3.2923 | 1.6727e-01 | 0.167268613673321 |\n",
       "\n"
      ],
      "text/plain": [
       "                                      diff     lwr.ci    upr.ci pval      \n",
       "White.Black-White                      2.10164  1.043738 3.1596 1.7151e-06\n",
       "White.Hispanic-White                   1.00132 -0.052371 2.0550 7.0688e-02\n",
       "White.Asian or Pacific Islander-White -0.10012 -2.912809 2.7126 1.0000e+00\n",
       "White.Native American-White            2.75921 -0.964374 6.4828 2.5138e-01\n",
       "White.Other-White                      1.47824 -0.335852 3.2923 1.6727e-01\n",
       "                                      pvalc            \n",
       "White.Black-White                     <0.001           \n",
       "White.Hispanic-White                  <0.1             \n",
       "White.Asian or Pacific Islander-White 0.999997830657854\n",
       "White.Native American-White           0.251384483395978\n",
       "White.Other-White                     0.167268613673321"
      ]
     },
     "metadata": {},
     "output_type": "display_data"
    },
    {
     "data": {
      "image/png": "[encoded data removed]",
      "text/plain": [
       "Plot with title “LOS distribution for all age, Child_abuse:Non-SCAN, ISS:>25”"
      ]
     },
     "metadata": {
      "image/png": {
       "height": 420,
       "width": 420
      }
     },
     "output_type": "display_data"
    }
   ],
   "source": [
    "dunnetts_test(\"Non-SCAN\", \">25\", dat)"
   ]
  },
  {
   "cell_type": "code",
   "execution_count": 128,
   "id": "9eefb311",
   "metadata": {},
   "outputs": [
    {
     "name": "stdout",
     "output_type": "stream",
     "text": [
      "[1] 27174     2\n",
      "[1] \"box-plot:\"\n",
      "               Df  Sum Sq Mean Sq F value  Pr(>F)    \n",
      "RACE            5    6087    1217    12.3 6.7e-12 ***\n",
      "Residuals   22399 2223385      99                    \n",
      "---\n",
      "Signif. codes:  0 ‘***’ 0.001 ‘**’ 0.01 ‘*’ 0.05 ‘.’ 0.1 ‘ ’ 1\n",
      "4769 observations deleted due to missingness\n"
     ]
    },
    {
     "data": {
      "text/html": [
       "<table class=\"dataframe\">\n",
       "<caption>A data.frame: 5 × 5</caption>\n",
       "<thead>\n",
       "\t<tr><th></th><th scope=col>diff</th><th scope=col>lwr.ci</th><th scope=col>upr.ci</th><th scope=col>pval</th><th scope=col>pvalc</th></tr>\n",
       "\t<tr><th></th><th scope=col>&lt;dbl&gt;</th><th scope=col>&lt;dbl&gt;</th><th scope=col>&lt;dbl&gt;</th><th scope=col>&lt;dbl&gt;</th><th scope=col>&lt;chr&gt;</th></tr>\n",
       "</thead>\n",
       "<tbody>\n",
       "\t<tr><th scope=row>White.Black-White</th><td> 1.449911</td><td> 0.94427</td><td>1.9556</td><td>9.3292e-13</td><td><span style=white-space:pre-wrap>&lt;0.001           </span></td></tr>\n",
       "\t<tr><th scope=row>White.Hispanic-White</th><td> 0.659550</td><td> 0.20326</td><td>1.1158</td><td>1.0305e-03</td><td><span style=white-space:pre-wrap>&lt;0.01            </span></td></tr>\n",
       "\t<tr><th scope=row>White.Asian or Pacific Islander-White</th><td>-0.021129</td><td>-1.18257</td><td>1.1403</td><td>1.0000e+00</td><td>0.999999924439481</td></tr>\n",
       "\t<tr><th scope=row>White.Native American-White</th><td> 1.106917</td><td>-0.42779</td><td>2.6416</td><td>2.7838e-01</td><td>0.278381213782894</td></tr>\n",
       "\t<tr><th scope=row>White.Other-White</th><td> 0.313560</td><td>-0.47393</td><td>1.1010</td><td>8.3551e-01</td><td>0.835509944553927</td></tr>\n",
       "</tbody>\n",
       "</table>\n"
      ],
      "text/latex": [
       "A data.frame: 5 × 5\n",
       "\\begin{tabular}{r|lllll}\n",
       "  & diff & lwr.ci & upr.ci & pval & pvalc\\\\\n",
       "  & <dbl> & <dbl> & <dbl> & <dbl> & <chr>\\\\\n",
       "\\hline\n",
       "\tWhite.Black-White &  1.449911 &  0.94427 & 1.9556 & 9.3292e-13 & <0.001           \\\\\n",
       "\tWhite.Hispanic-White &  0.659550 &  0.20326 & 1.1158 & 1.0305e-03 & <0.01            \\\\\n",
       "\tWhite.Asian or Pacific Islander-White & -0.021129 & -1.18257 & 1.1403 & 1.0000e+00 & 0.999999924439481\\\\\n",
       "\tWhite.Native American-White &  1.106917 & -0.42779 & 2.6416 & 2.7838e-01 & 0.278381213782894\\\\\n",
       "\tWhite.Other-White &  0.313560 & -0.47393 & 1.1010 & 8.3551e-01 & 0.835509944553927\\\\\n",
       "\\end{tabular}\n"
      ],
      "text/markdown": [
       "\n",
       "A data.frame: 5 × 5\n",
       "\n",
       "| <!--/--> | diff &lt;dbl&gt; | lwr.ci &lt;dbl&gt; | upr.ci &lt;dbl&gt; | pval &lt;dbl&gt; | pvalc &lt;chr&gt; |\n",
       "|---|---|---|---|---|---|\n",
       "| White.Black-White |  1.449911 |  0.94427 | 1.9556 | 9.3292e-13 | &lt;0.001            |\n",
       "| White.Hispanic-White |  0.659550 |  0.20326 | 1.1158 | 1.0305e-03 | &lt;0.01             |\n",
       "| White.Asian or Pacific Islander-White | -0.021129 | -1.18257 | 1.1403 | 1.0000e+00 | 0.999999924439481 |\n",
       "| White.Native American-White |  1.106917 | -0.42779 | 2.6416 | 2.7838e-01 | 0.278381213782894 |\n",
       "| White.Other-White |  0.313560 | -0.47393 | 1.1010 | 8.3551e-01 | 0.835509944553927 |\n",
       "\n"
      ],
      "text/plain": [
       "                                      diff      lwr.ci   upr.ci pval      \n",
       "White.Black-White                      1.449911  0.94427 1.9556 9.3292e-13\n",
       "White.Hispanic-White                   0.659550  0.20326 1.1158 1.0305e-03\n",
       "White.Asian or Pacific Islander-White -0.021129 -1.18257 1.1403 1.0000e+00\n",
       "White.Native American-White            1.106917 -0.42779 2.6416 2.7838e-01\n",
       "White.Other-White                      0.313560 -0.47393 1.1010 8.3551e-01\n",
       "                                      pvalc            \n",
       "White.Black-White                     <0.001           \n",
       "White.Hispanic-White                  <0.01            \n",
       "White.Asian or Pacific Islander-White 0.999999924439481\n",
       "White.Native American-White           0.278381213782894\n",
       "White.Other-White                     0.835509944553927"
      ]
     },
     "metadata": {},
     "output_type": "display_data"
    },
    {
     "data": {
      "image/png": "[encoded data removed]",
      "text/plain": [
       "Plot with title “LOS distribution for all age, Child_abuse:Non-SCAN, ISS:16-24”"
      ]
     },
     "metadata": {
      "image/png": {
       "height": 420,
       "width": 420
      }
     },
     "output_type": "display_data"
    }
   ],
   "source": [
    "dunnetts_test(\"Non-SCAN\", \"16-24\", dat)"
   ]
  },
  {
   "cell_type": "code",
   "execution_count": 129,
   "id": "5fb55243",
   "metadata": {},
   "outputs": [
    {
     "name": "stdout",
     "output_type": "stream",
     "text": [
      "[1] 238352      2\n",
      "[1] \"box-plot:\"\n",
      "                Df   Sum Sq Mean Sq F value Pr(>F)    \n",
      "RACE             5    13748    2750    41.2 <2e-16 ***\n",
      "Residuals   194713 12983784      67                   \n",
      "---\n",
      "Signif. codes:  0 ‘***’ 0.001 ‘**’ 0.01 ‘*’ 0.05 ‘.’ 0.1 ‘ ’ 1\n",
      "43633 observations deleted due to missingness\n"
     ]
    },
    {
     "data": {
      "text/html": [
       "<table class=\"dataframe\">\n",
       "<caption>A data.frame: 5 × 5</caption>\n",
       "<thead>\n",
       "\t<tr><th></th><th scope=col>diff</th><th scope=col>lwr.ci</th><th scope=col>upr.ci</th><th scope=col>pval</th><th scope=col>pvalc</th></tr>\n",
       "\t<tr><th></th><th scope=col>&lt;dbl&gt;</th><th scope=col>&lt;dbl&gt;</th><th scope=col>&lt;dbl&gt;</th><th scope=col>&lt;dbl&gt;</th><th scope=col>&lt;chr&gt;</th></tr>\n",
       "</thead>\n",
       "<tbody>\n",
       "\t<tr><th scope=row>White.Black-White</th><td>0.654192</td><td> 0.516233</td><td>0.79215</td><td>0.0000e+00</td><td><span style=white-space:pre-wrap>&lt;0.001           </span></td></tr>\n",
       "\t<tr><th scope=row>White.Hispanic-White</th><td>0.059068</td><td>-0.063939</td><td>0.18208</td><td>7.0068e-01</td><td>0.700679494226123</td></tr>\n",
       "\t<tr><th scope=row>White.Asian or Pacific Islander-White</th><td>0.280380</td><td>-0.042975</td><td>0.60373</td><td>1.2204e-01</td><td>0.122037305937656</td></tr>\n",
       "\t<tr><th scope=row>White.Native American-White</th><td>0.522485</td><td> 0.055505</td><td>0.98946</td><td>2.0078e-02</td><td><span style=white-space:pre-wrap>&lt;0.05            </span></td></tr>\n",
       "\t<tr><th scope=row>White.Other-White</th><td>0.712601</td><td> 0.493719</td><td>0.93148</td><td>2.2204e-16</td><td><span style=white-space:pre-wrap>&lt;0.001           </span></td></tr>\n",
       "</tbody>\n",
       "</table>\n"
      ],
      "text/latex": [
       "A data.frame: 5 × 5\n",
       "\\begin{tabular}{r|lllll}\n",
       "  & diff & lwr.ci & upr.ci & pval & pvalc\\\\\n",
       "  & <dbl> & <dbl> & <dbl> & <dbl> & <chr>\\\\\n",
       "\\hline\n",
       "\tWhite.Black-White & 0.654192 &  0.516233 & 0.79215 & 0.0000e+00 & <0.001           \\\\\n",
       "\tWhite.Hispanic-White & 0.059068 & -0.063939 & 0.18208 & 7.0068e-01 & 0.700679494226123\\\\\n",
       "\tWhite.Asian or Pacific Islander-White & 0.280380 & -0.042975 & 0.60373 & 1.2204e-01 & 0.122037305937656\\\\\n",
       "\tWhite.Native American-White & 0.522485 &  0.055505 & 0.98946 & 2.0078e-02 & <0.05            \\\\\n",
       "\tWhite.Other-White & 0.712601 &  0.493719 & 0.93148 & 2.2204e-16 & <0.001           \\\\\n",
       "\\end{tabular}\n"
      ],
      "text/markdown": [
       "\n",
       "A data.frame: 5 × 5\n",
       "\n",
       "| <!--/--> | diff &lt;dbl&gt; | lwr.ci &lt;dbl&gt; | upr.ci &lt;dbl&gt; | pval &lt;dbl&gt; | pvalc &lt;chr&gt; |\n",
       "|---|---|---|---|---|---|\n",
       "| White.Black-White | 0.654192 |  0.516233 | 0.79215 | 0.0000e+00 | &lt;0.001            |\n",
       "| White.Hispanic-White | 0.059068 | -0.063939 | 0.18208 | 7.0068e-01 | 0.700679494226123 |\n",
       "| White.Asian or Pacific Islander-White | 0.280380 | -0.042975 | 0.60373 | 1.2204e-01 | 0.122037305937656 |\n",
       "| White.Native American-White | 0.522485 |  0.055505 | 0.98946 | 2.0078e-02 | &lt;0.05             |\n",
       "| White.Other-White | 0.712601 |  0.493719 | 0.93148 | 2.2204e-16 | &lt;0.001            |\n",
       "\n"
      ],
      "text/plain": [
       "                                      diff     lwr.ci    upr.ci  pval      \n",
       "White.Black-White                     0.654192  0.516233 0.79215 0.0000e+00\n",
       "White.Hispanic-White                  0.059068 -0.063939 0.18208 7.0068e-01\n",
       "White.Asian or Pacific Islander-White 0.280380 -0.042975 0.60373 1.2204e-01\n",
       "White.Native American-White           0.522485  0.055505 0.98946 2.0078e-02\n",
       "White.Other-White                     0.712601  0.493719 0.93148 2.2204e-16\n",
       "                                      pvalc            \n",
       "White.Black-White                     <0.001           \n",
       "White.Hispanic-White                  0.700679494226123\n",
       "White.Asian or Pacific Islander-White 0.122037305937656\n",
       "White.Native American-White           <0.05            \n",
       "White.Other-White                     <0.001           "
      ]
     },
     "metadata": {},
     "output_type": "display_data"
    },
    {
     "data": {
      "image/png": "[encoded data removed]",
      "text/plain": [
       "Plot with title “LOS distribution for all age, Child_abuse:Non-SCAN, ISS:0-15”"
      ]
     },
     "metadata": {
      "image/png": {
       "height": 420,
       "width": 420
      }
     },
     "output_type": "display_data"
    }
   ],
   "source": [
    "dunnetts_test(\"Non-SCAN\", \"0-15\", dat)"
   ]
  },
  {
   "cell_type": "code",
   "execution_count": 130,
   "id": "302acd89",
   "metadata": {},
   "outputs": [
    {
     "name": "stdout",
     "output_type": "stream",
     "text": [
      "[1] 727   2\n",
      "[1] \"box-plot:\"\n",
      "             Df Sum Sq Mean Sq F value Pr(>F)  \n",
      "RACE          5   2529     506    1.95  0.084 .\n",
      "Residuals   578 149924     259                 \n",
      "---\n",
      "Signif. codes:  0 ‘***’ 0.001 ‘**’ 0.01 ‘*’ 0.05 ‘.’ 0.1 ‘ ’ 1\n",
      "143 observations deleted due to missingness\n"
     ]
    },
    {
     "data": {
      "text/html": [
       "<table class=\"dataframe\">\n",
       "<caption>A data.frame: 5 × 5</caption>\n",
       "<thead>\n",
       "\t<tr><th></th><th scope=col>diff</th><th scope=col>lwr.ci</th><th scope=col>upr.ci</th><th scope=col>pval</th><th scope=col>pvalc</th></tr>\n",
       "\t<tr><th></th><th scope=col>&lt;dbl&gt;</th><th scope=col>&lt;dbl&gt;</th><th scope=col>&lt;dbl&gt;</th><th scope=col>&lt;dbl&gt;</th><th scope=col>&lt;chr&gt;</th></tr>\n",
       "</thead>\n",
       "<tbody>\n",
       "\t<tr><th scope=row>White.Black-White</th><td> 0.61383</td><td> -3.74910</td><td> 4.9768</td><td>0.998003</td><td>0.99800255577527 </td></tr>\n",
       "\t<tr><th scope=row>White.Hispanic-White</th><td> 5.13235</td><td><span style=white-space:pre-wrap>  0.43452</span></td><td> 9.8302</td><td>0.025014</td><td><span style=white-space:pre-wrap>&lt;0.05            </span></td></tr>\n",
       "\t<tr><th scope=row>White.Asian or Pacific Islander-White</th><td>-3.15336</td><td>-19.01695</td><td>12.7102</td><td>0.989974</td><td>0.989973657581394</td></tr>\n",
       "\t<tr><th scope=row>White.Native American-White</th><td> 5.53235</td><td> -7.81124</td><td>18.8760</td><td>0.805118</td><td>0.805118058145679</td></tr>\n",
       "\t<tr><th scope=row>White.Other-White</th><td> 2.64216</td><td> -3.68145</td><td> 8.9658</td><td>0.800117</td><td>0.800116915985309</td></tr>\n",
       "</tbody>\n",
       "</table>\n"
      ],
      "text/latex": [
       "A data.frame: 5 × 5\n",
       "\\begin{tabular}{r|lllll}\n",
       "  & diff & lwr.ci & upr.ci & pval & pvalc\\\\\n",
       "  & <dbl> & <dbl> & <dbl> & <dbl> & <chr>\\\\\n",
       "\\hline\n",
       "\tWhite.Black-White &  0.61383 &  -3.74910 &  4.9768 & 0.998003 & 0.99800255577527 \\\\\n",
       "\tWhite.Hispanic-White &  5.13235 &   0.43452 &  9.8302 & 0.025014 & <0.05            \\\\\n",
       "\tWhite.Asian or Pacific Islander-White & -3.15336 & -19.01695 & 12.7102 & 0.989974 & 0.989973657581394\\\\\n",
       "\tWhite.Native American-White &  5.53235 &  -7.81124 & 18.8760 & 0.805118 & 0.805118058145679\\\\\n",
       "\tWhite.Other-White &  2.64216 &  -3.68145 &  8.9658 & 0.800117 & 0.800116915985309\\\\\n",
       "\\end{tabular}\n"
      ],
      "text/markdown": [
       "\n",
       "A data.frame: 5 × 5\n",
       "\n",
       "| <!--/--> | diff &lt;dbl&gt; | lwr.ci &lt;dbl&gt; | upr.ci &lt;dbl&gt; | pval &lt;dbl&gt; | pvalc &lt;chr&gt; |\n",
       "|---|---|---|---|---|---|\n",
       "| White.Black-White |  0.61383 |  -3.74910 |  4.9768 | 0.998003 | 0.99800255577527  |\n",
       "| White.Hispanic-White |  5.13235 |   0.43452 |  9.8302 | 0.025014 | &lt;0.05             |\n",
       "| White.Asian or Pacific Islander-White | -3.15336 | -19.01695 | 12.7102 | 0.989974 | 0.989973657581394 |\n",
       "| White.Native American-White |  5.53235 |  -7.81124 | 18.8760 | 0.805118 | 0.805118058145679 |\n",
       "| White.Other-White |  2.64216 |  -3.68145 |  8.9658 | 0.800117 | 0.800116915985309 |\n",
       "\n"
      ],
      "text/plain": [
       "                                      diff     lwr.ci    upr.ci  pval    \n",
       "White.Black-White                      0.61383  -3.74910  4.9768 0.998003\n",
       "White.Hispanic-White                   5.13235   0.43452  9.8302 0.025014\n",
       "White.Asian or Pacific Islander-White -3.15336 -19.01695 12.7102 0.989974\n",
       "White.Native American-White            5.53235  -7.81124 18.8760 0.805118\n",
       "White.Other-White                      2.64216  -3.68145  8.9658 0.800117\n",
       "                                      pvalc            \n",
       "White.Black-White                     0.99800255577527 \n",
       "White.Hispanic-White                  <0.05            \n",
       "White.Asian or Pacific Islander-White 0.989973657581394\n",
       "White.Native American-White           0.805118058145679\n",
       "White.Other-White                     0.800116915985309"
      ]
     },
     "metadata": {},
     "output_type": "display_data"
    },
    {
     "data": {
      "image/png": "[encoded data removed]",
      "text/plain": [
       "Plot with title “LOS distribution for all age, Child_abuse:SCAN, ISS:>25”"
      ]
     },
     "metadata": {
      "image/png": {
       "height": 420,
       "width": 420
      }
     },
     "output_type": "display_data"
    }
   ],
   "source": [
    "dunnetts_test(\"SCAN\", \">25\", dat)"
   ]
  },
  {
   "cell_type": "code",
   "execution_count": 131,
   "id": "3544087c",
   "metadata": {},
   "outputs": [
    {
     "name": "stdout",
     "output_type": "stream",
     "text": [
      "[1] 1683    2\n",
      "[1] \"box-plot:\"\n",
      "              Df Sum Sq Mean Sq F value Pr(>F)   \n",
      "RACE           5   2915     583     3.1 0.0087 **\n",
      "Residuals   1365 256957     188                  \n",
      "---\n",
      "Signif. codes:  0 ‘***’ 0.001 ‘**’ 0.01 ‘*’ 0.05 ‘.’ 0.1 ‘ ’ 1\n",
      "312 observations deleted due to missingness\n"
     ]
    },
    {
     "data": {
      "text/html": [
       "<table class=\"dataframe\">\n",
       "<caption>A data.frame: 5 × 5</caption>\n",
       "<thead>\n",
       "\t<tr><th></th><th scope=col>diff</th><th scope=col>lwr.ci</th><th scope=col>upr.ci</th><th scope=col>pval</th><th scope=col>pvalc</th></tr>\n",
       "\t<tr><th></th><th scope=col>&lt;dbl&gt;</th><th scope=col>&lt;dbl&gt;</th><th scope=col>&lt;dbl&gt;</th><th scope=col>&lt;dbl&gt;</th><th scope=col>&lt;chr&gt;</th></tr>\n",
       "</thead>\n",
       "<tbody>\n",
       "\t<tr><th scope=row>White.Black-White</th><td>3.2003</td><td> 0.67638</td><td> 5.7243</td><td>0.0057112</td><td><span style=white-space:pre-wrap>&lt;0.01            </span></td></tr>\n",
       "\t<tr><th scope=row>White.Hispanic-White</th><td>2.1014</td><td>-0.42252</td><td> 4.6254</td><td>0.1499695</td><td>0.149969458328627</td></tr>\n",
       "\t<tr><th scope=row>White.Asian or Pacific Islander-White</th><td>3.3436</td><td>-4.85628</td><td>11.5434</td><td>0.8181669</td><td>0.818166882279033</td></tr>\n",
       "\t<tr><th scope=row>White.Native American-White</th><td>4.7151</td><td>-3.94136</td><td>13.3715</td><td>0.5767189</td><td>0.576718880069483</td></tr>\n",
       "\t<tr><th scope=row>White.Other-White</th><td>3.0809</td><td>-0.61438</td><td> 6.7762</td><td>0.1489383</td><td>0.148938282494492</td></tr>\n",
       "</tbody>\n",
       "</table>\n"
      ],
      "text/latex": [
       "A data.frame: 5 × 5\n",
       "\\begin{tabular}{r|lllll}\n",
       "  & diff & lwr.ci & upr.ci & pval & pvalc\\\\\n",
       "  & <dbl> & <dbl> & <dbl> & <dbl> & <chr>\\\\\n",
       "\\hline\n",
       "\tWhite.Black-White & 3.2003 &  0.67638 &  5.7243 & 0.0057112 & <0.01            \\\\\n",
       "\tWhite.Hispanic-White & 2.1014 & -0.42252 &  4.6254 & 0.1499695 & 0.149969458328627\\\\\n",
       "\tWhite.Asian or Pacific Islander-White & 3.3436 & -4.85628 & 11.5434 & 0.8181669 & 0.818166882279033\\\\\n",
       "\tWhite.Native American-White & 4.7151 & -3.94136 & 13.3715 & 0.5767189 & 0.576718880069483\\\\\n",
       "\tWhite.Other-White & 3.0809 & -0.61438 &  6.7762 & 0.1489383 & 0.148938282494492\\\\\n",
       "\\end{tabular}\n"
      ],
      "text/markdown": [
       "\n",
       "A data.frame: 5 × 5\n",
       "\n",
       "| <!--/--> | diff &lt;dbl&gt; | lwr.ci &lt;dbl&gt; | upr.ci &lt;dbl&gt; | pval &lt;dbl&gt; | pvalc &lt;chr&gt; |\n",
       "|---|---|---|---|---|---|\n",
       "| White.Black-White | 3.2003 |  0.67638 |  5.7243 | 0.0057112 | &lt;0.01             |\n",
       "| White.Hispanic-White | 2.1014 | -0.42252 |  4.6254 | 0.1499695 | 0.149969458328627 |\n",
       "| White.Asian or Pacific Islander-White | 3.3436 | -4.85628 | 11.5434 | 0.8181669 | 0.818166882279033 |\n",
       "| White.Native American-White | 4.7151 | -3.94136 | 13.3715 | 0.5767189 | 0.576718880069483 |\n",
       "| White.Other-White | 3.0809 | -0.61438 |  6.7762 | 0.1489383 | 0.148938282494492 |\n",
       "\n"
      ],
      "text/plain": [
       "                                      diff   lwr.ci   upr.ci  pval     \n",
       "White.Black-White                     3.2003  0.67638  5.7243 0.0057112\n",
       "White.Hispanic-White                  2.1014 -0.42252  4.6254 0.1499695\n",
       "White.Asian or Pacific Islander-White 3.3436 -4.85628 11.5434 0.8181669\n",
       "White.Native American-White           4.7151 -3.94136 13.3715 0.5767189\n",
       "White.Other-White                     3.0809 -0.61438  6.7762 0.1489383\n",
       "                                      pvalc            \n",
       "White.Black-White                     <0.01            \n",
       "White.Hispanic-White                  0.149969458328627\n",
       "White.Asian or Pacific Islander-White 0.818166882279033\n",
       "White.Native American-White           0.576718880069483\n",
       "White.Other-White                     0.148938282494492"
      ]
     },
     "metadata": {},
     "output_type": "display_data"
    },
    {
     "data": {
      "image/png": "[encoded data removed]",
      "text/plain": [
       "Plot with title “LOS distribution for all age, Child_abuse:SCAN, ISS:16-24”"
      ]
     },
     "metadata": {
      "image/png": {
       "height": 420,
       "width": 420
      }
     },
     "output_type": "display_data"
    }
   ],
   "source": [
    "dunnetts_test(\"SCAN\", \"16-24\", dat)"
   ]
  },
  {
   "cell_type": "code",
   "execution_count": 132,
   "id": "55ae80f5",
   "metadata": {},
   "outputs": [
    {
     "name": "stdout",
     "output_type": "stream",
     "text": [
      "[1] 2923    2\n",
      "[1] \"box-plot:\"\n",
      "              Df Sum Sq Mean Sq F value Pr(>F)\n",
      "RACE           5   1035     207    1.81   0.11\n",
      "Residuals   2459 281790     115               \n",
      "458 observations deleted due to missingness\n"
     ]
    },
    {
     "data": {
      "text/html": [
       "<table class=\"dataframe\">\n",
       "<caption>A data.frame: 5 × 5</caption>\n",
       "<thead>\n",
       "\t<tr><th></th><th scope=col>diff</th><th scope=col>lwr.ci</th><th scope=col>upr.ci</th><th scope=col>pval</th><th scope=col>pvalc</th></tr>\n",
       "\t<tr><th></th><th scope=col>&lt;dbl&gt;</th><th scope=col>&lt;dbl&gt;</th><th scope=col>&lt;dbl&gt;</th><th scope=col>&lt;dbl&gt;</th><th scope=col>&lt;chr&gt;</th></tr>\n",
       "</thead>\n",
       "<tbody>\n",
       "\t<tr><th scope=row>White.Black-White</th><td> 1.329706</td><td>-0.03381</td><td>2.6932</td><td>0.059381</td><td><span style=white-space:pre-wrap>&lt;0.1             </span></td></tr>\n",
       "\t<tr><th scope=row>White.Hispanic-White</th><td> 0.244048</td><td>-1.22402</td><td>1.7121</td><td>0.995708</td><td>0.995707717361617</td></tr>\n",
       "\t<tr><th scope=row>White.Asian or Pacific Islander-White</th><td>-0.837560</td><td>-6.62632</td><td>4.9512</td><td>0.997772</td><td>0.997771752444484</td></tr>\n",
       "\t<tr><th scope=row>White.Native American-White</th><td>-0.011473</td><td>-5.80023</td><td>5.7773</td><td>1.000000</td><td>0.999999999998785</td></tr>\n",
       "\t<tr><th scope=row>White.Other-White</th><td> 1.819444</td><td>-0.68120</td><td>4.3201</td><td>0.267624</td><td>0.267624438633846</td></tr>\n",
       "</tbody>\n",
       "</table>\n"
      ],
      "text/latex": [
       "A data.frame: 5 × 5\n",
       "\\begin{tabular}{r|lllll}\n",
       "  & diff & lwr.ci & upr.ci & pval & pvalc\\\\\n",
       "  & <dbl> & <dbl> & <dbl> & <dbl> & <chr>\\\\\n",
       "\\hline\n",
       "\tWhite.Black-White &  1.329706 & -0.03381 & 2.6932 & 0.059381 & <0.1             \\\\\n",
       "\tWhite.Hispanic-White &  0.244048 & -1.22402 & 1.7121 & 0.995708 & 0.995707717361617\\\\\n",
       "\tWhite.Asian or Pacific Islander-White & -0.837560 & -6.62632 & 4.9512 & 0.997772 & 0.997771752444484\\\\\n",
       "\tWhite.Native American-White & -0.011473 & -5.80023 & 5.7773 & 1.000000 & 0.999999999998785\\\\\n",
       "\tWhite.Other-White &  1.819444 & -0.68120 & 4.3201 & 0.267624 & 0.267624438633846\\\\\n",
       "\\end{tabular}\n"
      ],
      "text/markdown": [
       "\n",
       "A data.frame: 5 × 5\n",
       "\n",
       "| <!--/--> | diff &lt;dbl&gt; | lwr.ci &lt;dbl&gt; | upr.ci &lt;dbl&gt; | pval &lt;dbl&gt; | pvalc &lt;chr&gt; |\n",
       "|---|---|---|---|---|---|\n",
       "| White.Black-White |  1.329706 | -0.03381 | 2.6932 | 0.059381 | &lt;0.1              |\n",
       "| White.Hispanic-White |  0.244048 | -1.22402 | 1.7121 | 0.995708 | 0.995707717361617 |\n",
       "| White.Asian or Pacific Islander-White | -0.837560 | -6.62632 | 4.9512 | 0.997772 | 0.997771752444484 |\n",
       "| White.Native American-White | -0.011473 | -5.80023 | 5.7773 | 1.000000 | 0.999999999998785 |\n",
       "| White.Other-White |  1.819444 | -0.68120 | 4.3201 | 0.267624 | 0.267624438633846 |\n",
       "\n"
      ],
      "text/plain": [
       "                                      diff      lwr.ci   upr.ci pval    \n",
       "White.Black-White                      1.329706 -0.03381 2.6932 0.059381\n",
       "White.Hispanic-White                   0.244048 -1.22402 1.7121 0.995708\n",
       "White.Asian or Pacific Islander-White -0.837560 -6.62632 4.9512 0.997772\n",
       "White.Native American-White           -0.011473 -5.80023 5.7773 1.000000\n",
       "White.Other-White                      1.819444 -0.68120 4.3201 0.267624\n",
       "                                      pvalc            \n",
       "White.Black-White                     <0.1             \n",
       "White.Hispanic-White                  0.995707717361617\n",
       "White.Asian or Pacific Islander-White 0.997771752444484\n",
       "White.Native American-White           0.999999999998785\n",
       "White.Other-White                     0.267624438633846"
      ]
     },
     "metadata": {},
     "output_type": "display_data"
    },
    {
     "data": {
      "image/png": "[encoded data removed]",
      "text/plain": [
       "Plot with title “LOS distribution for all age, Child_abuse:SCAN, ISS:0-15”"
      ]
     },
     "metadata": {
      "image/png": {
       "height": 420,
       "width": 420
      }
     },
     "output_type": "display_data"
    }
   ],
   "source": [
    "dunnetts_test(\"SCAN\", \"0-15\", dat)"
   ]
  },
  {
   "cell_type": "markdown",
   "id": "e027b542",
   "metadata": {},
   "source": [
    "# Use Dunnetts test, keep race as a variable, control ISS, take LOS as measurement"
   ]
  },
  {
   "cell_type": "code",
   "execution_count": 84,
   "id": "3eb526ba",
   "metadata": {},
   "outputs": [
    {
     "data": {
      "text/html": [
       "<style>\n",
       ".list-inline {list-style: none; margin:0; padding: 0}\n",
       ".list-inline>li {display: inline-block}\n",
       ".list-inline>li:not(:last-child)::after {content: \"\\00b7\"; padding: 0 .5ex}\n",
       "</style>\n",
       "<ol class=list-inline><li>278726</li><li>2</li></ol>\n"
      ],
      "text/latex": [
       "\\begin{enumerate*}\n",
       "\\item 278726\n",
       "\\item 2\n",
       "\\end{enumerate*}\n"
      ],
      "text/markdown": [
       "1. 278726\n",
       "2. 2\n",
       "\n",
       "\n"
      ],
      "text/plain": [
       "[1] 278726      2"
      ]
     },
     "metadata": {},
     "output_type": "display_data"
    },
    {
     "data": {
      "text/html": [
       "<style>\n",
       ".list-inline {list-style: none; margin:0; padding: 0}\n",
       ".list-inline>li {display: inline-block}\n",
       ".list-inline>li:not(:last-child)::after {content: \"\\00b7\"; padding: 0 .5ex}\n",
       "</style>\n",
       "<ol class=list-inline><li>5354</li><li>2</li></ol>\n"
      ],
      "text/latex": [
       "\\begin{enumerate*}\n",
       "\\item 5354\n",
       "\\item 2\n",
       "\\end{enumerate*}\n"
      ],
      "text/markdown": [
       "1. 5354\n",
       "2. 2\n",
       "\n",
       "\n"
      ],
      "text/plain": [
       "[1] 5354    2"
      ]
     },
     "metadata": {},
     "output_type": "display_data"
    }
   ],
   "source": [
    "datns = filter(dat, Child_abuse == 'Non-SCAN')[c(\"RACE\",\"LOS\")]\n",
    "dats = filter(dat, Child_abuse == 'SCAN')[c(\"RACE\",\"LOS\")]\n",
    "dim(datns)\n",
    "dim(dats)"
   ]
  },
  {
   "cell_type": "markdown",
   "id": "cb24db32",
   "metadata": {},
   "source": [
    "## 1. Visualize the values for each group."
   ]
  },
  {
   "cell_type": "code",
   "execution_count": 85,
   "id": "e6d93622",
   "metadata": {},
   "outputs": [
    {
     "data": {
      "image/png": "[encoded data removed]",
      "text/plain": [
       "Plot with title “LOS distribution for all age, Non-SCAN”"
      ]
     },
     "metadata": {
      "image/png": {
       "height": 420,
       "width": 420
      }
     },
     "output_type": "display_data"
    }
   ],
   "source": [
    "boxplot(LOS ~ RACE,\n",
    "        data = datns,\n",
    "        main = \"LOS distribution for all age, Non-SCAN\",\n",
    "        xlab = \"RACE\",\n",
    "        ylab = \"LOS\",\n",
    "        col = \"red\",\n",
    "        border = \"black\")"
   ]
  },
  {
   "cell_type": "code",
   "execution_count": 86,
   "id": "65bd4378",
   "metadata": {},
   "outputs": [
    {
     "data": {
      "image/png": "[encoded data removed]",
      "text/plain": [
       "Plot with title “LOS distribution for all age, SCAN”"
      ]
     },
     "metadata": {
      "image/png": {
       "height": 420,
       "width": 420
      }
     },
     "output_type": "display_data"
    }
   ],
   "source": [
    "boxplot(LOS ~ RACE,\n",
    "        data = dats,\n",
    "        main = \"LOS distribution for all age, SCAN\",\n",
    "        xlab = \"RACE\",\n",
    "        ylab = \"LOS\",\n",
    "        col = \"red\",\n",
    "        border = \"black\")"
   ]
  },
  {
   "cell_type": "markdown",
   "id": "7d480849",
   "metadata": {},
   "source": [
    "## 2. ANOVA Comparison"
   ]
  },
  {
   "cell_type": "markdown",
   "id": "e6823efc",
   "metadata": {},
   "source": [
    "We can calculate F and p values using the aov function. Let’s put the model together."
   ]
  },
  {
   "cell_type": "code",
   "execution_count": 87,
   "id": "58f7e585",
   "metadata": {},
   "outputs": [
    {
     "data": {
      "text/plain": [
       "                Df   Sum Sq Mean Sq F value Pr(>F)    \n",
       "RACE             5    24469    4894    58.1 <2e-16 ***\n",
       "Residuals   228077 19222870      84                   \n",
       "---\n",
       "Signif. codes:  0 ‘***’ 0.001 ‘**’ 0.01 ‘*’ 0.05 ‘.’ 0.1 ‘ ’ 1\n",
       "50643 observations deleted due to missingness"
      ]
     },
     "metadata": {},
     "output_type": "display_data"
    }
   ],
   "source": [
    "model <- aov(LOS ~ RACE, data = datns)\n",
    "summary(model)"
   ]
  },
  {
   "cell_type": "code",
   "execution_count": 88,
   "id": "6adfa7c5",
   "metadata": {},
   "outputs": [
    {
     "data": {
      "text/plain": [
       "              Df Sum Sq Mean Sq F value  Pr(>F)    \n",
       "RACE           5   3568     714    4.37 0.00057 ***\n",
       "Residuals   4431 724008     163                    \n",
       "---\n",
       "Signif. codes:  0 ‘***’ 0.001 ‘**’ 0.01 ‘*’ 0.05 ‘.’ 0.1 ‘ ’ 1\n",
       "917 observations deleted due to missingness"
      ]
     },
     "metadata": {},
     "output_type": "display_data"
    }
   ],
   "source": [
    "model <- aov(LOS ~ RACE, data = dats)\n",
    "summary(model)"
   ]
  },
  {
   "cell_type": "markdown",
   "id": "7f5382d0",
   "metadata": {},
   "source": [
    "Based on the ANOVA model the p-value is statistically significant (p<0.001), indicate that each group does not have the same average values.\n",
    "\n",
    "Let’s perform Dunnett’s test and identify which groups are statistically significant."
   ]
  },
  {
   "cell_type": "markdown",
   "id": "dec18fab",
   "metadata": {},
   "source": [
    "## 3. Dunnett’s Test."
   ]
  },
  {
   "cell_type": "markdown",
   "id": "ea4ed3b1",
   "metadata": {},
   "source": [
    "We can make use of DunnettTest() function from the DescTools package.\n",
    "\n",
    "Dunnett’s Function syntax is as follows, where:\n",
    "\n",
    "DunnettTest(x, g)\n",
    "\n",
    "x: Numerical values\n",
    "\n",
    "g: Group Names\n",
    "\n",
    "Let’s load the library and perform Dunnett’s test"
   ]
  },
  {
   "cell_type": "code",
   "execution_count": 89,
   "id": "487b85bf",
   "metadata": {},
   "outputs": [],
   "source": [
    "# install.packages(\"DescTools\")"
   ]
  },
  {
   "cell_type": "code",
   "execution_count": 90,
   "id": "ab5d6370",
   "metadata": {},
   "outputs": [],
   "source": [
    "library(DescTools)"
   ]
  },
  {
   "cell_type": "code",
   "execution_count": 100,
   "id": "4cb0fa12",
   "metadata": {},
   "outputs": [
    {
     "data": {
      "text/html": [
       "'list'"
      ],
      "text/latex": [
       "'list'"
      ],
      "text/markdown": [
       "'list'"
      ],
      "text/plain": [
       "[1] \"list\""
      ]
     },
     "metadata": {},
     "output_type": "display_data"
    }
   ],
   "source": [
    "dtest1 = DunnettTest(x=datns$LOS, g=datns$RACE)\n",
    "typeof(dtest1)"
   ]
  },
  {
   "cell_type": "code",
   "execution_count": 101,
   "id": "bad3bb5e",
   "metadata": {},
   "outputs": [
    {
     "data": {
      "text/plain": [
       "\n",
       "  Dunnett's test for comparing several treatments with a control :  \n",
       "    95% family-wise confidence level\n",
       "\n",
       "$White\n",
       "                                   diff    lwr.ci  upr.ci    pval    \n",
       "Black-White                     0.84791  0.704817 0.99100 < 2e-16 ***\n",
       "Hispanic-White                  0.14357  0.015211 0.27193  0.0201 *  \n",
       "Asian or Pacific Islander-White 0.22943 -0.106859 0.56573  0.3359    \n",
       "Native American-White           0.84653  0.366907 1.32616 2.9e-05 ***\n",
       "Other-White                     0.76367  0.536307 0.99104 < 2e-16 ***\n",
       "\n",
       "---\n",
       "Signif. codes:  0 '***' 0.001 '**' 0.01 '*' 0.05 '.' 0.1 ' ' 1\n"
      ]
     },
     "metadata": {},
     "output_type": "display_data"
    }
   ],
   "source": [
    "dtest1"
   ]
  },
  {
   "cell_type": "code",
   "execution_count": 102,
   "id": "589b7006",
   "metadata": {},
   "outputs": [],
   "source": [
    "dtable1 = do.call(rbind.data.frame, dtest1)"
   ]
  },
  {
   "cell_type": "code",
   "execution_count": 103,
   "id": "a4c58d3b",
   "metadata": {},
   "outputs": [
    {
     "data": {
      "text/html": [
       "<table class=\"dataframe\">\n",
       "<caption>A data.frame: 5 × 4</caption>\n",
       "<thead>\n",
       "\t<tr><th></th><th scope=col>diff</th><th scope=col>lwr.ci</th><th scope=col>upr.ci</th><th scope=col>pval</th></tr>\n",
       "\t<tr><th></th><th scope=col>&lt;dbl&gt;</th><th scope=col>&lt;dbl&gt;</th><th scope=col>&lt;dbl&gt;</th><th scope=col>&lt;dbl&gt;</th></tr>\n",
       "</thead>\n",
       "<tbody>\n",
       "\t<tr><th scope=row>White.Black-White</th><td>0.84791</td><td> 0.704817</td><td>0.99100</td><td>0.0000e+00</td></tr>\n",
       "\t<tr><th scope=row>White.Hispanic-White</th><td>0.14357</td><td> 0.015211</td><td>0.27193</td><td>2.0147e-02</td></tr>\n",
       "\t<tr><th scope=row>White.Asian or Pacific Islander-White</th><td>0.22943</td><td>-0.106859</td><td>0.56573</td><td>3.3593e-01</td></tr>\n",
       "\t<tr><th scope=row>White.Native American-White</th><td>0.84653</td><td> 0.366907</td><td>1.32616</td><td>2.9174e-05</td></tr>\n",
       "\t<tr><th scope=row>White.Other-White</th><td>0.76367</td><td> 0.536307</td><td>0.99104</td><td>0.0000e+00</td></tr>\n",
       "</tbody>\n",
       "</table>\n"
      ],
      "text/latex": [
       "A data.frame: 5 × 4\n",
       "\\begin{tabular}{r|llll}\n",
       "  & diff & lwr.ci & upr.ci & pval\\\\\n",
       "  & <dbl> & <dbl> & <dbl> & <dbl>\\\\\n",
       "\\hline\n",
       "\tWhite.Black-White & 0.84791 &  0.704817 & 0.99100 & 0.0000e+00\\\\\n",
       "\tWhite.Hispanic-White & 0.14357 &  0.015211 & 0.27193 & 2.0147e-02\\\\\n",
       "\tWhite.Asian or Pacific Islander-White & 0.22943 & -0.106859 & 0.56573 & 3.3593e-01\\\\\n",
       "\tWhite.Native American-White & 0.84653 &  0.366907 & 1.32616 & 2.9174e-05\\\\\n",
       "\tWhite.Other-White & 0.76367 &  0.536307 & 0.99104 & 0.0000e+00\\\\\n",
       "\\end{tabular}\n"
      ],
      "text/markdown": [
       "\n",
       "A data.frame: 5 × 4\n",
       "\n",
       "| <!--/--> | diff &lt;dbl&gt; | lwr.ci &lt;dbl&gt; | upr.ci &lt;dbl&gt; | pval &lt;dbl&gt; |\n",
       "|---|---|---|---|---|\n",
       "| White.Black-White | 0.84791 |  0.704817 | 0.99100 | 0.0000e+00 |\n",
       "| White.Hispanic-White | 0.14357 |  0.015211 | 0.27193 | 2.0147e-02 |\n",
       "| White.Asian or Pacific Islander-White | 0.22943 | -0.106859 | 0.56573 | 3.3593e-01 |\n",
       "| White.Native American-White | 0.84653 |  0.366907 | 1.32616 | 2.9174e-05 |\n",
       "| White.Other-White | 0.76367 |  0.536307 | 0.99104 | 0.0000e+00 |\n",
       "\n"
      ],
      "text/plain": [
       "                                      diff    lwr.ci    upr.ci  pval      \n",
       "White.Black-White                     0.84791  0.704817 0.99100 0.0000e+00\n",
       "White.Hispanic-White                  0.14357  0.015211 0.27193 2.0147e-02\n",
       "White.Asian or Pacific Islander-White 0.22943 -0.106859 0.56573 3.3593e-01\n",
       "White.Native American-White           0.84653  0.366907 1.32616 2.9174e-05\n",
       "White.Other-White                     0.76367  0.536307 0.99104 0.0000e+00"
      ]
     },
     "metadata": {},
     "output_type": "display_data"
    }
   ],
   "source": [
    "dtable1"
   ]
  },
  {
   "cell_type": "code",
   "execution_count": 104,
   "id": "7815c84d",
   "metadata": {
    "scrolled": true
   },
   "outputs": [],
   "source": [
    "\n",
    "# dtable1[dtable1$pval < 0.001, ]$pval <- '<0.001'\n",
    "# dtable1[dtable1$pval < 0.05, ]$pval <- '<0.05'\n",
    "# dtable1[dtable1$pval < 0.01, ]$pval <- '<0.01'"
   ]
  },
  {
   "cell_type": "code",
   "execution_count": 105,
   "id": "fc95ca16",
   "metadata": {},
   "outputs": [
    {
     "data": {
      "text/html": [
       "<table class=\"dataframe\">\n",
       "<caption>A data.frame: 5 × 5</caption>\n",
       "<thead>\n",
       "\t<tr><th></th><th scope=col>diff</th><th scope=col>lwr.ci</th><th scope=col>upr.ci</th><th scope=col>pval</th><th scope=col>pvalc</th></tr>\n",
       "\t<tr><th></th><th scope=col>&lt;dbl&gt;</th><th scope=col>&lt;dbl&gt;</th><th scope=col>&lt;dbl&gt;</th><th scope=col>&lt;dbl&gt;</th><th scope=col>&lt;chr&gt;</th></tr>\n",
       "</thead>\n",
       "<tbody>\n",
       "\t<tr><th scope=row>White.Black-White</th><td>0.84791</td><td> 0.704817</td><td>0.99100</td><td>0.0000e+00</td><td>&lt;0.001</td></tr>\n",
       "\t<tr><th scope=row>White.Hispanic-White</th><td>0.14357</td><td> 0.015211</td><td>0.27193</td><td>2.0147e-02</td><td>&lt;0.05 </td></tr>\n",
       "\t<tr><th scope=row>White.Asian or Pacific Islander-White</th><td>0.22943</td><td>-0.106859</td><td>0.56573</td><td>3.3593e-01</td><td>NA    </td></tr>\n",
       "\t<tr><th scope=row>White.Native American-White</th><td>0.84653</td><td> 0.366907</td><td>1.32616</td><td>2.9174e-05</td><td>&lt;0.001</td></tr>\n",
       "\t<tr><th scope=row>White.Other-White</th><td>0.76367</td><td> 0.536307</td><td>0.99104</td><td>0.0000e+00</td><td>&lt;0.001</td></tr>\n",
       "</tbody>\n",
       "</table>\n"
      ],
      "text/latex": [
       "A data.frame: 5 × 5\n",
       "\\begin{tabular}{r|lllll}\n",
       "  & diff & lwr.ci & upr.ci & pval & pvalc\\\\\n",
       "  & <dbl> & <dbl> & <dbl> & <dbl> & <chr>\\\\\n",
       "\\hline\n",
       "\tWhite.Black-White & 0.84791 &  0.704817 & 0.99100 & 0.0000e+00 & <0.001\\\\\n",
       "\tWhite.Hispanic-White & 0.14357 &  0.015211 & 0.27193 & 2.0147e-02 & <0.05 \\\\\n",
       "\tWhite.Asian or Pacific Islander-White & 0.22943 & -0.106859 & 0.56573 & 3.3593e-01 & NA    \\\\\n",
       "\tWhite.Native American-White & 0.84653 &  0.366907 & 1.32616 & 2.9174e-05 & <0.001\\\\\n",
       "\tWhite.Other-White & 0.76367 &  0.536307 & 0.99104 & 0.0000e+00 & <0.001\\\\\n",
       "\\end{tabular}\n"
      ],
      "text/markdown": [
       "\n",
       "A data.frame: 5 × 5\n",
       "\n",
       "| <!--/--> | diff &lt;dbl&gt; | lwr.ci &lt;dbl&gt; | upr.ci &lt;dbl&gt; | pval &lt;dbl&gt; | pvalc &lt;chr&gt; |\n",
       "|---|---|---|---|---|---|\n",
       "| White.Black-White | 0.84791 |  0.704817 | 0.99100 | 0.0000e+00 | &lt;0.001 |\n",
       "| White.Hispanic-White | 0.14357 |  0.015211 | 0.27193 | 2.0147e-02 | &lt;0.05  |\n",
       "| White.Asian or Pacific Islander-White | 0.22943 | -0.106859 | 0.56573 | 3.3593e-01 | NA     |\n",
       "| White.Native American-White | 0.84653 |  0.366907 | 1.32616 | 2.9174e-05 | &lt;0.001 |\n",
       "| White.Other-White | 0.76367 |  0.536307 | 0.99104 | 0.0000e+00 | &lt;0.001 |\n",
       "\n"
      ],
      "text/plain": [
       "                                      diff    lwr.ci    upr.ci  pval      \n",
       "White.Black-White                     0.84791  0.704817 0.99100 0.0000e+00\n",
       "White.Hispanic-White                  0.14357  0.015211 0.27193 2.0147e-02\n",
       "White.Asian or Pacific Islander-White 0.22943 -0.106859 0.56573 3.3593e-01\n",
       "White.Native American-White           0.84653  0.366907 1.32616 2.9174e-05\n",
       "White.Other-White                     0.76367  0.536307 0.99104 0.0000e+00\n",
       "                                      pvalc \n",
       "White.Black-White                     <0.001\n",
       "White.Hispanic-White                  <0.05 \n",
       "White.Asian or Pacific Islander-White NA    \n",
       "White.Native American-White           <0.001\n",
       "White.Other-White                     <0.001"
      ]
     },
     "metadata": {},
     "output_type": "display_data"
    }
   ],
   "source": [
    "dtable1"
   ]
  },
  {
   "cell_type": "code",
   "execution_count": 99,
   "id": "a8f92813",
   "metadata": {},
   "outputs": [
    {
     "data": {
      "text/plain": [
       "\n",
       "  Dunnett's test for comparing several treatments with a control :  \n",
       "    95% family-wise confidence level\n",
       "\n",
       "$White\n",
       "                                   diff    lwr.ci upr.ci   pval    \n",
       "Black-White                     1.55710  0.315015 2.7992 0.0065 ** \n",
       "Hispanic-White                  1.33552  0.024836 2.6462 0.0434 *  \n",
       "Asian or Pacific Islander-White 0.71782 -4.023679 5.4593 0.9972    \n",
       "Native American-White           3.11864 -1.576294 7.8136 0.3624    \n",
       "Other-White                     2.74836  0.699787 4.7969 0.0029 ** \n",
       "\n",
       "---\n",
       "Signif. codes:  0 '***' 0.001 '**' 0.01 '*' 0.05 '.' 0.1 ' ' 1\n"
      ]
     },
     "metadata": {},
     "output_type": "display_data"
    }
   ],
   "source": [
    "DunnettTest(x=dats$LOS, g=dats$RACE)"
   ]
  },
  {
   "cell_type": "markdown",
   "id": "9d3651a0",
   "metadata": {},
   "source": [
    "(Given Non-SCAN)<br>\n",
    "The LOS of Black group significantly 0.8479 higher compared to White (p<0.001).<br>\n",
    "The LOS of Hispanic group also significantly 0.1436 higher compared to White (p<0.05). <br>\n",
    "The LOS of Native American-White group also significantly 0.8465 higher compared to White (p<0.001). <br>\n",
    "\n",
    "(Given SCAN)<br>\n",
    "The LOS of Black group significantly 1.5571 higher compared to White (p<0.01).<br>\n",
    "The LOS of Hispanic group also significantly 1.3355 higher compared to White (p<0.05). <br>\n",
    "\n",
    "(Calculate increase for SCAN compared with Non-SCAN) <br>\n",
    "The increase of LOS for SCAN compared with Non-SCAN for Black group: 1.5571 - 0.8479 = 0.7092 <br>\n",
    "The increase of LOS for SCAN compared with Non-SCAN for Hispanic group: 1.3355 - 0.1436 = 1.1919 <br>"
   ]
  },
  {
   "cell_type": "code",
   "execution_count": 34,
   "id": "cdca15a9",
   "metadata": {},
   "outputs": [
    {
     "data": {
      "text/html": [
       "<style>\n",
       ".list-inline {list-style: none; margin:0; padding: 0}\n",
       ".list-inline>li {display: inline-block}\n",
       ".list-inline>li:not(:last-child)::after {content: \"\\00b7\"; padding: 0 .5ex}\n",
       "</style>\n",
       "<ol class=list-inline><li>5354</li><li>34</li></ol>\n"
      ],
      "text/latex": [
       "\\begin{enumerate*}\n",
       "\\item 5354\n",
       "\\item 34\n",
       "\\end{enumerate*}\n"
      ],
      "text/markdown": [
       "1. 5354\n",
       "2. 34\n",
       "\n",
       "\n"
      ],
      "text/plain": [
       "[1] 5354   34"
      ]
     },
     "metadata": {},
     "output_type": "display_data"
    },
    {
     "name": "stderr",
     "output_type": "stream",
     "text": [
      "`summarise()` has grouped output by 'RACE'. You can override using the `.groups` argument.\n",
      "\n"
     ]
    },
    {
     "name": "stdout",
     "output_type": "stream",
     "text": [
      "[1] \"age all child_abuse = SCAN\"\n"
     ]
    },
    {
     "data": {
      "text/plain": [
       "                           SEVGROUP\n",
       "RACE                              >25     16-24      0-15\n",
       "  White                     10.867647  8.814327  5.402778\n",
       "  Black                     11.481481 12.014652  6.732484\n",
       "  Hispanic                  16.000000 10.915751  5.646825\n",
       "  Asian or Pacific Islander  7.714286 12.157895  4.565217\n",
       "  Native American           16.400000 13.529412  5.391304\n",
       "  Other                     13.509804 11.895238  7.222222"
      ]
     },
     "metadata": {},
     "output_type": "display_data"
    }
   ],
   "source": [
    "# age all child_abuse = SCAN\n",
    "dat6 = filter(dat, Child_abuse == 'SCAN')\n",
    "dim(dat6)\n",
    "res6 = dat6 %>% group_by(RACE, SEVGROUP) %>% summarise(Mean_LOS = mean(LOS, na.rm = TRUE))\n",
    "tab6 <- xtabs(Mean_LOS ~ RACE+SEVGROUP, data=res6)\n",
    "print(\"age all child_abuse = SCAN\")\n",
    "tab6"
   ]
  },
  {
   "cell_type": "code",
   "execution_count": 35,
   "id": "b8709d73",
   "metadata": {},
   "outputs": [
    {
     "data": {
      "text/html": [
       "<style>\n",
       ".list-inline {list-style: none; margin:0; padding: 0}\n",
       ".list-inline>li {display: inline-block}\n",
       ".list-inline>li:not(:last-child)::after {content: \"\\00b7\"; padding: 0 .5ex}\n",
       "</style>\n",
       "<ol class=list-inline><li>49</li><li>34</li></ol>\n"
      ],
      "text/latex": [
       "\\begin{enumerate*}\n",
       "\\item 49\n",
       "\\item 34\n",
       "\\end{enumerate*}\n"
      ],
      "text/markdown": [
       "1. 49\n",
       "2. 34\n",
       "\n",
       "\n"
      ],
      "text/plain": [
       "[1] 49 34"
      ]
     },
     "metadata": {},
     "output_type": "display_data"
    },
    {
     "data": {
      "text/html": [
       "<table class=\"dataframe\">\n",
       "<caption>A data.frame: 49 × 3</caption>\n",
       "<thead>\n",
       "\t<tr><th scope=col>DISCWT</th><th scope=col>RACE</th><th scope=col>LOS</th></tr>\n",
       "\t<tr><th scope=col>&lt;dbl&gt;</th><th scope=col>&lt;fct&gt;</th><th scope=col>&lt;int&gt;</th></tr>\n",
       "</thead>\n",
       "<tbody>\n",
       "\t<tr><td>1.843069</td><td>Asian or Pacific Islander</td><td>22</td></tr>\n",
       "\t<tr><td>1.393260</td><td>Asian or Pacific Islander</td><td>12</td></tr>\n",
       "\t<tr><td>1.393260</td><td>Asian or Pacific Islander</td><td>12</td></tr>\n",
       "\t<tr><td>1.410774</td><td>Asian or Pacific Islander</td><td> 3</td></tr>\n",
       "\t<tr><td>1.803242</td><td>Asian or Pacific Islander</td><td> 6</td></tr>\n",
       "\t<tr><td>1.443080</td><td>Asian or Pacific Islander</td><td>13</td></tr>\n",
       "\t<tr><td>1.435720</td><td>Asian or Pacific Islander</td><td>26</td></tr>\n",
       "\t<tr><td>1.435720</td><td>Asian or Pacific Islander</td><td> 9</td></tr>\n",
       "\t<tr><td>1.843069</td><td>Asian or Pacific Islander</td><td> 5</td></tr>\n",
       "\t<tr><td>1.393260</td><td>Asian or Pacific Islander</td><td> 3</td></tr>\n",
       "\t<tr><td>1.453931</td><td>Asian or Pacific Islander</td><td> 7</td></tr>\n",
       "\t<tr><td>1.803242</td><td>Asian or Pacific Islander</td><td>19</td></tr>\n",
       "\t<tr><td>1.614416</td><td>Asian or Pacific Islander</td><td> 1</td></tr>\n",
       "\t<tr><td>1.614416</td><td>Asian or Pacific Islander</td><td> 7</td></tr>\n",
       "\t<tr><td>1.614416</td><td>Asian or Pacific Islander</td><td> 1</td></tr>\n",
       "\t<tr><td>1.292747</td><td>Asian or Pacific Islander</td><td>16</td></tr>\n",
       "\t<tr><td>1.614416</td><td>Asian or Pacific Islander</td><td> 4</td></tr>\n",
       "\t<tr><td>1.366650</td><td>Asian or Pacific Islander</td><td> 2</td></tr>\n",
       "\t<tr><td>1.292747</td><td>Asian or Pacific Islander</td><td> 8</td></tr>\n",
       "\t<tr><td>1.366650</td><td>Asian or Pacific Islander</td><td> 8</td></tr>\n",
       "\t<tr><td>1.614416</td><td>Asian or Pacific Islander</td><td>16</td></tr>\n",
       "\t<tr><td>1.366650</td><td>Asian or Pacific Islander</td><td> 2</td></tr>\n",
       "\t<tr><td>1.614416</td><td>Asian or Pacific Islander</td><td>15</td></tr>\n",
       "\t<tr><td>1.448493</td><td>Asian or Pacific Islander</td><td> 2</td></tr>\n",
       "\t<tr><td>1.614416</td><td>Asian or Pacific Islander</td><td> 7</td></tr>\n",
       "\t<tr><td>1.292747</td><td>Asian or Pacific Islander</td><td> 1</td></tr>\n",
       "\t<tr><td>1.614416</td><td>Asian or Pacific Islander</td><td>26</td></tr>\n",
       "\t<tr><td>1.341116</td><td>Asian or Pacific Islander</td><td> 1</td></tr>\n",
       "\t<tr><td>1.614416</td><td>Asian or Pacific Islander</td><td> 9</td></tr>\n",
       "\t<tr><td>1.322682</td><td>Asian or Pacific Islander</td><td> 5</td></tr>\n",
       "\t<tr><td>1.322682</td><td>Asian or Pacific Islander</td><td>12</td></tr>\n",
       "\t<tr><td>1.322682</td><td>Asian or Pacific Islander</td><td>24</td></tr>\n",
       "\t<tr><td>1.476196</td><td>Asian or Pacific Islander</td><td> 6</td></tr>\n",
       "\t<tr><td>1.241312</td><td>Asian or Pacific Islander</td><td> 5</td></tr>\n",
       "\t<tr><td>1.310778</td><td>Asian or Pacific Islander</td><td> 1</td></tr>\n",
       "\t<tr><td>1.419271</td><td>Asian or Pacific Islander</td><td> 6</td></tr>\n",
       "\t<tr><td>1.419271</td><td>Asian or Pacific Islander</td><td> 0</td></tr>\n",
       "\t<tr><td>1.419271</td><td>Asian or Pacific Islander</td><td> 2</td></tr>\n",
       "\t<tr><td>1.419271</td><td>Asian or Pacific Islander</td><td> 0</td></tr>\n",
       "\t<tr><td>1.419271</td><td>Asian or Pacific Islander</td><td> 6</td></tr>\n",
       "\t<tr><td>1.375722</td><td>Asian or Pacific Islander</td><td> 2</td></tr>\n",
       "\t<tr><td>1.332268</td><td>Asian or Pacific Islander</td><td> 1</td></tr>\n",
       "\t<tr><td>1.476196</td><td>Asian or Pacific Islander</td><td> 4</td></tr>\n",
       "\t<tr><td>1.276894</td><td>Asian or Pacific Islander</td><td>12</td></tr>\n",
       "\t<tr><td>1.476196</td><td>Asian or Pacific Islander</td><td>26</td></tr>\n",
       "\t<tr><td>1.307701</td><td>Asian or Pacific Islander</td><td> 1</td></tr>\n",
       "\t<tr><td>1.476196</td><td>Asian or Pacific Islander</td><td>11</td></tr>\n",
       "\t<tr><td>1.332268</td><td>Asian or Pacific Islander</td><td> 2</td></tr>\n",
       "\t<tr><td>1.332268</td><td>Asian or Pacific Islander</td><td> 1</td></tr>\n",
       "</tbody>\n",
       "</table>\n"
      ],
      "text/latex": [
       "A data.frame: 49 × 3\n",
       "\\begin{tabular}{lll}\n",
       " DISCWT & RACE & LOS\\\\\n",
       " <dbl> & <fct> & <int>\\\\\n",
       "\\hline\n",
       "\t 1.843069 & Asian or Pacific Islander & 22\\\\\n",
       "\t 1.393260 & Asian or Pacific Islander & 12\\\\\n",
       "\t 1.393260 & Asian or Pacific Islander & 12\\\\\n",
       "\t 1.410774 & Asian or Pacific Islander &  3\\\\\n",
       "\t 1.803242 & Asian or Pacific Islander &  6\\\\\n",
       "\t 1.443080 & Asian or Pacific Islander & 13\\\\\n",
       "\t 1.435720 & Asian or Pacific Islander & 26\\\\\n",
       "\t 1.435720 & Asian or Pacific Islander &  9\\\\\n",
       "\t 1.843069 & Asian or Pacific Islander &  5\\\\\n",
       "\t 1.393260 & Asian or Pacific Islander &  3\\\\\n",
       "\t 1.453931 & Asian or Pacific Islander &  7\\\\\n",
       "\t 1.803242 & Asian or Pacific Islander & 19\\\\\n",
       "\t 1.614416 & Asian or Pacific Islander &  1\\\\\n",
       "\t 1.614416 & Asian or Pacific Islander &  7\\\\\n",
       "\t 1.614416 & Asian or Pacific Islander &  1\\\\\n",
       "\t 1.292747 & Asian or Pacific Islander & 16\\\\\n",
       "\t 1.614416 & Asian or Pacific Islander &  4\\\\\n",
       "\t 1.366650 & Asian or Pacific Islander &  2\\\\\n",
       "\t 1.292747 & Asian or Pacific Islander &  8\\\\\n",
       "\t 1.366650 & Asian or Pacific Islander &  8\\\\\n",
       "\t 1.614416 & Asian or Pacific Islander & 16\\\\\n",
       "\t 1.366650 & Asian or Pacific Islander &  2\\\\\n",
       "\t 1.614416 & Asian or Pacific Islander & 15\\\\\n",
       "\t 1.448493 & Asian or Pacific Islander &  2\\\\\n",
       "\t 1.614416 & Asian or Pacific Islander &  7\\\\\n",
       "\t 1.292747 & Asian or Pacific Islander &  1\\\\\n",
       "\t 1.614416 & Asian or Pacific Islander & 26\\\\\n",
       "\t 1.341116 & Asian or Pacific Islander &  1\\\\\n",
       "\t 1.614416 & Asian or Pacific Islander &  9\\\\\n",
       "\t 1.322682 & Asian or Pacific Islander &  5\\\\\n",
       "\t 1.322682 & Asian or Pacific Islander & 12\\\\\n",
       "\t 1.322682 & Asian or Pacific Islander & 24\\\\\n",
       "\t 1.476196 & Asian or Pacific Islander &  6\\\\\n",
       "\t 1.241312 & Asian or Pacific Islander &  5\\\\\n",
       "\t 1.310778 & Asian or Pacific Islander &  1\\\\\n",
       "\t 1.419271 & Asian or Pacific Islander &  6\\\\\n",
       "\t 1.419271 & Asian or Pacific Islander &  0\\\\\n",
       "\t 1.419271 & Asian or Pacific Islander &  2\\\\\n",
       "\t 1.419271 & Asian or Pacific Islander &  0\\\\\n",
       "\t 1.419271 & Asian or Pacific Islander &  6\\\\\n",
       "\t 1.375722 & Asian or Pacific Islander &  2\\\\\n",
       "\t 1.332268 & Asian or Pacific Islander &  1\\\\\n",
       "\t 1.476196 & Asian or Pacific Islander &  4\\\\\n",
       "\t 1.276894 & Asian or Pacific Islander & 12\\\\\n",
       "\t 1.476196 & Asian or Pacific Islander & 26\\\\\n",
       "\t 1.307701 & Asian or Pacific Islander &  1\\\\\n",
       "\t 1.476196 & Asian or Pacific Islander & 11\\\\\n",
       "\t 1.332268 & Asian or Pacific Islander &  2\\\\\n",
       "\t 1.332268 & Asian or Pacific Islander &  1\\\\\n",
       "\\end{tabular}\n"
      ],
      "text/markdown": [
       "\n",
       "A data.frame: 49 × 3\n",
       "\n",
       "| DISCWT &lt;dbl&gt; | RACE &lt;fct&gt; | LOS &lt;int&gt; |\n",
       "|---|---|---|\n",
       "| 1.843069 | Asian or Pacific Islander | 22 |\n",
       "| 1.393260 | Asian or Pacific Islander | 12 |\n",
       "| 1.393260 | Asian or Pacific Islander | 12 |\n",
       "| 1.410774 | Asian or Pacific Islander |  3 |\n",
       "| 1.803242 | Asian or Pacific Islander |  6 |\n",
       "| 1.443080 | Asian or Pacific Islander | 13 |\n",
       "| 1.435720 | Asian or Pacific Islander | 26 |\n",
       "| 1.435720 | Asian or Pacific Islander |  9 |\n",
       "| 1.843069 | Asian or Pacific Islander |  5 |\n",
       "| 1.393260 | Asian or Pacific Islander |  3 |\n",
       "| 1.453931 | Asian or Pacific Islander |  7 |\n",
       "| 1.803242 | Asian or Pacific Islander | 19 |\n",
       "| 1.614416 | Asian or Pacific Islander |  1 |\n",
       "| 1.614416 | Asian or Pacific Islander |  7 |\n",
       "| 1.614416 | Asian or Pacific Islander |  1 |\n",
       "| 1.292747 | Asian or Pacific Islander | 16 |\n",
       "| 1.614416 | Asian or Pacific Islander |  4 |\n",
       "| 1.366650 | Asian or Pacific Islander |  2 |\n",
       "| 1.292747 | Asian or Pacific Islander |  8 |\n",
       "| 1.366650 | Asian or Pacific Islander |  8 |\n",
       "| 1.614416 | Asian or Pacific Islander | 16 |\n",
       "| 1.366650 | Asian or Pacific Islander |  2 |\n",
       "| 1.614416 | Asian or Pacific Islander | 15 |\n",
       "| 1.448493 | Asian or Pacific Islander |  2 |\n",
       "| 1.614416 | Asian or Pacific Islander |  7 |\n",
       "| 1.292747 | Asian or Pacific Islander |  1 |\n",
       "| 1.614416 | Asian or Pacific Islander | 26 |\n",
       "| 1.341116 | Asian or Pacific Islander |  1 |\n",
       "| 1.614416 | Asian or Pacific Islander |  9 |\n",
       "| 1.322682 | Asian or Pacific Islander |  5 |\n",
       "| 1.322682 | Asian or Pacific Islander | 12 |\n",
       "| 1.322682 | Asian or Pacific Islander | 24 |\n",
       "| 1.476196 | Asian or Pacific Islander |  6 |\n",
       "| 1.241312 | Asian or Pacific Islander |  5 |\n",
       "| 1.310778 | Asian or Pacific Islander |  1 |\n",
       "| 1.419271 | Asian or Pacific Islander |  6 |\n",
       "| 1.419271 | Asian or Pacific Islander |  0 |\n",
       "| 1.419271 | Asian or Pacific Islander |  2 |\n",
       "| 1.419271 | Asian or Pacific Islander |  0 |\n",
       "| 1.419271 | Asian or Pacific Islander |  6 |\n",
       "| 1.375722 | Asian or Pacific Islander |  2 |\n",
       "| 1.332268 | Asian or Pacific Islander |  1 |\n",
       "| 1.476196 | Asian or Pacific Islander |  4 |\n",
       "| 1.276894 | Asian or Pacific Islander | 12 |\n",
       "| 1.476196 | Asian or Pacific Islander | 26 |\n",
       "| 1.307701 | Asian or Pacific Islander |  1 |\n",
       "| 1.476196 | Asian or Pacific Islander | 11 |\n",
       "| 1.332268 | Asian or Pacific Islander |  2 |\n",
       "| 1.332268 | Asian or Pacific Islander |  1 |\n",
       "\n"
      ],
      "text/plain": [
       "   DISCWT   RACE                      LOS\n",
       "1  1.843069 Asian or Pacific Islander 22 \n",
       "2  1.393260 Asian or Pacific Islander 12 \n",
       "3  1.393260 Asian or Pacific Islander 12 \n",
       "4  1.410774 Asian or Pacific Islander  3 \n",
       "5  1.803242 Asian or Pacific Islander  6 \n",
       "6  1.443080 Asian or Pacific Islander 13 \n",
       "7  1.435720 Asian or Pacific Islander 26 \n",
       "8  1.435720 Asian or Pacific Islander  9 \n",
       "9  1.843069 Asian or Pacific Islander  5 \n",
       "10 1.393260 Asian or Pacific Islander  3 \n",
       "11 1.453931 Asian or Pacific Islander  7 \n",
       "12 1.803242 Asian or Pacific Islander 19 \n",
       "13 1.614416 Asian or Pacific Islander  1 \n",
       "14 1.614416 Asian or Pacific Islander  7 \n",
       "15 1.614416 Asian or Pacific Islander  1 \n",
       "16 1.292747 Asian or Pacific Islander 16 \n",
       "17 1.614416 Asian or Pacific Islander  4 \n",
       "18 1.366650 Asian or Pacific Islander  2 \n",
       "19 1.292747 Asian or Pacific Islander  8 \n",
       "20 1.366650 Asian or Pacific Islander  8 \n",
       "21 1.614416 Asian or Pacific Islander 16 \n",
       "22 1.366650 Asian or Pacific Islander  2 \n",
       "23 1.614416 Asian or Pacific Islander 15 \n",
       "24 1.448493 Asian or Pacific Islander  2 \n",
       "25 1.614416 Asian or Pacific Islander  7 \n",
       "26 1.292747 Asian or Pacific Islander  1 \n",
       "27 1.614416 Asian or Pacific Islander 26 \n",
       "28 1.341116 Asian or Pacific Islander  1 \n",
       "29 1.614416 Asian or Pacific Islander  9 \n",
       "30 1.322682 Asian or Pacific Islander  5 \n",
       "31 1.322682 Asian or Pacific Islander 12 \n",
       "32 1.322682 Asian or Pacific Islander 24 \n",
       "33 1.476196 Asian or Pacific Islander  6 \n",
       "34 1.241312 Asian or Pacific Islander  5 \n",
       "35 1.310778 Asian or Pacific Islander  1 \n",
       "36 1.419271 Asian or Pacific Islander  6 \n",
       "37 1.419271 Asian or Pacific Islander  0 \n",
       "38 1.419271 Asian or Pacific Islander  2 \n",
       "39 1.419271 Asian or Pacific Islander  0 \n",
       "40 1.419271 Asian or Pacific Islander  6 \n",
       "41 1.375722 Asian or Pacific Islander  2 \n",
       "42 1.332268 Asian or Pacific Islander  1 \n",
       "43 1.476196 Asian or Pacific Islander  4 \n",
       "44 1.276894 Asian or Pacific Islander 12 \n",
       "45 1.476196 Asian or Pacific Islander 26 \n",
       "46 1.307701 Asian or Pacific Islander  1 \n",
       "47 1.476196 Asian or Pacific Islander 11 \n",
       "48 1.332268 Asian or Pacific Islander  2 \n",
       "49 1.332268 Asian or Pacific Islander  1 "
      ]
     },
     "metadata": {},
     "output_type": "display_data"
    }
   ],
   "source": [
    "# dat6c = filter(dat6, RACE=='Asian or Pacific Islander')\n",
    "# dim(dat6c)\n",
    "# dat6c[, c('DISCWT', 'RACE', 'LOS')]"
   ]
  },
  {
   "cell_type": "code",
   "execution_count": 16,
   "id": "7b0d5edf",
   "metadata": {},
   "outputs": [
    {
     "data": {
      "text/plain": [
       "Child_abuse\n",
       "  Non-SCAN       SCAN \n",
       "417946.935   8189.631 "
      ]
     },
     "metadata": {},
     "output_type": "display_data"
    },
    {
     "data": {
      "text/html": [
       "<strong>X-squared:</strong> 0"
      ],
      "text/latex": [
       "\\textbf{X-squared:} 0"
      ],
      "text/markdown": [
       "**X-squared:** 0"
      ],
      "text/plain": [
       "X-squared \n",
       "        0 "
      ]
     },
     "metadata": {},
     "output_type": "display_data"
    },
    {
     "data": {
      "text/html": [
       "<strong>gSCAN:</strong> 0"
      ],
      "text/latex": [
       "\\textbf{gSCAN:} 0"
      ],
      "text/markdown": [
       "**gSCAN:** 0"
      ],
      "text/plain": [
       "gSCAN \n",
       "    0 "
      ]
     },
     "metadata": {},
     "output_type": "display_data"
    }
   ],
   "source": [
    "# Table 1: Demographics\n",
    "design = dat.w\n",
    "categorical_variables <- c('ADMIT_TYPE', 'AGEGROUP', 'ZIPINC_QRTL', 'SEX', 'PAYER',\n",
    "                           'HOSP_BEDSIZE', 'HOSP_LOCTEACH', 'HOSP_REGION', 'NACHTYPE',\n",
    "                           'RACE', 'SEVGROUP', 'DIED', 'DIED_ED', 'DIED_IN')\n",
    "numerical_variables <- c('LOS',' totcost', 'AGE', 'niss', 'COSTPD')\n",
    "svy_freq_table(design, categorical_variables, numerical_variables, \"Child_abuse\", \"Table 1 (formatted)\", mean = TRUE)\n",
    "\n",
    "# Significance testing\n",
    "svytable(~Child_abuse, design)\n",
    "signif(svychisq(~Child_abuse+PAYER, design, \"F\")$p.value, 3)\n",
    "signif(svyranktest(niss~Child_abuse, design, \"wilcoxon\")$p.value, 3)\n",
    "\n",
    "# Table 2: Race demographics (SCAN only)\n",
    "design = subset(dat.w, Child_abuse == 'SCAN')\n",
    "categorical_variables <- c('ADMIT_TYPE', 'AGEGROUP', 'ZIPINC_QRTL', 'SEX', 'PAYER',\n",
    "                           'HOSP_BEDSIZE', 'HOSP_LOCTEACH', 'HOSP_REGION', 'NACHTYPE',\n",
    "                           'SEVGROUP', 'DIED', 'DIED_ED', 'DIED_IN')\n",
    "numerical_variables <- c('LOS',' totcost', 'AGE', 'niss', 'COSTPD')\n",
    "svy_freq_table(design, categorical_variables, numerical_variables, \"RACE\", \"Table 2 (formatted)\", mean = TRUE)\n"
   ]
  },
  {
   "cell_type": "code",
   "execution_count": 37,
   "id": "91c20bd2",
   "metadata": {},
   "outputs": [
    {
     "data": {
      "text/html": [
       "<style>\n",
       ".list-inline {list-style: none; margin:0; padding: 0}\n",
       ".list-inline>li {display: inline-block}\n",
       ".list-inline>li:not(:last-child)::after {content: \"\\00b7\"; padding: 0 .5ex}\n",
       "</style>\n",
       "<ol class=list-inline><li>'DISCWT'</li><li>'AGE'</li><li>'RACE'</li><li>'YEAR'</li><li>'ZIPINC_QRTL'</li><li>'FEMALE'</li><li>'PAY1'</li><li>'totcost'</li><li>'Child_abuse'</li><li>'DIED'</li><li>'LOS'</li><li>'ATYPE'</li><li>'RECNUM'</li><li>'xiss'</li><li>'niss'</li><li>'MDC'</li><li>'HOSP_LOCTEACH'</li><li>'HOSP_BEDSIZE'</li><li>'HOSP_REGION'</li><li>'NACHTYPE'</li><li>'HOSP_CONTROL'</li><li>'event_primdx_traumaICD9'</li><li>'event_anydx_traumaICD9'</li><li>'AGEGROUP'</li><li>'SEVGROUP'</li><li>'DIED_ED'</li><li>'DIED_IN'</li><li>'SEX'</li><li>'PAYER'</li><li>'ADMIT_TYPE'</li><li>'Child_abuse_indicator'</li><li>'PRIMARY_TRAUMA'</li><li>'ANY_TRAUMA'</li><li>'COSTPD'</li></ol>\n"
      ],
      "text/latex": [
       "\\begin{enumerate*}\n",
       "\\item 'DISCWT'\n",
       "\\item 'AGE'\n",
       "\\item 'RACE'\n",
       "\\item 'YEAR'\n",
       "\\item 'ZIPINC\\_QRTL'\n",
       "\\item 'FEMALE'\n",
       "\\item 'PAY1'\n",
       "\\item 'totcost'\n",
       "\\item 'Child\\_abuse'\n",
       "\\item 'DIED'\n",
       "\\item 'LOS'\n",
       "\\item 'ATYPE'\n",
       "\\item 'RECNUM'\n",
       "\\item 'xiss'\n",
       "\\item 'niss'\n",
       "\\item 'MDC'\n",
       "\\item 'HOSP\\_LOCTEACH'\n",
       "\\item 'HOSP\\_BEDSIZE'\n",
       "\\item 'HOSP\\_REGION'\n",
       "\\item 'NACHTYPE'\n",
       "\\item 'HOSP\\_CONTROL'\n",
       "\\item 'event\\_primdx\\_traumaICD9'\n",
       "\\item 'event\\_anydx\\_traumaICD9'\n",
       "\\item 'AGEGROUP'\n",
       "\\item 'SEVGROUP'\n",
       "\\item 'DIED\\_ED'\n",
       "\\item 'DIED\\_IN'\n",
       "\\item 'SEX'\n",
       "\\item 'PAYER'\n",
       "\\item 'ADMIT\\_TYPE'\n",
       "\\item 'Child\\_abuse\\_indicator'\n",
       "\\item 'PRIMARY\\_TRAUMA'\n",
       "\\item 'ANY\\_TRAUMA'\n",
       "\\item 'COSTPD'\n",
       "\\end{enumerate*}\n"
      ],
      "text/markdown": [
       "1. 'DISCWT'\n",
       "2. 'AGE'\n",
       "3. 'RACE'\n",
       "4. 'YEAR'\n",
       "5. 'ZIPINC_QRTL'\n",
       "6. 'FEMALE'\n",
       "7. 'PAY1'\n",
       "8. 'totcost'\n",
       "9. 'Child_abuse'\n",
       "10. 'DIED'\n",
       "11. 'LOS'\n",
       "12. 'ATYPE'\n",
       "13. 'RECNUM'\n",
       "14. 'xiss'\n",
       "15. 'niss'\n",
       "16. 'MDC'\n",
       "17. 'HOSP_LOCTEACH'\n",
       "18. 'HOSP_BEDSIZE'\n",
       "19. 'HOSP_REGION'\n",
       "20. 'NACHTYPE'\n",
       "21. 'HOSP_CONTROL'\n",
       "22. 'event_primdx_traumaICD9'\n",
       "23. 'event_anydx_traumaICD9'\n",
       "24. 'AGEGROUP'\n",
       "25. 'SEVGROUP'\n",
       "26. 'DIED_ED'\n",
       "27. 'DIED_IN'\n",
       "28. 'SEX'\n",
       "29. 'PAYER'\n",
       "30. 'ADMIT_TYPE'\n",
       "31. 'Child_abuse_indicator'\n",
       "32. 'PRIMARY_TRAUMA'\n",
       "33. 'ANY_TRAUMA'\n",
       "34. 'COSTPD'\n",
       "\n",
       "\n"
      ],
      "text/plain": [
       " [1] \"DISCWT\"                  \"AGE\"                    \n",
       " [3] \"RACE\"                    \"YEAR\"                   \n",
       " [5] \"ZIPINC_QRTL\"             \"FEMALE\"                 \n",
       " [7] \"PAY1\"                    \"totcost\"                \n",
       " [9] \"Child_abuse\"             \"DIED\"                   \n",
       "[11] \"LOS\"                     \"ATYPE\"                  \n",
       "[13] \"RECNUM\"                  \"xiss\"                   \n",
       "[15] \"niss\"                    \"MDC\"                    \n",
       "[17] \"HOSP_LOCTEACH\"           \"HOSP_BEDSIZE\"           \n",
       "[19] \"HOSP_REGION\"             \"NACHTYPE\"               \n",
       "[21] \"HOSP_CONTROL\"            \"event_primdx_traumaICD9\"\n",
       "[23] \"event_anydx_traumaICD9\"  \"AGEGROUP\"               \n",
       "[25] \"SEVGROUP\"                \"DIED_ED\"                \n",
       "[27] \"DIED_IN\"                 \"SEX\"                    \n",
       "[29] \"PAYER\"                   \"ADMIT_TYPE\"             \n",
       "[31] \"Child_abuse_indicator\"   \"PRIMARY_TRAUMA\"         \n",
       "[33] \"ANY_TRAUMA\"              \"COSTPD\"                 "
      ]
     },
     "metadata": {},
     "output_type": "display_data"
    }
   ],
   "source": [
    "colnames(dat)"
   ]
  },
  {
   "cell_type": "code",
   "execution_count": 121,
   "id": "1c55f900",
   "metadata": {},
   "outputs": [
    {
     "data": {
      "text/plain": [
       "               RACE\n",
       "ADMIT_TYPE            White       Black    Hispanic Asian or Pacific Islander\n",
       "  Emergency     1239.867336  703.456753  372.041582                 10.332628\n",
       "  Urgent         425.460621  157.010010  155.523109                 11.050515\n",
       "  Elective        68.346589   39.853474   30.665979                  0.000000\n",
       "  Newborn          0.000000    0.000000    0.000000                  0.000000\n",
       "  Trauma Center  130.947301   31.615955   53.178089                  1.443080\n",
       "  Other            0.000000    1.614416    0.000000                  0.000000\n",
       "               RACE\n",
       "ADMIT_TYPE      Native American       Other\n",
       "  Emergency           22.640483  146.134139\n",
       "  Urgent              10.789412   39.848052\n",
       "  Elective             0.000000   16.794893\n",
       "  Newborn              0.000000    1.803242\n",
       "  Trauma Center       11.841095    6.073049\n",
       "  Other                0.000000    0.000000"
      ]
     },
     "metadata": {},
     "output_type": "display_data"
    },
    {
     "data": {
      "text/html": [
       "<table class=\"dataframe\">\n",
       "<caption>A matrix: 1 × 1 of type dbl</caption>\n",
       "<tbody>\n",
       "\t<tr><td>1.01e-07</td></tr>\n",
       "</tbody>\n",
       "</table>\n"
      ],
      "text/latex": [
       "A matrix: 1 × 1 of type dbl\n",
       "\\begin{tabular}{l}\n",
       "\t 1.01e-07\\\\\n",
       "\\end{tabular}\n"
      ],
      "text/markdown": [
       "\n",
       "A matrix: 1 × 1 of type dbl\n",
       "\n",
       "| 1.01e-07 |\n",
       "\n"
      ],
      "text/plain": [
       "     [,1]    \n",
       "[1,] 1.01e-07"
      ]
     },
     "metadata": {},
     "output_type": "display_data"
    }
   ],
   "source": [
    "# Significance testing\n",
    "svytable(~ADMIT_TYPE+RACE, design)\n",
    "# signif(svychisq(~ADMIT_TYPE+RACE, design, \"F\")$p.value, 3)\n",
    "signif(svyranktest(totcost~RACE, design, \"wilcoxon\")$p.value, 3)"
   ]
  },
  {
   "cell_type": "code",
   "execution_count": 203,
   "id": "7daadf5f",
   "metadata": {},
   "outputs": [
    {
     "name": "stderr",
     "output_type": "stream",
     "text": [
      "Warning message in eval(family$initialize):\n",
      "“non-integer #successes in a binomial glm!”\n"
     ]
    },
    {
     "data": {
      "text/plain": [
       "\n",
       "Call:\n",
       "svyglm(formula = Child_abuse_indicator ~ RACE, design = dat.w, \n",
       "    family = \"binomial\", na.action = na.omit)\n",
       "\n",
       "Survey design:\n",
       "svydesign(ids = ~1, data = dat, weights = dat$DISCWT)\n",
       "\n",
       "Coefficients:\n",
       "                              Estimate Std. Error  t value Pr(>|t|)    \n",
       "(Intercept)                   -4.09942    0.02211 -185.382  < 2e-16 ***\n",
       "RACEBlack                      0.62304    0.03862   16.134  < 2e-16 ***\n",
       "RACEHispanic                   0.19025    0.04064    4.681 2.85e-06 ***\n",
       "RACEAsian or Pacific Islander -0.55007    0.14601   -3.767 0.000165 ***\n",
       "RACENative American            0.23588    0.14556    1.620 0.105129    \n",
       "RACEOther                      0.41415    0.06366    6.506 7.73e-11 ***\n",
       "---\n",
       "Signif. codes:  0 ‘***’ 0.001 ‘**’ 0.01 ‘*’ 0.05 ‘.’ 0.1 ‘ ’ 1\n",
       "\n",
       "(Dispersion parameter for binomial family taken to be 1.000037)\n",
       "\n",
       "Number of Fisher Scoring iterations: 7\n"
      ]
     },
     "metadata": {},
     "output_type": "display_data"
    },
    {
     "data": {
      "text/html": [
       "<table class=\"dataframe\">\n",
       "<caption>A data.frame: 6 × 4</caption>\n",
       "<thead>\n",
       "\t<tr><th></th><th scope=col>OR</th><th scope=col>X2.5..</th><th scope=col>X97.5..</th><th scope=col>P_value</th></tr>\n",
       "\t<tr><th></th><th scope=col>&lt;dbl&gt;</th><th scope=col>&lt;dbl&gt;</th><th scope=col>&lt;dbl&gt;</th><th scope=col>&lt;chr&gt;</th></tr>\n",
       "</thead>\n",
       "<tbody>\n",
       "\t<tr><th scope=row>(Intercept)</th><td>0.01658224</td><td>0.01587889</td><td>0.01731675</td><td><span style=white-space:pre-wrap>&lt;0.01            </span></td></tr>\n",
       "\t<tr><th scope=row>RACEBlack</th><td>1.86458489</td><td>1.72866962</td><td>2.01118640</td><td><span style=white-space:pre-wrap>&lt;0.01            </span></td></tr>\n",
       "\t<tr><th scope=row>RACEHispanic</th><td>1.20955258</td><td>1.11694201</td><td>1.30984190</td><td><span style=white-space:pre-wrap>&lt;0.01            </span></td></tr>\n",
       "\t<tr><th scope=row>RACEAsian or Pacific Islander</th><td>0.57690844</td><td>0.43333405</td><td>0.76805261</td><td><span style=white-space:pre-wrap>&lt;0.01            </span></td></tr>\n",
       "\t<tr><th scope=row>RACENative American</th><td>1.26602530</td><td>0.95178415</td><td>1.68401633</td><td>0.105129499415834</td></tr>\n",
       "\t<tr><th scope=row>RACEOther</th><td>1.51308407</td><td>1.33560883</td><td>1.71414215</td><td><span style=white-space:pre-wrap>&lt;0.01            </span></td></tr>\n",
       "</tbody>\n",
       "</table>\n"
      ],
      "text/latex": [
       "A data.frame: 6 × 4\n",
       "\\begin{tabular}{r|llll}\n",
       "  & OR & X2.5.. & X97.5.. & P\\_value\\\\\n",
       "  & <dbl> & <dbl> & <dbl> & <chr>\\\\\n",
       "\\hline\n",
       "\t(Intercept) & 0.01658224 & 0.01587889 & 0.01731675 & <0.01            \\\\\n",
       "\tRACEBlack & 1.86458489 & 1.72866962 & 2.01118640 & <0.01            \\\\\n",
       "\tRACEHispanic & 1.20955258 & 1.11694201 & 1.30984190 & <0.01            \\\\\n",
       "\tRACEAsian or Pacific Islander & 0.57690844 & 0.43333405 & 0.76805261 & <0.01            \\\\\n",
       "\tRACENative American & 1.26602530 & 0.95178415 & 1.68401633 & 0.105129499415834\\\\\n",
       "\tRACEOther & 1.51308407 & 1.33560883 & 1.71414215 & <0.01            \\\\\n",
       "\\end{tabular}\n"
      ],
      "text/markdown": [
       "\n",
       "A data.frame: 6 × 4\n",
       "\n",
       "| <!--/--> | OR &lt;dbl&gt; | X2.5.. &lt;dbl&gt; | X97.5.. &lt;dbl&gt; | P_value &lt;chr&gt; |\n",
       "|---|---|---|---|---|\n",
       "| (Intercept) | 0.01658224 | 0.01587889 | 0.01731675 | &lt;0.01             |\n",
       "| RACEBlack | 1.86458489 | 1.72866962 | 2.01118640 | &lt;0.01             |\n",
       "| RACEHispanic | 1.20955258 | 1.11694201 | 1.30984190 | &lt;0.01             |\n",
       "| RACEAsian or Pacific Islander | 0.57690844 | 0.43333405 | 0.76805261 | &lt;0.01             |\n",
       "| RACENative American | 1.26602530 | 0.95178415 | 1.68401633 | 0.105129499415834 |\n",
       "| RACEOther | 1.51308407 | 1.33560883 | 1.71414215 | &lt;0.01             |\n",
       "\n"
      ],
      "text/plain": [
       "                              OR         X2.5..     X97.5..   \n",
       "(Intercept)                   0.01658224 0.01587889 0.01731675\n",
       "RACEBlack                     1.86458489 1.72866962 2.01118640\n",
       "RACEHispanic                  1.20955258 1.11694201 1.30984190\n",
       "RACEAsian or Pacific Islander 0.57690844 0.43333405 0.76805261\n",
       "RACENative American           1.26602530 0.95178415 1.68401633\n",
       "RACEOther                     1.51308407 1.33560883 1.71414215\n",
       "                              P_value          \n",
       "(Intercept)                   <0.01            \n",
       "RACEBlack                     <0.01            \n",
       "RACEHispanic                  <0.01            \n",
       "RACEAsian or Pacific Islander <0.01            \n",
       "RACENative American           0.105129499415834\n",
       "RACEOther                     <0.01            "
      ]
     },
     "metadata": {},
     "output_type": "display_data"
    },
    {
     "name": "stderr",
     "output_type": "stream",
     "text": [
      "Warning message in eval(family$initialize):\n",
      "“non-integer #successes in a binomial glm!”\n"
     ]
    },
    {
     "data": {
      "text/plain": [
       "\n",
       "Call:\n",
       "svyglm(formula = Child_abuse_indicator ~ RACE + SEX + AGEGROUP + \n",
       "    PAYER + ZIPINC_QRTL + HOSP_LOCTEACH + HOSP_BEDSIZE + HOSP_REGION + \n",
       "    NACHTYPE, design = dat.w, family = \"binomial\", na.action = na.omit)\n",
       "\n",
       "Survey design:\n",
       "svydesign(ids = ~1, data = dat, weights = dat$DISCWT)\n",
       "\n",
       "Coefficients:\n",
       "                                   Estimate Std. Error t value Pr(>|t|)    \n",
       "(Intercept)                        -7.02021    0.22023 -31.877  < 2e-16 ***\n",
       "RACEBlack                           0.18400    0.06206   2.965 0.003027 ** \n",
       "RACEHispanic                       -0.47862    0.06541  -7.318 2.54e-13 ***\n",
       "RACEAsian or Pacific Islander      -0.69280    0.20204  -3.429 0.000606 ***\n",
       "RACENative American                -0.33362    0.25349  -1.316 0.188147    \n",
       "RACEOther                          -0.15985    0.09119  -1.753 0.079603 .  \n",
       "SEXFemale                           0.09302    0.04598   2.023 0.043080 *  \n",
       "AGEGROUP8-11                        0.11978    0.21730   0.551 0.581480    \n",
       "AGEGROUP4-7                         1.12335    0.14932   7.523 5.38e-14 ***\n",
       "AGEGROUP1-3                         2.98394    0.11778  25.336  < 2e-16 ***\n",
       "AGEGROUP<1                          4.50268    0.11372  39.594  < 2e-16 ***\n",
       "PAYERPrivate                       -1.14192    0.06359 -17.958  < 2e-16 ***\n",
       "PAYERSelf-pay                      -0.66646    0.13808  -4.827 1.39e-06 ***\n",
       "PAYEROther                         -0.04501    0.09949  -0.452 0.650988    \n",
       "ZIPINC_QRTL3                        0.36341    0.07982   4.553 5.30e-06 ***\n",
       "ZIPINC_QRTL2                        0.33782    0.07987   4.230 2.34e-05 ***\n",
       "ZIPINC_QRTL1                        0.28531    0.08114   3.516 0.000438 ***\n",
       "HOSP_LOCTEACHUrban nonteaching     -0.18143    0.15819  -1.147 0.251436    \n",
       "HOSP_LOCTEACHUrban teaching         0.20554    0.15337   1.340 0.180199    \n",
       "HOSP_BEDSIZEMedium                  0.10755    0.07794   1.380 0.167622    \n",
       "HOSP_BEDSIZELarge                   0.25896    0.08993   2.880 0.003983 ** \n",
       "HOSP_REGIONMidwest                  0.43750    0.07206   6.072 1.27e-09 ***\n",
       "HOSP_REGIONSouth                   -0.17068    0.06743  -2.531 0.011364 *  \n",
       "HOSP_REGIONWest                    -0.10745    0.07367  -1.459 0.144674    \n",
       "NACHTYPEChildren's General          1.19925    0.07451  16.095  < 2e-16 ***\n",
       "NACHTYPEChildren's Specialty        1.25797    0.63619   1.977 0.048005 *  \n",
       "NACHTYPEChildren's unit of General  0.38596    0.07110   5.428 5.70e-08 ***\n",
       "---\n",
       "Signif. codes:  0 ‘***’ 0.001 ‘**’ 0.01 ‘*’ 0.05 ‘.’ 0.1 ‘ ’ 1\n",
       "\n",
       "(Dispersion parameter for binomial family taken to be 1.291128)\n",
       "\n",
       "Number of Fisher Scoring iterations: 9\n"
      ]
     },
     "metadata": {},
     "output_type": "display_data"
    },
    {
     "data": {
      "text/html": [
       "<table class=\"dataframe\">\n",
       "<caption>A data.frame: 27 × 4</caption>\n",
       "<thead>\n",
       "\t<tr><th></th><th scope=col>OR</th><th scope=col>X2.5..</th><th scope=col>X97.5..</th><th scope=col>P_value</th></tr>\n",
       "\t<tr><th></th><th scope=col>&lt;dbl&gt;</th><th scope=col>&lt;dbl&gt;</th><th scope=col>&lt;dbl&gt;</th><th scope=col>&lt;chr&gt;</th></tr>\n",
       "</thead>\n",
       "<tbody>\n",
       "\t<tr><th scope=row>(Intercept)</th><td>8.936374e-04</td><td>5.803664e-04</td><td>1.376006e-03</td><td><span style=white-space:pre-wrap>&lt;0.01             </span></td></tr>\n",
       "\t<tr><th scope=row>RACEBlack</th><td>1.202011e+00</td><td>1.064355e+00</td><td>1.357471e+00</td><td><span style=white-space:pre-wrap>&lt;0.01             </span></td></tr>\n",
       "\t<tr><th scope=row>RACEHispanic</th><td>6.196388e-01</td><td>5.450857e-01</td><td>7.043888e-01</td><td><span style=white-space:pre-wrap>&lt;0.01             </span></td></tr>\n",
       "\t<tr><th scope=row>RACEAsian or Pacific Islander</th><td>5.001757e-01</td><td>3.366263e-01</td><td>7.431856e-01</td><td><span style=white-space:pre-wrap>&lt;0.01             </span></td></tr>\n",
       "\t<tr><th scope=row>RACENative American</th><td>7.163254e-01</td><td>4.358466e-01</td><td>1.177300e+00</td><td>0.18814675650833  </td></tr>\n",
       "\t<tr><th scope=row>RACEOther</th><td>8.522726e-01</td><td>7.127886e-01</td><td>1.019052e+00</td><td>0.0796026174311774</td></tr>\n",
       "\t<tr><th scope=row>SEXFemale</th><td>1.097482e+00</td><td>1.002900e+00</td><td>1.200985e+00</td><td>0.0430803606423704</td></tr>\n",
       "\t<tr><th scope=row>AGEGROUP8-11</th><td>1.127252e+00</td><td>7.362930e-01</td><td>1.725804e+00</td><td>0.581480368163245 </td></tr>\n",
       "\t<tr><th scope=row>AGEGROUP4-7</th><td>3.075133e+00</td><td>2.294884e+00</td><td>4.120661e+00</td><td><span style=white-space:pre-wrap>&lt;0.01             </span></td></tr>\n",
       "\t<tr><th scope=row>AGEGROUP1-3</th><td>1.976559e+01</td><td>1.569126e+01</td><td>2.489784e+01</td><td><span style=white-space:pre-wrap>&lt;0.01             </span></td></tr>\n",
       "\t<tr><th scope=row>AGEGROUP&lt;1</th><td>9.025909e+01</td><td>7.222550e+01</td><td>1.127954e+02</td><td><span style=white-space:pre-wrap>&lt;0.01             </span></td></tr>\n",
       "\t<tr><th scope=row>PAYERPrivate</th><td>3.192044e-01</td><td>2.818006e-01</td><td>3.615729e-01</td><td><span style=white-space:pre-wrap>&lt;0.01             </span></td></tr>\n",
       "\t<tr><th scope=row>PAYERSelf-pay</th><td>5.135247e-01</td><td>3.917689e-01</td><td>6.731205e-01</td><td><span style=white-space:pre-wrap>&lt;0.01             </span></td></tr>\n",
       "\t<tr><th scope=row>PAYEROther</th><td>9.559891e-01</td><td>7.866210e-01</td><td>1.161824e+00</td><td>0.650987850603435 </td></tr>\n",
       "\t<tr><th scope=row>ZIPINC_QRTL3</th><td>1.438218e+00</td><td>1.229923e+00</td><td>1.681790e+00</td><td><span style=white-space:pre-wrap>&lt;0.01             </span></td></tr>\n",
       "\t<tr><th scope=row>ZIPINC_QRTL2</th><td>1.401889e+00</td><td>1.198753e+00</td><td>1.639448e+00</td><td><span style=white-space:pre-wrap>&lt;0.01             </span></td></tr>\n",
       "\t<tr><th scope=row>ZIPINC_QRTL1</th><td>1.330170e+00</td><td>1.134584e+00</td><td>1.559471e+00</td><td><span style=white-space:pre-wrap>&lt;0.01             </span></td></tr>\n",
       "\t<tr><th scope=row>HOSP_LOCTEACHUrban nonteaching</th><td>8.340781e-01</td><td>6.117171e-01</td><td>1.137268e+00</td><td>0.251436119963792 </td></tr>\n",
       "\t<tr><th scope=row>HOSP_LOCTEACHUrban teaching</th><td>1.228185e+00</td><td>9.093153e-01</td><td>1.658873e+00</td><td>0.180199303516245 </td></tr>\n",
       "\t<tr><th scope=row>HOSP_BEDSIZEMedium</th><td>1.113550e+00</td><td>9.557929e-01</td><td>1.297346e+00</td><td>0.167621993855621 </td></tr>\n",
       "\t<tr><th scope=row>HOSP_BEDSIZELarge</th><td>1.295580e+00</td><td>1.086212e+00</td><td>1.545304e+00</td><td><span style=white-space:pre-wrap>&lt;0.01             </span></td></tr>\n",
       "\t<tr><th scope=row>HOSP_REGIONMidwest</th><td>1.548825e+00</td><td>1.344832e+00</td><td>1.783761e+00</td><td><span style=white-space:pre-wrap>&lt;0.01             </span></td></tr>\n",
       "\t<tr><th scope=row>HOSP_REGIONSouth</th><td>8.430882e-01</td><td>7.387156e-01</td><td>9.622076e-01</td><td>0.0113642941690855</td></tr>\n",
       "\t<tr><th scope=row>HOSP_REGIONWest</th><td>8.981203e-01</td><td>7.773715e-01</td><td>1.037625e+00</td><td>0.1446744224219   </td></tr>\n",
       "\t<tr><th scope=row>NACHTYPEChildren's General</th><td>3.317625e+00</td><td>2.866846e+00</td><td>3.839285e+00</td><td><span style=white-space:pre-wrap>&lt;0.01             </span></td></tr>\n",
       "\t<tr><th scope=row>NACHTYPEChildren's Specialty</th><td>3.518278e+00</td><td>1.011105e+00</td><td>1.224232e+01</td><td>0.048005116720655 </td></tr>\n",
       "\t<tr><th scope=row>NACHTYPEChildren's unit of General</th><td>1.471026e+00</td><td>1.279669e+00</td><td>1.690997e+00</td><td><span style=white-space:pre-wrap>&lt;0.01             </span></td></tr>\n",
       "</tbody>\n",
       "</table>\n"
      ],
      "text/latex": [
       "A data.frame: 27 × 4\n",
       "\\begin{tabular}{r|llll}\n",
       "  & OR & X2.5.. & X97.5.. & P\\_value\\\\\n",
       "  & <dbl> & <dbl> & <dbl> & <chr>\\\\\n",
       "\\hline\n",
       "\t(Intercept) & 8.936374e-04 & 5.803664e-04 & 1.376006e-03 & <0.01             \\\\\n",
       "\tRACEBlack & 1.202011e+00 & 1.064355e+00 & 1.357471e+00 & <0.01             \\\\\n",
       "\tRACEHispanic & 6.196388e-01 & 5.450857e-01 & 7.043888e-01 & <0.01             \\\\\n",
       "\tRACEAsian or Pacific Islander & 5.001757e-01 & 3.366263e-01 & 7.431856e-01 & <0.01             \\\\\n",
       "\tRACENative American & 7.163254e-01 & 4.358466e-01 & 1.177300e+00 & 0.18814675650833  \\\\\n",
       "\tRACEOther & 8.522726e-01 & 7.127886e-01 & 1.019052e+00 & 0.0796026174311774\\\\\n",
       "\tSEXFemale & 1.097482e+00 & 1.002900e+00 & 1.200985e+00 & 0.0430803606423704\\\\\n",
       "\tAGEGROUP8-11 & 1.127252e+00 & 7.362930e-01 & 1.725804e+00 & 0.581480368163245 \\\\\n",
       "\tAGEGROUP4-7 & 3.075133e+00 & 2.294884e+00 & 4.120661e+00 & <0.01             \\\\\n",
       "\tAGEGROUP1-3 & 1.976559e+01 & 1.569126e+01 & 2.489784e+01 & <0.01             \\\\\n",
       "\tAGEGROUP<1 & 9.025909e+01 & 7.222550e+01 & 1.127954e+02 & <0.01             \\\\\n",
       "\tPAYERPrivate & 3.192044e-01 & 2.818006e-01 & 3.615729e-01 & <0.01             \\\\\n",
       "\tPAYERSelf-pay & 5.135247e-01 & 3.917689e-01 & 6.731205e-01 & <0.01             \\\\\n",
       "\tPAYEROther & 9.559891e-01 & 7.866210e-01 & 1.161824e+00 & 0.650987850603435 \\\\\n",
       "\tZIPINC\\_QRTL3 & 1.438218e+00 & 1.229923e+00 & 1.681790e+00 & <0.01             \\\\\n",
       "\tZIPINC\\_QRTL2 & 1.401889e+00 & 1.198753e+00 & 1.639448e+00 & <0.01             \\\\\n",
       "\tZIPINC\\_QRTL1 & 1.330170e+00 & 1.134584e+00 & 1.559471e+00 & <0.01             \\\\\n",
       "\tHOSP\\_LOCTEACHUrban nonteaching & 8.340781e-01 & 6.117171e-01 & 1.137268e+00 & 0.251436119963792 \\\\\n",
       "\tHOSP\\_LOCTEACHUrban teaching & 1.228185e+00 & 9.093153e-01 & 1.658873e+00 & 0.180199303516245 \\\\\n",
       "\tHOSP\\_BEDSIZEMedium & 1.113550e+00 & 9.557929e-01 & 1.297346e+00 & 0.167621993855621 \\\\\n",
       "\tHOSP\\_BEDSIZELarge & 1.295580e+00 & 1.086212e+00 & 1.545304e+00 & <0.01             \\\\\n",
       "\tHOSP\\_REGIONMidwest & 1.548825e+00 & 1.344832e+00 & 1.783761e+00 & <0.01             \\\\\n",
       "\tHOSP\\_REGIONSouth & 8.430882e-01 & 7.387156e-01 & 9.622076e-01 & 0.0113642941690855\\\\\n",
       "\tHOSP\\_REGIONWest & 8.981203e-01 & 7.773715e-01 & 1.037625e+00 & 0.1446744224219   \\\\\n",
       "\tNACHTYPEChildren's General & 3.317625e+00 & 2.866846e+00 & 3.839285e+00 & <0.01             \\\\\n",
       "\tNACHTYPEChildren's Specialty & 3.518278e+00 & 1.011105e+00 & 1.224232e+01 & 0.048005116720655 \\\\\n",
       "\tNACHTYPEChildren's unit of General & 1.471026e+00 & 1.279669e+00 & 1.690997e+00 & <0.01             \\\\\n",
       "\\end{tabular}\n"
      ],
      "text/markdown": [
       "\n",
       "A data.frame: 27 × 4\n",
       "\n",
       "| <!--/--> | OR &lt;dbl&gt; | X2.5.. &lt;dbl&gt; | X97.5.. &lt;dbl&gt; | P_value &lt;chr&gt; |\n",
       "|---|---|---|---|---|\n",
       "| (Intercept) | 8.936374e-04 | 5.803664e-04 | 1.376006e-03 | &lt;0.01              |\n",
       "| RACEBlack | 1.202011e+00 | 1.064355e+00 | 1.357471e+00 | &lt;0.01              |\n",
       "| RACEHispanic | 6.196388e-01 | 5.450857e-01 | 7.043888e-01 | &lt;0.01              |\n",
       "| RACEAsian or Pacific Islander | 5.001757e-01 | 3.366263e-01 | 7.431856e-01 | &lt;0.01              |\n",
       "| RACENative American | 7.163254e-01 | 4.358466e-01 | 1.177300e+00 | 0.18814675650833   |\n",
       "| RACEOther | 8.522726e-01 | 7.127886e-01 | 1.019052e+00 | 0.0796026174311774 |\n",
       "| SEXFemale | 1.097482e+00 | 1.002900e+00 | 1.200985e+00 | 0.0430803606423704 |\n",
       "| AGEGROUP8-11 | 1.127252e+00 | 7.362930e-01 | 1.725804e+00 | 0.581480368163245  |\n",
       "| AGEGROUP4-7 | 3.075133e+00 | 2.294884e+00 | 4.120661e+00 | &lt;0.01              |\n",
       "| AGEGROUP1-3 | 1.976559e+01 | 1.569126e+01 | 2.489784e+01 | &lt;0.01              |\n",
       "| AGEGROUP&lt;1 | 9.025909e+01 | 7.222550e+01 | 1.127954e+02 | &lt;0.01              |\n",
       "| PAYERPrivate | 3.192044e-01 | 2.818006e-01 | 3.615729e-01 | &lt;0.01              |\n",
       "| PAYERSelf-pay | 5.135247e-01 | 3.917689e-01 | 6.731205e-01 | &lt;0.01              |\n",
       "| PAYEROther | 9.559891e-01 | 7.866210e-01 | 1.161824e+00 | 0.650987850603435  |\n",
       "| ZIPINC_QRTL3 | 1.438218e+00 | 1.229923e+00 | 1.681790e+00 | &lt;0.01              |\n",
       "| ZIPINC_QRTL2 | 1.401889e+00 | 1.198753e+00 | 1.639448e+00 | &lt;0.01              |\n",
       "| ZIPINC_QRTL1 | 1.330170e+00 | 1.134584e+00 | 1.559471e+00 | &lt;0.01              |\n",
       "| HOSP_LOCTEACHUrban nonteaching | 8.340781e-01 | 6.117171e-01 | 1.137268e+00 | 0.251436119963792  |\n",
       "| HOSP_LOCTEACHUrban teaching | 1.228185e+00 | 9.093153e-01 | 1.658873e+00 | 0.180199303516245  |\n",
       "| HOSP_BEDSIZEMedium | 1.113550e+00 | 9.557929e-01 | 1.297346e+00 | 0.167621993855621  |\n",
       "| HOSP_BEDSIZELarge | 1.295580e+00 | 1.086212e+00 | 1.545304e+00 | &lt;0.01              |\n",
       "| HOSP_REGIONMidwest | 1.548825e+00 | 1.344832e+00 | 1.783761e+00 | &lt;0.01              |\n",
       "| HOSP_REGIONSouth | 8.430882e-01 | 7.387156e-01 | 9.622076e-01 | 0.0113642941690855 |\n",
       "| HOSP_REGIONWest | 8.981203e-01 | 7.773715e-01 | 1.037625e+00 | 0.1446744224219    |\n",
       "| NACHTYPEChildren's General | 3.317625e+00 | 2.866846e+00 | 3.839285e+00 | &lt;0.01              |\n",
       "| NACHTYPEChildren's Specialty | 3.518278e+00 | 1.011105e+00 | 1.224232e+01 | 0.048005116720655  |\n",
       "| NACHTYPEChildren's unit of General | 1.471026e+00 | 1.279669e+00 | 1.690997e+00 | &lt;0.01              |\n",
       "\n"
      ],
      "text/plain": [
       "                                   OR           X2.5..       X97.5..     \n",
       "(Intercept)                        8.936374e-04 5.803664e-04 1.376006e-03\n",
       "RACEBlack                          1.202011e+00 1.064355e+00 1.357471e+00\n",
       "RACEHispanic                       6.196388e-01 5.450857e-01 7.043888e-01\n",
       "RACEAsian or Pacific Islander      5.001757e-01 3.366263e-01 7.431856e-01\n",
       "RACENative American                7.163254e-01 4.358466e-01 1.177300e+00\n",
       "RACEOther                          8.522726e-01 7.127886e-01 1.019052e+00\n",
       "SEXFemale                          1.097482e+00 1.002900e+00 1.200985e+00\n",
       "AGEGROUP8-11                       1.127252e+00 7.362930e-01 1.725804e+00\n",
       "AGEGROUP4-7                        3.075133e+00 2.294884e+00 4.120661e+00\n",
       "AGEGROUP1-3                        1.976559e+01 1.569126e+01 2.489784e+01\n",
       "AGEGROUP<1                         9.025909e+01 7.222550e+01 1.127954e+02\n",
       "PAYERPrivate                       3.192044e-01 2.818006e-01 3.615729e-01\n",
       "PAYERSelf-pay                      5.135247e-01 3.917689e-01 6.731205e-01\n",
       "PAYEROther                         9.559891e-01 7.866210e-01 1.161824e+00\n",
       "ZIPINC_QRTL3                       1.438218e+00 1.229923e+00 1.681790e+00\n",
       "ZIPINC_QRTL2                       1.401889e+00 1.198753e+00 1.639448e+00\n",
       "ZIPINC_QRTL1                       1.330170e+00 1.134584e+00 1.559471e+00\n",
       "HOSP_LOCTEACHUrban nonteaching     8.340781e-01 6.117171e-01 1.137268e+00\n",
       "HOSP_LOCTEACHUrban teaching        1.228185e+00 9.093153e-01 1.658873e+00\n",
       "HOSP_BEDSIZEMedium                 1.113550e+00 9.557929e-01 1.297346e+00\n",
       "HOSP_BEDSIZELarge                  1.295580e+00 1.086212e+00 1.545304e+00\n",
       "HOSP_REGIONMidwest                 1.548825e+00 1.344832e+00 1.783761e+00\n",
       "HOSP_REGIONSouth                   8.430882e-01 7.387156e-01 9.622076e-01\n",
       "HOSP_REGIONWest                    8.981203e-01 7.773715e-01 1.037625e+00\n",
       "NACHTYPEChildren's General         3.317625e+00 2.866846e+00 3.839285e+00\n",
       "NACHTYPEChildren's Specialty       3.518278e+00 1.011105e+00 1.224232e+01\n",
       "NACHTYPEChildren's unit of General 1.471026e+00 1.279669e+00 1.690997e+00\n",
       "                                   P_value           \n",
       "(Intercept)                        <0.01             \n",
       "RACEBlack                          <0.01             \n",
       "RACEHispanic                       <0.01             \n",
       "RACEAsian or Pacific Islander      <0.01             \n",
       "RACENative American                0.18814675650833  \n",
       "RACEOther                          0.0796026174311774\n",
       "SEXFemale                          0.0430803606423704\n",
       "AGEGROUP8-11                       0.581480368163245 \n",
       "AGEGROUP4-7                        <0.01             \n",
       "AGEGROUP1-3                        <0.01             \n",
       "AGEGROUP<1                         <0.01             \n",
       "PAYERPrivate                       <0.01             \n",
       "PAYERSelf-pay                      <0.01             \n",
       "PAYEROther                         0.650987850603435 \n",
       "ZIPINC_QRTL3                       <0.01             \n",
       "ZIPINC_QRTL2                       <0.01             \n",
       "ZIPINC_QRTL1                       <0.01             \n",
       "HOSP_LOCTEACHUrban nonteaching     0.251436119963792 \n",
       "HOSP_LOCTEACHUrban teaching        0.180199303516245 \n",
       "HOSP_BEDSIZEMedium                 0.167621993855621 \n",
       "HOSP_BEDSIZELarge                  <0.01             \n",
       "HOSP_REGIONMidwest                 <0.01             \n",
       "HOSP_REGIONSouth                   0.0113642941690855\n",
       "HOSP_REGIONWest                    0.1446744224219   \n",
       "NACHTYPEChildren's General         <0.01             \n",
       "NACHTYPEChildren's Specialty       0.048005116720655 \n",
       "NACHTYPEChildren's unit of General <0.01             "
      ]
     },
     "metadata": {},
     "output_type": "display_data"
    }
   ],
   "source": [
    "# Create regressions: Linear if outcome is continuous, Logistic if outcome is categorical\n",
    "abuse_race = svyglm(Child_abuse_indicator ~ RACE, family = \"binomial\", design = dat.w, na.action = na.omit)\n",
    "summary(abuse_race)\n",
    "# exp(cbind(OR = coef(abuse_race), confint(abuse_race)))\n",
    "abuse_race_tb = data.frame(exp(cbind(OR = coef(abuse_race), confint(abuse_race))), P_value = summary(abuse_race)$coefficients[,4])\n",
    "abuse_race_tb[abuse_race_tb$P_value < 0.01, ]$P_value <- '<0.01'\n",
    "abuse_race_tb\n",
    "\n",
    "# abuse_socio = svyglm(Child_abuse_indicator ~ RACE  + SEX + AGEGROUP + PAYER + ZIPINC_QRTL+ HOSP_LOCTEACH + HOSP_BEDSIZE + HOSP_REGION + HOSP_CONTROL + NACHTYPE, family = \"binomial\", design = dat.w, na.action = na.omit)\n",
    "# summary(abuse_socio)\n",
    "# exp(cbind(OR = coef(abuse_socio), confint(abuse_socio)))\n",
    "\n",
    "\n",
    "# deleted hospital control\n",
    "abuse_socio_new = svyglm(Child_abuse_indicator ~ RACE  + SEX + AGEGROUP + PAYER + ZIPINC_QRTL+ HOSP_LOCTEACH + HOSP_BEDSIZE + HOSP_REGION + NACHTYPE, family = \"binomial\", design = dat.w, na.action = na.omit)\n",
    "summary(abuse_socio_new)\n",
    "# exp(cbind(OR = coef(abuse_socio_new), confint(abuse_socio_new)))\n",
    "abuse_socio_new_tb = data.frame(exp(cbind(OR = coef(abuse_socio_new), confint(abuse_socio_new))), P_value = summary(abuse_socio_new)$coefficients[,4])\n",
    "abuse_socio_new_tb[abuse_socio_new_tb$P_value < 0.01, ]$P_value <- '<0.01'\n",
    "abuse_socio_new_tb"
   ]
  },
  {
   "cell_type": "code",
   "execution_count": 204,
   "id": "156e8a2a",
   "metadata": {},
   "outputs": [
    {
     "data": {
      "text/plain": [
       "\n",
       "Call:\n",
       "svyglm(formula = LOS ~ SEVGROUP + RACE + SEX + AGEGROUP + PAYER + \n",
       "    ZIPINC_QRTL + HOSP_LOCTEACH + HOSP_BEDSIZE + HOSP_REGION + \n",
       "    NACHTYPE, design = dat.w, na.action = na.omit)\n",
       "\n",
       "Survey design:\n",
       "svydesign(ids = ~1, data = dat, weights = dat$DISCWT)\n",
       "\n",
       "Coefficients:\n",
       "                                   Estimate Std. Error t value Pr(>|t|)    \n",
       "(Intercept)                         9.49126    0.22691  41.827  < 2e-16 ***\n",
       "SEVGROUP16-24                      -4.89224    0.21084 -23.204  < 2e-16 ***\n",
       "SEVGROUP0-15                       -7.94228    0.19398 -40.944  < 2e-16 ***\n",
       "RACEBlack                           0.31536    0.07676   4.108 3.99e-05 ***\n",
       "RACEHispanic                       -0.10139    0.06272  -1.617 0.105951    \n",
       "RACEAsian or Pacific Islander       0.56057    0.20509   2.733 0.006271 ** \n",
       "RACENative American                 0.54635    0.29277   1.866 0.062028 .  \n",
       "RACEOther                           0.49923    0.13076   3.818 0.000135 ***\n",
       "SEXFemale                           0.31693    0.04794   6.611 3.83e-11 ***\n",
       "AGEGROUP8-11                       -0.55477    0.06333  -8.760  < 2e-16 ***\n",
       "AGEGROUP4-7                        -1.06193    0.04997 -21.251  < 2e-16 ***\n",
       "AGEGROUP1-3                        -0.96314    0.05801 -16.604  < 2e-16 ***\n",
       "AGEGROUP<1                          1.56468    0.15902   9.839  < 2e-16 ***\n",
       "PAYERPrivate                       -0.56233    0.05641  -9.969  < 2e-16 ***\n",
       "PAYERSelf-pay                      -1.17570    0.07797 -15.078  < 2e-16 ***\n",
       "PAYEROther                          0.18919    0.15047   1.257 0.208633    \n",
       "ZIPINC_QRTL3                        0.17399    0.06100   2.852 0.004340 ** \n",
       "ZIPINC_QRTL2                        0.28598    0.06611   4.326 1.52e-05 ***\n",
       "ZIPINC_QRTL1                        0.35720    0.06834   5.227 1.73e-07 ***\n",
       "HOSP_LOCTEACHUrban nonteaching      0.72371    0.06068  11.928  < 2e-16 ***\n",
       "HOSP_LOCTEACHUrban teaching         1.06232    0.05908  17.980  < 2e-16 ***\n",
       "HOSP_BEDSIZEMedium                  0.27090    0.09329   2.904 0.003686 ** \n",
       "HOSP_BEDSIZELarge                   0.60127    0.09041   6.650 2.93e-11 ***\n",
       "HOSP_REGIONMidwest                  0.41996    0.07135   5.886 3.96e-09 ***\n",
       "HOSP_REGIONSouth                    0.28396    0.05545   5.121 3.04e-07 ***\n",
       "HOSP_REGIONWest                     0.14229    0.06271   2.269 0.023264 *  \n",
       "NACHTYPEChildren's General          0.79919    0.08256   9.680  < 2e-16 ***\n",
       "NACHTYPEChildren's Specialty       17.81689    3.15908   5.640 1.70e-08 ***\n",
       "NACHTYPEChildren's unit of General  0.14497    0.05743   2.524 0.011594 *  \n",
       "---\n",
       "Signif. codes:  0 ‘***’ 0.001 ‘**’ 0.01 ‘*’ 0.05 ‘.’ 0.1 ‘ ’ 1\n",
       "\n",
       "(Dispersion parameter for gaussian family taken to be 67.59461)\n",
       "\n",
       "Number of Fisher Scoring iterations: 2\n"
      ]
     },
     "metadata": {},
     "output_type": "display_data"
    },
    {
     "data": {
      "text/html": [
       "<table class=\"dataframe\">\n",
       "<caption>A data.frame: 29 × 4</caption>\n",
       "<thead>\n",
       "\t<tr><th></th><th scope=col>OR</th><th scope=col>X2.5..</th><th scope=col>X97.5..</th><th scope=col>P_value</th></tr>\n",
       "\t<tr><th></th><th scope=col>&lt;dbl&gt;</th><th scope=col>&lt;dbl&gt;</th><th scope=col>&lt;dbl&gt;</th><th scope=col>&lt;chr&gt;</th></tr>\n",
       "</thead>\n",
       "<tbody>\n",
       "\t<tr><th scope=row>(Intercept)</th><td>1.324345e+04</td><td>8.488866e+03</td><td>2.066107e+04</td><td><span style=white-space:pre-wrap>&lt;0.01             </span></td></tr>\n",
       "\t<tr><th scope=row>SEVGROUP16-24</th><td>7.504608e-03</td><td>4.964325e-03</td><td>1.134477e-02</td><td><span style=white-space:pre-wrap>&lt;0.01             </span></td></tr>\n",
       "\t<tr><th scope=row>SEVGROUP0-15</th><td>3.553955e-04</td><td>2.429948e-04</td><td>5.197887e-04</td><td><span style=white-space:pre-wrap>&lt;0.01             </span></td></tr>\n",
       "\t<tr><th scope=row>RACEBlack</th><td>1.370750e+00</td><td>1.179277e+00</td><td>1.593312e+00</td><td><span style=white-space:pre-wrap>&lt;0.01             </span></td></tr>\n",
       "\t<tr><th scope=row>RACEHispanic</th><td>9.035771e-01</td><td>7.990601e-01</td><td>1.021765e+00</td><td>0.105951217805466 </td></tr>\n",
       "\t<tr><th scope=row>RACEAsian or Pacific Islander</th><td>1.751679e+00</td><td>1.171875e+00</td><td>2.618350e+00</td><td><span style=white-space:pre-wrap>&lt;0.01             </span></td></tr>\n",
       "\t<tr><th scope=row>RACENative American</th><td>1.726935e+00</td><td>9.728924e-01</td><td>3.065401e+00</td><td>0.0620275247228346</td></tr>\n",
       "\t<tr><th scope=row>RACEOther</th><td>1.647444e+00</td><td>1.274997e+00</td><td>2.128690e+00</td><td><span style=white-space:pre-wrap>&lt;0.01             </span></td></tr>\n",
       "\t<tr><th scope=row>SEXFemale</th><td>1.372901e+00</td><td>1.249781e+00</td><td>1.508150e+00</td><td><span style=white-space:pre-wrap>&lt;0.01             </span></td></tr>\n",
       "\t<tr><th scope=row>AGEGROUP8-11</th><td>5.742048e-01</td><td>5.071745e-01</td><td>6.500940e-01</td><td><span style=white-space:pre-wrap>&lt;0.01             </span></td></tr>\n",
       "\t<tr><th scope=row>AGEGROUP4-7</th><td>3.457877e-01</td><td>3.135269e-01</td><td>3.813680e-01</td><td><span style=white-space:pre-wrap>&lt;0.01             </span></td></tr>\n",
       "\t<tr><th scope=row>AGEGROUP1-3</th><td>3.816943e-01</td><td>3.406743e-01</td><td>4.276535e-01</td><td><span style=white-space:pre-wrap>&lt;0.01             </span></td></tr>\n",
       "\t<tr><th scope=row>AGEGROUP&lt;1</th><td>4.781147e+00</td><td>3.500826e+00</td><td>6.529707e+00</td><td><span style=white-space:pre-wrap>&lt;0.01             </span></td></tr>\n",
       "\t<tr><th scope=row>PAYERPrivate</th><td>5.698794e-01</td><td>5.102324e-01</td><td>6.364993e-01</td><td><span style=white-space:pre-wrap>&lt;0.01             </span></td></tr>\n",
       "\t<tr><th scope=row>PAYERSelf-pay</th><td>3.086037e-01</td><td>2.648675e-01</td><td>3.595617e-01</td><td><span style=white-space:pre-wrap>&lt;0.01             </span></td></tr>\n",
       "\t<tr><th scope=row>PAYEROther</th><td>1.208270e+00</td><td>8.996717e-01</td><td>1.622720e+00</td><td>0.208633397178902 </td></tr>\n",
       "\t<tr><th scope=row>ZIPINC_QRTL3</th><td>1.190040e+00</td><td>1.055942e+00</td><td>1.341168e+00</td><td><span style=white-space:pre-wrap>&lt;0.01             </span></td></tr>\n",
       "\t<tr><th scope=row>ZIPINC_QRTL2</th><td>1.331062e+00</td><td>1.169304e+00</td><td>1.515197e+00</td><td><span style=white-space:pre-wrap>&lt;0.01             </span></td></tr>\n",
       "\t<tr><th scope=row>ZIPINC_QRTL1</th><td>1.429327e+00</td><td>1.250140e+00</td><td>1.634196e+00</td><td><span style=white-space:pre-wrap>&lt;0.01             </span></td></tr>\n",
       "\t<tr><th scope=row>HOSP_LOCTEACHUrban nonteaching</th><td>2.062061e+00</td><td>1.830856e+00</td><td>2.322463e+00</td><td><span style=white-space:pre-wrap>&lt;0.01             </span></td></tr>\n",
       "\t<tr><th scope=row>HOSP_LOCTEACHUrban teaching</th><td>2.893085e+00</td><td>2.576727e+00</td><td>3.248285e+00</td><td><span style=white-space:pre-wrap>&lt;0.01             </span></td></tr>\n",
       "\t<tr><th scope=row>HOSP_BEDSIZEMedium</th><td>1.311138e+00</td><td>1.092047e+00</td><td>1.574184e+00</td><td><span style=white-space:pre-wrap>&lt;0.01             </span></td></tr>\n",
       "\t<tr><th scope=row>HOSP_BEDSIZELarge</th><td>1.824428e+00</td><td>1.528160e+00</td><td>2.178134e+00</td><td><span style=white-space:pre-wrap>&lt;0.01             </span></td></tr>\n",
       "\t<tr><th scope=row>HOSP_REGIONMidwest</th><td>1.521908e+00</td><td>1.323295e+00</td><td>1.750331e+00</td><td><span style=white-space:pre-wrap>&lt;0.01             </span></td></tr>\n",
       "\t<tr><th scope=row>HOSP_REGIONSouth</th><td>1.328376e+00</td><td>1.191583e+00</td><td>1.480873e+00</td><td><span style=white-space:pre-wrap>&lt;0.01             </span></td></tr>\n",
       "\t<tr><th scope=row>HOSP_REGIONWest</th><td>1.152905e+00</td><td>1.019572e+00</td><td>1.303675e+00</td><td>0.0232642004793598</td></tr>\n",
       "\t<tr><th scope=row>NACHTYPEChildren's General</th><td>2.223742e+00</td><td>1.891501e+00</td><td>2.614341e+00</td><td><span style=white-space:pre-wrap>&lt;0.01             </span></td></tr>\n",
       "\t<tr><th scope=row>NACHTYPEChildren's Specialty</th><td>5.467345e+07</td><td>1.118756e+05</td><td>2.671883e+10</td><td><span style=white-space:pre-wrap>&lt;0.01             </span></td></tr>\n",
       "\t<tr><th scope=row>NACHTYPEChildren's unit of General</th><td>1.156008e+00</td><td>1.032941e+00</td><td>1.293739e+00</td><td>0.0115937017206403</td></tr>\n",
       "</tbody>\n",
       "</table>\n"
      ],
      "text/latex": [
       "A data.frame: 29 × 4\n",
       "\\begin{tabular}{r|llll}\n",
       "  & OR & X2.5.. & X97.5.. & P\\_value\\\\\n",
       "  & <dbl> & <dbl> & <dbl> & <chr>\\\\\n",
       "\\hline\n",
       "\t(Intercept) & 1.324345e+04 & 8.488866e+03 & 2.066107e+04 & <0.01             \\\\\n",
       "\tSEVGROUP16-24 & 7.504608e-03 & 4.964325e-03 & 1.134477e-02 & <0.01             \\\\\n",
       "\tSEVGROUP0-15 & 3.553955e-04 & 2.429948e-04 & 5.197887e-04 & <0.01             \\\\\n",
       "\tRACEBlack & 1.370750e+00 & 1.179277e+00 & 1.593312e+00 & <0.01             \\\\\n",
       "\tRACEHispanic & 9.035771e-01 & 7.990601e-01 & 1.021765e+00 & 0.105951217805466 \\\\\n",
       "\tRACEAsian or Pacific Islander & 1.751679e+00 & 1.171875e+00 & 2.618350e+00 & <0.01             \\\\\n",
       "\tRACENative American & 1.726935e+00 & 9.728924e-01 & 3.065401e+00 & 0.0620275247228346\\\\\n",
       "\tRACEOther & 1.647444e+00 & 1.274997e+00 & 2.128690e+00 & <0.01             \\\\\n",
       "\tSEXFemale & 1.372901e+00 & 1.249781e+00 & 1.508150e+00 & <0.01             \\\\\n",
       "\tAGEGROUP8-11 & 5.742048e-01 & 5.071745e-01 & 6.500940e-01 & <0.01             \\\\\n",
       "\tAGEGROUP4-7 & 3.457877e-01 & 3.135269e-01 & 3.813680e-01 & <0.01             \\\\\n",
       "\tAGEGROUP1-3 & 3.816943e-01 & 3.406743e-01 & 4.276535e-01 & <0.01             \\\\\n",
       "\tAGEGROUP<1 & 4.781147e+00 & 3.500826e+00 & 6.529707e+00 & <0.01             \\\\\n",
       "\tPAYERPrivate & 5.698794e-01 & 5.102324e-01 & 6.364993e-01 & <0.01             \\\\\n",
       "\tPAYERSelf-pay & 3.086037e-01 & 2.648675e-01 & 3.595617e-01 & <0.01             \\\\\n",
       "\tPAYEROther & 1.208270e+00 & 8.996717e-01 & 1.622720e+00 & 0.208633397178902 \\\\\n",
       "\tZIPINC\\_QRTL3 & 1.190040e+00 & 1.055942e+00 & 1.341168e+00 & <0.01             \\\\\n",
       "\tZIPINC\\_QRTL2 & 1.331062e+00 & 1.169304e+00 & 1.515197e+00 & <0.01             \\\\\n",
       "\tZIPINC\\_QRTL1 & 1.429327e+00 & 1.250140e+00 & 1.634196e+00 & <0.01             \\\\\n",
       "\tHOSP\\_LOCTEACHUrban nonteaching & 2.062061e+00 & 1.830856e+00 & 2.322463e+00 & <0.01             \\\\\n",
       "\tHOSP\\_LOCTEACHUrban teaching & 2.893085e+00 & 2.576727e+00 & 3.248285e+00 & <0.01             \\\\\n",
       "\tHOSP\\_BEDSIZEMedium & 1.311138e+00 & 1.092047e+00 & 1.574184e+00 & <0.01             \\\\\n",
       "\tHOSP\\_BEDSIZELarge & 1.824428e+00 & 1.528160e+00 & 2.178134e+00 & <0.01             \\\\\n",
       "\tHOSP\\_REGIONMidwest & 1.521908e+00 & 1.323295e+00 & 1.750331e+00 & <0.01             \\\\\n",
       "\tHOSP\\_REGIONSouth & 1.328376e+00 & 1.191583e+00 & 1.480873e+00 & <0.01             \\\\\n",
       "\tHOSP\\_REGIONWest & 1.152905e+00 & 1.019572e+00 & 1.303675e+00 & 0.0232642004793598\\\\\n",
       "\tNACHTYPEChildren's General & 2.223742e+00 & 1.891501e+00 & 2.614341e+00 & <0.01             \\\\\n",
       "\tNACHTYPEChildren's Specialty & 5.467345e+07 & 1.118756e+05 & 2.671883e+10 & <0.01             \\\\\n",
       "\tNACHTYPEChildren's unit of General & 1.156008e+00 & 1.032941e+00 & 1.293739e+00 & 0.0115937017206403\\\\\n",
       "\\end{tabular}\n"
      ],
      "text/markdown": [
       "\n",
       "A data.frame: 29 × 4\n",
       "\n",
       "| <!--/--> | OR &lt;dbl&gt; | X2.5.. &lt;dbl&gt; | X97.5.. &lt;dbl&gt; | P_value &lt;chr&gt; |\n",
       "|---|---|---|---|---|\n",
       "| (Intercept) | 1.324345e+04 | 8.488866e+03 | 2.066107e+04 | &lt;0.01              |\n",
       "| SEVGROUP16-24 | 7.504608e-03 | 4.964325e-03 | 1.134477e-02 | &lt;0.01              |\n",
       "| SEVGROUP0-15 | 3.553955e-04 | 2.429948e-04 | 5.197887e-04 | &lt;0.01              |\n",
       "| RACEBlack | 1.370750e+00 | 1.179277e+00 | 1.593312e+00 | &lt;0.01              |\n",
       "| RACEHispanic | 9.035771e-01 | 7.990601e-01 | 1.021765e+00 | 0.105951217805466  |\n",
       "| RACEAsian or Pacific Islander | 1.751679e+00 | 1.171875e+00 | 2.618350e+00 | &lt;0.01              |\n",
       "| RACENative American | 1.726935e+00 | 9.728924e-01 | 3.065401e+00 | 0.0620275247228346 |\n",
       "| RACEOther | 1.647444e+00 | 1.274997e+00 | 2.128690e+00 | &lt;0.01              |\n",
       "| SEXFemale | 1.372901e+00 | 1.249781e+00 | 1.508150e+00 | &lt;0.01              |\n",
       "| AGEGROUP8-11 | 5.742048e-01 | 5.071745e-01 | 6.500940e-01 | &lt;0.01              |\n",
       "| AGEGROUP4-7 | 3.457877e-01 | 3.135269e-01 | 3.813680e-01 | &lt;0.01              |\n",
       "| AGEGROUP1-3 | 3.816943e-01 | 3.406743e-01 | 4.276535e-01 | &lt;0.01              |\n",
       "| AGEGROUP&lt;1 | 4.781147e+00 | 3.500826e+00 | 6.529707e+00 | &lt;0.01              |\n",
       "| PAYERPrivate | 5.698794e-01 | 5.102324e-01 | 6.364993e-01 | &lt;0.01              |\n",
       "| PAYERSelf-pay | 3.086037e-01 | 2.648675e-01 | 3.595617e-01 | &lt;0.01              |\n",
       "| PAYEROther | 1.208270e+00 | 8.996717e-01 | 1.622720e+00 | 0.208633397178902  |\n",
       "| ZIPINC_QRTL3 | 1.190040e+00 | 1.055942e+00 | 1.341168e+00 | &lt;0.01              |\n",
       "| ZIPINC_QRTL2 | 1.331062e+00 | 1.169304e+00 | 1.515197e+00 | &lt;0.01              |\n",
       "| ZIPINC_QRTL1 | 1.429327e+00 | 1.250140e+00 | 1.634196e+00 | &lt;0.01              |\n",
       "| HOSP_LOCTEACHUrban nonteaching | 2.062061e+00 | 1.830856e+00 | 2.322463e+00 | &lt;0.01              |\n",
       "| HOSP_LOCTEACHUrban teaching | 2.893085e+00 | 2.576727e+00 | 3.248285e+00 | &lt;0.01              |\n",
       "| HOSP_BEDSIZEMedium | 1.311138e+00 | 1.092047e+00 | 1.574184e+00 | &lt;0.01              |\n",
       "| HOSP_BEDSIZELarge | 1.824428e+00 | 1.528160e+00 | 2.178134e+00 | &lt;0.01              |\n",
       "| HOSP_REGIONMidwest | 1.521908e+00 | 1.323295e+00 | 1.750331e+00 | &lt;0.01              |\n",
       "| HOSP_REGIONSouth | 1.328376e+00 | 1.191583e+00 | 1.480873e+00 | &lt;0.01              |\n",
       "| HOSP_REGIONWest | 1.152905e+00 | 1.019572e+00 | 1.303675e+00 | 0.0232642004793598 |\n",
       "| NACHTYPEChildren's General | 2.223742e+00 | 1.891501e+00 | 2.614341e+00 | &lt;0.01              |\n",
       "| NACHTYPEChildren's Specialty | 5.467345e+07 | 1.118756e+05 | 2.671883e+10 | &lt;0.01              |\n",
       "| NACHTYPEChildren's unit of General | 1.156008e+00 | 1.032941e+00 | 1.293739e+00 | 0.0115937017206403 |\n",
       "\n"
      ],
      "text/plain": [
       "                                   OR           X2.5..       X97.5..     \n",
       "(Intercept)                        1.324345e+04 8.488866e+03 2.066107e+04\n",
       "SEVGROUP16-24                      7.504608e-03 4.964325e-03 1.134477e-02\n",
       "SEVGROUP0-15                       3.553955e-04 2.429948e-04 5.197887e-04\n",
       "RACEBlack                          1.370750e+00 1.179277e+00 1.593312e+00\n",
       "RACEHispanic                       9.035771e-01 7.990601e-01 1.021765e+00\n",
       "RACEAsian or Pacific Islander      1.751679e+00 1.171875e+00 2.618350e+00\n",
       "RACENative American                1.726935e+00 9.728924e-01 3.065401e+00\n",
       "RACEOther                          1.647444e+00 1.274997e+00 2.128690e+00\n",
       "SEXFemale                          1.372901e+00 1.249781e+00 1.508150e+00\n",
       "AGEGROUP8-11                       5.742048e-01 5.071745e-01 6.500940e-01\n",
       "AGEGROUP4-7                        3.457877e-01 3.135269e-01 3.813680e-01\n",
       "AGEGROUP1-3                        3.816943e-01 3.406743e-01 4.276535e-01\n",
       "AGEGROUP<1                         4.781147e+00 3.500826e+00 6.529707e+00\n",
       "PAYERPrivate                       5.698794e-01 5.102324e-01 6.364993e-01\n",
       "PAYERSelf-pay                      3.086037e-01 2.648675e-01 3.595617e-01\n",
       "PAYEROther                         1.208270e+00 8.996717e-01 1.622720e+00\n",
       "ZIPINC_QRTL3                       1.190040e+00 1.055942e+00 1.341168e+00\n",
       "ZIPINC_QRTL2                       1.331062e+00 1.169304e+00 1.515197e+00\n",
       "ZIPINC_QRTL1                       1.429327e+00 1.250140e+00 1.634196e+00\n",
       "HOSP_LOCTEACHUrban nonteaching     2.062061e+00 1.830856e+00 2.322463e+00\n",
       "HOSP_LOCTEACHUrban teaching        2.893085e+00 2.576727e+00 3.248285e+00\n",
       "HOSP_BEDSIZEMedium                 1.311138e+00 1.092047e+00 1.574184e+00\n",
       "HOSP_BEDSIZELarge                  1.824428e+00 1.528160e+00 2.178134e+00\n",
       "HOSP_REGIONMidwest                 1.521908e+00 1.323295e+00 1.750331e+00\n",
       "HOSP_REGIONSouth                   1.328376e+00 1.191583e+00 1.480873e+00\n",
       "HOSP_REGIONWest                    1.152905e+00 1.019572e+00 1.303675e+00\n",
       "NACHTYPEChildren's General         2.223742e+00 1.891501e+00 2.614341e+00\n",
       "NACHTYPEChildren's Specialty       5.467345e+07 1.118756e+05 2.671883e+10\n",
       "NACHTYPEChildren's unit of General 1.156008e+00 1.032941e+00 1.293739e+00\n",
       "                                   P_value           \n",
       "(Intercept)                        <0.01             \n",
       "SEVGROUP16-24                      <0.01             \n",
       "SEVGROUP0-15                       <0.01             \n",
       "RACEBlack                          <0.01             \n",
       "RACEHispanic                       0.105951217805466 \n",
       "RACEAsian or Pacific Islander      <0.01             \n",
       "RACENative American                0.0620275247228346\n",
       "RACEOther                          <0.01             \n",
       "SEXFemale                          <0.01             \n",
       "AGEGROUP8-11                       <0.01             \n",
       "AGEGROUP4-7                        <0.01             \n",
       "AGEGROUP1-3                        <0.01             \n",
       "AGEGROUP<1                         <0.01             \n",
       "PAYERPrivate                       <0.01             \n",
       "PAYERSelf-pay                      <0.01             \n",
       "PAYEROther                         0.208633397178902 \n",
       "ZIPINC_QRTL3                       <0.01             \n",
       "ZIPINC_QRTL2                       <0.01             \n",
       "ZIPINC_QRTL1                       <0.01             \n",
       "HOSP_LOCTEACHUrban nonteaching     <0.01             \n",
       "HOSP_LOCTEACHUrban teaching        <0.01             \n",
       "HOSP_BEDSIZEMedium                 <0.01             \n",
       "HOSP_BEDSIZELarge                  <0.01             \n",
       "HOSP_REGIONMidwest                 <0.01             \n",
       "HOSP_REGIONSouth                   <0.01             \n",
       "HOSP_REGIONWest                    0.0232642004793598\n",
       "NACHTYPEChildren's General         <0.01             \n",
       "NACHTYPEChildren's Specialty       <0.01             \n",
       "NACHTYPEChildren's unit of General 0.0115937017206403"
      ]
     },
     "metadata": {},
     "output_type": "display_data"
    },
    {
     "data": {
      "text/plain": [
       "\n",
       "Call:\n",
       "svyglm(formula = LOS ~ SEVGROUP + RACE + SEX + AGEGROUP + PAYER + \n",
       "    ZIPINC_QRTL + HOSP_LOCTEACH + HOSP_BEDSIZE + HOSP_REGION + \n",
       "    NACHTYPE, design = subset(dat.w, Child_abuse == \"SCAN\"), \n",
       "    na.action = na.omit)\n",
       "\n",
       "Survey design:\n",
       "subset(dat.w, Child_abuse == \"SCAN\")\n",
       "\n",
       "Coefficients:\n",
       "                                   Estimate Std. Error t value Pr(>|t|)    \n",
       "(Intercept)                         9.84394    2.74951   3.580 0.000350 ***\n",
       "SEVGROUP16-24                      -2.44596    1.14247  -2.141 0.032382 *  \n",
       "SEVGROUP0-15                       -6.46784    1.12157  -5.767 9.14e-09 ***\n",
       "RACEBlack                           1.43443    0.73843   1.943 0.052193 .  \n",
       "RACEHispanic                        0.36770    0.67788   0.542 0.587572    \n",
       "RACEAsian or Pacific Islander       0.60253    1.51544   0.398 0.690966    \n",
       "RACENative American                -1.15862    1.86714  -0.621 0.534969    \n",
       "RACEOther                           0.72502    0.92112   0.787 0.431300    \n",
       "SEXFemale                          -0.59870    0.48613  -1.232 0.218238    \n",
       "AGEGROUP8-11                        4.64291    6.91136   0.672 0.501790    \n",
       "AGEGROUP4-7                        -0.31310    3.25171  -0.096 0.923300    \n",
       "AGEGROUP1-3                        -1.39831    2.82141  -0.496 0.620218    \n",
       "AGEGROUP<1                         -2.57111    2.77179  -0.928 0.353710    \n",
       "PAYERPrivate                       -0.72215    0.64780  -1.115 0.265066    \n",
       "PAYERSelf-pay                      -3.36241    0.90947  -3.697 0.000223 ***\n",
       "PAYEROther                          0.30228    1.53718   0.197 0.844122    \n",
       "ZIPINC_QRTL3                        0.32964    0.84861   0.388 0.697723    \n",
       "ZIPINC_QRTL2                        0.64655    0.80476   0.803 0.421824    \n",
       "ZIPINC_QRTL1                       -0.07487    0.78752  -0.095 0.924266    \n",
       "HOSP_LOCTEACHUrban nonteaching      2.50119    0.97182   2.574 0.010123 *  \n",
       "HOSP_LOCTEACHUrban teaching         3.27649    0.85748   3.821 0.000136 ***\n",
       "HOSP_BEDSIZEMedium                 -0.03763    0.84693  -0.044 0.964560    \n",
       "HOSP_BEDSIZELarge                  -0.11071    0.97859  -0.113 0.909938    \n",
       "HOSP_REGIONMidwest                 -0.08782    0.85767  -0.102 0.918450    \n",
       "HOSP_REGIONSouth                   -0.65690    0.79570  -0.826 0.409138    \n",
       "HOSP_REGIONWest                     0.65832    0.81915   0.804 0.421676    \n",
       "NACHTYPEChildren's General          1.28447    0.76185   1.686 0.091930 .  \n",
       "NACHTYPEChildren's Specialty       45.29643   19.34143   2.342 0.019267 *  \n",
       "NACHTYPEChildren's unit of General  2.65182    0.76902   3.448 0.000574 ***\n",
       "---\n",
       "Signif. codes:  0 ‘***’ 0.001 ‘**’ 0.01 ‘*’ 0.05 ‘.’ 0.1 ‘ ’ 1\n",
       "\n",
       "(Dispersion parameter for gaussian family taken to be 172.0314)\n",
       "\n",
       "Number of Fisher Scoring iterations: 2\n"
      ]
     },
     "metadata": {},
     "output_type": "display_data"
    },
    {
     "data": {
      "text/html": [
       "<table class=\"dataframe\">\n",
       "<caption>A data.frame: 29 × 4</caption>\n",
       "<thead>\n",
       "\t<tr><th></th><th scope=col>OR</th><th scope=col>X2.5..</th><th scope=col>X97.5..</th><th scope=col>P_value</th></tr>\n",
       "\t<tr><th></th><th scope=col>&lt;dbl&gt;</th><th scope=col>&lt;dbl&gt;</th><th scope=col>&lt;dbl&gt;</th><th scope=col>&lt;chr&gt;</th></tr>\n",
       "</thead>\n",
       "<tbody>\n",
       "\t<tr><th scope=row>(Intercept)</th><td>1.884373e+04</td><td>8.581613e+01</td><td>4.137755e+06</td><td><span style=white-space:pre-wrap>&lt;0.01             </span></td></tr>\n",
       "\t<tr><th scope=row>SEVGROUP16-24</th><td>8.664302e-02</td><td>9.220527e-03</td><td>8.141631e-01</td><td>0.0323823705575072</td></tr>\n",
       "\t<tr><th scope=row>SEVGROUP0-15</th><td>1.552582e-03</td><td>1.721399e-04</td><td>1.400320e-02</td><td><span style=white-space:pre-wrap>&lt;0.01             </span></td></tr>\n",
       "\t<tr><th scope=row>RACEBlack</th><td>4.197235e+00</td><td>9.864680e-01</td><td>1.785845e+01</td><td>0.0521930525885175</td></tr>\n",
       "\t<tr><th scope=row>RACEHispanic</th><td>1.444411e+00</td><td>3.822822e-01</td><td>5.457544e+00</td><td>0.587572399446474 </td></tr>\n",
       "\t<tr><th scope=row>RACEAsian or Pacific Islander</th><td>1.826733e+00</td><td>9.355435e-02</td><td>3.566861e+01</td><td>0.690966040572203 </td></tr>\n",
       "\t<tr><th scope=row>RACENative American</th><td>3.139198e-01</td><td>8.066511e-03</td><td>1.221664e+01</td><td>0.534968644762603 </td></tr>\n",
       "\t<tr><th scope=row>RACEOther</th><td>2.064773e+00</td><td>3.391617e-01</td><td>1.257008e+01</td><td>0.431299596459109 </td></tr>\n",
       "\t<tr><th scope=row>SEXFemale</th><td>5.495271e-01</td><td>2.118265e-01</td><td>1.425600e+00</td><td>0.2182382134373   </td></tr>\n",
       "\t<tr><th scope=row>AGEGROUP8-11</th><td>1.038461e+02</td><td>1.350179e-04</td><td>7.987099e+07</td><td>0.501790267818957 </td></tr>\n",
       "\t<tr><th scope=row>AGEGROUP4-7</th><td>7.311753e-01</td><td>1.243748e-03</td><td>4.298437e+02</td><td>0.923299720060333 </td></tr>\n",
       "\t<tr><th scope=row>AGEGROUP1-3</th><td>2.470130e-01</td><td>9.769854e-04</td><td>6.245274e+01</td><td>0.620217623720565 </td></tr>\n",
       "\t<tr><th scope=row>AGEGROUP&lt;1</th><td>7.645030e-02</td><td>3.332795e-04</td><td>1.753678e+01</td><td>0.353710224329194 </td></tr>\n",
       "\t<tr><th scope=row>PAYERPrivate</th><td>4.857081e-01</td><td>1.363576e-01</td><td>1.730100e+00</td><td>0.265065936777957 </td></tr>\n",
       "\t<tr><th scope=row>PAYERSelf-pay</th><td>3.465168e-02</td><td>5.823467e-03</td><td>2.061897e-01</td><td><span style=white-space:pre-wrap>&lt;0.01             </span></td></tr>\n",
       "\t<tr><th scope=row>PAYEROther</th><td>1.352939e+00</td><td>6.639734e-02</td><td>2.756804e+01</td><td>0.844122325397877 </td></tr>\n",
       "\t<tr><th scope=row>ZIPINC_QRTL3</th><td>1.390462e+00</td><td>2.633001e-01</td><td>7.342893e+00</td><td>0.69772275839606  </td></tr>\n",
       "\t<tr><th scope=row>ZIPINC_QRTL2</th><td>1.908936e+00</td><td>3.939343e-01</td><td>9.250367e+00</td><td>0.421824224251736 </td></tr>\n",
       "\t<tr><th scope=row>ZIPINC_QRTL1</th><td>9.278631e-01</td><td>1.980607e-01</td><td>4.346798e+00</td><td>0.924265901787622 </td></tr>\n",
       "\t<tr><th scope=row>HOSP_LOCTEACHUrban nonteaching</th><td>1.219700e+01</td><td>1.813873e+00</td><td>8.201609e+01</td><td>0.0101225341163426</td></tr>\n",
       "\t<tr><th scope=row>HOSP_LOCTEACHUrban teaching</th><td>2.648269e+01</td><td>4.928343e+00</td><td>1.423061e+02</td><td><span style=white-space:pre-wrap>&lt;0.01             </span></td></tr>\n",
       "\t<tr><th scope=row>HOSP_BEDSIZEMedium</th><td>9.630644e-01</td><td>1.829677e-01</td><td>5.069163e+00</td><td>0.964559923269945 </td></tr>\n",
       "\t<tr><th scope=row>HOSP_BEDSIZELarge</th><td>8.952005e-01</td><td>1.313741e-01</td><td>6.100016e+00</td><td>0.909937783398499 </td></tr>\n",
       "\t<tr><th scope=row>HOSP_REGIONMidwest</th><td>9.159225e-01</td><td>1.703843e-01</td><td>4.923657e+00</td><td>0.918449944083119 </td></tr>\n",
       "\t<tr><th scope=row>HOSP_REGIONSouth</th><td>5.184554e-01</td><td>1.089073e-01</td><td>2.468119e+00</td><td>0.40913807649143  </td></tr>\n",
       "\t<tr><th scope=row>HOSP_REGIONWest</th><td>1.931540e+00</td><td>3.875079e-01</td><td>9.627793e+00</td><td>0.421676071847284 </td></tr>\n",
       "\t<tr><th scope=row>NACHTYPEChildren's General</th><td>3.612749e+00</td><td>8.109937e-01</td><td>1.609378e+01</td><td>0.0919301546934902</td></tr>\n",
       "\t<tr><th scope=row>NACHTYPEChildren's Specialty</th><td>4.698828e+19</td><td>1.585013e+03</td><td>1.392984e+36</td><td>0.019267175825227 </td></tr>\n",
       "\t<tr><th scope=row>NACHTYPEChildren's unit of General</th><td>1.417983e+01</td><td>3.138618e+00</td><td>6.406242e+01</td><td><span style=white-space:pre-wrap>&lt;0.01             </span></td></tr>\n",
       "</tbody>\n",
       "</table>\n"
      ],
      "text/latex": [
       "A data.frame: 29 × 4\n",
       "\\begin{tabular}{r|llll}\n",
       "  & OR & X2.5.. & X97.5.. & P\\_value\\\\\n",
       "  & <dbl> & <dbl> & <dbl> & <chr>\\\\\n",
       "\\hline\n",
       "\t(Intercept) & 1.884373e+04 & 8.581613e+01 & 4.137755e+06 & <0.01             \\\\\n",
       "\tSEVGROUP16-24 & 8.664302e-02 & 9.220527e-03 & 8.141631e-01 & 0.0323823705575072\\\\\n",
       "\tSEVGROUP0-15 & 1.552582e-03 & 1.721399e-04 & 1.400320e-02 & <0.01             \\\\\n",
       "\tRACEBlack & 4.197235e+00 & 9.864680e-01 & 1.785845e+01 & 0.0521930525885175\\\\\n",
       "\tRACEHispanic & 1.444411e+00 & 3.822822e-01 & 5.457544e+00 & 0.587572399446474 \\\\\n",
       "\tRACEAsian or Pacific Islander & 1.826733e+00 & 9.355435e-02 & 3.566861e+01 & 0.690966040572203 \\\\\n",
       "\tRACENative American & 3.139198e-01 & 8.066511e-03 & 1.221664e+01 & 0.534968644762603 \\\\\n",
       "\tRACEOther & 2.064773e+00 & 3.391617e-01 & 1.257008e+01 & 0.431299596459109 \\\\\n",
       "\tSEXFemale & 5.495271e-01 & 2.118265e-01 & 1.425600e+00 & 0.2182382134373   \\\\\n",
       "\tAGEGROUP8-11 & 1.038461e+02 & 1.350179e-04 & 7.987099e+07 & 0.501790267818957 \\\\\n",
       "\tAGEGROUP4-7 & 7.311753e-01 & 1.243748e-03 & 4.298437e+02 & 0.923299720060333 \\\\\n",
       "\tAGEGROUP1-3 & 2.470130e-01 & 9.769854e-04 & 6.245274e+01 & 0.620217623720565 \\\\\n",
       "\tAGEGROUP<1 & 7.645030e-02 & 3.332795e-04 & 1.753678e+01 & 0.353710224329194 \\\\\n",
       "\tPAYERPrivate & 4.857081e-01 & 1.363576e-01 & 1.730100e+00 & 0.265065936777957 \\\\\n",
       "\tPAYERSelf-pay & 3.465168e-02 & 5.823467e-03 & 2.061897e-01 & <0.01             \\\\\n",
       "\tPAYEROther & 1.352939e+00 & 6.639734e-02 & 2.756804e+01 & 0.844122325397877 \\\\\n",
       "\tZIPINC\\_QRTL3 & 1.390462e+00 & 2.633001e-01 & 7.342893e+00 & 0.69772275839606  \\\\\n",
       "\tZIPINC\\_QRTL2 & 1.908936e+00 & 3.939343e-01 & 9.250367e+00 & 0.421824224251736 \\\\\n",
       "\tZIPINC\\_QRTL1 & 9.278631e-01 & 1.980607e-01 & 4.346798e+00 & 0.924265901787622 \\\\\n",
       "\tHOSP\\_LOCTEACHUrban nonteaching & 1.219700e+01 & 1.813873e+00 & 8.201609e+01 & 0.0101225341163426\\\\\n",
       "\tHOSP\\_LOCTEACHUrban teaching & 2.648269e+01 & 4.928343e+00 & 1.423061e+02 & <0.01             \\\\\n",
       "\tHOSP\\_BEDSIZEMedium & 9.630644e-01 & 1.829677e-01 & 5.069163e+00 & 0.964559923269945 \\\\\n",
       "\tHOSP\\_BEDSIZELarge & 8.952005e-01 & 1.313741e-01 & 6.100016e+00 & 0.909937783398499 \\\\\n",
       "\tHOSP\\_REGIONMidwest & 9.159225e-01 & 1.703843e-01 & 4.923657e+00 & 0.918449944083119 \\\\\n",
       "\tHOSP\\_REGIONSouth & 5.184554e-01 & 1.089073e-01 & 2.468119e+00 & 0.40913807649143  \\\\\n",
       "\tHOSP\\_REGIONWest & 1.931540e+00 & 3.875079e-01 & 9.627793e+00 & 0.421676071847284 \\\\\n",
       "\tNACHTYPEChildren's General & 3.612749e+00 & 8.109937e-01 & 1.609378e+01 & 0.0919301546934902\\\\\n",
       "\tNACHTYPEChildren's Specialty & 4.698828e+19 & 1.585013e+03 & 1.392984e+36 & 0.019267175825227 \\\\\n",
       "\tNACHTYPEChildren's unit of General & 1.417983e+01 & 3.138618e+00 & 6.406242e+01 & <0.01             \\\\\n",
       "\\end{tabular}\n"
      ],
      "text/markdown": [
       "\n",
       "A data.frame: 29 × 4\n",
       "\n",
       "| <!--/--> | OR &lt;dbl&gt; | X2.5.. &lt;dbl&gt; | X97.5.. &lt;dbl&gt; | P_value &lt;chr&gt; |\n",
       "|---|---|---|---|---|\n",
       "| (Intercept) | 1.884373e+04 | 8.581613e+01 | 4.137755e+06 | &lt;0.01              |\n",
       "| SEVGROUP16-24 | 8.664302e-02 | 9.220527e-03 | 8.141631e-01 | 0.0323823705575072 |\n",
       "| SEVGROUP0-15 | 1.552582e-03 | 1.721399e-04 | 1.400320e-02 | &lt;0.01              |\n",
       "| RACEBlack | 4.197235e+00 | 9.864680e-01 | 1.785845e+01 | 0.0521930525885175 |\n",
       "| RACEHispanic | 1.444411e+00 | 3.822822e-01 | 5.457544e+00 | 0.587572399446474  |\n",
       "| RACEAsian or Pacific Islander | 1.826733e+00 | 9.355435e-02 | 3.566861e+01 | 0.690966040572203  |\n",
       "| RACENative American | 3.139198e-01 | 8.066511e-03 | 1.221664e+01 | 0.534968644762603  |\n",
       "| RACEOther | 2.064773e+00 | 3.391617e-01 | 1.257008e+01 | 0.431299596459109  |\n",
       "| SEXFemale | 5.495271e-01 | 2.118265e-01 | 1.425600e+00 | 0.2182382134373    |\n",
       "| AGEGROUP8-11 | 1.038461e+02 | 1.350179e-04 | 7.987099e+07 | 0.501790267818957  |\n",
       "| AGEGROUP4-7 | 7.311753e-01 | 1.243748e-03 | 4.298437e+02 | 0.923299720060333  |\n",
       "| AGEGROUP1-3 | 2.470130e-01 | 9.769854e-04 | 6.245274e+01 | 0.620217623720565  |\n",
       "| AGEGROUP&lt;1 | 7.645030e-02 | 3.332795e-04 | 1.753678e+01 | 0.353710224329194  |\n",
       "| PAYERPrivate | 4.857081e-01 | 1.363576e-01 | 1.730100e+00 | 0.265065936777957  |\n",
       "| PAYERSelf-pay | 3.465168e-02 | 5.823467e-03 | 2.061897e-01 | &lt;0.01              |\n",
       "| PAYEROther | 1.352939e+00 | 6.639734e-02 | 2.756804e+01 | 0.844122325397877  |\n",
       "| ZIPINC_QRTL3 | 1.390462e+00 | 2.633001e-01 | 7.342893e+00 | 0.69772275839606   |\n",
       "| ZIPINC_QRTL2 | 1.908936e+00 | 3.939343e-01 | 9.250367e+00 | 0.421824224251736  |\n",
       "| ZIPINC_QRTL1 | 9.278631e-01 | 1.980607e-01 | 4.346798e+00 | 0.924265901787622  |\n",
       "| HOSP_LOCTEACHUrban nonteaching | 1.219700e+01 | 1.813873e+00 | 8.201609e+01 | 0.0101225341163426 |\n",
       "| HOSP_LOCTEACHUrban teaching | 2.648269e+01 | 4.928343e+00 | 1.423061e+02 | &lt;0.01              |\n",
       "| HOSP_BEDSIZEMedium | 9.630644e-01 | 1.829677e-01 | 5.069163e+00 | 0.964559923269945  |\n",
       "| HOSP_BEDSIZELarge | 8.952005e-01 | 1.313741e-01 | 6.100016e+00 | 0.909937783398499  |\n",
       "| HOSP_REGIONMidwest | 9.159225e-01 | 1.703843e-01 | 4.923657e+00 | 0.918449944083119  |\n",
       "| HOSP_REGIONSouth | 5.184554e-01 | 1.089073e-01 | 2.468119e+00 | 0.40913807649143   |\n",
       "| HOSP_REGIONWest | 1.931540e+00 | 3.875079e-01 | 9.627793e+00 | 0.421676071847284  |\n",
       "| NACHTYPEChildren's General | 3.612749e+00 | 8.109937e-01 | 1.609378e+01 | 0.0919301546934902 |\n",
       "| NACHTYPEChildren's Specialty | 4.698828e+19 | 1.585013e+03 | 1.392984e+36 | 0.019267175825227  |\n",
       "| NACHTYPEChildren's unit of General | 1.417983e+01 | 3.138618e+00 | 6.406242e+01 | &lt;0.01              |\n",
       "\n"
      ],
      "text/plain": [
       "                                   OR           X2.5..       X97.5..     \n",
       "(Intercept)                        1.884373e+04 8.581613e+01 4.137755e+06\n",
       "SEVGROUP16-24                      8.664302e-02 9.220527e-03 8.141631e-01\n",
       "SEVGROUP0-15                       1.552582e-03 1.721399e-04 1.400320e-02\n",
       "RACEBlack                          4.197235e+00 9.864680e-01 1.785845e+01\n",
       "RACEHispanic                       1.444411e+00 3.822822e-01 5.457544e+00\n",
       "RACEAsian or Pacific Islander      1.826733e+00 9.355435e-02 3.566861e+01\n",
       "RACENative American                3.139198e-01 8.066511e-03 1.221664e+01\n",
       "RACEOther                          2.064773e+00 3.391617e-01 1.257008e+01\n",
       "SEXFemale                          5.495271e-01 2.118265e-01 1.425600e+00\n",
       "AGEGROUP8-11                       1.038461e+02 1.350179e-04 7.987099e+07\n",
       "AGEGROUP4-7                        7.311753e-01 1.243748e-03 4.298437e+02\n",
       "AGEGROUP1-3                        2.470130e-01 9.769854e-04 6.245274e+01\n",
       "AGEGROUP<1                         7.645030e-02 3.332795e-04 1.753678e+01\n",
       "PAYERPrivate                       4.857081e-01 1.363576e-01 1.730100e+00\n",
       "PAYERSelf-pay                      3.465168e-02 5.823467e-03 2.061897e-01\n",
       "PAYEROther                         1.352939e+00 6.639734e-02 2.756804e+01\n",
       "ZIPINC_QRTL3                       1.390462e+00 2.633001e-01 7.342893e+00\n",
       "ZIPINC_QRTL2                       1.908936e+00 3.939343e-01 9.250367e+00\n",
       "ZIPINC_QRTL1                       9.278631e-01 1.980607e-01 4.346798e+00\n",
       "HOSP_LOCTEACHUrban nonteaching     1.219700e+01 1.813873e+00 8.201609e+01\n",
       "HOSP_LOCTEACHUrban teaching        2.648269e+01 4.928343e+00 1.423061e+02\n",
       "HOSP_BEDSIZEMedium                 9.630644e-01 1.829677e-01 5.069163e+00\n",
       "HOSP_BEDSIZELarge                  8.952005e-01 1.313741e-01 6.100016e+00\n",
       "HOSP_REGIONMidwest                 9.159225e-01 1.703843e-01 4.923657e+00\n",
       "HOSP_REGIONSouth                   5.184554e-01 1.089073e-01 2.468119e+00\n",
       "HOSP_REGIONWest                    1.931540e+00 3.875079e-01 9.627793e+00\n",
       "NACHTYPEChildren's General         3.612749e+00 8.109937e-01 1.609378e+01\n",
       "NACHTYPEChildren's Specialty       4.698828e+19 1.585013e+03 1.392984e+36\n",
       "NACHTYPEChildren's unit of General 1.417983e+01 3.138618e+00 6.406242e+01\n",
       "                                   P_value           \n",
       "(Intercept)                        <0.01             \n",
       "SEVGROUP16-24                      0.0323823705575072\n",
       "SEVGROUP0-15                       <0.01             \n",
       "RACEBlack                          0.0521930525885175\n",
       "RACEHispanic                       0.587572399446474 \n",
       "RACEAsian or Pacific Islander      0.690966040572203 \n",
       "RACENative American                0.534968644762603 \n",
       "RACEOther                          0.431299596459109 \n",
       "SEXFemale                          0.2182382134373   \n",
       "AGEGROUP8-11                       0.501790267818957 \n",
       "AGEGROUP4-7                        0.923299720060333 \n",
       "AGEGROUP1-3                        0.620217623720565 \n",
       "AGEGROUP<1                         0.353710224329194 \n",
       "PAYERPrivate                       0.265065936777957 \n",
       "PAYERSelf-pay                      <0.01             \n",
       "PAYEROther                         0.844122325397877 \n",
       "ZIPINC_QRTL3                       0.69772275839606  \n",
       "ZIPINC_QRTL2                       0.421824224251736 \n",
       "ZIPINC_QRTL1                       0.924265901787622 \n",
       "HOSP_LOCTEACHUrban nonteaching     0.0101225341163426\n",
       "HOSP_LOCTEACHUrban teaching        <0.01             \n",
       "HOSP_BEDSIZEMedium                 0.964559923269945 \n",
       "HOSP_BEDSIZELarge                  0.909937783398499 \n",
       "HOSP_REGIONMidwest                 0.918449944083119 \n",
       "HOSP_REGIONSouth                   0.40913807649143  \n",
       "HOSP_REGIONWest                    0.421676071847284 \n",
       "NACHTYPEChildren's General         0.0919301546934902\n",
       "NACHTYPEChildren's Specialty       0.019267175825227 \n",
       "NACHTYPEChildren's unit of General <0.01             "
      ]
     },
     "metadata": {},
     "output_type": "display_data"
    },
    {
     "data": {
      "text/html": [
       "<table class=\"dataframe\">\n",
       "<caption>A data.frame: 29 × 4</caption>\n",
       "<thead>\n",
       "\t<tr><th></th><th scope=col>OR</th><th scope=col>X2.5..</th><th scope=col>X97.5..</th><th scope=col>P_value</th></tr>\n",
       "\t<tr><th></th><th scope=col>&lt;dbl&gt;</th><th scope=col>&lt;dbl&gt;</th><th scope=col>&lt;dbl&gt;</th><th scope=col>&lt;chr&gt;</th></tr>\n",
       "</thead>\n",
       "<tbody>\n",
       "\t<tr><th scope=row>(Intercept)</th><td>1.348412e+04</td><td>8.641667e+03</td><td>2.104009e+04</td><td><span style=white-space:pre-wrap>&lt;0.01             </span></td></tr>\n",
       "\t<tr><th scope=row>SEVGROUP16-24</th><td>6.612065e-03</td><td>4.354466e-03</td><td>1.004013e-02</td><td><span style=white-space:pre-wrap>&lt;0.01             </span></td></tr>\n",
       "\t<tr><th scope=row>SEVGROUP0-15</th><td>3.443052e-04</td><td>2.345419e-04</td><td>5.054366e-04</td><td><span style=white-space:pre-wrap>&lt;0.01             </span></td></tr>\n",
       "\t<tr><th scope=row>RACEBlack</th><td>1.312476e+00</td><td>1.130639e+00</td><td>1.523558e+00</td><td><span style=white-space:pre-wrap>&lt;0.01             </span></td></tr>\n",
       "\t<tr><th scope=row>RACEHispanic</th><td>9.090066e-01</td><td>8.041067e-01</td><td>1.027591e+00</td><td>0.127277829417415 </td></tr>\n",
       "\t<tr><th scope=row>RACEAsian or Pacific Islander</th><td>1.782280e+00</td><td>1.188629e+00</td><td>2.672426e+00</td><td><span style=white-space:pre-wrap>&lt;0.01             </span></td></tr>\n",
       "\t<tr><th scope=row>RACENative American</th><td>1.816737e+00</td><td>1.017085e+00</td><td>3.245091e+00</td><td>0.043674582239403 </td></tr>\n",
       "\t<tr><th scope=row>RACEOther</th><td>1.659561e+00</td><td>1.281008e+00</td><td>2.149981e+00</td><td><span style=white-space:pre-wrap>&lt;0.01             </span></td></tr>\n",
       "\t<tr><th scope=row>SEXFemale</th><td>1.382752e+00</td><td>1.259902e+00</td><td>1.517582e+00</td><td><span style=white-space:pre-wrap>&lt;0.01             </span></td></tr>\n",
       "\t<tr><th scope=row>AGEGROUP8-11</th><td>5.713835e-01</td><td>5.057668e-01</td><td>6.455131e-01</td><td><span style=white-space:pre-wrap>&lt;0.01             </span></td></tr>\n",
       "\t<tr><th scope=row>AGEGROUP4-7</th><td>3.402941e-01</td><td>3.090577e-01</td><td>3.746877e-01</td><td><span style=white-space:pre-wrap>&lt;0.01             </span></td></tr>\n",
       "\t<tr><th scope=row>AGEGROUP1-3</th><td>3.349879e-01</td><td>3.004209e-01</td><td>3.735321e-01</td><td><span style=white-space:pre-wrap>&lt;0.01             </span></td></tr>\n",
       "\t<tr><th scope=row>AGEGROUP&lt;1</th><td>4.676770e+00</td><td>3.302894e+00</td><td>6.622126e+00</td><td><span style=white-space:pre-wrap>&lt;0.01             </span></td></tr>\n",
       "\t<tr><th scope=row>PAYERPrivate</th><td>5.904091e-01</td><td>5.291145e-01</td><td>6.588044e-01</td><td><span style=white-space:pre-wrap>&lt;0.01             </span></td></tr>\n",
       "\t<tr><th scope=row>PAYERSelf-pay</th><td>3.212296e-01</td><td>2.756126e-01</td><td>3.743966e-01</td><td><span style=white-space:pre-wrap>&lt;0.01             </span></td></tr>\n",
       "\t<tr><th scope=row>PAYEROther</th><td>1.219232e+00</td><td>9.089645e-01</td><td>1.635407e+00</td><td>0.18585575915546  </td></tr>\n",
       "\t<tr><th scope=row>ZIPINC_QRTL3</th><td>1.182927e+00</td><td>1.050428e+00</td><td>1.332138e+00</td><td><span style=white-space:pre-wrap>&lt;0.01             </span></td></tr>\n",
       "\t<tr><th scope=row>ZIPINC_QRTL2</th><td>1.321487e+00</td><td>1.161201e+00</td><td>1.503897e+00</td><td><span style=white-space:pre-wrap>&lt;0.01             </span></td></tr>\n",
       "\t<tr><th scope=row>ZIPINC_QRTL1</th><td>1.446503e+00</td><td>1.264902e+00</td><td>1.654177e+00</td><td><span style=white-space:pre-wrap>&lt;0.01             </span></td></tr>\n",
       "\t<tr><th scope=row>HOSP_LOCTEACHUrban nonteaching</th><td>2.053623e+00</td><td>1.823198e+00</td><td>2.313171e+00</td><td><span style=white-space:pre-wrap>&lt;0.01             </span></td></tr>\n",
       "\t<tr><th scope=row>HOSP_LOCTEACHUrban teaching</th><td>2.869473e+00</td><td>2.556051e+00</td><td>3.221327e+00</td><td><span style=white-space:pre-wrap>&lt;0.01             </span></td></tr>\n",
       "\t<tr><th scope=row>HOSP_BEDSIZEMedium</th><td>1.328667e+00</td><td>1.106650e+00</td><td>1.595225e+00</td><td><span style=white-space:pre-wrap>&lt;0.01             </span></td></tr>\n",
       "\t<tr><th scope=row>HOSP_BEDSIZELarge</th><td>1.853368e+00</td><td>1.552789e+00</td><td>2.212132e+00</td><td><span style=white-space:pre-wrap>&lt;0.01             </span></td></tr>\n",
       "\t<tr><th scope=row>HOSP_REGIONMidwest</th><td>1.510541e+00</td><td>1.315047e+00</td><td>1.735097e+00</td><td><span style=white-space:pre-wrap>&lt;0.01             </span></td></tr>\n",
       "\t<tr><th scope=row>HOSP_REGIONSouth</th><td>1.354493e+00</td><td>1.216359e+00</td><td>1.508315e+00</td><td><span style=white-space:pre-wrap>&lt;0.01             </span></td></tr>\n",
       "\t<tr><th scope=row>HOSP_REGIONWest</th><td>1.143542e+00</td><td>1.012087e+00</td><td>1.292071e+00</td><td>0.0313349732378704</td></tr>\n",
       "\t<tr><th scope=row>NACHTYPEChildren's General</th><td>2.187181e+00</td><td>1.856770e+00</td><td>2.576389e+00</td><td><span style=white-space:pre-wrap>&lt;0.01             </span></td></tr>\n",
       "\t<tr><th scope=row>NACHTYPEChildren's Specialty</th><td>2.090075e+07</td><td>4.259755e+04</td><td>1.025508e+10</td><td><span style=white-space:pre-wrap>&lt;0.01             </span></td></tr>\n",
       "\t<tr><th scope=row>NACHTYPEChildren's unit of General</th><td>1.108266e+00</td><td>9.908547e-01</td><td>1.239591e+00</td><td>0.0719921918260752</td></tr>\n",
       "</tbody>\n",
       "</table>\n"
      ],
      "text/latex": [
       "A data.frame: 29 × 4\n",
       "\\begin{tabular}{r|llll}\n",
       "  & OR & X2.5.. & X97.5.. & P\\_value\\\\\n",
       "  & <dbl> & <dbl> & <dbl> & <chr>\\\\\n",
       "\\hline\n",
       "\t(Intercept) & 1.348412e+04 & 8.641667e+03 & 2.104009e+04 & <0.01             \\\\\n",
       "\tSEVGROUP16-24 & 6.612065e-03 & 4.354466e-03 & 1.004013e-02 & <0.01             \\\\\n",
       "\tSEVGROUP0-15 & 3.443052e-04 & 2.345419e-04 & 5.054366e-04 & <0.01             \\\\\n",
       "\tRACEBlack & 1.312476e+00 & 1.130639e+00 & 1.523558e+00 & <0.01             \\\\\n",
       "\tRACEHispanic & 9.090066e-01 & 8.041067e-01 & 1.027591e+00 & 0.127277829417415 \\\\\n",
       "\tRACEAsian or Pacific Islander & 1.782280e+00 & 1.188629e+00 & 2.672426e+00 & <0.01             \\\\\n",
       "\tRACENative American & 1.816737e+00 & 1.017085e+00 & 3.245091e+00 & 0.043674582239403 \\\\\n",
       "\tRACEOther & 1.659561e+00 & 1.281008e+00 & 2.149981e+00 & <0.01             \\\\\n",
       "\tSEXFemale & 1.382752e+00 & 1.259902e+00 & 1.517582e+00 & <0.01             \\\\\n",
       "\tAGEGROUP8-11 & 5.713835e-01 & 5.057668e-01 & 6.455131e-01 & <0.01             \\\\\n",
       "\tAGEGROUP4-7 & 3.402941e-01 & 3.090577e-01 & 3.746877e-01 & <0.01             \\\\\n",
       "\tAGEGROUP1-3 & 3.349879e-01 & 3.004209e-01 & 3.735321e-01 & <0.01             \\\\\n",
       "\tAGEGROUP<1 & 4.676770e+00 & 3.302894e+00 & 6.622126e+00 & <0.01             \\\\\n",
       "\tPAYERPrivate & 5.904091e-01 & 5.291145e-01 & 6.588044e-01 & <0.01             \\\\\n",
       "\tPAYERSelf-pay & 3.212296e-01 & 2.756126e-01 & 3.743966e-01 & <0.01             \\\\\n",
       "\tPAYEROther & 1.219232e+00 & 9.089645e-01 & 1.635407e+00 & 0.18585575915546  \\\\\n",
       "\tZIPINC\\_QRTL3 & 1.182927e+00 & 1.050428e+00 & 1.332138e+00 & <0.01             \\\\\n",
       "\tZIPINC\\_QRTL2 & 1.321487e+00 & 1.161201e+00 & 1.503897e+00 & <0.01             \\\\\n",
       "\tZIPINC\\_QRTL1 & 1.446503e+00 & 1.264902e+00 & 1.654177e+00 & <0.01             \\\\\n",
       "\tHOSP\\_LOCTEACHUrban nonteaching & 2.053623e+00 & 1.823198e+00 & 2.313171e+00 & <0.01             \\\\\n",
       "\tHOSP\\_LOCTEACHUrban teaching & 2.869473e+00 & 2.556051e+00 & 3.221327e+00 & <0.01             \\\\\n",
       "\tHOSP\\_BEDSIZEMedium & 1.328667e+00 & 1.106650e+00 & 1.595225e+00 & <0.01             \\\\\n",
       "\tHOSP\\_BEDSIZELarge & 1.853368e+00 & 1.552789e+00 & 2.212132e+00 & <0.01             \\\\\n",
       "\tHOSP\\_REGIONMidwest & 1.510541e+00 & 1.315047e+00 & 1.735097e+00 & <0.01             \\\\\n",
       "\tHOSP\\_REGIONSouth & 1.354493e+00 & 1.216359e+00 & 1.508315e+00 & <0.01             \\\\\n",
       "\tHOSP\\_REGIONWest & 1.143542e+00 & 1.012087e+00 & 1.292071e+00 & 0.0313349732378704\\\\\n",
       "\tNACHTYPEChildren's General & 2.187181e+00 & 1.856770e+00 & 2.576389e+00 & <0.01             \\\\\n",
       "\tNACHTYPEChildren's Specialty & 2.090075e+07 & 4.259755e+04 & 1.025508e+10 & <0.01             \\\\\n",
       "\tNACHTYPEChildren's unit of General & 1.108266e+00 & 9.908547e-01 & 1.239591e+00 & 0.0719921918260752\\\\\n",
       "\\end{tabular}\n"
      ],
      "text/markdown": [
       "\n",
       "A data.frame: 29 × 4\n",
       "\n",
       "| <!--/--> | OR &lt;dbl&gt; | X2.5.. &lt;dbl&gt; | X97.5.. &lt;dbl&gt; | P_value &lt;chr&gt; |\n",
       "|---|---|---|---|---|\n",
       "| (Intercept) | 1.348412e+04 | 8.641667e+03 | 2.104009e+04 | &lt;0.01              |\n",
       "| SEVGROUP16-24 | 6.612065e-03 | 4.354466e-03 | 1.004013e-02 | &lt;0.01              |\n",
       "| SEVGROUP0-15 | 3.443052e-04 | 2.345419e-04 | 5.054366e-04 | &lt;0.01              |\n",
       "| RACEBlack | 1.312476e+00 | 1.130639e+00 | 1.523558e+00 | &lt;0.01              |\n",
       "| RACEHispanic | 9.090066e-01 | 8.041067e-01 | 1.027591e+00 | 0.127277829417415  |\n",
       "| RACEAsian or Pacific Islander | 1.782280e+00 | 1.188629e+00 | 2.672426e+00 | &lt;0.01              |\n",
       "| RACENative American | 1.816737e+00 | 1.017085e+00 | 3.245091e+00 | 0.043674582239403  |\n",
       "| RACEOther | 1.659561e+00 | 1.281008e+00 | 2.149981e+00 | &lt;0.01              |\n",
       "| SEXFemale | 1.382752e+00 | 1.259902e+00 | 1.517582e+00 | &lt;0.01              |\n",
       "| AGEGROUP8-11 | 5.713835e-01 | 5.057668e-01 | 6.455131e-01 | &lt;0.01              |\n",
       "| AGEGROUP4-7 | 3.402941e-01 | 3.090577e-01 | 3.746877e-01 | &lt;0.01              |\n",
       "| AGEGROUP1-3 | 3.349879e-01 | 3.004209e-01 | 3.735321e-01 | &lt;0.01              |\n",
       "| AGEGROUP&lt;1 | 4.676770e+00 | 3.302894e+00 | 6.622126e+00 | &lt;0.01              |\n",
       "| PAYERPrivate | 5.904091e-01 | 5.291145e-01 | 6.588044e-01 | &lt;0.01              |\n",
       "| PAYERSelf-pay | 3.212296e-01 | 2.756126e-01 | 3.743966e-01 | &lt;0.01              |\n",
       "| PAYEROther | 1.219232e+00 | 9.089645e-01 | 1.635407e+00 | 0.18585575915546   |\n",
       "| ZIPINC_QRTL3 | 1.182927e+00 | 1.050428e+00 | 1.332138e+00 | &lt;0.01              |\n",
       "| ZIPINC_QRTL2 | 1.321487e+00 | 1.161201e+00 | 1.503897e+00 | &lt;0.01              |\n",
       "| ZIPINC_QRTL1 | 1.446503e+00 | 1.264902e+00 | 1.654177e+00 | &lt;0.01              |\n",
       "| HOSP_LOCTEACHUrban nonteaching | 2.053623e+00 | 1.823198e+00 | 2.313171e+00 | &lt;0.01              |\n",
       "| HOSP_LOCTEACHUrban teaching | 2.869473e+00 | 2.556051e+00 | 3.221327e+00 | &lt;0.01              |\n",
       "| HOSP_BEDSIZEMedium | 1.328667e+00 | 1.106650e+00 | 1.595225e+00 | &lt;0.01              |\n",
       "| HOSP_BEDSIZELarge | 1.853368e+00 | 1.552789e+00 | 2.212132e+00 | &lt;0.01              |\n",
       "| HOSP_REGIONMidwest | 1.510541e+00 | 1.315047e+00 | 1.735097e+00 | &lt;0.01              |\n",
       "| HOSP_REGIONSouth | 1.354493e+00 | 1.216359e+00 | 1.508315e+00 | &lt;0.01              |\n",
       "| HOSP_REGIONWest | 1.143542e+00 | 1.012087e+00 | 1.292071e+00 | 0.0313349732378704 |\n",
       "| NACHTYPEChildren's General | 2.187181e+00 | 1.856770e+00 | 2.576389e+00 | &lt;0.01              |\n",
       "| NACHTYPEChildren's Specialty | 2.090075e+07 | 4.259755e+04 | 1.025508e+10 | &lt;0.01              |\n",
       "| NACHTYPEChildren's unit of General | 1.108266e+00 | 9.908547e-01 | 1.239591e+00 | 0.0719921918260752 |\n",
       "\n"
      ],
      "text/plain": [
       "                                   OR           X2.5..       X97.5..     \n",
       "(Intercept)                        1.348412e+04 8.641667e+03 2.104009e+04\n",
       "SEVGROUP16-24                      6.612065e-03 4.354466e-03 1.004013e-02\n",
       "SEVGROUP0-15                       3.443052e-04 2.345419e-04 5.054366e-04\n",
       "RACEBlack                          1.312476e+00 1.130639e+00 1.523558e+00\n",
       "RACEHispanic                       9.090066e-01 8.041067e-01 1.027591e+00\n",
       "RACEAsian or Pacific Islander      1.782280e+00 1.188629e+00 2.672426e+00\n",
       "RACENative American                1.816737e+00 1.017085e+00 3.245091e+00\n",
       "RACEOther                          1.659561e+00 1.281008e+00 2.149981e+00\n",
       "SEXFemale                          1.382752e+00 1.259902e+00 1.517582e+00\n",
       "AGEGROUP8-11                       5.713835e-01 5.057668e-01 6.455131e-01\n",
       "AGEGROUP4-7                        3.402941e-01 3.090577e-01 3.746877e-01\n",
       "AGEGROUP1-3                        3.349879e-01 3.004209e-01 3.735321e-01\n",
       "AGEGROUP<1                         4.676770e+00 3.302894e+00 6.622126e+00\n",
       "PAYERPrivate                       5.904091e-01 5.291145e-01 6.588044e-01\n",
       "PAYERSelf-pay                      3.212296e-01 2.756126e-01 3.743966e-01\n",
       "PAYEROther                         1.219232e+00 9.089645e-01 1.635407e+00\n",
       "ZIPINC_QRTL3                       1.182927e+00 1.050428e+00 1.332138e+00\n",
       "ZIPINC_QRTL2                       1.321487e+00 1.161201e+00 1.503897e+00\n",
       "ZIPINC_QRTL1                       1.446503e+00 1.264902e+00 1.654177e+00\n",
       "HOSP_LOCTEACHUrban nonteaching     2.053623e+00 1.823198e+00 2.313171e+00\n",
       "HOSP_LOCTEACHUrban teaching        2.869473e+00 2.556051e+00 3.221327e+00\n",
       "HOSP_BEDSIZEMedium                 1.328667e+00 1.106650e+00 1.595225e+00\n",
       "HOSP_BEDSIZELarge                  1.853368e+00 1.552789e+00 2.212132e+00\n",
       "HOSP_REGIONMidwest                 1.510541e+00 1.315047e+00 1.735097e+00\n",
       "HOSP_REGIONSouth                   1.354493e+00 1.216359e+00 1.508315e+00\n",
       "HOSP_REGIONWest                    1.143542e+00 1.012087e+00 1.292071e+00\n",
       "NACHTYPEChildren's General         2.187181e+00 1.856770e+00 2.576389e+00\n",
       "NACHTYPEChildren's Specialty       2.090075e+07 4.259755e+04 1.025508e+10\n",
       "NACHTYPEChildren's unit of General 1.108266e+00 9.908547e-01 1.239591e+00\n",
       "                                   P_value           \n",
       "(Intercept)                        <0.01             \n",
       "SEVGROUP16-24                      <0.01             \n",
       "SEVGROUP0-15                       <0.01             \n",
       "RACEBlack                          <0.01             \n",
       "RACEHispanic                       0.127277829417415 \n",
       "RACEAsian or Pacific Islander      <0.01             \n",
       "RACENative American                0.043674582239403 \n",
       "RACEOther                          <0.01             \n",
       "SEXFemale                          <0.01             \n",
       "AGEGROUP8-11                       <0.01             \n",
       "AGEGROUP4-7                        <0.01             \n",
       "AGEGROUP1-3                        <0.01             \n",
       "AGEGROUP<1                         <0.01             \n",
       "PAYERPrivate                       <0.01             \n",
       "PAYERSelf-pay                      <0.01             \n",
       "PAYEROther                         0.18585575915546  \n",
       "ZIPINC_QRTL3                       <0.01             \n",
       "ZIPINC_QRTL2                       <0.01             \n",
       "ZIPINC_QRTL1                       <0.01             \n",
       "HOSP_LOCTEACHUrban nonteaching     <0.01             \n",
       "HOSP_LOCTEACHUrban teaching        <0.01             \n",
       "HOSP_BEDSIZEMedium                 <0.01             \n",
       "HOSP_BEDSIZELarge                  <0.01             \n",
       "HOSP_REGIONMidwest                 <0.01             \n",
       "HOSP_REGIONSouth                   <0.01             \n",
       "HOSP_REGIONWest                    0.0313349732378704\n",
       "NACHTYPEChildren's General         <0.01             \n",
       "NACHTYPEChildren's Specialty       <0.01             \n",
       "NACHTYPEChildren's unit of General 0.0719921918260752"
      ]
     },
     "metadata": {},
     "output_type": "display_data"
    }
   ],
   "source": [
    "# deleted hospital control\n",
    "los_all = svyglm(LOS ~ SEVGROUP + RACE  + SEX + AGEGROUP + PAYER + ZIPINC_QRTL + HOSP_LOCTEACH + HOSP_BEDSIZE + HOSP_REGION + NACHTYPE, design = dat.w, na.action = na.omit)\n",
    "summary(los_all)\n",
    "# exp(cbind(OR = coef(los_all), confint(los_all)))\n",
    "los_all_tb = data.frame(exp(cbind(OR = coef(los_all), confint(los_all))), P_value = summary(los_all)$coefficients[,4])\n",
    "los_all_tb[los_all_tb$P_value < 0.01, ]$P_value <- '<0.01'\n",
    "los_all_tb\n",
    "\n",
    "los_scan = svyglm(LOS ~ SEVGROUP + RACE  + SEX + AGEGROUP + PAYER + ZIPINC_QRTL + HOSP_LOCTEACH + HOSP_BEDSIZE + HOSP_REGION + NACHTYPE, design = subset(dat.w, Child_abuse == 'SCAN'), na.action = na.omit)\n",
    "summary(los_scan)\n",
    "# exp(cbind(OR = coef(los_scan), confint(los_scan)))\n",
    "los_scan_tb = data.frame(exp(cbind(OR = coef(los_scan), confint(los_scan))), P_value = summary(los_scan)$coefficients[,4])\n",
    "los_scan_tb[los_scan_tb$P_value < 0.01, ]$P_value <- '<0.01'\n",
    "los_scan_tb\n",
    "\n",
    "# non scan\n",
    "los_non_scan = svyglm(LOS ~ SEVGROUP + RACE  + SEX + AGEGROUP + PAYER + ZIPINC_QRTL + HOSP_LOCTEACH + HOSP_BEDSIZE + HOSP_REGION + NACHTYPE, design = subset(dat.w, Child_abuse == 'Non-SCAN'), na.action = na.omit)\n",
    "# summary(los_non_scan)\n",
    "los_non_scan_tb = data.frame(exp(cbind(OR = coef(los_non_scan), confint(los_non_scan))), P_value = summary(los_non_scan)$coefficients[,4])\n",
    "los_non_scan_tb[a1$P_value < 0.01, ]$P_value <- '<0.01'\n",
    "los_non_scan_tb"
   ]
  },
  {
   "cell_type": "code",
   "execution_count": 195,
   "id": "bd3b4a07",
   "metadata": {},
   "outputs": [],
   "source": []
  },
  {
   "cell_type": "code",
   "execution_count": 205,
   "id": "5e3343d5",
   "metadata": {},
   "outputs": [
    {
     "name": "stderr",
     "output_type": "stream",
     "text": [
      "Warning message in eval(family$initialize):\n",
      "“non-integer #successes in a binomial glm!”\n"
     ]
    },
    {
     "data": {
      "text/plain": [
       "\n",
       "Call:\n",
       "svyglm(formula = DIED ~ SEVGROUP + RACE + SEX + AGEGROUP + PAYER + \n",
       "    ZIPINC_QRTL + HOSP_LOCTEACH + HOSP_BEDSIZE + HOSP_REGION + \n",
       "    NACHTYPE, design = dat.w, family = \"binomial\", na.action = na.omit)\n",
       "\n",
       "Survey design:\n",
       "svydesign(ids = ~1, data = dat, weights = dat$DISCWT)\n",
       "\n",
       "Coefficients:\n",
       "                                    Estimate Std. Error t value Pr(>|t|)    \n",
       "(Intercept)                         -4.43848    0.31430 -14.122  < 2e-16 ***\n",
       "SEVGROUP16-24                       -1.71110    0.06673 -25.644  < 2e-16 ***\n",
       "SEVGROUP0-15                        -3.67083    0.06617 -55.473  < 2e-16 ***\n",
       "RACEBlack                            0.24027    0.07454   3.224 0.001267 ** \n",
       "RACEHispanic                         0.06340    0.07678   0.826 0.408952    \n",
       "RACEAsian or Pacific Islander        0.17532    0.19464   0.901 0.367737    \n",
       "RACENative American                 -0.35268    0.32231  -1.094 0.273849    \n",
       "RACEOther                            0.33369    0.11188   2.983 0.002858 ** \n",
       "SEXFemale                            0.10208    0.05621   1.816 0.069340 .  \n",
       "AGEGROUP8-11                        -0.39660    0.11096  -3.574 0.000351 ***\n",
       "AGEGROUP4-7                         -0.06760    0.09247  -0.731 0.464702    \n",
       "AGEGROUP1-3                          0.53271    0.07935   6.714 1.91e-11 ***\n",
       "AGEGROUP<1                           0.87830    0.08295  10.589  < 2e-16 ***\n",
       "PAYERPrivate                        -0.10582    0.06512  -1.625 0.104160    \n",
       "PAYERSelf-pay                        0.66612    0.09891   6.734 1.65e-11 ***\n",
       "PAYEROther                           0.58295    0.10008   5.825 5.74e-09 ***\n",
       "ZIPINC_QRTL3                         0.07547    0.08900   0.848 0.396432    \n",
       "ZIPINC_QRTL2                         0.29147    0.08538   3.414 0.000641 ***\n",
       "ZIPINC_QRTL1                         0.20225    0.08617   2.347 0.018914 *  \n",
       "HOSP_LOCTEACHUrban nonteaching       1.02110    0.27966   3.651 0.000261 ***\n",
       "HOSP_LOCTEACHUrban teaching          1.42641    0.27553   5.177 2.26e-07 ***\n",
       "HOSP_BEDSIZEMedium                   0.25708    0.11962   2.149 0.031616 *  \n",
       "HOSP_BEDSIZELarge                    0.36243    0.12160   2.981 0.002877 ** \n",
       "HOSP_REGIONMidwest                   0.47193    0.09922   4.756 1.97e-06 ***\n",
       "HOSP_REGIONSouth                     0.50689    0.08600   5.894 3.77e-09 ***\n",
       "HOSP_REGIONWest                      0.37568    0.09285   4.046 5.21e-05 ***\n",
       "NACHTYPEChildren's General           0.11284    0.08736   1.292 0.196484    \n",
       "NACHTYPEChildren's Specialty       -11.04277    0.26908 -41.039  < 2e-16 ***\n",
       "NACHTYPEChildren's unit of General   0.08877    0.07101   1.250 0.211236    \n",
       "---\n",
       "Signif. codes:  0 ‘***’ 0.001 ‘**’ 0.01 ‘*’ 0.05 ‘.’ 0.1 ‘ ’ 1\n",
       "\n",
       "(Dispersion parameter for binomial family taken to be 0.8541942)\n",
       "\n",
       "Number of Fisher Scoring iterations: 14\n"
      ]
     },
     "metadata": {},
     "output_type": "display_data"
    },
    {
     "data": {
      "text/html": [
       "<table class=\"dataframe\">\n",
       "<caption>A data.frame: 29 × 4</caption>\n",
       "<thead>\n",
       "\t<tr><th></th><th scope=col>OR</th><th scope=col>X2.5..</th><th scope=col>X97.5..</th><th scope=col>P_value</th></tr>\n",
       "\t<tr><th></th><th scope=col>&lt;dbl&gt;</th><th scope=col>&lt;dbl&gt;</th><th scope=col>&lt;dbl&gt;</th><th scope=col>&lt;chr&gt;</th></tr>\n",
       "</thead>\n",
       "<tbody>\n",
       "\t<tr><th scope=row>(Intercept)</th><td>0.0118138924</td><td>6.380544e-03</td><td>2.187401e-02</td><td><span style=white-space:pre-wrap>&lt;0.01             </span></td></tr>\n",
       "\t<tr><th scope=row>SEVGROUP16-24</th><td>0.1806663604</td><td>1.585182e-01</td><td>2.059090e-01</td><td><span style=white-space:pre-wrap>&lt;0.01             </span></td></tr>\n",
       "\t<tr><th scope=row>SEVGROUP0-15</th><td>0.0254552267</td><td>2.235884e-02</td><td>2.898042e-02</td><td><span style=white-space:pre-wrap>&lt;0.01             </span></td></tr>\n",
       "\t<tr><th scope=row>RACEBlack</th><td>1.2715926297</td><td>1.098757e+00</td><td>1.471616e+00</td><td><span style=white-space:pre-wrap>&lt;0.01             </span></td></tr>\n",
       "\t<tr><th scope=row>RACEHispanic</th><td>1.0654556152</td><td>9.165947e-01</td><td>1.238492e+00</td><td>0.408952373967205 </td></tr>\n",
       "\t<tr><th scope=row>RACEAsian or Pacific Islander</th><td>1.1916235530</td><td>8.136915e-01</td><td>1.745092e+00</td><td>0.367737147863563 </td></tr>\n",
       "\t<tr><th scope=row>RACENative American</th><td>0.7028005578</td><td>3.736650e-01</td><td>1.321849e+00</td><td>0.273848704836815 </td></tr>\n",
       "\t<tr><th scope=row>RACEOther</th><td>1.3961156440</td><td>1.121218e+00</td><td>1.738413e+00</td><td><span style=white-space:pre-wrap>&lt;0.01             </span></td></tr>\n",
       "\t<tr><th scope=row>SEXFemale</th><td>1.1074747367</td><td>9.919518e-01</td><td>1.236451e+00</td><td>0.0693400025090068</td></tr>\n",
       "\t<tr><th scope=row>AGEGROUP8-11</th><td>0.6726009689</td><td>5.411355e-01</td><td>8.360052e-01</td><td><span style=white-space:pre-wrap>&lt;0.01             </span></td></tr>\n",
       "\t<tr><th scope=row>AGEGROUP4-7</th><td>0.9346297377</td><td>7.797070e-01</td><td>1.120335e+00</td><td>0.464701541016705 </td></tr>\n",
       "\t<tr><th scope=row>AGEGROUP1-3</th><td>1.7035368149</td><td>1.458174e+00</td><td>1.990186e+00</td><td><span style=white-space:pre-wrap>&lt;0.01             </span></td></tr>\n",
       "\t<tr><th scope=row>AGEGROUP&lt;1</th><td>2.4068165311</td><td>2.045684e+00</td><td>2.831701e+00</td><td><span style=white-space:pre-wrap>&lt;0.01             </span></td></tr>\n",
       "\t<tr><th scope=row>PAYERPrivate</th><td>0.8995856555</td><td>7.917935e-01</td><td>1.022052e+00</td><td>0.104160495540159 </td></tr>\n",
       "\t<tr><th scope=row>PAYERSelf-pay</th><td>1.9466618362</td><td>1.603600e+00</td><td>2.363116e+00</td><td><span style=white-space:pre-wrap>&lt;0.01             </span></td></tr>\n",
       "\t<tr><th scope=row>PAYEROther</th><td>1.7913177860</td><td>1.472245e+00</td><td>2.179542e+00</td><td><span style=white-space:pre-wrap>&lt;0.01             </span></td></tr>\n",
       "\t<tr><th scope=row>ZIPINC_QRTL3</th><td>1.0783927641</td><td>9.057761e-01</td><td>1.283906e+00</td><td>0.396431671040497 </td></tr>\n",
       "\t<tr><th scope=row>ZIPINC_QRTL2</th><td>1.3383984263</td><td>1.132167e+00</td><td>1.582196e+00</td><td><span style=white-space:pre-wrap>&lt;0.01             </span></td></tr>\n",
       "\t<tr><th scope=row>ZIPINC_QRTL1</th><td>1.2241589946</td><td>1.033933e+00</td><td>1.449383e+00</td><td>0.0189135009977436</td></tr>\n",
       "\t<tr><th scope=row>HOSP_LOCTEACHUrban nonteaching</th><td>2.7762357556</td><td>1.604760e+00</td><td>4.802890e+00</td><td><span style=white-space:pre-wrap>&lt;0.01             </span></td></tr>\n",
       "\t<tr><th scope=row>HOSP_LOCTEACHUrban teaching</th><td>4.1637321451</td><td>2.426304e+00</td><td>7.145299e+00</td><td><span style=white-space:pre-wrap>&lt;0.01             </span></td></tr>\n",
       "\t<tr><th scope=row>HOSP_BEDSIZEMedium</th><td>1.2931542080</td><td>1.022898e+00</td><td>1.634814e+00</td><td>0.0316161820105391</td></tr>\n",
       "\t<tr><th scope=row>HOSP_BEDSIZELarge</th><td>1.4368136835</td><td>1.132132e+00</td><td>1.823492e+00</td><td><span style=white-space:pre-wrap>&lt;0.01             </span></td></tr>\n",
       "\t<tr><th scope=row>HOSP_REGIONMidwest</th><td>1.6030792645</td><td>1.319775e+00</td><td>1.947198e+00</td><td><span style=white-space:pre-wrap>&lt;0.01             </span></td></tr>\n",
       "\t<tr><th scope=row>HOSP_REGIONSouth</th><td>1.6601140426</td><td>1.402613e+00</td><td>1.964888e+00</td><td><span style=white-space:pre-wrap>&lt;0.01             </span></td></tr>\n",
       "\t<tr><th scope=row>HOSP_REGIONWest</th><td>1.4559758697</td><td>1.213724e+00</td><td>1.746580e+00</td><td><span style=white-space:pre-wrap>&lt;0.01             </span></td></tr>\n",
       "\t<tr><th scope=row>NACHTYPEChildren's General</th><td>1.1194521110</td><td>9.432846e-01</td><td>1.328521e+00</td><td>0.196484219518796 </td></tr>\n",
       "\t<tr><th scope=row>NACHTYPEChildren's Specialty</th><td>0.0000160025</td><td>9.443715e-06</td><td>2.711644e-05</td><td><span style=white-space:pre-wrap>&lt;0.01             </span></td></tr>\n",
       "\t<tr><th scope=row>NACHTYPEChildren's unit of General</th><td>1.0928326018</td><td>9.508474e-01</td><td>1.256020e+00</td><td>0.211235820486712 </td></tr>\n",
       "</tbody>\n",
       "</table>\n"
      ],
      "text/latex": [
       "A data.frame: 29 × 4\n",
       "\\begin{tabular}{r|llll}\n",
       "  & OR & X2.5.. & X97.5.. & P\\_value\\\\\n",
       "  & <dbl> & <dbl> & <dbl> & <chr>\\\\\n",
       "\\hline\n",
       "\t(Intercept) & 0.0118138924 & 6.380544e-03 & 2.187401e-02 & <0.01             \\\\\n",
       "\tSEVGROUP16-24 & 0.1806663604 & 1.585182e-01 & 2.059090e-01 & <0.01             \\\\\n",
       "\tSEVGROUP0-15 & 0.0254552267 & 2.235884e-02 & 2.898042e-02 & <0.01             \\\\\n",
       "\tRACEBlack & 1.2715926297 & 1.098757e+00 & 1.471616e+00 & <0.01             \\\\\n",
       "\tRACEHispanic & 1.0654556152 & 9.165947e-01 & 1.238492e+00 & 0.408952373967205 \\\\\n",
       "\tRACEAsian or Pacific Islander & 1.1916235530 & 8.136915e-01 & 1.745092e+00 & 0.367737147863563 \\\\\n",
       "\tRACENative American & 0.7028005578 & 3.736650e-01 & 1.321849e+00 & 0.273848704836815 \\\\\n",
       "\tRACEOther & 1.3961156440 & 1.121218e+00 & 1.738413e+00 & <0.01             \\\\\n",
       "\tSEXFemale & 1.1074747367 & 9.919518e-01 & 1.236451e+00 & 0.0693400025090068\\\\\n",
       "\tAGEGROUP8-11 & 0.6726009689 & 5.411355e-01 & 8.360052e-01 & <0.01             \\\\\n",
       "\tAGEGROUP4-7 & 0.9346297377 & 7.797070e-01 & 1.120335e+00 & 0.464701541016705 \\\\\n",
       "\tAGEGROUP1-3 & 1.7035368149 & 1.458174e+00 & 1.990186e+00 & <0.01             \\\\\n",
       "\tAGEGROUP<1 & 2.4068165311 & 2.045684e+00 & 2.831701e+00 & <0.01             \\\\\n",
       "\tPAYERPrivate & 0.8995856555 & 7.917935e-01 & 1.022052e+00 & 0.104160495540159 \\\\\n",
       "\tPAYERSelf-pay & 1.9466618362 & 1.603600e+00 & 2.363116e+00 & <0.01             \\\\\n",
       "\tPAYEROther & 1.7913177860 & 1.472245e+00 & 2.179542e+00 & <0.01             \\\\\n",
       "\tZIPINC\\_QRTL3 & 1.0783927641 & 9.057761e-01 & 1.283906e+00 & 0.396431671040497 \\\\\n",
       "\tZIPINC\\_QRTL2 & 1.3383984263 & 1.132167e+00 & 1.582196e+00 & <0.01             \\\\\n",
       "\tZIPINC\\_QRTL1 & 1.2241589946 & 1.033933e+00 & 1.449383e+00 & 0.0189135009977436\\\\\n",
       "\tHOSP\\_LOCTEACHUrban nonteaching & 2.7762357556 & 1.604760e+00 & 4.802890e+00 & <0.01             \\\\\n",
       "\tHOSP\\_LOCTEACHUrban teaching & 4.1637321451 & 2.426304e+00 & 7.145299e+00 & <0.01             \\\\\n",
       "\tHOSP\\_BEDSIZEMedium & 1.2931542080 & 1.022898e+00 & 1.634814e+00 & 0.0316161820105391\\\\\n",
       "\tHOSP\\_BEDSIZELarge & 1.4368136835 & 1.132132e+00 & 1.823492e+00 & <0.01             \\\\\n",
       "\tHOSP\\_REGIONMidwest & 1.6030792645 & 1.319775e+00 & 1.947198e+00 & <0.01             \\\\\n",
       "\tHOSP\\_REGIONSouth & 1.6601140426 & 1.402613e+00 & 1.964888e+00 & <0.01             \\\\\n",
       "\tHOSP\\_REGIONWest & 1.4559758697 & 1.213724e+00 & 1.746580e+00 & <0.01             \\\\\n",
       "\tNACHTYPEChildren's General & 1.1194521110 & 9.432846e-01 & 1.328521e+00 & 0.196484219518796 \\\\\n",
       "\tNACHTYPEChildren's Specialty & 0.0000160025 & 9.443715e-06 & 2.711644e-05 & <0.01             \\\\\n",
       "\tNACHTYPEChildren's unit of General & 1.0928326018 & 9.508474e-01 & 1.256020e+00 & 0.211235820486712 \\\\\n",
       "\\end{tabular}\n"
      ],
      "text/markdown": [
       "\n",
       "A data.frame: 29 × 4\n",
       "\n",
       "| <!--/--> | OR &lt;dbl&gt; | X2.5.. &lt;dbl&gt; | X97.5.. &lt;dbl&gt; | P_value &lt;chr&gt; |\n",
       "|---|---|---|---|---|\n",
       "| (Intercept) | 0.0118138924 | 6.380544e-03 | 2.187401e-02 | &lt;0.01              |\n",
       "| SEVGROUP16-24 | 0.1806663604 | 1.585182e-01 | 2.059090e-01 | &lt;0.01              |\n",
       "| SEVGROUP0-15 | 0.0254552267 | 2.235884e-02 | 2.898042e-02 | &lt;0.01              |\n",
       "| RACEBlack | 1.2715926297 | 1.098757e+00 | 1.471616e+00 | &lt;0.01              |\n",
       "| RACEHispanic | 1.0654556152 | 9.165947e-01 | 1.238492e+00 | 0.408952373967205  |\n",
       "| RACEAsian or Pacific Islander | 1.1916235530 | 8.136915e-01 | 1.745092e+00 | 0.367737147863563  |\n",
       "| RACENative American | 0.7028005578 | 3.736650e-01 | 1.321849e+00 | 0.273848704836815  |\n",
       "| RACEOther | 1.3961156440 | 1.121218e+00 | 1.738413e+00 | &lt;0.01              |\n",
       "| SEXFemale | 1.1074747367 | 9.919518e-01 | 1.236451e+00 | 0.0693400025090068 |\n",
       "| AGEGROUP8-11 | 0.6726009689 | 5.411355e-01 | 8.360052e-01 | &lt;0.01              |\n",
       "| AGEGROUP4-7 | 0.9346297377 | 7.797070e-01 | 1.120335e+00 | 0.464701541016705  |\n",
       "| AGEGROUP1-3 | 1.7035368149 | 1.458174e+00 | 1.990186e+00 | &lt;0.01              |\n",
       "| AGEGROUP&lt;1 | 2.4068165311 | 2.045684e+00 | 2.831701e+00 | &lt;0.01              |\n",
       "| PAYERPrivate | 0.8995856555 | 7.917935e-01 | 1.022052e+00 | 0.104160495540159  |\n",
       "| PAYERSelf-pay | 1.9466618362 | 1.603600e+00 | 2.363116e+00 | &lt;0.01              |\n",
       "| PAYEROther | 1.7913177860 | 1.472245e+00 | 2.179542e+00 | &lt;0.01              |\n",
       "| ZIPINC_QRTL3 | 1.0783927641 | 9.057761e-01 | 1.283906e+00 | 0.396431671040497  |\n",
       "| ZIPINC_QRTL2 | 1.3383984263 | 1.132167e+00 | 1.582196e+00 | &lt;0.01              |\n",
       "| ZIPINC_QRTL1 | 1.2241589946 | 1.033933e+00 | 1.449383e+00 | 0.0189135009977436 |\n",
       "| HOSP_LOCTEACHUrban nonteaching | 2.7762357556 | 1.604760e+00 | 4.802890e+00 | &lt;0.01              |\n",
       "| HOSP_LOCTEACHUrban teaching | 4.1637321451 | 2.426304e+00 | 7.145299e+00 | &lt;0.01              |\n",
       "| HOSP_BEDSIZEMedium | 1.2931542080 | 1.022898e+00 | 1.634814e+00 | 0.0316161820105391 |\n",
       "| HOSP_BEDSIZELarge | 1.4368136835 | 1.132132e+00 | 1.823492e+00 | &lt;0.01              |\n",
       "| HOSP_REGIONMidwest | 1.6030792645 | 1.319775e+00 | 1.947198e+00 | &lt;0.01              |\n",
       "| HOSP_REGIONSouth | 1.6601140426 | 1.402613e+00 | 1.964888e+00 | &lt;0.01              |\n",
       "| HOSP_REGIONWest | 1.4559758697 | 1.213724e+00 | 1.746580e+00 | &lt;0.01              |\n",
       "| NACHTYPEChildren's General | 1.1194521110 | 9.432846e-01 | 1.328521e+00 | 0.196484219518796  |\n",
       "| NACHTYPEChildren's Specialty | 0.0000160025 | 9.443715e-06 | 2.711644e-05 | &lt;0.01              |\n",
       "| NACHTYPEChildren's unit of General | 1.0928326018 | 9.508474e-01 | 1.256020e+00 | 0.211235820486712  |\n",
       "\n"
      ],
      "text/plain": [
       "                                   OR           X2.5..       X97.5..     \n",
       "(Intercept)                        0.0118138924 6.380544e-03 2.187401e-02\n",
       "SEVGROUP16-24                      0.1806663604 1.585182e-01 2.059090e-01\n",
       "SEVGROUP0-15                       0.0254552267 2.235884e-02 2.898042e-02\n",
       "RACEBlack                          1.2715926297 1.098757e+00 1.471616e+00\n",
       "RACEHispanic                       1.0654556152 9.165947e-01 1.238492e+00\n",
       "RACEAsian or Pacific Islander      1.1916235530 8.136915e-01 1.745092e+00\n",
       "RACENative American                0.7028005578 3.736650e-01 1.321849e+00\n",
       "RACEOther                          1.3961156440 1.121218e+00 1.738413e+00\n",
       "SEXFemale                          1.1074747367 9.919518e-01 1.236451e+00\n",
       "AGEGROUP8-11                       0.6726009689 5.411355e-01 8.360052e-01\n",
       "AGEGROUP4-7                        0.9346297377 7.797070e-01 1.120335e+00\n",
       "AGEGROUP1-3                        1.7035368149 1.458174e+00 1.990186e+00\n",
       "AGEGROUP<1                         2.4068165311 2.045684e+00 2.831701e+00\n",
       "PAYERPrivate                       0.8995856555 7.917935e-01 1.022052e+00\n",
       "PAYERSelf-pay                      1.9466618362 1.603600e+00 2.363116e+00\n",
       "PAYEROther                         1.7913177860 1.472245e+00 2.179542e+00\n",
       "ZIPINC_QRTL3                       1.0783927641 9.057761e-01 1.283906e+00\n",
       "ZIPINC_QRTL2                       1.3383984263 1.132167e+00 1.582196e+00\n",
       "ZIPINC_QRTL1                       1.2241589946 1.033933e+00 1.449383e+00\n",
       "HOSP_LOCTEACHUrban nonteaching     2.7762357556 1.604760e+00 4.802890e+00\n",
       "HOSP_LOCTEACHUrban teaching        4.1637321451 2.426304e+00 7.145299e+00\n",
       "HOSP_BEDSIZEMedium                 1.2931542080 1.022898e+00 1.634814e+00\n",
       "HOSP_BEDSIZELarge                  1.4368136835 1.132132e+00 1.823492e+00\n",
       "HOSP_REGIONMidwest                 1.6030792645 1.319775e+00 1.947198e+00\n",
       "HOSP_REGIONSouth                   1.6601140426 1.402613e+00 1.964888e+00\n",
       "HOSP_REGIONWest                    1.4559758697 1.213724e+00 1.746580e+00\n",
       "NACHTYPEChildren's General         1.1194521110 9.432846e-01 1.328521e+00\n",
       "NACHTYPEChildren's Specialty       0.0000160025 9.443715e-06 2.711644e-05\n",
       "NACHTYPEChildren's unit of General 1.0928326018 9.508474e-01 1.256020e+00\n",
       "                                   P_value           \n",
       "(Intercept)                        <0.01             \n",
       "SEVGROUP16-24                      <0.01             \n",
       "SEVGROUP0-15                       <0.01             \n",
       "RACEBlack                          <0.01             \n",
       "RACEHispanic                       0.408952373967205 \n",
       "RACEAsian or Pacific Islander      0.367737147863563 \n",
       "RACENative American                0.273848704836815 \n",
       "RACEOther                          <0.01             \n",
       "SEXFemale                          0.0693400025090068\n",
       "AGEGROUP8-11                       <0.01             \n",
       "AGEGROUP4-7                        0.464701541016705 \n",
       "AGEGROUP1-3                        <0.01             \n",
       "AGEGROUP<1                         <0.01             \n",
       "PAYERPrivate                       0.104160495540159 \n",
       "PAYERSelf-pay                      <0.01             \n",
       "PAYEROther                         <0.01             \n",
       "ZIPINC_QRTL3                       0.396431671040497 \n",
       "ZIPINC_QRTL2                       <0.01             \n",
       "ZIPINC_QRTL1                       0.0189135009977436\n",
       "HOSP_LOCTEACHUrban nonteaching     <0.01             \n",
       "HOSP_LOCTEACHUrban teaching        <0.01             \n",
       "HOSP_BEDSIZEMedium                 0.0316161820105391\n",
       "HOSP_BEDSIZELarge                  <0.01             \n",
       "HOSP_REGIONMidwest                 <0.01             \n",
       "HOSP_REGIONSouth                   <0.01             \n",
       "HOSP_REGIONWest                    <0.01             \n",
       "NACHTYPEChildren's General         0.196484219518796 \n",
       "NACHTYPEChildren's Specialty       <0.01             \n",
       "NACHTYPEChildren's unit of General 0.211235820486712 "
      ]
     },
     "metadata": {},
     "output_type": "display_data"
    },
    {
     "name": "stderr",
     "output_type": "stream",
     "text": [
      "Warning message in eval(family$initialize):\n",
      "“non-integer #successes in a binomial glm!”\n"
     ]
    },
    {
     "data": {
      "text/plain": [
       "\n",
       "Call:\n",
       "svyglm(formula = DIED ~ SEVGROUP + RACE + SEX + AGEGROUP + PAYER + \n",
       "    ZIPINC_QRTL + HOSP_LOCTEACH + HOSP_BEDSIZE + HOSP_REGION + \n",
       "    NACHTYPE, design = subset(dat.w, Child_abuse == \"SCAN\"), \n",
       "    family = \"binomial\", na.action = na.omit)\n",
       "\n",
       "Survey design:\n",
       "subset(dat.w, Child_abuse == \"SCAN\")\n",
       "\n",
       "Coefficients:\n",
       "                                    Estimate Std. Error t value Pr(>|t|)    \n",
       "(Intercept)                         -3.17241    1.24787  -2.542 0.011078 *  \n",
       "SEVGROUP16-24                       -1.72506    0.21549  -8.005 1.86e-15 ***\n",
       "SEVGROUP0-15                        -2.18408    0.21445 -10.185  < 2e-16 ***\n",
       "RACEBlack                            0.30612    0.21861   1.400 0.161551    \n",
       "RACEHispanic                         0.06710    0.24924   0.269 0.787794    \n",
       "RACEAsian or Pacific Islander       -0.37943    0.96568  -0.393 0.694420    \n",
       "RACENative American                 -0.34830    1.03833  -0.335 0.737321    \n",
       "RACEOther                            0.74919    0.30806   2.432 0.015093 *  \n",
       "SEXFemale                            0.16854    0.16920   0.996 0.319304    \n",
       "AGEGROUP8-11                       -13.51162    0.73118 -18.479  < 2e-16 ***\n",
       "AGEGROUP4-7                          0.88526    0.74511   1.188 0.234917    \n",
       "AGEGROUP1-3                          0.54673    0.69280   0.789 0.430097    \n",
       "AGEGROUP<1                          -0.09612    0.69618  -0.138 0.890203    \n",
       "PAYERPrivate                         0.34390    0.22566   1.524 0.127648    \n",
       "PAYERSelf-pay                        0.80097    0.42638   1.879 0.060434 .  \n",
       "PAYEROther                           1.47907    0.25869   5.718 1.22e-08 ***\n",
       "ZIPINC_QRTL3                        -0.37988    0.29810  -1.274 0.202678    \n",
       "ZIPINC_QRTL2                        -0.26384    0.29117  -0.906 0.364957    \n",
       "ZIPINC_QRTL1                        -0.07006    0.27621  -0.254 0.799800    \n",
       "HOSP_LOCTEACHUrban nonteaching       1.20172    1.07934   1.113 0.265657    \n",
       "HOSP_LOCTEACHUrban teaching          0.92346    1.09651   0.842 0.399771    \n",
       "HOSP_BEDSIZEMedium                   0.37004    0.28288   1.308 0.190956    \n",
       "HOSP_BEDSIZELarge                   -0.29483    0.32524  -0.906 0.364769    \n",
       "HOSP_REGIONMidwest                   0.72700    0.31814   2.285 0.022392 *  \n",
       "HOSP_REGIONSouth                     0.98753    0.29697   3.325 0.000897 ***\n",
       "HOSP_REGIONWest                      0.57787    0.32410   1.783 0.074717 .  \n",
       "NACHTYPEChildren's General           0.06779    0.29914   0.227 0.820742    \n",
       "NACHTYPEChildren's Specialty       -14.21675    0.68303 -20.814  < 2e-16 ***\n",
       "NACHTYPEChildren's unit of General   0.52264    0.32406   1.613 0.106931    \n",
       "---\n",
       "Signif. codes:  0 ‘***’ 0.001 ‘**’ 0.01 ‘*’ 0.05 ‘.’ 0.1 ‘ ’ 1\n",
       "\n",
       "(Dispersion parameter for binomial family taken to be 1.076158)\n",
       "\n",
       "Number of Fisher Scoring iterations: 15\n"
      ]
     },
     "metadata": {},
     "output_type": "display_data"
    },
    {
     "data": {
      "text/html": [
       "<table class=\"dataframe\">\n",
       "<caption>A data.frame: 29 × 4</caption>\n",
       "<thead>\n",
       "\t<tr><th></th><th scope=col>OR</th><th scope=col>X2.5..</th><th scope=col>X97.5..</th><th scope=col>P_value</th></tr>\n",
       "\t<tr><th></th><th scope=col>&lt;dbl&gt;</th><th scope=col>&lt;dbl&gt;</th><th scope=col>&lt;dbl&gt;</th><th scope=col>&lt;chr&gt;</th></tr>\n",
       "</thead>\n",
       "<tbody>\n",
       "\t<tr><th scope=row>(Intercept)</th><td>4.190253e-02</td><td>3.626645e-03</td><td>4.841449e-01</td><td>0.0110775163579477</td></tr>\n",
       "\t<tr><th scope=row>SEVGROUP16-24</th><td>1.781623e-01</td><td>1.167598e-01</td><td>2.718554e-01</td><td><span style=white-space:pre-wrap>&lt;0.01             </span></td></tr>\n",
       "\t<tr><th scope=row>SEVGROUP0-15</th><td>1.125816e-01</td><td>7.393277e-02</td><td>1.714343e-01</td><td><span style=white-space:pre-wrap>&lt;0.01             </span></td></tr>\n",
       "\t<tr><th scope=row>RACEBlack</th><td>1.358144e+00</td><td>8.846492e-01</td><td>2.085071e+00</td><td>0.161550591288624 </td></tr>\n",
       "\t<tr><th scope=row>RACEHispanic</th><td>1.069399e+00</td><td>6.559586e-01</td><td>1.743425e+00</td><td>0.787794479363131 </td></tr>\n",
       "\t<tr><th scope=row>RACEAsian or Pacific Islander</th><td>6.842524e-01</td><td>1.029917e-01</td><td>4.546009e+00</td><td>0.694419554738643 </td></tr>\n",
       "\t<tr><th scope=row>RACENative American</th><td>7.058877e-01</td><td>9.214106e-02</td><td>5.407767e+00</td><td>0.737321207590114 </td></tr>\n",
       "\t<tr><th scope=row>RACEOther</th><td>2.115281e+00</td><td>1.156135e+00</td><td>3.870147e+00</td><td>0.0150931715994567</td></tr>\n",
       "\t<tr><th scope=row>SEXFemale</th><td>1.183573e+00</td><td>8.493751e-01</td><td>1.649265e+00</td><td>0.319303663269399 </td></tr>\n",
       "\t<tr><th scope=row>AGEGROUP8-11</th><td>1.355120e-06</td><td>3.230546e-07</td><td>5.684331e-06</td><td><span style=white-space:pre-wrap>&lt;0.01             </span></td></tr>\n",
       "\t<tr><th scope=row>AGEGROUP4-7</th><td>2.423614e+00</td><td>5.622085e-01</td><td>1.044791e+01</td><td>0.234916859821787 </td></tr>\n",
       "\t<tr><th scope=row>AGEGROUP1-3</th><td>1.727600e+00</td><td>4.440425e-01</td><td>6.721436e+00</td><td>0.430096658272883 </td></tr>\n",
       "\t<tr><th scope=row>AGEGROUP&lt;1</th><td>9.083586e-01</td><td>2.319318e-01</td><td>3.557578e+00</td><td>0.890203470100248 </td></tr>\n",
       "\t<tr><th scope=row>PAYERPrivate</th><td>1.410433e+00</td><td>9.060951e-01</td><td>2.195488e+00</td><td>0.127648281851038 </td></tr>\n",
       "\t<tr><th scope=row>PAYERSelf-pay</th><td>2.227691e+00</td><td>9.654533e-01</td><td>5.140183e+00</td><td>0.0604339622258894</td></tr>\n",
       "\t<tr><th scope=row>PAYEROther</th><td>4.388876e+00</td><td>2.642691e+00</td><td>7.288872e+00</td><td><span style=white-space:pre-wrap>&lt;0.01             </span></td></tr>\n",
       "\t<tr><th scope=row>ZIPINC_QRTL3</th><td>6.839446e-01</td><td>3.811916e-01</td><td>1.227153e+00</td><td>0.202677970269221 </td></tr>\n",
       "\t<tr><th scope=row>ZIPINC_QRTL2</th><td>7.680932e-01</td><td>4.339476e-01</td><td>1.359536e+00</td><td>0.364956813055699 </td></tr>\n",
       "\t<tr><th scope=row>ZIPINC_QRTL1</th><td>9.323408e-01</td><td>5.424269e-01</td><td>1.602537e+00</td><td>0.799800081678552 </td></tr>\n",
       "\t<tr><th scope=row>HOSP_LOCTEACHUrban nonteaching</th><td>3.325837e+00</td><td>4.005805e-01</td><td>2.761290e+01</td><td>0.265657324486307 </td></tr>\n",
       "\t<tr><th scope=row>HOSP_LOCTEACHUrban teaching</th><td>2.517988e+00</td><td>2.932403e-01</td><td>2.162140e+01</td><td>0.399770608922555 </td></tr>\n",
       "\t<tr><th scope=row>HOSP_BEDSIZEMedium</th><td>1.447797e+00</td><td>8.313746e-01</td><td>2.521266e+00</td><td>0.190955717902339 </td></tr>\n",
       "\t<tr><th scope=row>HOSP_BEDSIZELarge</th><td>7.446586e-01</td><td>3.935201e-01</td><td>1.409118e+00</td><td>0.364769494259151 </td></tr>\n",
       "\t<tr><th scope=row>HOSP_REGIONMidwest</th><td>2.068866e+00</td><td>1.108642e+00</td><td>3.860765e+00</td><td>0.0223923478272257</td></tr>\n",
       "\t<tr><th scope=row>HOSP_REGIONSouth</th><td>2.684584e+00</td><td>1.499561e+00</td><td>4.806066e+00</td><td><span style=white-space:pre-wrap>&lt;0.01             </span></td></tr>\n",
       "\t<tr><th scope=row>HOSP_REGIONWest</th><td>1.782244e+00</td><td>9.439464e-01</td><td>3.365016e+00</td><td>0.074717175734154 </td></tr>\n",
       "\t<tr><th scope=row>NACHTYPEChildren's General</th><td>1.070142e+00</td><td>5.952200e-01</td><td>1.923999e+00</td><td>0.820742016430054 </td></tr>\n",
       "\t<tr><th scope=row>NACHTYPEChildren's Specialty</th><td>6.694900e-07</td><td>1.754079e-07</td><td>2.555283e-06</td><td><span style=white-space:pre-wrap>&lt;0.01             </span></td></tr>\n",
       "\t<tr><th scope=row>NACHTYPEChildren's unit of General</th><td>1.686471e+00</td><td>8.932902e-01</td><td>3.183944e+00</td><td>0.106930778935321 </td></tr>\n",
       "</tbody>\n",
       "</table>\n"
      ],
      "text/latex": [
       "A data.frame: 29 × 4\n",
       "\\begin{tabular}{r|llll}\n",
       "  & OR & X2.5.. & X97.5.. & P\\_value\\\\\n",
       "  & <dbl> & <dbl> & <dbl> & <chr>\\\\\n",
       "\\hline\n",
       "\t(Intercept) & 4.190253e-02 & 3.626645e-03 & 4.841449e-01 & 0.0110775163579477\\\\\n",
       "\tSEVGROUP16-24 & 1.781623e-01 & 1.167598e-01 & 2.718554e-01 & <0.01             \\\\\n",
       "\tSEVGROUP0-15 & 1.125816e-01 & 7.393277e-02 & 1.714343e-01 & <0.01             \\\\\n",
       "\tRACEBlack & 1.358144e+00 & 8.846492e-01 & 2.085071e+00 & 0.161550591288624 \\\\\n",
       "\tRACEHispanic & 1.069399e+00 & 6.559586e-01 & 1.743425e+00 & 0.787794479363131 \\\\\n",
       "\tRACEAsian or Pacific Islander & 6.842524e-01 & 1.029917e-01 & 4.546009e+00 & 0.694419554738643 \\\\\n",
       "\tRACENative American & 7.058877e-01 & 9.214106e-02 & 5.407767e+00 & 0.737321207590114 \\\\\n",
       "\tRACEOther & 2.115281e+00 & 1.156135e+00 & 3.870147e+00 & 0.0150931715994567\\\\\n",
       "\tSEXFemale & 1.183573e+00 & 8.493751e-01 & 1.649265e+00 & 0.319303663269399 \\\\\n",
       "\tAGEGROUP8-11 & 1.355120e-06 & 3.230546e-07 & 5.684331e-06 & <0.01             \\\\\n",
       "\tAGEGROUP4-7 & 2.423614e+00 & 5.622085e-01 & 1.044791e+01 & 0.234916859821787 \\\\\n",
       "\tAGEGROUP1-3 & 1.727600e+00 & 4.440425e-01 & 6.721436e+00 & 0.430096658272883 \\\\\n",
       "\tAGEGROUP<1 & 9.083586e-01 & 2.319318e-01 & 3.557578e+00 & 0.890203470100248 \\\\\n",
       "\tPAYERPrivate & 1.410433e+00 & 9.060951e-01 & 2.195488e+00 & 0.127648281851038 \\\\\n",
       "\tPAYERSelf-pay & 2.227691e+00 & 9.654533e-01 & 5.140183e+00 & 0.0604339622258894\\\\\n",
       "\tPAYEROther & 4.388876e+00 & 2.642691e+00 & 7.288872e+00 & <0.01             \\\\\n",
       "\tZIPINC\\_QRTL3 & 6.839446e-01 & 3.811916e-01 & 1.227153e+00 & 0.202677970269221 \\\\\n",
       "\tZIPINC\\_QRTL2 & 7.680932e-01 & 4.339476e-01 & 1.359536e+00 & 0.364956813055699 \\\\\n",
       "\tZIPINC\\_QRTL1 & 9.323408e-01 & 5.424269e-01 & 1.602537e+00 & 0.799800081678552 \\\\\n",
       "\tHOSP\\_LOCTEACHUrban nonteaching & 3.325837e+00 & 4.005805e-01 & 2.761290e+01 & 0.265657324486307 \\\\\n",
       "\tHOSP\\_LOCTEACHUrban teaching & 2.517988e+00 & 2.932403e-01 & 2.162140e+01 & 0.399770608922555 \\\\\n",
       "\tHOSP\\_BEDSIZEMedium & 1.447797e+00 & 8.313746e-01 & 2.521266e+00 & 0.190955717902339 \\\\\n",
       "\tHOSP\\_BEDSIZELarge & 7.446586e-01 & 3.935201e-01 & 1.409118e+00 & 0.364769494259151 \\\\\n",
       "\tHOSP\\_REGIONMidwest & 2.068866e+00 & 1.108642e+00 & 3.860765e+00 & 0.0223923478272257\\\\\n",
       "\tHOSP\\_REGIONSouth & 2.684584e+00 & 1.499561e+00 & 4.806066e+00 & <0.01             \\\\\n",
       "\tHOSP\\_REGIONWest & 1.782244e+00 & 9.439464e-01 & 3.365016e+00 & 0.074717175734154 \\\\\n",
       "\tNACHTYPEChildren's General & 1.070142e+00 & 5.952200e-01 & 1.923999e+00 & 0.820742016430054 \\\\\n",
       "\tNACHTYPEChildren's Specialty & 6.694900e-07 & 1.754079e-07 & 2.555283e-06 & <0.01             \\\\\n",
       "\tNACHTYPEChildren's unit of General & 1.686471e+00 & 8.932902e-01 & 3.183944e+00 & 0.106930778935321 \\\\\n",
       "\\end{tabular}\n"
      ],
      "text/markdown": [
       "\n",
       "A data.frame: 29 × 4\n",
       "\n",
       "| <!--/--> | OR &lt;dbl&gt; | X2.5.. &lt;dbl&gt; | X97.5.. &lt;dbl&gt; | P_value &lt;chr&gt; |\n",
       "|---|---|---|---|---|\n",
       "| (Intercept) | 4.190253e-02 | 3.626645e-03 | 4.841449e-01 | 0.0110775163579477 |\n",
       "| SEVGROUP16-24 | 1.781623e-01 | 1.167598e-01 | 2.718554e-01 | &lt;0.01              |\n",
       "| SEVGROUP0-15 | 1.125816e-01 | 7.393277e-02 | 1.714343e-01 | &lt;0.01              |\n",
       "| RACEBlack | 1.358144e+00 | 8.846492e-01 | 2.085071e+00 | 0.161550591288624  |\n",
       "| RACEHispanic | 1.069399e+00 | 6.559586e-01 | 1.743425e+00 | 0.787794479363131  |\n",
       "| RACEAsian or Pacific Islander | 6.842524e-01 | 1.029917e-01 | 4.546009e+00 | 0.694419554738643  |\n",
       "| RACENative American | 7.058877e-01 | 9.214106e-02 | 5.407767e+00 | 0.737321207590114  |\n",
       "| RACEOther | 2.115281e+00 | 1.156135e+00 | 3.870147e+00 | 0.0150931715994567 |\n",
       "| SEXFemale | 1.183573e+00 | 8.493751e-01 | 1.649265e+00 | 0.319303663269399  |\n",
       "| AGEGROUP8-11 | 1.355120e-06 | 3.230546e-07 | 5.684331e-06 | &lt;0.01              |\n",
       "| AGEGROUP4-7 | 2.423614e+00 | 5.622085e-01 | 1.044791e+01 | 0.234916859821787  |\n",
       "| AGEGROUP1-3 | 1.727600e+00 | 4.440425e-01 | 6.721436e+00 | 0.430096658272883  |\n",
       "| AGEGROUP&lt;1 | 9.083586e-01 | 2.319318e-01 | 3.557578e+00 | 0.890203470100248  |\n",
       "| PAYERPrivate | 1.410433e+00 | 9.060951e-01 | 2.195488e+00 | 0.127648281851038  |\n",
       "| PAYERSelf-pay | 2.227691e+00 | 9.654533e-01 | 5.140183e+00 | 0.0604339622258894 |\n",
       "| PAYEROther | 4.388876e+00 | 2.642691e+00 | 7.288872e+00 | &lt;0.01              |\n",
       "| ZIPINC_QRTL3 | 6.839446e-01 | 3.811916e-01 | 1.227153e+00 | 0.202677970269221  |\n",
       "| ZIPINC_QRTL2 | 7.680932e-01 | 4.339476e-01 | 1.359536e+00 | 0.364956813055699  |\n",
       "| ZIPINC_QRTL1 | 9.323408e-01 | 5.424269e-01 | 1.602537e+00 | 0.799800081678552  |\n",
       "| HOSP_LOCTEACHUrban nonteaching | 3.325837e+00 | 4.005805e-01 | 2.761290e+01 | 0.265657324486307  |\n",
       "| HOSP_LOCTEACHUrban teaching | 2.517988e+00 | 2.932403e-01 | 2.162140e+01 | 0.399770608922555  |\n",
       "| HOSP_BEDSIZEMedium | 1.447797e+00 | 8.313746e-01 | 2.521266e+00 | 0.190955717902339  |\n",
       "| HOSP_BEDSIZELarge | 7.446586e-01 | 3.935201e-01 | 1.409118e+00 | 0.364769494259151  |\n",
       "| HOSP_REGIONMidwest | 2.068866e+00 | 1.108642e+00 | 3.860765e+00 | 0.0223923478272257 |\n",
       "| HOSP_REGIONSouth | 2.684584e+00 | 1.499561e+00 | 4.806066e+00 | &lt;0.01              |\n",
       "| HOSP_REGIONWest | 1.782244e+00 | 9.439464e-01 | 3.365016e+00 | 0.074717175734154  |\n",
       "| NACHTYPEChildren's General | 1.070142e+00 | 5.952200e-01 | 1.923999e+00 | 0.820742016430054  |\n",
       "| NACHTYPEChildren's Specialty | 6.694900e-07 | 1.754079e-07 | 2.555283e-06 | &lt;0.01              |\n",
       "| NACHTYPEChildren's unit of General | 1.686471e+00 | 8.932902e-01 | 3.183944e+00 | 0.106930778935321  |\n",
       "\n"
      ],
      "text/plain": [
       "                                   OR           X2.5..       X97.5..     \n",
       "(Intercept)                        4.190253e-02 3.626645e-03 4.841449e-01\n",
       "SEVGROUP16-24                      1.781623e-01 1.167598e-01 2.718554e-01\n",
       "SEVGROUP0-15                       1.125816e-01 7.393277e-02 1.714343e-01\n",
       "RACEBlack                          1.358144e+00 8.846492e-01 2.085071e+00\n",
       "RACEHispanic                       1.069399e+00 6.559586e-01 1.743425e+00\n",
       "RACEAsian or Pacific Islander      6.842524e-01 1.029917e-01 4.546009e+00\n",
       "RACENative American                7.058877e-01 9.214106e-02 5.407767e+00\n",
       "RACEOther                          2.115281e+00 1.156135e+00 3.870147e+00\n",
       "SEXFemale                          1.183573e+00 8.493751e-01 1.649265e+00\n",
       "AGEGROUP8-11                       1.355120e-06 3.230546e-07 5.684331e-06\n",
       "AGEGROUP4-7                        2.423614e+00 5.622085e-01 1.044791e+01\n",
       "AGEGROUP1-3                        1.727600e+00 4.440425e-01 6.721436e+00\n",
       "AGEGROUP<1                         9.083586e-01 2.319318e-01 3.557578e+00\n",
       "PAYERPrivate                       1.410433e+00 9.060951e-01 2.195488e+00\n",
       "PAYERSelf-pay                      2.227691e+00 9.654533e-01 5.140183e+00\n",
       "PAYEROther                         4.388876e+00 2.642691e+00 7.288872e+00\n",
       "ZIPINC_QRTL3                       6.839446e-01 3.811916e-01 1.227153e+00\n",
       "ZIPINC_QRTL2                       7.680932e-01 4.339476e-01 1.359536e+00\n",
       "ZIPINC_QRTL1                       9.323408e-01 5.424269e-01 1.602537e+00\n",
       "HOSP_LOCTEACHUrban nonteaching     3.325837e+00 4.005805e-01 2.761290e+01\n",
       "HOSP_LOCTEACHUrban teaching        2.517988e+00 2.932403e-01 2.162140e+01\n",
       "HOSP_BEDSIZEMedium                 1.447797e+00 8.313746e-01 2.521266e+00\n",
       "HOSP_BEDSIZELarge                  7.446586e-01 3.935201e-01 1.409118e+00\n",
       "HOSP_REGIONMidwest                 2.068866e+00 1.108642e+00 3.860765e+00\n",
       "HOSP_REGIONSouth                   2.684584e+00 1.499561e+00 4.806066e+00\n",
       "HOSP_REGIONWest                    1.782244e+00 9.439464e-01 3.365016e+00\n",
       "NACHTYPEChildren's General         1.070142e+00 5.952200e-01 1.923999e+00\n",
       "NACHTYPEChildren's Specialty       6.694900e-07 1.754079e-07 2.555283e-06\n",
       "NACHTYPEChildren's unit of General 1.686471e+00 8.932902e-01 3.183944e+00\n",
       "                                   P_value           \n",
       "(Intercept)                        0.0110775163579477\n",
       "SEVGROUP16-24                      <0.01             \n",
       "SEVGROUP0-15                       <0.01             \n",
       "RACEBlack                          0.161550591288624 \n",
       "RACEHispanic                       0.787794479363131 \n",
       "RACEAsian or Pacific Islander      0.694419554738643 \n",
       "RACENative American                0.737321207590114 \n",
       "RACEOther                          0.0150931715994567\n",
       "SEXFemale                          0.319303663269399 \n",
       "AGEGROUP8-11                       <0.01             \n",
       "AGEGROUP4-7                        0.234916859821787 \n",
       "AGEGROUP1-3                        0.430096658272883 \n",
       "AGEGROUP<1                         0.890203470100248 \n",
       "PAYERPrivate                       0.127648281851038 \n",
       "PAYERSelf-pay                      0.0604339622258894\n",
       "PAYEROther                         <0.01             \n",
       "ZIPINC_QRTL3                       0.202677970269221 \n",
       "ZIPINC_QRTL2                       0.364956813055699 \n",
       "ZIPINC_QRTL1                       0.799800081678552 \n",
       "HOSP_LOCTEACHUrban nonteaching     0.265657324486307 \n",
       "HOSP_LOCTEACHUrban teaching        0.399770608922555 \n",
       "HOSP_BEDSIZEMedium                 0.190955717902339 \n",
       "HOSP_BEDSIZELarge                  0.364769494259151 \n",
       "HOSP_REGIONMidwest                 0.0223923478272257\n",
       "HOSP_REGIONSouth                   <0.01             \n",
       "HOSP_REGIONWest                    0.074717175734154 \n",
       "NACHTYPEChildren's General         0.820742016430054 \n",
       "NACHTYPEChildren's Specialty       <0.01             \n",
       "NACHTYPEChildren's unit of General 0.106930778935321 "
      ]
     },
     "metadata": {},
     "output_type": "display_data"
    },
    {
     "name": "stderr",
     "output_type": "stream",
     "text": [
      "Warning message in eval(family$initialize):\n",
      "“non-integer #successes in a binomial glm!”\n"
     ]
    },
    {
     "data": {
      "text/plain": [
       "\n",
       "Call:\n",
       "svyglm(formula = DIED ~ SEVGROUP + RACE + SEX + AGEGROUP + PAYER + \n",
       "    ZIPINC_QRTL + HOSP_LOCTEACH + HOSP_BEDSIZE + HOSP_REGION + \n",
       "    NACHTYPE, design = subset(dat.w, Child_abuse == \"Non-SCAN\"), \n",
       "    family = \"binomial\", na.action = na.omit)\n",
       "\n",
       "Survey design:\n",
       "subset(dat.w, Child_abuse == \"Non-SCAN\")\n",
       "\n",
       "Coefficients:\n",
       "                                    Estimate Std. Error t value Pr(>|t|)    \n",
       "(Intercept)                         -4.40665    0.32828 -13.424  < 2e-16 ***\n",
       "SEVGROUP16-24                       -1.70976    0.07056 -24.230  < 2e-16 ***\n",
       "SEVGROUP0-15                        -3.77443    0.06990 -53.998  < 2e-16 ***\n",
       "RACEBlack                            0.18525    0.07988   2.319 0.020396 *  \n",
       "RACEHispanic                         0.09118    0.08031   1.135 0.256252    \n",
       "RACEAsian or Pacific Islander        0.23199    0.19842   1.169 0.242336    \n",
       "RACENative American                 -0.30254    0.33945  -0.891 0.372798    \n",
       "RACEOther                            0.30025    0.12093   2.483 0.013038 *  \n",
       "SEXFemale                            0.08212    0.05969   1.376 0.168924    \n",
       "AGEGROUP8-11                        -0.37317    0.11116  -3.357 0.000788 ***\n",
       "AGEGROUP4-7                         -0.10327    0.09538  -1.083 0.278949    \n",
       "AGEGROUP1-3                          0.33917    0.08872   3.823 0.000132 ***\n",
       "AGEGROUP<1                           0.84871    0.09656   8.789  < 2e-16 ***\n",
       "PAYERPrivate                        -0.11344    0.06848  -1.657 0.097616 .  \n",
       "PAYERSelf-pay                        0.65755    0.10209   6.441 1.19e-10 ***\n",
       "PAYEROther                           0.43281    0.11039   3.921 8.83e-05 ***\n",
       "ZIPINC_QRTL3                         0.10404    0.09326   1.116 0.264605    \n",
       "ZIPINC_QRTL2                         0.33342    0.08972   3.716 0.000202 ***\n",
       "ZIPINC_QRTL1                         0.21156    0.09094   2.326 0.020004 *  \n",
       "HOSP_LOCTEACHUrban nonteaching       1.00315    0.28965   3.463 0.000534 ***\n",
       "HOSP_LOCTEACHUrban teaching          1.45538    0.28446   5.116 3.12e-07 ***\n",
       "HOSP_BEDSIZEMedium                   0.24386    0.13308   1.832 0.066894 .  \n",
       "HOSP_BEDSIZELarge                    0.40845    0.13407   3.047 0.002315 ** \n",
       "HOSP_REGIONMidwest                   0.43576    0.10450   4.170 3.05e-05 ***\n",
       "HOSP_REGIONSouth                     0.45260    0.08986   5.037 4.74e-07 ***\n",
       "HOSP_REGIONWest                      0.34906    0.09669   3.610 0.000306 ***\n",
       "NACHTYPEChildren's General           0.04974    0.09605   0.518 0.604577    \n",
       "NACHTYPEChildren's Specialty       -10.94709    0.27955 -39.159  < 2e-16 ***\n",
       "NACHTYPEChildren's unit of General   0.05592    0.07268   0.769 0.441673    \n",
       "---\n",
       "Signif. codes:  0 ‘***’ 0.001 ‘**’ 0.01 ‘*’ 0.05 ‘.’ 0.1 ‘ ’ 1\n",
       "\n",
       "(Dispersion parameter for binomial family taken to be 0.8670017)\n",
       "\n",
       "Number of Fisher Scoring iterations: 14\n"
      ]
     },
     "metadata": {},
     "output_type": "display_data"
    },
    {
     "data": {
      "text/html": [
       "<table class=\"dataframe\">\n",
       "<caption>A data.frame: 29 × 4</caption>\n",
       "<thead>\n",
       "\t<tr><th></th><th scope=col>OR</th><th scope=col>X2.5..</th><th scope=col>X97.5..</th><th scope=col>P_value</th></tr>\n",
       "\t<tr><th></th><th scope=col>&lt;dbl&gt;</th><th scope=col>&lt;dbl&gt;</th><th scope=col>&lt;dbl&gt;</th><th scope=col>&lt;chr&gt;</th></tr>\n",
       "</thead>\n",
       "<tbody>\n",
       "\t<tr><th scope=row>(Intercept)</th><td>1.219593e-02</td><td>0.0064088796</td><td>2.320855e-02</td><td><span style=white-space:pre-wrap>&lt;0.01             </span></td></tr>\n",
       "\t<tr><th scope=row>SEVGROUP16-24</th><td>1.809091e-01</td><td>0.1575419775</td><td>2.077421e-01</td><td><span style=white-space:pre-wrap>&lt;0.01             </span></td></tr>\n",
       "\t<tr><th scope=row>SEVGROUP0-15</th><td>2.295020e-02</td><td>0.0200118771</td><td>2.631996e-02</td><td><span style=white-space:pre-wrap>&lt;0.01             </span></td></tr>\n",
       "\t<tr><th scope=row>RACEBlack</th><td>1.203518e+00</td><td>1.0290949356</td><td>1.407505e+00</td><td>0.0203963923831467</td></tr>\n",
       "\t<tr><th scope=row>RACEHispanic</th><td>1.095467e+00</td><td>0.9359119621</td><td>1.282223e+00</td><td>0.25625238424248  </td></tr>\n",
       "\t<tr><th scope=row>RACEAsian or Pacific Islander</th><td>1.261105e+00</td><td>0.8547779938</td><td>1.860584e+00</td><td>0.242336481075217 </td></tr>\n",
       "\t<tr><th scope=row>RACENative American</th><td>7.389414e-01</td><td>0.3798957129</td><td>1.437327e+00</td><td>0.372798176473592 </td></tr>\n",
       "\t<tr><th scope=row>RACEOther</th><td>1.350196e+00</td><td>1.0652621629</td><td>1.711343e+00</td><td>0.0130383598214734</td></tr>\n",
       "\t<tr><th scope=row>SEXFemale</th><td>1.085584e+00</td><td>0.9657226870</td><td>1.220321e+00</td><td>0.168923701407786 </td></tr>\n",
       "\t<tr><th scope=row>AGEGROUP8-11</th><td>6.885495e-01</td><td>0.5537551625</td><td>8.561553e-01</td><td><span style=white-space:pre-wrap>&lt;0.01             </span></td></tr>\n",
       "\t<tr><th scope=row>AGEGROUP4-7</th><td>9.018868e-01</td><td>0.7481074832</td><td>1.087277e+00</td><td>0.278949095783283 </td></tr>\n",
       "\t<tr><th scope=row>AGEGROUP1-3</th><td>1.403777e+00</td><td>1.1797155250</td><td>1.670395e+00</td><td><span style=white-space:pre-wrap>&lt;0.01             </span></td></tr>\n",
       "\t<tr><th scope=row>AGEGROUP&lt;1</th><td>2.336633e+00</td><td>1.9337254759</td><td>2.823490e+00</td><td><span style=white-space:pre-wrap>&lt;0.01             </span></td></tr>\n",
       "\t<tr><th scope=row>PAYERPrivate</th><td>8.927534e-01</td><td>0.7806167664</td><td>1.020999e+00</td><td>0.0976162825769991</td></tr>\n",
       "\t<tr><th scope=row>PAYERSelf-pay</th><td>1.930067e+00</td><td>1.5800677086</td><td>2.357595e+00</td><td><span style=white-space:pre-wrap>&lt;0.01             </span></td></tr>\n",
       "\t<tr><th scope=row>PAYEROther</th><td>1.541584e+00</td><td>1.2416559536</td><td>1.913960e+00</td><td><span style=white-space:pre-wrap>&lt;0.01             </span></td></tr>\n",
       "\t<tr><th scope=row>ZIPINC_QRTL3</th><td>1.109649e+00</td><td>0.9242679344</td><td>1.332213e+00</td><td>0.26460535552652  </td></tr>\n",
       "\t<tr><th scope=row>ZIPINC_QRTL2</th><td>1.395733e+00</td><td>1.1706551498</td><td>1.664086e+00</td><td><span style=white-space:pre-wrap>&lt;0.01             </span></td></tr>\n",
       "\t<tr><th scope=row>ZIPINC_QRTL1</th><td>1.235603e+00</td><td>1.0338749318</td><td>1.476691e+00</td><td>0.0200040357261316</td></tr>\n",
       "\t<tr><th scope=row>HOSP_LOCTEACHUrban nonteaching</th><td>2.726862e+00</td><td>1.5456412286</td><td>4.810803e+00</td><td><span style=white-space:pre-wrap>&lt;0.01             </span></td></tr>\n",
       "\t<tr><th scope=row>HOSP_LOCTEACHUrban teaching</th><td>4.286105e+00</td><td>2.4543027772</td><td>7.485099e+00</td><td><span style=white-space:pre-wrap>&lt;0.01             </span></td></tr>\n",
       "\t<tr><th scope=row>HOSP_BEDSIZEMedium</th><td>1.276162e+00</td><td>0.9831647847</td><td>1.656477e+00</td><td>0.0668939276860182</td></tr>\n",
       "\t<tr><th scope=row>HOSP_BEDSIZELarge</th><td>1.504482e+00</td><td>1.1568254221</td><td>1.956618e+00</td><td><span style=white-space:pre-wrap>&lt;0.01             </span></td></tr>\n",
       "\t<tr><th scope=row>HOSP_REGIONMidwest</th><td>1.546145e+00</td><td>1.2597961490</td><td>1.897581e+00</td><td><span style=white-space:pre-wrap>&lt;0.01             </span></td></tr>\n",
       "\t<tr><th scope=row>HOSP_REGIONSouth</th><td>1.572396e+00</td><td>1.3184760709</td><td>1.875216e+00</td><td><span style=white-space:pre-wrap>&lt;0.01             </span></td></tr>\n",
       "\t<tr><th scope=row>HOSP_REGIONWest</th><td>1.417740e+00</td><td>1.1729905097</td><td>1.713557e+00</td><td><span style=white-space:pre-wrap>&lt;0.01             </span></td></tr>\n",
       "\t<tr><th scope=row>NACHTYPEChildren's General</th><td>1.050993e+00</td><td>0.8706527435</td><td>1.268687e+00</td><td>0.604576908999444 </td></tr>\n",
       "\t<tr><th scope=row>NACHTYPEChildren's Specialty</th><td>1.760926e-05</td><td>0.0000101808</td><td>3.045792e-05</td><td><span style=white-space:pre-wrap>&lt;0.01             </span></td></tr>\n",
       "\t<tr><th scope=row>NACHTYPEChildren's unit of General</th><td>1.057509e+00</td><td>0.9171082495</td><td>1.219403e+00</td><td>0.441672915517962 </td></tr>\n",
       "</tbody>\n",
       "</table>\n"
      ],
      "text/latex": [
       "A data.frame: 29 × 4\n",
       "\\begin{tabular}{r|llll}\n",
       "  & OR & X2.5.. & X97.5.. & P\\_value\\\\\n",
       "  & <dbl> & <dbl> & <dbl> & <chr>\\\\\n",
       "\\hline\n",
       "\t(Intercept) & 1.219593e-02 & 0.0064088796 & 2.320855e-02 & <0.01             \\\\\n",
       "\tSEVGROUP16-24 & 1.809091e-01 & 0.1575419775 & 2.077421e-01 & <0.01             \\\\\n",
       "\tSEVGROUP0-15 & 2.295020e-02 & 0.0200118771 & 2.631996e-02 & <0.01             \\\\\n",
       "\tRACEBlack & 1.203518e+00 & 1.0290949356 & 1.407505e+00 & 0.0203963923831467\\\\\n",
       "\tRACEHispanic & 1.095467e+00 & 0.9359119621 & 1.282223e+00 & 0.25625238424248  \\\\\n",
       "\tRACEAsian or Pacific Islander & 1.261105e+00 & 0.8547779938 & 1.860584e+00 & 0.242336481075217 \\\\\n",
       "\tRACENative American & 7.389414e-01 & 0.3798957129 & 1.437327e+00 & 0.372798176473592 \\\\\n",
       "\tRACEOther & 1.350196e+00 & 1.0652621629 & 1.711343e+00 & 0.0130383598214734\\\\\n",
       "\tSEXFemale & 1.085584e+00 & 0.9657226870 & 1.220321e+00 & 0.168923701407786 \\\\\n",
       "\tAGEGROUP8-11 & 6.885495e-01 & 0.5537551625 & 8.561553e-01 & <0.01             \\\\\n",
       "\tAGEGROUP4-7 & 9.018868e-01 & 0.7481074832 & 1.087277e+00 & 0.278949095783283 \\\\\n",
       "\tAGEGROUP1-3 & 1.403777e+00 & 1.1797155250 & 1.670395e+00 & <0.01             \\\\\n",
       "\tAGEGROUP<1 & 2.336633e+00 & 1.9337254759 & 2.823490e+00 & <0.01             \\\\\n",
       "\tPAYERPrivate & 8.927534e-01 & 0.7806167664 & 1.020999e+00 & 0.0976162825769991\\\\\n",
       "\tPAYERSelf-pay & 1.930067e+00 & 1.5800677086 & 2.357595e+00 & <0.01             \\\\\n",
       "\tPAYEROther & 1.541584e+00 & 1.2416559536 & 1.913960e+00 & <0.01             \\\\\n",
       "\tZIPINC\\_QRTL3 & 1.109649e+00 & 0.9242679344 & 1.332213e+00 & 0.26460535552652  \\\\\n",
       "\tZIPINC\\_QRTL2 & 1.395733e+00 & 1.1706551498 & 1.664086e+00 & <0.01             \\\\\n",
       "\tZIPINC\\_QRTL1 & 1.235603e+00 & 1.0338749318 & 1.476691e+00 & 0.0200040357261316\\\\\n",
       "\tHOSP\\_LOCTEACHUrban nonteaching & 2.726862e+00 & 1.5456412286 & 4.810803e+00 & <0.01             \\\\\n",
       "\tHOSP\\_LOCTEACHUrban teaching & 4.286105e+00 & 2.4543027772 & 7.485099e+00 & <0.01             \\\\\n",
       "\tHOSP\\_BEDSIZEMedium & 1.276162e+00 & 0.9831647847 & 1.656477e+00 & 0.0668939276860182\\\\\n",
       "\tHOSP\\_BEDSIZELarge & 1.504482e+00 & 1.1568254221 & 1.956618e+00 & <0.01             \\\\\n",
       "\tHOSP\\_REGIONMidwest & 1.546145e+00 & 1.2597961490 & 1.897581e+00 & <0.01             \\\\\n",
       "\tHOSP\\_REGIONSouth & 1.572396e+00 & 1.3184760709 & 1.875216e+00 & <0.01             \\\\\n",
       "\tHOSP\\_REGIONWest & 1.417740e+00 & 1.1729905097 & 1.713557e+00 & <0.01             \\\\\n",
       "\tNACHTYPEChildren's General & 1.050993e+00 & 0.8706527435 & 1.268687e+00 & 0.604576908999444 \\\\\n",
       "\tNACHTYPEChildren's Specialty & 1.760926e-05 & 0.0000101808 & 3.045792e-05 & <0.01             \\\\\n",
       "\tNACHTYPEChildren's unit of General & 1.057509e+00 & 0.9171082495 & 1.219403e+00 & 0.441672915517962 \\\\\n",
       "\\end{tabular}\n"
      ],
      "text/markdown": [
       "\n",
       "A data.frame: 29 × 4\n",
       "\n",
       "| <!--/--> | OR &lt;dbl&gt; | X2.5.. &lt;dbl&gt; | X97.5.. &lt;dbl&gt; | P_value &lt;chr&gt; |\n",
       "|---|---|---|---|---|\n",
       "| (Intercept) | 1.219593e-02 | 0.0064088796 | 2.320855e-02 | &lt;0.01              |\n",
       "| SEVGROUP16-24 | 1.809091e-01 | 0.1575419775 | 2.077421e-01 | &lt;0.01              |\n",
       "| SEVGROUP0-15 | 2.295020e-02 | 0.0200118771 | 2.631996e-02 | &lt;0.01              |\n",
       "| RACEBlack | 1.203518e+00 | 1.0290949356 | 1.407505e+00 | 0.0203963923831467 |\n",
       "| RACEHispanic | 1.095467e+00 | 0.9359119621 | 1.282223e+00 | 0.25625238424248   |\n",
       "| RACEAsian or Pacific Islander | 1.261105e+00 | 0.8547779938 | 1.860584e+00 | 0.242336481075217  |\n",
       "| RACENative American | 7.389414e-01 | 0.3798957129 | 1.437327e+00 | 0.372798176473592  |\n",
       "| RACEOther | 1.350196e+00 | 1.0652621629 | 1.711343e+00 | 0.0130383598214734 |\n",
       "| SEXFemale | 1.085584e+00 | 0.9657226870 | 1.220321e+00 | 0.168923701407786  |\n",
       "| AGEGROUP8-11 | 6.885495e-01 | 0.5537551625 | 8.561553e-01 | &lt;0.01              |\n",
       "| AGEGROUP4-7 | 9.018868e-01 | 0.7481074832 | 1.087277e+00 | 0.278949095783283  |\n",
       "| AGEGROUP1-3 | 1.403777e+00 | 1.1797155250 | 1.670395e+00 | &lt;0.01              |\n",
       "| AGEGROUP&lt;1 | 2.336633e+00 | 1.9337254759 | 2.823490e+00 | &lt;0.01              |\n",
       "| PAYERPrivate | 8.927534e-01 | 0.7806167664 | 1.020999e+00 | 0.0976162825769991 |\n",
       "| PAYERSelf-pay | 1.930067e+00 | 1.5800677086 | 2.357595e+00 | &lt;0.01              |\n",
       "| PAYEROther | 1.541584e+00 | 1.2416559536 | 1.913960e+00 | &lt;0.01              |\n",
       "| ZIPINC_QRTL3 | 1.109649e+00 | 0.9242679344 | 1.332213e+00 | 0.26460535552652   |\n",
       "| ZIPINC_QRTL2 | 1.395733e+00 | 1.1706551498 | 1.664086e+00 | &lt;0.01              |\n",
       "| ZIPINC_QRTL1 | 1.235603e+00 | 1.0338749318 | 1.476691e+00 | 0.0200040357261316 |\n",
       "| HOSP_LOCTEACHUrban nonteaching | 2.726862e+00 | 1.5456412286 | 4.810803e+00 | &lt;0.01              |\n",
       "| HOSP_LOCTEACHUrban teaching | 4.286105e+00 | 2.4543027772 | 7.485099e+00 | &lt;0.01              |\n",
       "| HOSP_BEDSIZEMedium | 1.276162e+00 | 0.9831647847 | 1.656477e+00 | 0.0668939276860182 |\n",
       "| HOSP_BEDSIZELarge | 1.504482e+00 | 1.1568254221 | 1.956618e+00 | &lt;0.01              |\n",
       "| HOSP_REGIONMidwest | 1.546145e+00 | 1.2597961490 | 1.897581e+00 | &lt;0.01              |\n",
       "| HOSP_REGIONSouth | 1.572396e+00 | 1.3184760709 | 1.875216e+00 | &lt;0.01              |\n",
       "| HOSP_REGIONWest | 1.417740e+00 | 1.1729905097 | 1.713557e+00 | &lt;0.01              |\n",
       "| NACHTYPEChildren's General | 1.050993e+00 | 0.8706527435 | 1.268687e+00 | 0.604576908999444  |\n",
       "| NACHTYPEChildren's Specialty | 1.760926e-05 | 0.0000101808 | 3.045792e-05 | &lt;0.01              |\n",
       "| NACHTYPEChildren's unit of General | 1.057509e+00 | 0.9171082495 | 1.219403e+00 | 0.441672915517962  |\n",
       "\n"
      ],
      "text/plain": [
       "                                   OR           X2.5..       X97.5..     \n",
       "(Intercept)                        1.219593e-02 0.0064088796 2.320855e-02\n",
       "SEVGROUP16-24                      1.809091e-01 0.1575419775 2.077421e-01\n",
       "SEVGROUP0-15                       2.295020e-02 0.0200118771 2.631996e-02\n",
       "RACEBlack                          1.203518e+00 1.0290949356 1.407505e+00\n",
       "RACEHispanic                       1.095467e+00 0.9359119621 1.282223e+00\n",
       "RACEAsian or Pacific Islander      1.261105e+00 0.8547779938 1.860584e+00\n",
       "RACENative American                7.389414e-01 0.3798957129 1.437327e+00\n",
       "RACEOther                          1.350196e+00 1.0652621629 1.711343e+00\n",
       "SEXFemale                          1.085584e+00 0.9657226870 1.220321e+00\n",
       "AGEGROUP8-11                       6.885495e-01 0.5537551625 8.561553e-01\n",
       "AGEGROUP4-7                        9.018868e-01 0.7481074832 1.087277e+00\n",
       "AGEGROUP1-3                        1.403777e+00 1.1797155250 1.670395e+00\n",
       "AGEGROUP<1                         2.336633e+00 1.9337254759 2.823490e+00\n",
       "PAYERPrivate                       8.927534e-01 0.7806167664 1.020999e+00\n",
       "PAYERSelf-pay                      1.930067e+00 1.5800677086 2.357595e+00\n",
       "PAYEROther                         1.541584e+00 1.2416559536 1.913960e+00\n",
       "ZIPINC_QRTL3                       1.109649e+00 0.9242679344 1.332213e+00\n",
       "ZIPINC_QRTL2                       1.395733e+00 1.1706551498 1.664086e+00\n",
       "ZIPINC_QRTL1                       1.235603e+00 1.0338749318 1.476691e+00\n",
       "HOSP_LOCTEACHUrban nonteaching     2.726862e+00 1.5456412286 4.810803e+00\n",
       "HOSP_LOCTEACHUrban teaching        4.286105e+00 2.4543027772 7.485099e+00\n",
       "HOSP_BEDSIZEMedium                 1.276162e+00 0.9831647847 1.656477e+00\n",
       "HOSP_BEDSIZELarge                  1.504482e+00 1.1568254221 1.956618e+00\n",
       "HOSP_REGIONMidwest                 1.546145e+00 1.2597961490 1.897581e+00\n",
       "HOSP_REGIONSouth                   1.572396e+00 1.3184760709 1.875216e+00\n",
       "HOSP_REGIONWest                    1.417740e+00 1.1729905097 1.713557e+00\n",
       "NACHTYPEChildren's General         1.050993e+00 0.8706527435 1.268687e+00\n",
       "NACHTYPEChildren's Specialty       1.760926e-05 0.0000101808 3.045792e-05\n",
       "NACHTYPEChildren's unit of General 1.057509e+00 0.9171082495 1.219403e+00\n",
       "                                   P_value           \n",
       "(Intercept)                        <0.01             \n",
       "SEVGROUP16-24                      <0.01             \n",
       "SEVGROUP0-15                       <0.01             \n",
       "RACEBlack                          0.0203963923831467\n",
       "RACEHispanic                       0.25625238424248  \n",
       "RACEAsian or Pacific Islander      0.242336481075217 \n",
       "RACENative American                0.372798176473592 \n",
       "RACEOther                          0.0130383598214734\n",
       "SEXFemale                          0.168923701407786 \n",
       "AGEGROUP8-11                       <0.01             \n",
       "AGEGROUP4-7                        0.278949095783283 \n",
       "AGEGROUP1-3                        <0.01             \n",
       "AGEGROUP<1                         <0.01             \n",
       "PAYERPrivate                       0.0976162825769991\n",
       "PAYERSelf-pay                      <0.01             \n",
       "PAYEROther                         <0.01             \n",
       "ZIPINC_QRTL3                       0.26460535552652  \n",
       "ZIPINC_QRTL2                       <0.01             \n",
       "ZIPINC_QRTL1                       0.0200040357261316\n",
       "HOSP_LOCTEACHUrban nonteaching     <0.01             \n",
       "HOSP_LOCTEACHUrban teaching        <0.01             \n",
       "HOSP_BEDSIZEMedium                 0.0668939276860182\n",
       "HOSP_BEDSIZELarge                  <0.01             \n",
       "HOSP_REGIONMidwest                 <0.01             \n",
       "HOSP_REGIONSouth                   <0.01             \n",
       "HOSP_REGIONWest                    <0.01             \n",
       "NACHTYPEChildren's General         0.604576908999444 \n",
       "NACHTYPEChildren's Specialty       <0.01             \n",
       "NACHTYPEChildren's unit of General 0.441672915517962 "
      ]
     },
     "metadata": {},
     "output_type": "display_data"
    }
   ],
   "source": [
    "# deleted hospital control\n",
    "mortality_all = svyglm(DIED ~ SEVGROUP + RACE  + SEX + AGEGROUP + PAYER + ZIPINC_QRTL + HOSP_LOCTEACH + HOSP_BEDSIZE + HOSP_REGION + NACHTYPE, family = \"binomial\", design = dat.w, na.action = na.omit)\n",
    "summary(mortality_all)\n",
    "# exp(cbind(OR = coef(mortality_all), confint(mortality_all)))\n",
    "mortality_all_tb = data.frame(exp(cbind(OR = coef(mortality_all), confint(mortality_all))), P_value = summary(mortality_all)$coefficients[,4])\n",
    "mortality_all_tb[mortality_all_tb$P_value < 0.01, ]$P_value <- '<0.01'\n",
    "mortality_all_tb\n",
    "\n",
    "\n",
    "mortality_scan = svyglm(DIED ~ SEVGROUP + RACE  + SEX + AGEGROUP + PAYER + ZIPINC_QRTL + HOSP_LOCTEACH + HOSP_BEDSIZE + HOSP_REGION + NACHTYPE, family = \"binomial\", design = subset(dat.w, Child_abuse == 'SCAN'), na.action = na.omit)\n",
    "summary(mortality_scan)\n",
    "# exp(cbind(OR = coef(mortality_scan), confint(mortality_scan)))\n",
    "mortality_scan_tb = data.frame(exp(cbind(OR = coef(mortality_scan), confint(mortality_scan))), P_value = summary(mortality_scan)$coefficients[,4])\n",
    "mortality_scan_tb[mortality_scan_tb$P_value < 0.01, ]$P_value <- '<0.01'\n",
    "mortality_scan_tb\n",
    "\n",
    "# non scan\n",
    "mortality_non_scan = svyglm(DIED ~ SEVGROUP + RACE  + SEX + AGEGROUP + PAYER + ZIPINC_QRTL + HOSP_LOCTEACH + HOSP_BEDSIZE + HOSP_REGION + NACHTYPE, family = \"binomial\", design = subset(dat.w, Child_abuse == 'Non-SCAN'), na.action = na.omit)\n",
    "summary(mortality_non_scan)\n",
    "# exp(cbind(OR = coef(mortality_non_scan), confint(mortality_non_scan)))\n",
    "mortality_non_scan_tb = data.frame(exp(cbind(OR = coef(mortality_non_scan), confint(mortality_non_scan))), P_value = summary(mortality_non_scan)$coefficients[,4])\n",
    "mortality_non_scan_tb[mortality_non_scan_tb$P_value < 0.01, ]$P_value <- '<0.01'\n",
    "mortality_non_scan_tb\n"
   ]
  },
  {
   "cell_type": "code",
   "execution_count": 210,
   "id": "d0d6fe13",
   "metadata": {},
   "outputs": [
    {
     "data": {
      "text/plain": [
       "\n",
       "Call:\n",
       "svyglm(formula = COSTPD ~ SEVGROUP + RACE + SEX + AGEGROUP + \n",
       "    PAYER + ZIPINC_QRTL + HOSP_LOCTEACH + HOSP_BEDSIZE + HOSP_REGION + \n",
       "    LOS + DIED + NACHTYPE, design = dat.w, na.action = na.omit)\n",
       "\n",
       "Survey design:\n",
       "svydesign(ids = ~1, data = dat, weights = dat$DISCWT)\n",
       "\n",
       "Coefficients:\n",
       "                                    Estimate Std. Error t value Pr(>|t|)    \n",
       "(Intercept)                         6183.101    166.109  37.223  < 2e-16 ***\n",
       "SEVGROUP16-24                       -713.192     79.950  -8.920  < 2e-16 ***\n",
       "SEVGROUP0-15                       -1069.953     72.259 -14.807  < 2e-16 ***\n",
       "RACEBlack                             -1.761     29.345  -0.060 0.952154    \n",
       "RACEHispanic                           2.947     32.958   0.089 0.928758    \n",
       "RACEAsian or Pacific Islander        148.065     80.082   1.849 0.064473 .  \n",
       "RACENative American                  -98.804    153.005  -0.646 0.518441    \n",
       "RACEOther                            278.452     47.268   5.891 3.85e-09 ***\n",
       "SEXFemale                           -210.510     22.710  -9.270  < 2e-16 ***\n",
       "AGEGROUP8-11                        -594.809     34.844 -17.071  < 2e-16 ***\n",
       "AGEGROUP4-7                         -601.558     29.622 -20.308  < 2e-16 ***\n",
       "AGEGROUP1-3                         -927.665     31.469 -29.479  < 2e-16 ***\n",
       "AGEGROUP<1                         -1992.316     33.099 -60.192  < 2e-16 ***\n",
       "PAYERPrivate                         189.141     24.903   7.595 3.10e-14 ***\n",
       "PAYERSelf-pay                        -61.704     47.887  -1.289 0.197557    \n",
       "PAYEROther                           310.456    145.610   2.132 0.033000 *  \n",
       "ZIPINC_QRTL3                        -248.230     31.340  -7.921 2.38e-15 ***\n",
       "ZIPINC_QRTL2                        -418.114     38.591 -10.835  < 2e-16 ***\n",
       "ZIPINC_QRTL1                        -599.799     31.020 -19.336  < 2e-16 ***\n",
       "HOSP_LOCTEACHUrban nonteaching      -514.075    132.387  -3.883 0.000103 ***\n",
       "HOSP_LOCTEACHUrban teaching         -354.068    137.656  -2.572 0.010109 *  \n",
       "HOSP_BEDSIZEMedium                  -354.075     49.294  -7.183 6.86e-13 ***\n",
       "HOSP_BEDSIZELarge                   -300.904     49.283  -6.106 1.03e-09 ***\n",
       "HOSP_REGIONMidwest                   264.368     30.690   8.614  < 2e-16 ***\n",
       "HOSP_REGIONSouth                    -166.814     23.619  -7.063 1.64e-12 ***\n",
       "HOSP_REGIONWest                     2037.546     44.054  46.251  < 2e-16 ***\n",
       "LOS                                  -59.413      2.217 -26.797  < 2e-16 ***\n",
       "DIEDTRUE                           10932.746    335.545  32.582  < 2e-16 ***\n",
       "NACHTYPEChildren's General           206.828     38.824   5.327 9.99e-08 ***\n",
       "NACHTYPEChildren's Specialty        -314.299    451.023  -0.697 0.485893    \n",
       "NACHTYPEChildren's unit of General   594.064     32.846  18.087  < 2e-16 ***\n",
       "---\n",
       "Signif. codes:  0 ‘***’ 0.001 ‘**’ 0.01 ‘*’ 0.05 ‘.’ 0.1 ‘ ’ 1\n",
       "\n",
       "(Dispersion parameter for gaussian family taken to be 20559499)\n",
       "\n",
       "Number of Fisher Scoring iterations: 2\n"
      ]
     },
     "metadata": {},
     "output_type": "display_data"
    },
    {
     "data": {
      "text/html": [
       "<table class=\"dataframe\">\n",
       "<caption>A matrix: 31 × 3 of type dbl</caption>\n",
       "<thead>\n",
       "\t<tr><th></th><th scope=col>OR</th><th scope=col>2.5 %</th><th scope=col>97.5 %</th></tr>\n",
       "</thead>\n",
       "<tbody>\n",
       "\t<tr><th scope=row>(Intercept)</th><td>          Inf</td><td>          Inf</td><td>          Inf</td></tr>\n",
       "\t<tr><th scope=row>SEVGROUP16-24</th><td>1.838411e-310</td><td> 0.000000e+00</td><td>2.082607e-242</td></tr>\n",
       "\t<tr><th scope=row>SEVGROUP0-15</th><td> 0.000000e+00</td><td> 0.000000e+00</td><td> 0.000000e+00</td></tr>\n",
       "\t<tr><th scope=row>RACEBlack</th><td> 1.719130e-01</td><td> 1.806066e-26</td><td> 1.636378e+24</td></tr>\n",
       "\t<tr><th scope=row>RACEHispanic</th><td> 1.904332e+01</td><td> 1.681008e-27</td><td> 2.157324e+29</td></tr>\n",
       "\t<tr><th scope=row>RACEAsian or Pacific Islander</th><td> 2.013375e+64</td><td> 1.371263e-04</td><td>2.956164e+132</td></tr>\n",
       "\t<tr><th scope=row>RACENative American</th><td> 1.230515e-43</td><td>7.085340e-174</td><td> 2.137042e+87</td></tr>\n",
       "\t<tr><th scope=row>RACEOther</th><td>8.511144e+120</td><td> 4.957524e+80</td><td>1.461205e+161</td></tr>\n",
       "\t<tr><th scope=row>SEXFemale</th><td> 3.771126e-92</td><td>1.760400e-111</td><td> 8.078501e-73</td></tr>\n",
       "\t<tr><th scope=row>AGEGROUP8-11</th><td>4.759916e-259</td><td>1.042959e-288</td><td>2.172357e-229</td></tr>\n",
       "\t<tr><th scope=row>AGEGROUP4-7</th><td>5.580490e-262</td><td>3.402750e-287</td><td>9.151968e-237</td></tr>\n",
       "\t<tr><th scope=row>AGEGROUP1-3</th><td> 0.000000e+00</td><td> 0.000000e+00</td><td> 0.000000e+00</td></tr>\n",
       "\t<tr><th scope=row>AGEGROUP&lt;1</th><td> 0.000000e+00</td><td> 0.000000e+00</td><td> 0.000000e+00</td></tr>\n",
       "\t<tr><th scope=row>PAYERPrivate</th><td> 1.389079e+82</td><td> 8.805366e+60</td><td>2.191324e+103</td></tr>\n",
       "\t<tr><th scope=row>PAYERSelf-pay</th><td> 1.592643e-27</td><td> 2.757487e-68</td><td> 9.198633e+13</td></tr>\n",
       "\t<tr><th scope=row>PAYEROther</th><td>6.751026e+134</td><td> 7.662470e+10</td><td>5.947997e+258</td></tr>\n",
       "\t<tr><th scope=row>ZIPINC_QRTL3</th><td>1.566846e-108</td><td>3.296154e-135</td><td> 7.448090e-82</td></tr>\n",
       "\t<tr><th scope=row>ZIPINC_QRTL2</th><td>2.602946e-182</td><td>3.685276e-215</td><td>1.838486e-149</td></tr>\n",
       "\t<tr><th scope=row>ZIPINC_QRTL1</th><td>3.239292e-261</td><td>1.276270e-287</td><td>8.221621e-235</td></tr>\n",
       "\t<tr><th scope=row>HOSP_LOCTEACHUrban nonteaching</th><td>5.496094e-224</td><td> 0.000000e+00</td><td>2.688506e-111</td></tr>\n",
       "\t<tr><th scope=row>HOSP_LOCTEACHUrban teaching</th><td>1.699609e-154</td><td>1.137692e-271</td><td> 2.539064e-37</td></tr>\n",
       "\t<tr><th scope=row>HOSP_BEDSIZEMedium</th><td>1.687996e-154</td><td>1.851522e-196</td><td>1.538913e-112</td></tr>\n",
       "\t<tr><th scope=row>HOSP_BEDSIZELarge</th><td>2.084335e-131</td><td>2.339870e-173</td><td> 1.856706e-89</td></tr>\n",
       "\t<tr><th scope=row>HOSP_REGIONMidwest</th><td>6.512463e+114</td><td> 4.898298e+88</td><td>8.658555e+140</td></tr>\n",
       "\t<tr><th scope=row>HOSP_REGIONSouth</th><td> 3.578607e-73</td><td> 2.809508e-93</td><td> 4.558246e-53</td></tr>\n",
       "\t<tr><th scope=row>HOSP_REGIONWest</th><td>          Inf</td><td>          Inf</td><td>          Inf</td></tr>\n",
       "\t<tr><th scope=row>LOS</th><td> 1.574409e-26</td><td> 2.040942e-28</td><td> 1.214519e-24</td></tr>\n",
       "\t<tr><th scope=row>DIEDTRUE</th><td>          Inf</td><td>          Inf</td><td>          Inf</td></tr>\n",
       "\t<tr><th scope=row>NACHTYPEChildren's General</th><td> 6.670185e+89</td><td> 5.978501e+56</td><td>7.441893e+122</td></tr>\n",
       "\t<tr><th scope=row>NACHTYPEChildren's Specialty</th><td>3.174928e-137</td><td> 0.000000e+00</td><td>2.610971e+247</td></tr>\n",
       "\t<tr><th scope=row>NACHTYPEChildren's unit of General</th><td>9.970523e+257</td><td>1.096915e+230</td><td>9.062808e+285</td></tr>\n",
       "</tbody>\n",
       "</table>\n"
      ],
      "text/latex": [
       "A matrix: 31 × 3 of type dbl\n",
       "\\begin{tabular}{r|lll}\n",
       "  & OR & 2.5 \\% & 97.5 \\%\\\\\n",
       "\\hline\n",
       "\t(Intercept) &           Inf &           Inf &           Inf\\\\\n",
       "\tSEVGROUP16-24 & 1.838411e-310 &  0.000000e+00 & 2.082607e-242\\\\\n",
       "\tSEVGROUP0-15 &  0.000000e+00 &  0.000000e+00 &  0.000000e+00\\\\\n",
       "\tRACEBlack &  1.719130e-01 &  1.806066e-26 &  1.636378e+24\\\\\n",
       "\tRACEHispanic &  1.904332e+01 &  1.681008e-27 &  2.157324e+29\\\\\n",
       "\tRACEAsian or Pacific Islander &  2.013375e+64 &  1.371263e-04 & 2.956164e+132\\\\\n",
       "\tRACENative American &  1.230515e-43 & 7.085340e-174 &  2.137042e+87\\\\\n",
       "\tRACEOther & 8.511144e+120 &  4.957524e+80 & 1.461205e+161\\\\\n",
       "\tSEXFemale &  3.771126e-92 & 1.760400e-111 &  8.078501e-73\\\\\n",
       "\tAGEGROUP8-11 & 4.759916e-259 & 1.042959e-288 & 2.172357e-229\\\\\n",
       "\tAGEGROUP4-7 & 5.580490e-262 & 3.402750e-287 & 9.151968e-237\\\\\n",
       "\tAGEGROUP1-3 &  0.000000e+00 &  0.000000e+00 &  0.000000e+00\\\\\n",
       "\tAGEGROUP<1 &  0.000000e+00 &  0.000000e+00 &  0.000000e+00\\\\\n",
       "\tPAYERPrivate &  1.389079e+82 &  8.805366e+60 & 2.191324e+103\\\\\n",
       "\tPAYERSelf-pay &  1.592643e-27 &  2.757487e-68 &  9.198633e+13\\\\\n",
       "\tPAYEROther & 6.751026e+134 &  7.662470e+10 & 5.947997e+258\\\\\n",
       "\tZIPINC\\_QRTL3 & 1.566846e-108 & 3.296154e-135 &  7.448090e-82\\\\\n",
       "\tZIPINC\\_QRTL2 & 2.602946e-182 & 3.685276e-215 & 1.838486e-149\\\\\n",
       "\tZIPINC\\_QRTL1 & 3.239292e-261 & 1.276270e-287 & 8.221621e-235\\\\\n",
       "\tHOSP\\_LOCTEACHUrban nonteaching & 5.496094e-224 &  0.000000e+00 & 2.688506e-111\\\\\n",
       "\tHOSP\\_LOCTEACHUrban teaching & 1.699609e-154 & 1.137692e-271 &  2.539064e-37\\\\\n",
       "\tHOSP\\_BEDSIZEMedium & 1.687996e-154 & 1.851522e-196 & 1.538913e-112\\\\\n",
       "\tHOSP\\_BEDSIZELarge & 2.084335e-131 & 2.339870e-173 &  1.856706e-89\\\\\n",
       "\tHOSP\\_REGIONMidwest & 6.512463e+114 &  4.898298e+88 & 8.658555e+140\\\\\n",
       "\tHOSP\\_REGIONSouth &  3.578607e-73 &  2.809508e-93 &  4.558246e-53\\\\\n",
       "\tHOSP\\_REGIONWest &           Inf &           Inf &           Inf\\\\\n",
       "\tLOS &  1.574409e-26 &  2.040942e-28 &  1.214519e-24\\\\\n",
       "\tDIEDTRUE &           Inf &           Inf &           Inf\\\\\n",
       "\tNACHTYPEChildren's General &  6.670185e+89 &  5.978501e+56 & 7.441893e+122\\\\\n",
       "\tNACHTYPEChildren's Specialty & 3.174928e-137 &  0.000000e+00 & 2.610971e+247\\\\\n",
       "\tNACHTYPEChildren's unit of General & 9.970523e+257 & 1.096915e+230 & 9.062808e+285\\\\\n",
       "\\end{tabular}\n"
      ],
      "text/markdown": [
       "\n",
       "A matrix: 31 × 3 of type dbl\n",
       "\n",
       "| <!--/--> | OR | 2.5 % | 97.5 % |\n",
       "|---|---|---|---|\n",
       "| (Intercept) |           Inf |           Inf |           Inf |\n",
       "| SEVGROUP16-24 | 1.838411e-310 |  0.000000e+00 | 2.082607e-242 |\n",
       "| SEVGROUP0-15 |  0.000000e+00 |  0.000000e+00 |  0.000000e+00 |\n",
       "| RACEBlack |  1.719130e-01 |  1.806066e-26 |  1.636378e+24 |\n",
       "| RACEHispanic |  1.904332e+01 |  1.681008e-27 |  2.157324e+29 |\n",
       "| RACEAsian or Pacific Islander |  2.013375e+64 |  1.371263e-04 | 2.956164e+132 |\n",
       "| RACENative American |  1.230515e-43 | 7.085340e-174 |  2.137042e+87 |\n",
       "| RACEOther | 8.511144e+120 |  4.957524e+80 | 1.461205e+161 |\n",
       "| SEXFemale |  3.771126e-92 | 1.760400e-111 |  8.078501e-73 |\n",
       "| AGEGROUP8-11 | 4.759916e-259 | 1.042959e-288 | 2.172357e-229 |\n",
       "| AGEGROUP4-7 | 5.580490e-262 | 3.402750e-287 | 9.151968e-237 |\n",
       "| AGEGROUP1-3 |  0.000000e+00 |  0.000000e+00 |  0.000000e+00 |\n",
       "| AGEGROUP&lt;1 |  0.000000e+00 |  0.000000e+00 |  0.000000e+00 |\n",
       "| PAYERPrivate |  1.389079e+82 |  8.805366e+60 | 2.191324e+103 |\n",
       "| PAYERSelf-pay |  1.592643e-27 |  2.757487e-68 |  9.198633e+13 |\n",
       "| PAYEROther | 6.751026e+134 |  7.662470e+10 | 5.947997e+258 |\n",
       "| ZIPINC_QRTL3 | 1.566846e-108 | 3.296154e-135 |  7.448090e-82 |\n",
       "| ZIPINC_QRTL2 | 2.602946e-182 | 3.685276e-215 | 1.838486e-149 |\n",
       "| ZIPINC_QRTL1 | 3.239292e-261 | 1.276270e-287 | 8.221621e-235 |\n",
       "| HOSP_LOCTEACHUrban nonteaching | 5.496094e-224 |  0.000000e+00 | 2.688506e-111 |\n",
       "| HOSP_LOCTEACHUrban teaching | 1.699609e-154 | 1.137692e-271 |  2.539064e-37 |\n",
       "| HOSP_BEDSIZEMedium | 1.687996e-154 | 1.851522e-196 | 1.538913e-112 |\n",
       "| HOSP_BEDSIZELarge | 2.084335e-131 | 2.339870e-173 |  1.856706e-89 |\n",
       "| HOSP_REGIONMidwest | 6.512463e+114 |  4.898298e+88 | 8.658555e+140 |\n",
       "| HOSP_REGIONSouth |  3.578607e-73 |  2.809508e-93 |  4.558246e-53 |\n",
       "| HOSP_REGIONWest |           Inf |           Inf |           Inf |\n",
       "| LOS |  1.574409e-26 |  2.040942e-28 |  1.214519e-24 |\n",
       "| DIEDTRUE |           Inf |           Inf |           Inf |\n",
       "| NACHTYPEChildren's General |  6.670185e+89 |  5.978501e+56 | 7.441893e+122 |\n",
       "| NACHTYPEChildren's Specialty | 3.174928e-137 |  0.000000e+00 | 2.610971e+247 |\n",
       "| NACHTYPEChildren's unit of General | 9.970523e+257 | 1.096915e+230 | 9.062808e+285 |\n",
       "\n"
      ],
      "text/plain": [
       "                                   OR            2.5 %         97.5 %       \n",
       "(Intercept)                                  Inf           Inf           Inf\n",
       "SEVGROUP16-24                      1.838411e-310  0.000000e+00 2.082607e-242\n",
       "SEVGROUP0-15                        0.000000e+00  0.000000e+00  0.000000e+00\n",
       "RACEBlack                           1.719130e-01  1.806066e-26  1.636378e+24\n",
       "RACEHispanic                        1.904332e+01  1.681008e-27  2.157324e+29\n",
       "RACEAsian or Pacific Islander       2.013375e+64  1.371263e-04 2.956164e+132\n",
       "RACENative American                 1.230515e-43 7.085340e-174  2.137042e+87\n",
       "RACEOther                          8.511144e+120  4.957524e+80 1.461205e+161\n",
       "SEXFemale                           3.771126e-92 1.760400e-111  8.078501e-73\n",
       "AGEGROUP8-11                       4.759916e-259 1.042959e-288 2.172357e-229\n",
       "AGEGROUP4-7                        5.580490e-262 3.402750e-287 9.151968e-237\n",
       "AGEGROUP1-3                         0.000000e+00  0.000000e+00  0.000000e+00\n",
       "AGEGROUP<1                          0.000000e+00  0.000000e+00  0.000000e+00\n",
       "PAYERPrivate                        1.389079e+82  8.805366e+60 2.191324e+103\n",
       "PAYERSelf-pay                       1.592643e-27  2.757487e-68  9.198633e+13\n",
       "PAYEROther                         6.751026e+134  7.662470e+10 5.947997e+258\n",
       "ZIPINC_QRTL3                       1.566846e-108 3.296154e-135  7.448090e-82\n",
       "ZIPINC_QRTL2                       2.602946e-182 3.685276e-215 1.838486e-149\n",
       "ZIPINC_QRTL1                       3.239292e-261 1.276270e-287 8.221621e-235\n",
       "HOSP_LOCTEACHUrban nonteaching     5.496094e-224  0.000000e+00 2.688506e-111\n",
       "HOSP_LOCTEACHUrban teaching        1.699609e-154 1.137692e-271  2.539064e-37\n",
       "HOSP_BEDSIZEMedium                 1.687996e-154 1.851522e-196 1.538913e-112\n",
       "HOSP_BEDSIZELarge                  2.084335e-131 2.339870e-173  1.856706e-89\n",
       "HOSP_REGIONMidwest                 6.512463e+114  4.898298e+88 8.658555e+140\n",
       "HOSP_REGIONSouth                    3.578607e-73  2.809508e-93  4.558246e-53\n",
       "HOSP_REGIONWest                              Inf           Inf           Inf\n",
       "LOS                                 1.574409e-26  2.040942e-28  1.214519e-24\n",
       "DIEDTRUE                                     Inf           Inf           Inf\n",
       "NACHTYPEChildren's General          6.670185e+89  5.978501e+56 7.441893e+122\n",
       "NACHTYPEChildren's Specialty       3.174928e-137  0.000000e+00 2.610971e+247\n",
       "NACHTYPEChildren's unit of General 9.970523e+257 1.096915e+230 9.062808e+285"
      ]
     },
     "metadata": {},
     "output_type": "display_data"
    },
    {
     "data": {
      "text/plain": [
       "\n",
       "Call:\n",
       "svyglm(formula = COSTPD ~ SEVGROUP + RACE + SEX + AGEGROUP + \n",
       "    PAYER + ZIPINC_QRTL + HOSP_LOCTEACH + HOSP_BEDSIZE + HOSP_REGION + \n",
       "    LOS + DIED + NACHTYPE, design = subset(dat.w, Child_abuse == \n",
       "    \"SCAN\"), na.action = na.omit)\n",
       "\n",
       "Survey design:\n",
       "subset(dat.w, Child_abuse == \"SCAN\")\n",
       "\n",
       "Coefficients:\n",
       "                                   Estimate Std. Error t value Pr(>|t|)    \n",
       "(Intercept)                        1969.117    657.160   2.996 0.002762 ** \n",
       "SEVGROUP16-24                        91.809    335.484   0.274 0.784371    \n",
       "SEVGROUP0-15                       -547.836    340.287  -1.610 0.107559    \n",
       "RACEBlack                           192.842    173.157   1.114 0.265538    \n",
       "RACEHispanic                        122.074    218.246   0.559 0.575987    \n",
       "RACEAsian or Pacific Islander       452.621    752.419   0.602 0.547533    \n",
       "RACENative American                -558.030    693.602  -0.805 0.421173    \n",
       "RACEOther                           525.972    385.563   1.364 0.172655    \n",
       "SEXFemale                           263.659    155.756   1.693 0.090642 .  \n",
       "AGEGROUP8-11                        503.866    510.736   0.987 0.323973    \n",
       "AGEGROUP4-7                        2234.572    712.388   3.137 0.001731 ** \n",
       "AGEGROUP1-3                         824.552    312.434   2.639 0.008371 ** \n",
       "AGEGROUP<1                          273.961    321.329   0.853 0.393982    \n",
       "PAYERPrivate                        594.282    286.015   2.078 0.037844 *  \n",
       "PAYERSelf-pay                      -472.859    392.770  -1.204 0.228755    \n",
       "PAYEROther                         -248.946    417.026  -0.597 0.550600    \n",
       "ZIPINC_QRTL3                        250.509    297.603   0.842 0.400016    \n",
       "ZIPINC_QRTL2                       -253.429    265.309  -0.955 0.339570    \n",
       "ZIPINC_QRTL1                       -171.751    245.441  -0.700 0.484149    \n",
       "HOSP_LOCTEACHUrban nonteaching     -450.955    329.027  -1.371 0.170649    \n",
       "HOSP_LOCTEACHUrban teaching         -87.440    274.273  -0.319 0.749903    \n",
       "HOSP_BEDSIZEMedium                  128.233    229.287   0.559 0.576035    \n",
       "HOSP_BEDSIZELarge                   163.405    242.265   0.674 0.500070    \n",
       "HOSP_REGIONMidwest                  176.751    215.402   0.821 0.411983    \n",
       "HOSP_REGIONSouth                   -396.025    204.318  -1.938 0.052718 .  \n",
       "HOSP_REGIONWest                    1186.292    319.834   3.709 0.000213 ***\n",
       "LOS                                 -25.695      5.336  -4.815 1.57e-06 ***\n",
       "DIEDTRUE                           9483.552    835.125  11.356  < 2e-16 ***\n",
       "NACHTYPEChildren's General          733.861    227.738   3.222 0.001290 ** \n",
       "NACHTYPEChildren's Specialty       2207.323    922.337   2.393 0.016787 *  \n",
       "NACHTYPEChildren's unit of General  390.443    199.278   1.959 0.050206 .  \n",
       "---\n",
       "Signif. codes:  0 ‘***’ 0.001 ‘**’ 0.01 ‘*’ 0.05 ‘.’ 0.1 ‘ ’ 1\n",
       "\n",
       "(Dispersion parameter for gaussian family taken to be 13503503)\n",
       "\n",
       "Number of Fisher Scoring iterations: 2\n"
      ]
     },
     "metadata": {},
     "output_type": "display_data"
    },
    {
     "data": {
      "text/html": [
       "<table class=\"dataframe\">\n",
       "<caption>A matrix: 31 × 3 of type dbl</caption>\n",
       "<thead>\n",
       "\t<tr><th></th><th scope=col>OR</th><th scope=col>2.5 %</th><th scope=col>97.5 %</th></tr>\n",
       "</thead>\n",
       "<tbody>\n",
       "\t<tr><th scope=row>(Intercept)</th><td>          Inf</td><td>3.104655e+295</td><td>          Inf</td></tr>\n",
       "\t<tr><th scope=row>SEVGROUP16-24</th><td> 7.450606e+39</td><td>1.411061e-246</td><td>          Inf</td></tr>\n",
       "\t<tr><th scope=row>SEVGROUP0-15</th><td>1.196753e-238</td><td> 0.000000e+00</td><td> 7.785443e+51</td></tr>\n",
       "\t<tr><th scope=row>RACEBlack</th><td> 5.625381e+83</td><td> 1.893385e-64</td><td>1.671340e+231</td></tr>\n",
       "\t<tr><th scope=row>RACEHispanic</th><td> 1.037340e+53</td><td>1.386694e-133</td><td>7.759999e+238</td></tr>\n",
       "\t<tr><th scope=row>RACEAsian or Pacific Islander</th><td>3.722073e+196</td><td> 0.000000e+00</td><td>          Inf</td></tr>\n",
       "\t<tr><th scope=row>RACENative American</th><td>4.472657e-243</td><td> 0.000000e+00</td><td>          Inf</td></tr>\n",
       "\t<tr><th scope=row>RACEOther</th><td>2.671908e+228</td><td>1.131732e-100</td><td>          Inf</td></tr>\n",
       "\t<tr><th scope=row>SEXFemale</th><td>3.202663e+114</td><td> 7.121460e-19</td><td>1.440302e+247</td></tr>\n",
       "\t<tr><th scope=row>AGEGROUP8-11</th><td>6.704004e+218</td><td>7.027183e-217</td><td>          Inf</td></tr>\n",
       "\t<tr><th scope=row>AGEGROUP4-7</th><td>          Inf</td><td>          Inf</td><td>          Inf</td></tr>\n",
       "\t<tr><th scope=row>AGEGROUP1-3</th><td>          Inf</td><td> 1.016651e+92</td><td>          Inf</td></tr>\n",
       "\t<tr><th scope=row>AGEGROUP&lt;1</th><td>9.543828e+118</td><td>2.053781e-155</td><td>          Inf</td></tr>\n",
       "\t<tr><th scope=row>PAYERPrivate</th><td>1.239692e+258</td><td> 3.179058e+14</td><td>          Inf</td></tr>\n",
       "\t<tr><th scope=row>PAYERSelf-pay</th><td>4.363949e-206</td><td> 0.000000e+00</td><td>1.415779e+129</td></tr>\n",
       "\t<tr><th scope=row>PAYEROther</th><td>7.661730e-109</td><td> 0.000000e+00</td><td>1.132628e+247</td></tr>\n",
       "\t<tr><th scope=row>ZIPINC_QRTL3</th><td>6.235100e+108</td><td>2.159719e-145</td><td>          Inf</td></tr>\n",
       "\t<tr><th scope=row>ZIPINC_QRTL2</th><td>8.651145e-111</td><td> 0.000000e+00</td><td>7.816478e+115</td></tr>\n",
       "\t<tr><th scope=row>ZIPINC_QRTL1</th><td> 2.567986e-75</td><td>2.367746e-284</td><td>2.785161e+134</td></tr>\n",
       "\t<tr><th scope=row>HOSP_LOCTEACHUrban nonteaching</th><td>1.421710e-196</td><td> 0.000000e+00</td><td> 2.375209e+84</td></tr>\n",
       "\t<tr><th scope=row>HOSP_LOCTEACHUrban teaching</th><td> 1.059603e-38</td><td>2.717361e-272</td><td>4.131799e+195</td></tr>\n",
       "\t<tr><th scope=row>HOSP_BEDSIZEMedium</th><td> 4.908897e+55</td><td>2.593290e-140</td><td>9.292163e+250</td></tr>\n",
       "\t<tr><th scope=row>HOSP_BEDSIZELarge</th><td> 9.249086e+70</td><td>4.326696e-136</td><td>1.977158e+277</td></tr>\n",
       "\t<tr><th scope=row>HOSP_REGIONMidwest</th><td> 5.782738e+76</td><td>2.043476e-107</td><td>1.636430e+260</td></tr>\n",
       "\t<tr><th scope=row>HOSP_REGIONSouth</th><td>1.020095e-172</td><td> 0.000000e+00</td><td> 1.048653e+02</td></tr>\n",
       "\t<tr><th scope=row>HOSP_REGIONWest</th><td>          Inf</td><td>6.402312e+242</td><td>          Inf</td></tr>\n",
       "\t<tr><th scope=row>LOS</th><td> 6.930593e-12</td><td> 1.976853e-16</td><td> 2.429777e-07</td></tr>\n",
       "\t<tr><th scope=row>DIEDTRUE</th><td>          Inf</td><td>          Inf</td><td>          Inf</td></tr>\n",
       "\t<tr><th scope=row>NACHTYPEChildren's General</th><td>          Inf</td><td>5.671627e+124</td><td>          Inf</td></tr>\n",
       "\t<tr><th scope=row>NACHTYPEChildren's Specialty</th><td>          Inf</td><td>1.257793e+173</td><td>          Inf</td></tr>\n",
       "\t<tr><th scope=row>NACHTYPEChildren's unit of General</th><td>3.692655e+169</td><td> 7.044609e-01</td><td>          Inf</td></tr>\n",
       "</tbody>\n",
       "</table>\n"
      ],
      "text/latex": [
       "A matrix: 31 × 3 of type dbl\n",
       "\\begin{tabular}{r|lll}\n",
       "  & OR & 2.5 \\% & 97.5 \\%\\\\\n",
       "\\hline\n",
       "\t(Intercept) &           Inf & 3.104655e+295 &           Inf\\\\\n",
       "\tSEVGROUP16-24 &  7.450606e+39 & 1.411061e-246 &           Inf\\\\\n",
       "\tSEVGROUP0-15 & 1.196753e-238 &  0.000000e+00 &  7.785443e+51\\\\\n",
       "\tRACEBlack &  5.625381e+83 &  1.893385e-64 & 1.671340e+231\\\\\n",
       "\tRACEHispanic &  1.037340e+53 & 1.386694e-133 & 7.759999e+238\\\\\n",
       "\tRACEAsian or Pacific Islander & 3.722073e+196 &  0.000000e+00 &           Inf\\\\\n",
       "\tRACENative American & 4.472657e-243 &  0.000000e+00 &           Inf\\\\\n",
       "\tRACEOther & 2.671908e+228 & 1.131732e-100 &           Inf\\\\\n",
       "\tSEXFemale & 3.202663e+114 &  7.121460e-19 & 1.440302e+247\\\\\n",
       "\tAGEGROUP8-11 & 6.704004e+218 & 7.027183e-217 &           Inf\\\\\n",
       "\tAGEGROUP4-7 &           Inf &           Inf &           Inf\\\\\n",
       "\tAGEGROUP1-3 &           Inf &  1.016651e+92 &           Inf\\\\\n",
       "\tAGEGROUP<1 & 9.543828e+118 & 2.053781e-155 &           Inf\\\\\n",
       "\tPAYERPrivate & 1.239692e+258 &  3.179058e+14 &           Inf\\\\\n",
       "\tPAYERSelf-pay & 4.363949e-206 &  0.000000e+00 & 1.415779e+129\\\\\n",
       "\tPAYEROther & 7.661730e-109 &  0.000000e+00 & 1.132628e+247\\\\\n",
       "\tZIPINC\\_QRTL3 & 6.235100e+108 & 2.159719e-145 &           Inf\\\\\n",
       "\tZIPINC\\_QRTL2 & 8.651145e-111 &  0.000000e+00 & 7.816478e+115\\\\\n",
       "\tZIPINC\\_QRTL1 &  2.567986e-75 & 2.367746e-284 & 2.785161e+134\\\\\n",
       "\tHOSP\\_LOCTEACHUrban nonteaching & 1.421710e-196 &  0.000000e+00 &  2.375209e+84\\\\\n",
       "\tHOSP\\_LOCTEACHUrban teaching &  1.059603e-38 & 2.717361e-272 & 4.131799e+195\\\\\n",
       "\tHOSP\\_BEDSIZEMedium &  4.908897e+55 & 2.593290e-140 & 9.292163e+250\\\\\n",
       "\tHOSP\\_BEDSIZELarge &  9.249086e+70 & 4.326696e-136 & 1.977158e+277\\\\\n",
       "\tHOSP\\_REGIONMidwest &  5.782738e+76 & 2.043476e-107 & 1.636430e+260\\\\\n",
       "\tHOSP\\_REGIONSouth & 1.020095e-172 &  0.000000e+00 &  1.048653e+02\\\\\n",
       "\tHOSP\\_REGIONWest &           Inf & 6.402312e+242 &           Inf\\\\\n",
       "\tLOS &  6.930593e-12 &  1.976853e-16 &  2.429777e-07\\\\\n",
       "\tDIEDTRUE &           Inf &           Inf &           Inf\\\\\n",
       "\tNACHTYPEChildren's General &           Inf & 5.671627e+124 &           Inf\\\\\n",
       "\tNACHTYPEChildren's Specialty &           Inf & 1.257793e+173 &           Inf\\\\\n",
       "\tNACHTYPEChildren's unit of General & 3.692655e+169 &  7.044609e-01 &           Inf\\\\\n",
       "\\end{tabular}\n"
      ],
      "text/markdown": [
       "\n",
       "A matrix: 31 × 3 of type dbl\n",
       "\n",
       "| <!--/--> | OR | 2.5 % | 97.5 % |\n",
       "|---|---|---|---|\n",
       "| (Intercept) |           Inf | 3.104655e+295 |           Inf |\n",
       "| SEVGROUP16-24 |  7.450606e+39 | 1.411061e-246 |           Inf |\n",
       "| SEVGROUP0-15 | 1.196753e-238 |  0.000000e+00 |  7.785443e+51 |\n",
       "| RACEBlack |  5.625381e+83 |  1.893385e-64 | 1.671340e+231 |\n",
       "| RACEHispanic |  1.037340e+53 | 1.386694e-133 | 7.759999e+238 |\n",
       "| RACEAsian or Pacific Islander | 3.722073e+196 |  0.000000e+00 |           Inf |\n",
       "| RACENative American | 4.472657e-243 |  0.000000e+00 |           Inf |\n",
       "| RACEOther | 2.671908e+228 | 1.131732e-100 |           Inf |\n",
       "| SEXFemale | 3.202663e+114 |  7.121460e-19 | 1.440302e+247 |\n",
       "| AGEGROUP8-11 | 6.704004e+218 | 7.027183e-217 |           Inf |\n",
       "| AGEGROUP4-7 |           Inf |           Inf |           Inf |\n",
       "| AGEGROUP1-3 |           Inf |  1.016651e+92 |           Inf |\n",
       "| AGEGROUP&lt;1 | 9.543828e+118 | 2.053781e-155 |           Inf |\n",
       "| PAYERPrivate | 1.239692e+258 |  3.179058e+14 |           Inf |\n",
       "| PAYERSelf-pay | 4.363949e-206 |  0.000000e+00 | 1.415779e+129 |\n",
       "| PAYEROther | 7.661730e-109 |  0.000000e+00 | 1.132628e+247 |\n",
       "| ZIPINC_QRTL3 | 6.235100e+108 | 2.159719e-145 |           Inf |\n",
       "| ZIPINC_QRTL2 | 8.651145e-111 |  0.000000e+00 | 7.816478e+115 |\n",
       "| ZIPINC_QRTL1 |  2.567986e-75 | 2.367746e-284 | 2.785161e+134 |\n",
       "| HOSP_LOCTEACHUrban nonteaching | 1.421710e-196 |  0.000000e+00 |  2.375209e+84 |\n",
       "| HOSP_LOCTEACHUrban teaching |  1.059603e-38 | 2.717361e-272 | 4.131799e+195 |\n",
       "| HOSP_BEDSIZEMedium |  4.908897e+55 | 2.593290e-140 | 9.292163e+250 |\n",
       "| HOSP_BEDSIZELarge |  9.249086e+70 | 4.326696e-136 | 1.977158e+277 |\n",
       "| HOSP_REGIONMidwest |  5.782738e+76 | 2.043476e-107 | 1.636430e+260 |\n",
       "| HOSP_REGIONSouth | 1.020095e-172 |  0.000000e+00 |  1.048653e+02 |\n",
       "| HOSP_REGIONWest |           Inf | 6.402312e+242 |           Inf |\n",
       "| LOS |  6.930593e-12 |  1.976853e-16 |  2.429777e-07 |\n",
       "| DIEDTRUE |           Inf |           Inf |           Inf |\n",
       "| NACHTYPEChildren's General |           Inf | 5.671627e+124 |           Inf |\n",
       "| NACHTYPEChildren's Specialty |           Inf | 1.257793e+173 |           Inf |\n",
       "| NACHTYPEChildren's unit of General | 3.692655e+169 |  7.044609e-01 |           Inf |\n",
       "\n"
      ],
      "text/plain": [
       "                                   OR            2.5 %         97.5 %       \n",
       "(Intercept)                                  Inf 3.104655e+295           Inf\n",
       "SEVGROUP16-24                       7.450606e+39 1.411061e-246           Inf\n",
       "SEVGROUP0-15                       1.196753e-238  0.000000e+00  7.785443e+51\n",
       "RACEBlack                           5.625381e+83  1.893385e-64 1.671340e+231\n",
       "RACEHispanic                        1.037340e+53 1.386694e-133 7.759999e+238\n",
       "RACEAsian or Pacific Islander      3.722073e+196  0.000000e+00           Inf\n",
       "RACENative American                4.472657e-243  0.000000e+00           Inf\n",
       "RACEOther                          2.671908e+228 1.131732e-100           Inf\n",
       "SEXFemale                          3.202663e+114  7.121460e-19 1.440302e+247\n",
       "AGEGROUP8-11                       6.704004e+218 7.027183e-217           Inf\n",
       "AGEGROUP4-7                                  Inf           Inf           Inf\n",
       "AGEGROUP1-3                                  Inf  1.016651e+92           Inf\n",
       "AGEGROUP<1                         9.543828e+118 2.053781e-155           Inf\n",
       "PAYERPrivate                       1.239692e+258  3.179058e+14           Inf\n",
       "PAYERSelf-pay                      4.363949e-206  0.000000e+00 1.415779e+129\n",
       "PAYEROther                         7.661730e-109  0.000000e+00 1.132628e+247\n",
       "ZIPINC_QRTL3                       6.235100e+108 2.159719e-145           Inf\n",
       "ZIPINC_QRTL2                       8.651145e-111  0.000000e+00 7.816478e+115\n",
       "ZIPINC_QRTL1                        2.567986e-75 2.367746e-284 2.785161e+134\n",
       "HOSP_LOCTEACHUrban nonteaching     1.421710e-196  0.000000e+00  2.375209e+84\n",
       "HOSP_LOCTEACHUrban teaching         1.059603e-38 2.717361e-272 4.131799e+195\n",
       "HOSP_BEDSIZEMedium                  4.908897e+55 2.593290e-140 9.292163e+250\n",
       "HOSP_BEDSIZELarge                   9.249086e+70 4.326696e-136 1.977158e+277\n",
       "HOSP_REGIONMidwest                  5.782738e+76 2.043476e-107 1.636430e+260\n",
       "HOSP_REGIONSouth                   1.020095e-172  0.000000e+00  1.048653e+02\n",
       "HOSP_REGIONWest                              Inf 6.402312e+242           Inf\n",
       "LOS                                 6.930593e-12  1.976853e-16  2.429777e-07\n",
       "DIEDTRUE                                     Inf           Inf           Inf\n",
       "NACHTYPEChildren's General                   Inf 5.671627e+124           Inf\n",
       "NACHTYPEChildren's Specialty                 Inf 1.257793e+173           Inf\n",
       "NACHTYPEChildren's unit of General 3.692655e+169  7.044609e-01           Inf"
      ]
     },
     "metadata": {},
     "output_type": "display_data"
    },
    {
     "data": {
      "text/plain": [
       "\n",
       "Call:\n",
       "svyglm(formula = COSTPD ~ SEVGROUP + RACE + SEX + AGEGROUP + \n",
       "    PAYER + ZIPINC_QRTL + HOSP_LOCTEACH + HOSP_BEDSIZE + HOSP_REGION + \n",
       "    LOS + DIED + NACHTYPE, design = subset(dat.w, Child_abuse == \n",
       "    \"Non-SCAN\"), na.action = na.omit)\n",
       "\n",
       "Survey design:\n",
       "subset(dat.w, Child_abuse == \"Non-SCAN\")\n",
       "\n",
       "Coefficients:\n",
       "                                    Estimate Std. Error t value Pr(>|t|)    \n",
       "(Intercept)                         6232.351    167.283  37.256  < 2e-16 ***\n",
       "SEVGROUP16-24                       -752.397     81.881  -9.189  < 2e-16 ***\n",
       "SEVGROUP0-15                       -1097.459     73.771 -14.877  < 2e-16 ***\n",
       "RACEBlack                             -2.579     29.724  -0.087 0.930864    \n",
       "RACEHispanic                          -1.233     33.373  -0.037 0.970523    \n",
       "RACEAsian or Pacific Islander        142.740     80.476   1.774 0.076115 .  \n",
       "RACENative American                  -90.606    155.162  -0.584 0.559258    \n",
       "RACEOther                            275.200     47.490   5.795 6.85e-09 ***\n",
       "SEXFemale                           -214.715     22.935  -9.362  < 2e-16 ***\n",
       "AGEGROUP8-11                        -595.195     34.885 -17.062  < 2e-16 ***\n",
       "AGEGROUP4-7                         -606.025     29.544 -20.513  < 2e-16 ***\n",
       "AGEGROUP1-3                         -907.078     31.603 -28.702  < 2e-16 ***\n",
       "AGEGROUP<1                         -1970.744     33.226 -59.314  < 2e-16 ***\n",
       "PAYERPrivate                         180.299     25.037   7.201 6.00e-13 ***\n",
       "PAYERSelf-pay                        -64.143     48.095  -1.334 0.182311    \n",
       "PAYEROther                           326.498    148.512   2.198 0.027918 *  \n",
       "ZIPINC_QRTL3                        -254.103     31.464  -8.076 6.75e-16 ***\n",
       "ZIPINC_QRTL2                        -418.579     39.015 -10.729  < 2e-16 ***\n",
       "ZIPINC_QRTL1                        -606.130     31.286 -19.374  < 2e-16 ***\n",
       "HOSP_LOCTEACHUrban nonteaching      -516.979    133.447  -3.874 0.000107 ***\n",
       "HOSP_LOCTEACHUrban teaching         -357.572    138.741  -2.577 0.009960 ** \n",
       "HOSP_BEDSIZEMedium                  -363.189     50.217  -7.232 4.77e-13 ***\n",
       "HOSP_BEDSIZELarge                   -306.798     49.868  -6.152 7.66e-10 ***\n",
       "HOSP_REGIONMidwest                   263.678     31.120   8.473  < 2e-16 ***\n",
       "HOSP_REGIONSouth                    -165.579     23.799  -6.957 3.48e-12 ***\n",
       "HOSP_REGIONWest                     2049.108     44.507  46.040  < 2e-16 ***\n",
       "LOS                                  -61.046      2.368 -25.783  < 2e-16 ***\n",
       "DIEDTRUE                           11178.484    364.454  30.672  < 2e-16 ***\n",
       "NACHTYPEChildren's General           201.163     39.564   5.084 3.69e-07 ***\n",
       "NACHTYPEChildren's Specialty        -460.311    457.845  -1.005 0.314713    \n",
       "NACHTYPEChildren's unit of General   598.616     33.111  18.079  < 2e-16 ***\n",
       "---\n",
       "Signif. codes:  0 ‘***’ 0.001 ‘**’ 0.01 ‘*’ 0.05 ‘.’ 0.1 ‘ ’ 1\n",
       "\n",
       "(Dispersion parameter for gaussian family taken to be 20663898)\n",
       "\n",
       "Number of Fisher Scoring iterations: 2\n"
      ]
     },
     "metadata": {},
     "output_type": "display_data"
    },
    {
     "data": {
      "text/html": [
       "<table class=\"dataframe\">\n",
       "<caption>A matrix: 31 × 3 of type dbl</caption>\n",
       "<thead>\n",
       "\t<tr><th></th><th scope=col>OR</th><th scope=col>2.5 %</th><th scope=col>97.5 %</th></tr>\n",
       "</thead>\n",
       "<tbody>\n",
       "\t<tr><th scope=row>(Intercept)</th><td>          Inf</td><td>          Inf</td><td>          Inf</td></tr>\n",
       "\t<tr><th scope=row>SEVGROUP16-24</th><td> 0.000000e+00</td><td> 0.000000e+00</td><td>8.620773e-258</td></tr>\n",
       "\t<tr><th scope=row>SEVGROUP0-15</th><td> 0.000000e+00</td><td> 0.000000e+00</td><td> 0.000000e+00</td></tr>\n",
       "\t<tr><th scope=row>RACEBlack</th><td> 7.586745e-02</td><td> 3.793726e-27</td><td> 1.517208e+24</td></tr>\n",
       "\t<tr><th scope=row>RACEHispanic</th><td> 2.913475e-01</td><td> 1.139690e-29</td><td> 7.447937e+27</td></tr>\n",
       "\t<tr><th scope=row>RACEAsian or Pacific Islander</th><td> 9.803218e+61</td><td> 3.085415e-07</td><td>3.114754e+130</td></tr>\n",
       "\t<tr><th scope=row>RACENative American</th><td> 4.469777e-40</td><td>3.760004e-172</td><td> 5.313534e+92</td></tr>\n",
       "\t<tr><th scope=row>RACEOther</th><td>3.294937e+119</td><td> 1.241794e+79</td><td>8.742680e+159</td></tr>\n",
       "\t<tr><th scope=row>SEXFemale</th><td> 5.628518e-94</td><td>1.690273e-113</td><td> 1.874266e-74</td></tr>\n",
       "\t<tr><th scope=row>AGEGROUP8-11</th><td>3.235905e-259</td><td>6.543802e-289</td><td>1.600153e-229</td></tr>\n",
       "\t<tr><th scope=row>AGEGROUP4-7</th><td>6.406357e-264</td><td>4.557556e-289</td><td>9.005135e-239</td></tr>\n",
       "\t<tr><th scope=row>AGEGROUP1-3</th><td> 0.000000e+00</td><td> 0.000000e+00</td><td> 0.000000e+00</td></tr>\n",
       "\t<tr><th scope=row>AGEGROUP&lt;1</th><td> 0.000000e+00</td><td> 0.000000e+00</td><td> 0.000000e+00</td></tr>\n",
       "\t<tr><th scope=row>PAYERPrivate</th><td> 2.008702e+78</td><td> 9.799284e+56</td><td> 4.117529e+99</td></tr>\n",
       "\t<tr><th scope=row>PAYERSelf-pay</th><td> 1.389732e-28</td><td> 1.599663e-69</td><td> 1.207351e+13</td></tr>\n",
       "\t<tr><th scope=row>PAYEROther</th><td>6.258174e+141</td><td> 2.406816e+15</td><td>1.627243e+268</td></tr>\n",
       "\t<tr><th scope=row>ZIPINC_QRTL3</th><td>4.411531e-111</td><td>7.286387e-138</td><td> 2.670954e-84</td></tr>\n",
       "\t<tr><th scope=row>ZIPINC_QRTL2</th><td>1.634562e-182</td><td>1.007105e-215</td><td>2.652943e-149</td></tr>\n",
       "\t<tr><th scope=row>ZIPINC_QRTL1</th><td>5.771443e-264</td><td>1.350575e-290</td><td>2.466324e-237</td></tr>\n",
       "\t<tr><th scope=row>HOSP_LOCTEACHUrban nonteaching</th><td>3.013422e-225</td><td> 0.000000e+00</td><td>1.175973e-111</td></tr>\n",
       "\t<tr><th scope=row>HOSP_LOCTEACHUrban teaching</th><td>5.108359e-156</td><td>4.078151e-274</td><td> 6.398813e-38</td></tr>\n",
       "\t<tr><th scope=row>HOSP_BEDSIZEMedium</th><td>1.857690e-158</td><td>3.340618e-201</td><td>1.033046e-115</td></tr>\n",
       "\t<tr><th scope=row>HOSP_BEDSIZELarge</th><td>5.746844e-134</td><td>2.049685e-176</td><td> 1.611283e-91</td></tr>\n",
       "\t<tr><th scope=row>HOSP_REGIONMidwest</th><td>3.266293e+114</td><td> 1.057245e+88</td><td>1.009101e+141</td></tr>\n",
       "\t<tr><th scope=row>HOSP_REGIONSouth</th><td> 1.230246e-72</td><td> 6.793135e-93</td><td> 2.227993e-52</td></tr>\n",
       "\t<tr><th scope=row>HOSP_REGIONWest</th><td>          Inf</td><td>          Inf</td><td>          Inf</td></tr>\n",
       "\t<tr><th scope=row>LOS</th><td> 3.075967e-27</td><td> 2.968736e-29</td><td> 3.187071e-25</td></tr>\n",
       "\t<tr><th scope=row>DIEDTRUE</th><td>          Inf</td><td>          Inf</td><td>          Inf</td></tr>\n",
       "\t<tr><th scope=row>NACHTYPEChildren's General</th><td> 2.310995e+87</td><td> 4.856419e+53</td><td>1.099720e+121</td></tr>\n",
       "\t<tr><th scope=row>NACHTYPEChildren's Specialty</th><td>1.229288e-200</td><td> 0.000000e+00</td><td>6.483531e+189</td></tr>\n",
       "\t<tr><th scope=row>NACHTYPEChildren's unit of General</th><td>9.451517e+259</td><td>6.181870e+231</td><td>1.445051e+288</td></tr>\n",
       "</tbody>\n",
       "</table>\n"
      ],
      "text/latex": [
       "A matrix: 31 × 3 of type dbl\n",
       "\\begin{tabular}{r|lll}\n",
       "  & OR & 2.5 \\% & 97.5 \\%\\\\\n",
       "\\hline\n",
       "\t(Intercept) &           Inf &           Inf &           Inf\\\\\n",
       "\tSEVGROUP16-24 &  0.000000e+00 &  0.000000e+00 & 8.620773e-258\\\\\n",
       "\tSEVGROUP0-15 &  0.000000e+00 &  0.000000e+00 &  0.000000e+00\\\\\n",
       "\tRACEBlack &  7.586745e-02 &  3.793726e-27 &  1.517208e+24\\\\\n",
       "\tRACEHispanic &  2.913475e-01 &  1.139690e-29 &  7.447937e+27\\\\\n",
       "\tRACEAsian or Pacific Islander &  9.803218e+61 &  3.085415e-07 & 3.114754e+130\\\\\n",
       "\tRACENative American &  4.469777e-40 & 3.760004e-172 &  5.313534e+92\\\\\n",
       "\tRACEOther & 3.294937e+119 &  1.241794e+79 & 8.742680e+159\\\\\n",
       "\tSEXFemale &  5.628518e-94 & 1.690273e-113 &  1.874266e-74\\\\\n",
       "\tAGEGROUP8-11 & 3.235905e-259 & 6.543802e-289 & 1.600153e-229\\\\\n",
       "\tAGEGROUP4-7 & 6.406357e-264 & 4.557556e-289 & 9.005135e-239\\\\\n",
       "\tAGEGROUP1-3 &  0.000000e+00 &  0.000000e+00 &  0.000000e+00\\\\\n",
       "\tAGEGROUP<1 &  0.000000e+00 &  0.000000e+00 &  0.000000e+00\\\\\n",
       "\tPAYERPrivate &  2.008702e+78 &  9.799284e+56 &  4.117529e+99\\\\\n",
       "\tPAYERSelf-pay &  1.389732e-28 &  1.599663e-69 &  1.207351e+13\\\\\n",
       "\tPAYEROther & 6.258174e+141 &  2.406816e+15 & 1.627243e+268\\\\\n",
       "\tZIPINC\\_QRTL3 & 4.411531e-111 & 7.286387e-138 &  2.670954e-84\\\\\n",
       "\tZIPINC\\_QRTL2 & 1.634562e-182 & 1.007105e-215 & 2.652943e-149\\\\\n",
       "\tZIPINC\\_QRTL1 & 5.771443e-264 & 1.350575e-290 & 2.466324e-237\\\\\n",
       "\tHOSP\\_LOCTEACHUrban nonteaching & 3.013422e-225 &  0.000000e+00 & 1.175973e-111\\\\\n",
       "\tHOSP\\_LOCTEACHUrban teaching & 5.108359e-156 & 4.078151e-274 &  6.398813e-38\\\\\n",
       "\tHOSP\\_BEDSIZEMedium & 1.857690e-158 & 3.340618e-201 & 1.033046e-115\\\\\n",
       "\tHOSP\\_BEDSIZELarge & 5.746844e-134 & 2.049685e-176 &  1.611283e-91\\\\\n",
       "\tHOSP\\_REGIONMidwest & 3.266293e+114 &  1.057245e+88 & 1.009101e+141\\\\\n",
       "\tHOSP\\_REGIONSouth &  1.230246e-72 &  6.793135e-93 &  2.227993e-52\\\\\n",
       "\tHOSP\\_REGIONWest &           Inf &           Inf &           Inf\\\\\n",
       "\tLOS &  3.075967e-27 &  2.968736e-29 &  3.187071e-25\\\\\n",
       "\tDIEDTRUE &           Inf &           Inf &           Inf\\\\\n",
       "\tNACHTYPEChildren's General &  2.310995e+87 &  4.856419e+53 & 1.099720e+121\\\\\n",
       "\tNACHTYPEChildren's Specialty & 1.229288e-200 &  0.000000e+00 & 6.483531e+189\\\\\n",
       "\tNACHTYPEChildren's unit of General & 9.451517e+259 & 6.181870e+231 & 1.445051e+288\\\\\n",
       "\\end{tabular}\n"
      ],
      "text/markdown": [
       "\n",
       "A matrix: 31 × 3 of type dbl\n",
       "\n",
       "| <!--/--> | OR | 2.5 % | 97.5 % |\n",
       "|---|---|---|---|\n",
       "| (Intercept) |           Inf |           Inf |           Inf |\n",
       "| SEVGROUP16-24 |  0.000000e+00 |  0.000000e+00 | 8.620773e-258 |\n",
       "| SEVGROUP0-15 |  0.000000e+00 |  0.000000e+00 |  0.000000e+00 |\n",
       "| RACEBlack |  7.586745e-02 |  3.793726e-27 |  1.517208e+24 |\n",
       "| RACEHispanic |  2.913475e-01 |  1.139690e-29 |  7.447937e+27 |\n",
       "| RACEAsian or Pacific Islander |  9.803218e+61 |  3.085415e-07 | 3.114754e+130 |\n",
       "| RACENative American |  4.469777e-40 | 3.760004e-172 |  5.313534e+92 |\n",
       "| RACEOther | 3.294937e+119 |  1.241794e+79 | 8.742680e+159 |\n",
       "| SEXFemale |  5.628518e-94 | 1.690273e-113 |  1.874266e-74 |\n",
       "| AGEGROUP8-11 | 3.235905e-259 | 6.543802e-289 | 1.600153e-229 |\n",
       "| AGEGROUP4-7 | 6.406357e-264 | 4.557556e-289 | 9.005135e-239 |\n",
       "| AGEGROUP1-3 |  0.000000e+00 |  0.000000e+00 |  0.000000e+00 |\n",
       "| AGEGROUP&lt;1 |  0.000000e+00 |  0.000000e+00 |  0.000000e+00 |\n",
       "| PAYERPrivate |  2.008702e+78 |  9.799284e+56 |  4.117529e+99 |\n",
       "| PAYERSelf-pay |  1.389732e-28 |  1.599663e-69 |  1.207351e+13 |\n",
       "| PAYEROther | 6.258174e+141 |  2.406816e+15 | 1.627243e+268 |\n",
       "| ZIPINC_QRTL3 | 4.411531e-111 | 7.286387e-138 |  2.670954e-84 |\n",
       "| ZIPINC_QRTL2 | 1.634562e-182 | 1.007105e-215 | 2.652943e-149 |\n",
       "| ZIPINC_QRTL1 | 5.771443e-264 | 1.350575e-290 | 2.466324e-237 |\n",
       "| HOSP_LOCTEACHUrban nonteaching | 3.013422e-225 |  0.000000e+00 | 1.175973e-111 |\n",
       "| HOSP_LOCTEACHUrban teaching | 5.108359e-156 | 4.078151e-274 |  6.398813e-38 |\n",
       "| HOSP_BEDSIZEMedium | 1.857690e-158 | 3.340618e-201 | 1.033046e-115 |\n",
       "| HOSP_BEDSIZELarge | 5.746844e-134 | 2.049685e-176 |  1.611283e-91 |\n",
       "| HOSP_REGIONMidwest | 3.266293e+114 |  1.057245e+88 | 1.009101e+141 |\n",
       "| HOSP_REGIONSouth |  1.230246e-72 |  6.793135e-93 |  2.227993e-52 |\n",
       "| HOSP_REGIONWest |           Inf |           Inf |           Inf |\n",
       "| LOS |  3.075967e-27 |  2.968736e-29 |  3.187071e-25 |\n",
       "| DIEDTRUE |           Inf |           Inf |           Inf |\n",
       "| NACHTYPEChildren's General |  2.310995e+87 |  4.856419e+53 | 1.099720e+121 |\n",
       "| NACHTYPEChildren's Specialty | 1.229288e-200 |  0.000000e+00 | 6.483531e+189 |\n",
       "| NACHTYPEChildren's unit of General | 9.451517e+259 | 6.181870e+231 | 1.445051e+288 |\n",
       "\n"
      ],
      "text/plain": [
       "                                   OR            2.5 %         97.5 %       \n",
       "(Intercept)                                  Inf           Inf           Inf\n",
       "SEVGROUP16-24                       0.000000e+00  0.000000e+00 8.620773e-258\n",
       "SEVGROUP0-15                        0.000000e+00  0.000000e+00  0.000000e+00\n",
       "RACEBlack                           7.586745e-02  3.793726e-27  1.517208e+24\n",
       "RACEHispanic                        2.913475e-01  1.139690e-29  7.447937e+27\n",
       "RACEAsian or Pacific Islander       9.803218e+61  3.085415e-07 3.114754e+130\n",
       "RACENative American                 4.469777e-40 3.760004e-172  5.313534e+92\n",
       "RACEOther                          3.294937e+119  1.241794e+79 8.742680e+159\n",
       "SEXFemale                           5.628518e-94 1.690273e-113  1.874266e-74\n",
       "AGEGROUP8-11                       3.235905e-259 6.543802e-289 1.600153e-229\n",
       "AGEGROUP4-7                        6.406357e-264 4.557556e-289 9.005135e-239\n",
       "AGEGROUP1-3                         0.000000e+00  0.000000e+00  0.000000e+00\n",
       "AGEGROUP<1                          0.000000e+00  0.000000e+00  0.000000e+00\n",
       "PAYERPrivate                        2.008702e+78  9.799284e+56  4.117529e+99\n",
       "PAYERSelf-pay                       1.389732e-28  1.599663e-69  1.207351e+13\n",
       "PAYEROther                         6.258174e+141  2.406816e+15 1.627243e+268\n",
       "ZIPINC_QRTL3                       4.411531e-111 7.286387e-138  2.670954e-84\n",
       "ZIPINC_QRTL2                       1.634562e-182 1.007105e-215 2.652943e-149\n",
       "ZIPINC_QRTL1                       5.771443e-264 1.350575e-290 2.466324e-237\n",
       "HOSP_LOCTEACHUrban nonteaching     3.013422e-225  0.000000e+00 1.175973e-111\n",
       "HOSP_LOCTEACHUrban teaching        5.108359e-156 4.078151e-274  6.398813e-38\n",
       "HOSP_BEDSIZEMedium                 1.857690e-158 3.340618e-201 1.033046e-115\n",
       "HOSP_BEDSIZELarge                  5.746844e-134 2.049685e-176  1.611283e-91\n",
       "HOSP_REGIONMidwest                 3.266293e+114  1.057245e+88 1.009101e+141\n",
       "HOSP_REGIONSouth                    1.230246e-72  6.793135e-93  2.227993e-52\n",
       "HOSP_REGIONWest                              Inf           Inf           Inf\n",
       "LOS                                 3.075967e-27  2.968736e-29  3.187071e-25\n",
       "DIEDTRUE                                     Inf           Inf           Inf\n",
       "NACHTYPEChildren's General          2.310995e+87  4.856419e+53 1.099720e+121\n",
       "NACHTYPEChildren's Specialty       1.229288e-200  0.000000e+00 6.483531e+189\n",
       "NACHTYPEChildren's unit of General 9.451517e+259 6.181870e+231 1.445051e+288"
      ]
     },
     "metadata": {},
     "output_type": "display_data"
    }
   ],
   "source": [
    "# deleted hospital control\n",
    "costpd_all = svyglm(COSTPD ~ SEVGROUP + RACE  + SEX + AGEGROUP + PAYER + ZIPINC_QRTL+ HOSP_LOCTEACH + HOSP_BEDSIZE + HOSP_REGION + LOS + DIED + NACHTYPE, design = dat.w, na.action = na.omit)\n",
    "summary(costpd_all)\n",
    "exp(cbind(OR = coef(costpd_all), confint(costpd_all)))\n",
    "\n",
    "costpd_scan = svyglm(COSTPD ~ SEVGROUP + RACE  + SEX + AGEGROUP + PAYER + ZIPINC_QRTL+ HOSP_LOCTEACH + HOSP_BEDSIZE + HOSP_REGION + LOS + DIED + NACHTYPE, design = subset(dat.w, Child_abuse == 'SCAN'), na.action = na.omit)\n",
    "summary(costpd_scan)\n",
    "exp(cbind(OR = coef(costpd_scan), confint(costpd_scan)))\n",
    "\n",
    "# non scan\n",
    "costpd_non_scan = svyglm(COSTPD ~ SEVGROUP + RACE  + SEX + AGEGROUP + PAYER + ZIPINC_QRTL+ HOSP_LOCTEACH + HOSP_BEDSIZE + HOSP_REGION + LOS + DIED + NACHTYPE, design = subset(dat.w, Child_abuse == 'Non-SCAN'), na.action = na.omit)\n",
    "summary(costpd_non_scan)\n",
    "exp(cbind(OR = coef(costpd_non_scan), confint(costpd_non_scan)))\n",
    "\n",
    "\n"
   ]
  },
  {
   "cell_type": "code",
   "execution_count": null,
   "id": "1da033e4",
   "metadata": {},
   "outputs": [],
   "source": []
  }
 ],
 "metadata": {
  "kernelspec": {
   "display_name": "R",
   "language": "R",
   "name": "ir"
  },
  "language_info": {
   "codemirror_mode": "r",
   "file_extension": ".r",
   "mimetype": "text/x-r-source",
   "name": "R",
   "pygments_lexer": "r",
   "version": "4.1.2"
  }
 },
 "nbformat": 4,
 "nbformat_minor": 5
}
